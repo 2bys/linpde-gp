{
 "cells": [
  {
   "cell_type": "code",
   "execution_count": null,
   "id": "dc637170-8b95-4e44-b0eb-3dbc8402c9a4",
   "metadata": {},
   "outputs": [],
   "source": [
    "import jax\n",
    "import jax.numpy as jnp\n",
    "import jax.scipy.linalg\n",
    "import matplotlib.pyplot as plt\n",
    "import numpy as np\n",
    "import probnum as pn\n",
    "\n",
    "import linpde_gp"
   ]
  },
  {
   "cell_type": "code",
   "execution_count": null,
   "id": "9009b61f-6bf6-4ea3-af92-586c62b71af6",
   "metadata": {},
   "outputs": [],
   "source": [
    "import experiment_utils\n",
    "from experiment_utils import config\n",
    "\n",
    "config.experiment_name = \"0006_poisson_nonparametric\"\n",
    "config.target = \"jmlr\"\n",
    "config.debug_mode = True"
   ]
  },
  {
   "cell_type": "code",
   "execution_count": null,
   "id": "6e64b8f6-8d25-43d8-adbc-9c521839bd3a",
   "metadata": {},
   "outputs": [],
   "source": [
    "%matplotlib inline"
   ]
  },
  {
   "cell_type": "code",
   "execution_count": null,
   "id": "8825b1ee-ab33-4688-b1a7-1a6597f43504",
   "metadata": {},
   "outputs": [],
   "source": [
    "plt.rcParams.update(config.tueplots_bundle())"
   ]
  },
  {
   "cell_type": "markdown",
   "id": "491df4dc-eee9-406e-aba3-a7ce90ebbfb5",
   "metadata": {
    "tags": []
   },
   "source": [
    "## Problem Definition"
   ]
  },
  {
   "cell_type": "code",
   "execution_count": null,
   "id": "c07e9d3f-a7a5-4def-8778-feb30e94977d",
   "metadata": {},
   "outputs": [],
   "source": [
    "from linpde_gp.problems.pde import domains, poisson_1d_bvp"
   ]
  },
  {
   "cell_type": "code",
   "execution_count": null,
   "id": "254b8a77-cdfb-4524-be6e-02de61790ed8",
   "metadata": {},
   "outputs": [],
   "source": [
    "domain = domains.Interval(-1.0, 1.0)"
   ]
  },
  {
   "cell_type": "code",
   "execution_count": null,
   "id": "9f19b64e-1f95-4b3c-a084-a16d64176122",
   "metadata": {},
   "outputs": [],
   "source": [
    "boundary_values = (0.0, 1.0)\n",
    "\n",
    "# PDE RHS\n",
    "f = lambda x: np.full_like(x, 2.0)\n",
    "\n",
    "# True Solution\n",
    "u = lambda x: 1.0 - x ** 2 + (boundary_values[1] - boundary_values[0]) / (domain[1] - domain[0]) * (x - domain[0])\n",
    "\n",
    "# PDE Measurements\n",
    "X = np.linspace(-0.8, 0.8, 3)\n",
    "fX_std = np.full_like(X, 0.0 ** 2)"
   ]
  },
  {
   "cell_type": "code",
   "execution_count": null,
   "id": "4ed62911-4379-42cb-adf4-03c266fb8c5c",
   "metadata": {},
   "outputs": [],
   "source": [
    "boundary_values = (0.0, 0.0)\n",
    "\n",
    "# PDE RHS\n",
    "f = lambda x: np.pi ** 2 * np.sin(np.pi * x)\n",
    "\n",
    "# True Solution\n",
    "u = lambda x: -jnp.sin(jnp.pi * x)\n",
    "\n",
    "# PDE Measurements\n",
    "X = np.linspace(-0.8, 0.8, 3)\n",
    "fX_std = np.full_like(X, 0.0) ** 2"
   ]
  },
  {
   "cell_type": "code",
   "execution_count": null,
   "id": "99a1f619-15f3-4f74-af2d-55f0242faeed",
   "metadata": {},
   "outputs": [],
   "source": [
    "bvp = poisson_1d_bvp(\n",
    "    domain=domain,\n",
    "    rhs=f,\n",
    "    boundary_values=(\n",
    "        pn.randvars.Normal(boundary_values[0], 0.0 ** 2),\n",
    "        pn.randvars.Normal(boundary_values[1], 0.0 ** 2),\n",
    "    ),\n",
    "    solution=u,\n",
    ")"
   ]
  },
  {
   "cell_type": "code",
   "execution_count": null,
   "id": "c8ed0b1b-9058-4785-8b46-e7e5d5c72a96",
   "metadata": {},
   "outputs": [],
   "source": [
    "g = pn.randvars.Normal(\n",
    "    mean=np.stack([boundary_condition.values.mean for boundary_condition in bvp.boundary_conditions]),\n",
    "    cov=np.diag([boundary_condition.values.var for boundary_condition in bvp.boundary_conditions]),\n",
    ")"
   ]
  },
  {
   "cell_type": "code",
   "execution_count": null,
   "id": "9760515b-73c8-4f4f-8a53-6d89f0b5ca46",
   "metadata": {},
   "outputs": [],
   "source": [
    "N = X.size\n",
    "\n",
    "fX = pn.randvars.Normal(mean=f(X), cov=np.diag(fX_std))"
   ]
  },
  {
   "cell_type": "code",
   "execution_count": null,
   "id": "8c582cb5-0913-436d-a0b8-9f7cf2dbade0",
   "metadata": {
    "jupyter": {
     "source_hidden": true
    },
    "tags": []
   },
   "outputs": [],
   "source": [
    "plt_grid = np.linspace(*domain, 100)\n",
    "\n",
    "def plot_belief(ax, u, **kwargs):\n",
    "    u_conditional_strs = []\n",
    "    \n",
    "    for key in kwargs.keys():\n",
    "        if key == \"g\":\n",
    "            u_conditional_strs.append(r\"u\\vert_{\\partial \\Omega} = g\")\n",
    "        elif key == \"X_fX\":\n",
    "            u_conditional_strs.append(r\"-\\Delta u(X) = f(X)\")\n",
    "    \n",
    "    u_label = (\n",
    "        fr\"$u \\mid {', '.join(u_conditional_strs)}$\"\n",
    "        if len(u_conditional_strs) > 0\n",
    "        else \"$u$\"\n",
    "    )\n",
    "    \n",
    "    u.plot(\n",
    "        ax,\n",
    "        plt_grid,\n",
    "        num_samples=10,\n",
    "        rng=np.random.default_rng(24),\n",
    "        color=\"C0\",\n",
    "        label=u_label,\n",
    "    )\n",
    "    \n",
    "    ax.plot(\n",
    "        plt_grid,\n",
    "        bvp.solution(plt_grid),\n",
    "        color=\"C1\",\n",
    "        label=\"$u^*$\",\n",
    "    )\n",
    "    \n",
    "    for key, value in kwargs.items():\n",
    "        if key == \"g\":\n",
    "            g = value\n",
    "\n",
    "            ax.errorbar(\n",
    "                bvp.domain.boundary,\n",
    "                g.mean,\n",
    "                yerr=1.96 * g.std,\n",
    "                fmt=\"+\",\n",
    "                capsize=2,\n",
    "                color=\"C2\",\n",
    "                label=r\"$g$\",\n",
    "            )\n",
    "        elif key == \"X_fX\":\n",
    "            X, fX = value\n",
    "\n",
    "            linpde_gp.plotting.plot_local_curvature(\n",
    "                ax,\n",
    "                xs=X,\n",
    "                f_xs=u.mean(X),\n",
    "                ddf_xs=-fX,\n",
    "                df_xs=jnp.vectorize(jax.grad(u.mean.jax))(X),\n",
    "                color=\"C3\",\n",
    "                label=f\"$(f(x_1), \\dots, f(x_{fX.size}))$\",\n",
    "            )\n",
    "    \n",
    "    ax.legend()\n",
    "\n",
    "def plot_pred_belief(ax, Lu, **kwargs):\n",
    "    u_conditional_strs = []\n",
    "    \n",
    "    for key in kwargs.keys():\n",
    "        if key == \"g\":\n",
    "            u_conditional_strs.append(r\"u\\vert_{\\partial \\Omega} = g\")\n",
    "        elif key == \"X_fX\":\n",
    "            u_conditional_strs.append(r\"-\\Delta u(X) = f(X)\")\n",
    "    \n",
    "    u_label = (\n",
    "        fr\"$-\\Delta u \\mid {', '.join(u_conditional_strs)}$\"\n",
    "        if len(u_conditional_strs) > 0\n",
    "        else \"$-\\Delta u$\"\n",
    "    )\n",
    "\n",
    "    Lu.plot(\n",
    "        ax,\n",
    "        plt_grid,\n",
    "        num_samples=10,\n",
    "        rng=np.random.default_rng(24),\n",
    "        color=\"C0\",\n",
    "        label=u_label,\n",
    "    )\n",
    "    \n",
    "    ax.plot(\n",
    "        plt_grid,\n",
    "        f(plt_grid),\n",
    "        color=\"C1\",\n",
    "        label=\"$f$\",\n",
    "    )\n",
    "    \n",
    "    if \"X_fX\" in kwargs:\n",
    "        X, fX = kwargs[\"X_fX\"]\n",
    "\n",
    "        ax.errorbar(\n",
    "            X,\n",
    "            fX.mean,\n",
    "            yerr=fX.std,\n",
    "            fmt=\"+\",\n",
    "            capsize=2,\n",
    "            c=\"C3\",\n",
    "            label=f\"$(f(x_1), \\dots, f(x_{N}))$\",\n",
    "        )\n",
    "    \n",
    "    ax.legend()"
   ]
  },
  {
   "cell_type": "markdown",
   "id": "e5d2cf03-077b-42f4-8d7e-9625b75d4ba8",
   "metadata": {
    "tags": []
   },
   "source": [
    "## Prior"
   ]
  },
  {
   "cell_type": "code",
   "execution_count": null,
   "id": "e325809a-1f28-4433-b8ea-452abd1de8fb",
   "metadata": {},
   "outputs": [],
   "source": [
    "prior_gp = pn.randprocs.GaussianProcess(\n",
    "    mean=linpde_gp.randprocs.mean_fns.Zero(input_shape=()),\n",
    "    cov=2.0 ** 2 * linpde_gp.randprocs.kernels.ExpQuad(\n",
    "        input_shape=(),\n",
    "        lengthscales=1.0,\n",
    "    ),\n",
    ")"
   ]
  },
  {
   "cell_type": "code",
   "execution_count": null,
   "id": "4561592b-c298-4ee2-970f-72ef724cbe71",
   "metadata": {},
   "outputs": [],
   "source": [
    "plot_belief(\n",
    "    ax=plt.gca(),\n",
    "    u=prior_gp,\n",
    ")\n",
    "\n",
    "experiment_utils.savefig(\"prior_00a_u\")"
   ]
  },
  {
   "cell_type": "markdown",
   "id": "0b495496-cb40-4aa9-8990-121692e3bfad",
   "metadata": {},
   "source": [
    "## Prior Predictive"
   ]
  },
  {
   "cell_type": "code",
   "execution_count": null,
   "id": "6db36221-c716-4bcf-a117-844d92836bcd",
   "metadata": {},
   "outputs": [],
   "source": [
    "Lu = bvp.diffop(prior_gp)\n",
    "Lu_crosscov = bvp.diffop(prior_gp.cov, argnum=1)"
   ]
  },
  {
   "cell_type": "code",
   "execution_count": null,
   "id": "e63d38d6-5b81-4ee5-a995-f3f5385c37ef",
   "metadata": {},
   "outputs": [],
   "source": [
    "plot_pred_belief(\n",
    "    ax=plt.gca(),\n",
    "    Lu=Lu,\n",
    ")\n",
    "\n",
    "experiment_utils.savefig(\"prior_00b_Lu\")"
   ]
  },
  {
   "cell_type": "markdown",
   "id": "4f834e80-407e-4a86-bdb5-0db26719ed60",
   "metadata": {
    "tags": []
   },
   "source": [
    "## Posterior (PDE First)"
   ]
  },
  {
   "cell_type": "markdown",
   "id": "dcf3657e-1008-4db9-9ef9-c61fa16be296",
   "metadata": {},
   "source": [
    "### Conditioning on the PDE"
   ]
  },
  {
   "cell_type": "code",
   "execution_count": null,
   "id": "c1bd76db-ddc8-440f-aefc-1506548e7b13",
   "metadata": {},
   "outputs": [],
   "source": [
    "u_pde = prior_gp.condition_on_predictive_gp_observations_jax(Lu, Lu_crosscov, X, fX)"
   ]
  },
  {
   "cell_type": "code",
   "execution_count": null,
   "id": "f798307f-2ad9-4688-a641-e08f33586efd",
   "metadata": {},
   "outputs": [],
   "source": [
    "plot_belief(\n",
    "    ax=plt.gca(),\n",
    "    u=u_pde,\n",
    "    X_fX=(X, fX),\n",
    ")\n",
    "\n",
    "experiment_utils.savefig(\"pdefirst_01a_u_cond_pde\")"
   ]
  },
  {
   "cell_type": "markdown",
   "id": "92ffc6c1-78c2-4432-bfa8-5bbcce781e9b",
   "metadata": {},
   "source": [
    "### Posterior Predictive"
   ]
  },
  {
   "cell_type": "code",
   "execution_count": null,
   "id": "926190f7-b9f1-434d-b5f9-af82338f2722",
   "metadata": {},
   "outputs": [],
   "source": [
    "Lu_pde = bvp.diffop(u_pde)"
   ]
  },
  {
   "cell_type": "code",
   "execution_count": null,
   "id": "4a04ef71-0a27-4548-b614-236ddd520e86",
   "metadata": {},
   "outputs": [],
   "source": [
    "plot_pred_belief(\n",
    "    ax=plt.gca(),\n",
    "    Lu=Lu_pde,\n",
    "    X_fX=(X, fX),\n",
    ")\n",
    "\n",
    "experiment_utils.savefig(\"pdefirst_01b_Lu_cond_pde\")"
   ]
  },
  {
   "cell_type": "markdown",
   "id": "8ff15519-3302-463c-9a2d-0b448604f96d",
   "metadata": {},
   "source": [
    "### Conditioning on the Boundary Conditions"
   ]
  },
  {
   "cell_type": "code",
   "execution_count": null,
   "id": "6af95978-0efd-492b-922a-2e76f37badb9",
   "metadata": {},
   "outputs": [],
   "source": [
    "u_pde_bc = u_pde.condition_on_observations_jax(\n",
    "    np.hstack(bvp.domain.boundary),\n",
    "    g,\n",
    ")"
   ]
  },
  {
   "cell_type": "code",
   "execution_count": null,
   "id": "47869cc3-2b2c-4f3a-9092-d48565f5af2e",
   "metadata": {},
   "outputs": [],
   "source": [
    "plot_belief(\n",
    "    ax=plt.gca(),\n",
    "    u=u_pde_bc,\n",
    "    X_fX=(X, fX),\n",
    "    g=g,\n",
    ")\n",
    "\n",
    "experiment_utils.savefig(\"pdefirst_02a_u_cond_pde_bc\")"
   ]
  },
  {
   "cell_type": "markdown",
   "id": "0e9a69b6-e083-4b9d-bc8f-b0b835ce70a1",
   "metadata": {},
   "source": [
    "### Posterior Predictive with PDE and Boundary Conditions"
   ]
  },
  {
   "cell_type": "code",
   "execution_count": null,
   "id": "d7c358d0-0856-4a58-ac89-900a712a3057",
   "metadata": {},
   "outputs": [],
   "source": [
    "Lu_pde_bc = bvp.diffop(u_pde_bc)"
   ]
  },
  {
   "cell_type": "code",
   "execution_count": null,
   "id": "2a3f5d99-34bb-43f7-8a3b-6796cfbfd123",
   "metadata": {},
   "outputs": [],
   "source": [
    "plot_pred_belief(\n",
    "    ax=plt.gca(),\n",
    "    Lu=Lu_pde_bc,\n",
    "    X_fX=(X, fX),\n",
    "    g=g,\n",
    ")\n",
    "\n",
    "experiment_utils.savefig(\"pdefirst_02b_Lu_cond_pde_bc\")"
   ]
  },
  {
   "cell_type": "markdown",
   "id": "60dc4a26-4500-438f-8955-bde13c48156a",
   "metadata": {},
   "source": [
    "### Complete Plot"
   ]
  },
  {
   "cell_type": "code",
   "execution_count": null,
   "id": "5dd82ace-d17f-4fcb-979d-671933224dae",
   "metadata": {
    "jupyter": {
     "source_hidden": true
    },
    "tags": []
   },
   "outputs": [],
   "source": [
    "for include_bc in [False, True]:\n",
    "    nrows = 3 if include_bc else 2\n",
    "    \n",
    "    rc = config.tueplots_bundle(nrows=nrows, ncols=2)\n",
    "    rc.update(\n",
    "        {\n",
    "            \"lines.linewidth\": 1\n",
    "        }\n",
    "    )\n",
    "    \n",
    "    with plt.rc_context(rc):\n",
    "        fig, ax = plt.subplots(nrows=nrows, ncols=2)\n",
    "\n",
    "        ax[0, 0].set_title(\"(a)\")\n",
    "\n",
    "        plot_belief(\n",
    "            ax=ax[0, 0],\n",
    "            u=prior_gp,\n",
    "        )\n",
    "\n",
    "        ax[0, 1].set_title(\"(b)\")\n",
    "\n",
    "        plot_pred_belief(\n",
    "            ax=ax[0, 1],\n",
    "            Lu=Lu,\n",
    "        )\n",
    "\n",
    "        ax[1, 0].set_title(\"(c)\")\n",
    "\n",
    "        plot_belief(\n",
    "            ax=ax[1, 0],\n",
    "            u=u_pde,\n",
    "            X_fX=(X, fX),\n",
    "        )\n",
    "\n",
    "        ax[1, 1].set_title(\"(d)\")\n",
    "\n",
    "        plot_pred_belief(\n",
    "            ax=ax[1, 1],\n",
    "            Lu=Lu_pde,\n",
    "            X_fX=(X, fX),\n",
    "        )\n",
    "        \n",
    "        if include_bc:\n",
    "            ax[2, 0].set_title(\"(e)\")\n",
    "\n",
    "            plot_belief(\n",
    "                ax=ax[2, 0],\n",
    "                u=u_pde_bc,\n",
    "                X_fX=(X, fX),\n",
    "                g=g,\n",
    "            )\n",
    "\n",
    "            ax[2, 1].set_title(\"(f)\")\n",
    "\n",
    "            plot_pred_belief(\n",
    "                ax=ax[2, 1],\n",
    "                Lu=Lu_pde_bc,\n",
    "                X_fX=(X, fX),\n",
    "                g=g,\n",
    "            )\n",
    "\n",
    "    experiment_utils.savefig(\"pdefirst\" + (\"\" if include_bc else \"_nobc\"))"
   ]
  },
  {
   "cell_type": "markdown",
   "id": "f5c5cee5-3ec1-430d-a68b-e4fb5e9d42a6",
   "metadata": {},
   "source": [
    "## Posterior (Boundary Values First)"
   ]
  },
  {
   "cell_type": "markdown",
   "id": "286ad7c4-0268-4328-a959-abde6f5a0f0c",
   "metadata": {},
   "source": [
    "### Conditioning on Boundary Conditions"
   ]
  },
  {
   "cell_type": "code",
   "execution_count": null,
   "id": "bcd02974-ca82-44ac-be13-79cc7a6b9841",
   "metadata": {},
   "outputs": [],
   "source": [
    "u_bc = prior_gp.condition_on_observations_jax(\n",
    "    np.hstack(bvp.domain.boundary),\n",
    "    g,\n",
    ")"
   ]
  },
  {
   "cell_type": "code",
   "execution_count": null,
   "id": "f6018567-0442-45c9-a16c-88577c696765",
   "metadata": {},
   "outputs": [],
   "source": [
    "plot_belief(\n",
    "    ax=plt.gca(),\n",
    "    u=u_bc,\n",
    "    g=g,\n",
    ")\n",
    "\n",
    "experiment_utils.savefig(\"bcfirst_01a_u_cond_bc\")"
   ]
  },
  {
   "cell_type": "markdown",
   "id": "a42cf182-d90c-4316-ade7-949d6a2b4828",
   "metadata": {},
   "source": [
    "### Predictive Induced by $\\Delta$"
   ]
  },
  {
   "cell_type": "code",
   "execution_count": null,
   "id": "a0bc2ae0-f98a-4444-aab2-e91308961310",
   "metadata": {},
   "outputs": [],
   "source": [
    "Lu_bc = bvp.diffop(u_bc)\n",
    "Lu_bc_crosscov = bvp.diffop(u_bc.cov, argnum=1)"
   ]
  },
  {
   "cell_type": "code",
   "execution_count": null,
   "id": "fa904213-6fa4-4441-8042-219c70329d29",
   "metadata": {},
   "outputs": [],
   "source": [
    "plot_pred_belief(\n",
    "    ax=plt.gca(),\n",
    "    Lu=Lu_bc,\n",
    "    g=g,\n",
    ")\n",
    "\n",
    "experiment_utils.savefig(\"bcfirst_01b_Lu_cond_bc\")"
   ]
  },
  {
   "cell_type": "markdown",
   "id": "548b91c3-2c6a-4c14-b2a7-4be056e58f48",
   "metadata": {},
   "source": [
    "### Conditioning on the PDE"
   ]
  },
  {
   "cell_type": "code",
   "execution_count": null,
   "id": "341de563-134d-4fd5-ae3b-def9999f97a9",
   "metadata": {},
   "outputs": [],
   "source": [
    "u_bc_pde = u_bc.condition_on_predictive_gp_observations_jax(Lu_bc, Lu_bc_crosscov, X, fX)"
   ]
  },
  {
   "cell_type": "code",
   "execution_count": null,
   "id": "c086a9cb-f801-47c9-a02f-b87e34ed2494",
   "metadata": {},
   "outputs": [],
   "source": [
    "plot_belief(\n",
    "    ax=plt.gca(),\n",
    "    u=u_bc_pde,\n",
    "    g=g,\n",
    "    X_fX=(X, fX),\n",
    ")\n",
    "\n",
    "experiment_utils.savefig(\"bcfirst_02a_u_cond_bc_pde\")"
   ]
  },
  {
   "cell_type": "markdown",
   "id": "9a673d16-d2c0-4522-bf58-f7e1a7638374",
   "metadata": {},
   "source": [
    "### Posterior Predictive"
   ]
  },
  {
   "cell_type": "code",
   "execution_count": null,
   "id": "d9af8490-db78-45c4-b137-14666e2486cc",
   "metadata": {},
   "outputs": [],
   "source": [
    "Lu_bc_pde = bvp.diffop(u_bc_pde)"
   ]
  },
  {
   "cell_type": "code",
   "execution_count": null,
   "id": "c3672b63-f863-470b-9b94-5b02b40dec28",
   "metadata": {},
   "outputs": [],
   "source": [
    "plot_pred_belief(\n",
    "    ax=plt.gca(),\n",
    "    Lu=Lu_bc_pde,\n",
    "    g=g,\n",
    "    X_fX=(X, fX),\n",
    ")\n",
    "\n",
    "experiment_utils.savefig(\"bcfirst_02b_Lu_cond_bc_pde\")"
   ]
  },
  {
   "cell_type": "markdown",
   "id": "97d67ba6-f0da-488f-b575-1a69ce5cd2da",
   "metadata": {},
   "source": [
    "### Complete Plot"
   ]
  },
  {
   "cell_type": "code",
   "execution_count": null,
   "id": "2ba4ec51-95ce-4f60-8740-5f0d61f41daa",
   "metadata": {
    "jupyter": {
     "source_hidden": true
    },
    "tags": []
   },
   "outputs": [],
   "source": [
    "rc = config.tueplots_bundle(nrows=3, ncols=2)\n",
    "rc.update(\n",
    "    {\n",
    "        \"lines.linewidth\": 1\n",
    "    }\n",
    ")\n",
    "\n",
    "with plt.rc_context(rc):\n",
    "    fig, ax = plt.subplots(nrows=3, ncols=2)\n",
    "    \n",
    "    ax[0, 0].set_title(\"(a)\")\n",
    "    \n",
    "    plot_belief(\n",
    "        ax=ax[0, 0],\n",
    "        u=prior_gp,\n",
    "    )\n",
    "    \n",
    "    ax[0, 1].set_title(\"(b)\")\n",
    "    \n",
    "    plot_pred_belief(\n",
    "        ax=ax[0, 1],\n",
    "        Lu=Lu,\n",
    "    )\n",
    "    \n",
    "    ax[1, 0].set_title(\"(c)\")\n",
    "    \n",
    "    plot_belief(\n",
    "        ax=ax[1, 0],\n",
    "        u=u_bc,\n",
    "        g=g,\n",
    "    )\n",
    "    \n",
    "    ax[1, 1].set_title(\"(d)\")\n",
    "    \n",
    "    plot_pred_belief(\n",
    "        ax=ax[1, 1],\n",
    "        Lu=Lu_bc,\n",
    "        g=g,\n",
    "    )\n",
    "    \n",
    "    ax[2, 0].set_title(\"(e)\")\n",
    "    \n",
    "    plot_belief(\n",
    "        ax=ax[2, 0],\n",
    "        u=u_bc_pde,\n",
    "        g=g,\n",
    "        X_fX=(X, fX),\n",
    "    )\n",
    "    \n",
    "    ax[2, 1].set_title(\"(f)\")\n",
    "    \n",
    "    plot_pred_belief(\n",
    "        ax=ax[2, 1],\n",
    "        Lu=Lu_bc_pde,\n",
    "        g=g,\n",
    "        X_fX=(X, fX),\n",
    "    )\n",
    "\n",
    "experiment_utils.savefig(\"bcfirst\")"
   ]
  },
  {
   "cell_type": "code",
   "execution_count": null,
   "id": "35faaf61-9d8b-478e-b964-6100acb283e8",
   "metadata": {},
   "outputs": [],
   "source": []
  }
 ],
 "metadata": {
  "kernelspec": {
   "display_name": "Python [conda env:linpde-gp]",
   "language": "python",
   "name": "conda-env-linpde-gp-py"
  },
  "language_info": {
   "codemirror_mode": {
    "name": "ipython",
    "version": 3
   },
   "file_extension": ".py",
   "mimetype": "text/x-python",
   "name": "python",
   "nbconvert_exporter": "python",
   "pygments_lexer": "ipython3",
   "version": "3.9.7"
  }
 },
 "nbformat": 4,
 "nbformat_minor": 5
}
