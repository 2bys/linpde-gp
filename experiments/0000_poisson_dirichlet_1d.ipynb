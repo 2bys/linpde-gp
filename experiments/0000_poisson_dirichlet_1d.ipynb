{
 "cells": [
  {
   "cell_type": "code",
   "execution_count": null,
   "id": "9009b61f-6bf6-4ea3-af92-586c62b71af6",
   "metadata": {},
   "outputs": [],
   "source": [
    "import experiment_utils\n",
    "from experiment_utils import config\n",
    "\n",
    "config.experiment_name = \"0000_poisson_dirichlet_1d\"\n",
    "config.target = \"jmlr\"\n",
    "config.debug_mode = True"
   ]
  },
  {
   "cell_type": "code",
   "execution_count": null,
   "id": "dc637170-8b95-4e44-b0eb-3dbc8402c9a4",
   "metadata": {},
   "outputs": [],
   "source": [
    "import matplotlib.pyplot as plt\n",
    "import numpy as np\n",
    "import probnum as pn\n",
    "\n",
    "import linpde_gp\n",
    "from linpde_gp.problems.pde import get_1d_dirichlet_boundary_observations"
   ]
  },
  {
   "cell_type": "code",
   "execution_count": null,
   "id": "c313f47f",
   "metadata": {
    "jupyter": {
     "source_hidden": true
    },
    "tags": []
   },
   "outputs": [],
   "source": [
    "%matplotlib inline\n",
    "\n",
    "plt.rcParams.update(config.tueplots_bundle(rel_width=0.5))\n",
    "\n",
    "class BeliefPlotter:\n",
    "    def __init__(self, bvp: linpde_gp.problems.pde.PoissonEquationDirichletProblem):\n",
    "        self._bvp = bvp\n",
    "        self._plt_grid = np.linspace(*bvp.pde.domain, 100)\n",
    "\n",
    "    def plot_belief(\n",
    "        self,\n",
    "        ax,\n",
    "        u: pn.randprocs.GaussianProcess,\n",
    "        conditioned_on: list[str] = [],\n",
    "        X_pde: np.ndarray | None = None,\n",
    "        f_X_pde: pn.randvars.RandomVariable | None = None,\n",
    "    ):\n",
    "        u_conditional_strs = []\n",
    "\n",
    "        for key in conditioned_on:\n",
    "            if key == \"bc\":\n",
    "                u_conditional_strs.append(r\"u\\vert_{\\partial \\Omega} = g\")\n",
    "            elif key == \"pde\":\n",
    "                u_conditional_strs.append(r\"-\\Delta u(x_i) = f(x_i)\")\n",
    "\n",
    "        u_label = (\n",
    "            fr\"$u \\mid {', '.join(u_conditional_strs)}$\"\n",
    "            if len(u_conditional_strs) > 0\n",
    "            else \"$u$\"\n",
    "        )\n",
    "\n",
    "        u.plot(\n",
    "            ax,\n",
    "            self._plt_grid,\n",
    "            num_samples=10,\n",
    "            rng=np.random.default_rng(24),\n",
    "            color=\"C0\",\n",
    "            label=u_label,\n",
    "        )\n",
    "\n",
    "        ax.plot(\n",
    "            self._plt_grid,\n",
    "            self._bvp.solution(self._plt_grid),\n",
    "            color=\"C1\",\n",
    "            label=\"$u^*$\",\n",
    "        )\n",
    "\n",
    "        for key in conditioned_on:\n",
    "            if key == \"bc\":\n",
    "                X_bc, Y_bc = get_1d_dirichlet_boundary_observations(self._bvp.boundary_conditions)\n",
    "\n",
    "                ax.scatter(\n",
    "                    X_bc,\n",
    "                    Y_bc,\n",
    "                    marker=\"+\",\n",
    "                    color=\"C2\",\n",
    "                    label=r\"$g$\",\n",
    "                )\n",
    "            elif key == \"pde\":\n",
    "                linpde_gp.utils.plotting.plot_local_curvature(\n",
    "                    ax,\n",
    "                    xs=X_pde,\n",
    "                    f_xs=u.mean(X_pde),\n",
    "                    ddf_xs=-f_X_pde,\n",
    "                    df_xs=(\n",
    "                        linpde_gp.linfuncops.diffops.PartialDerivative(\n",
    "                            linpde_gp.linfuncops.diffops.MultiIndex(1)\n",
    "                        )(u)(X_pde).mean\n",
    "                    ),\n",
    "                    color=\"C3\",\n",
    "                    label=f\"$(f(x_1), \\dots, f(x_{X_pde.shape[0]}))$\",\n",
    "                )\n",
    "\n",
    "        ax.legend()\n",
    "\n",
    "    def plot_pred_belief(\n",
    "        self,\n",
    "        ax,\n",
    "        u: pn.randprocs.GaussianProcess,\n",
    "        conditioned_on: list[str] = [],\n",
    "        X_pde: np.ndarray | None = None,\n",
    "        f_X_pde: pn.randvars.RandomVariable | None = None,\n",
    "    ):\n",
    "        u_conditional_strs = []\n",
    "\n",
    "        for key in conditioned_on:\n",
    "            if key == \"bc\":\n",
    "                u_conditional_strs.append(r\"u\\vert_{\\partial \\Omega} = g\")\n",
    "            elif key == \"pde\":\n",
    "                u_conditional_strs.append(r\"-\\Delta u(x_i) = f(x_i)\")\n",
    "\n",
    "        u_label = (\n",
    "            fr\"$-\\Delta u \\mid {', '.join(u_conditional_strs)}$\"\n",
    "            if len(u_conditional_strs) > 0\n",
    "            else \"$-\\Delta u$\"\n",
    "        )\n",
    "\n",
    "        self._bvp.pde.diffop(u).plot(\n",
    "            ax,\n",
    "            self._plt_grid,\n",
    "            num_samples=10,\n",
    "            rng=np.random.default_rng(24),\n",
    "            color=\"C0\",\n",
    "            label=u_label,\n",
    "        )\n",
    "\n",
    "        self._bvp.pde.rhs.plot(\n",
    "            ax,\n",
    "            self._plt_grid,\n",
    "            color=\"C1\",\n",
    "            label=\"$f$\",\n",
    "        )\n",
    "\n",
    "        if \"pde\" in conditioned_on:\n",
    "            ax.scatter(\n",
    "                X_pde,\n",
    "                f_X_pde,\n",
    "                marker=\"+\",\n",
    "                c=\"C3\",\n",
    "                label=f\"$(f(x_1), \\dots, f(x_{X_pde.shape[0]}))$\",\n",
    "            )\n",
    "\n",
    "        ax.legend()"
   ]
  },
  {
   "cell_type": "markdown",
   "id": "491df4dc-eee9-406e-aba3-a7ce90ebbfb5",
   "metadata": {
    "tags": []
   },
   "source": [
    "## Problem Definition"
   ]
  },
  {
   "cell_type": "code",
   "execution_count": null,
   "id": "254b8a77-cdfb-4524-be6e-02de61790ed8",
   "metadata": {},
   "outputs": [],
   "source": [
    "domain = linpde_gp.domains.asdomain([-1.0, 1.0])"
   ]
  },
  {
   "cell_type": "code",
   "execution_count": null,
   "id": "9f19b64e-1f95-4b3c-a084-a16d64176122",
   "metadata": {},
   "outputs": [],
   "source": [
    "# Boundary Values\n",
    "g = np.asarray((0.0, 1.0))\n",
    "\n",
    "# PDE RHS\n",
    "f = linpde_gp.functions.Constant(input_shape=(), value=2.0)\n",
    "\n",
    "# True Solution\n",
    "solution = None"
   ]
  },
  {
   "cell_type": "code",
   "execution_count": null,
   "id": "4ed62911-4379-42cb-adf4-03c266fb8c5c",
   "metadata": {},
   "outputs": [],
   "source": [
    "# Boundary Values\n",
    "g = np.zeros(2)\n",
    "\n",
    "# PDE RHS\n",
    "f = pn.functions.LambdaFunction(lambda x: np.pi ** 2 * np.sin(np.pi * x), input_shape=())\n",
    "\n",
    "# True Solution\n",
    "solution = pn.functions.LambdaFunction(lambda x: np.sin(np.pi * x), input_shape=())"
   ]
  },
  {
   "cell_type": "code",
   "execution_count": null,
   "id": "99a1f619-15f3-4f74-af2d-55f0242faeed",
   "metadata": {},
   "outputs": [],
   "source": [
    "bvp = linpde_gp.problems.pde.PoissonEquationDirichletProblem(\n",
    "    domain=domain,\n",
    "    boundary_values=g,\n",
    "    rhs=f,\n",
    "    solution=solution,\n",
    ")\n",
    "\n",
    "plotter = BeliefPlotter(bvp)"
   ]
  },
  {
   "cell_type": "markdown",
   "id": "e5d2cf03-077b-42f4-8d7e-9625b75d4ba8",
   "metadata": {
    "tags": []
   },
   "source": [
    "## Prior"
   ]
  },
  {
   "cell_type": "code",
   "execution_count": null,
   "id": "e325809a-1f28-4433-b8ea-452abd1de8fb",
   "metadata": {},
   "outputs": [],
   "source": [
    "u_prior = pn.randprocs.GaussianProcess(\n",
    "    mean=linpde_gp.functions.Zero(input_shape=()),\n",
    "    cov=2.0 ** 2 * linpde_gp.randprocs.covfuncs.ExpQuad(\n",
    "        input_shape=(),\n",
    "        lengthscales=1.0,\n",
    "    ),\n",
    ")"
   ]
  },
  {
   "cell_type": "code",
   "execution_count": null,
   "id": "4561592b-c298-4ee2-970f-72ef724cbe71",
   "metadata": {},
   "outputs": [],
   "source": [
    "plotter.plot_belief(\n",
    "    ax=plt.gca(),\n",
    "    u=u_prior,\n",
    ")\n",
    "\n",
    "experiment_utils.savefig(\"00a_u_prior\")"
   ]
  },
  {
   "cell_type": "code",
   "execution_count": null,
   "id": "e63d38d6-5b81-4ee5-a995-f3f5385c37ef",
   "metadata": {},
   "outputs": [],
   "source": [
    "plotter.plot_pred_belief(\n",
    "    ax=plt.gca(),\n",
    "    u=u_prior,\n",
    ")\n",
    "\n",
    "experiment_utils.savefig(\"00b_Du_prior\")"
   ]
  },
  {
   "attachments": {},
   "cell_type": "markdown",
   "id": "f5a45fd3",
   "metadata": {},
   "source": [
    "## Observations"
   ]
  },
  {
   "cell_type": "code",
   "execution_count": null,
   "id": "c29e1b86",
   "metadata": {},
   "outputs": [],
   "source": [
    "X_pde = domain.uniform_grid((3,), inset=0.2)\n",
    "Y_pde = bvp.pde.rhs(X_pde)"
   ]
  },
  {
   "cell_type": "code",
   "execution_count": null,
   "id": "b34ff2f8",
   "metadata": {},
   "outputs": [],
   "source": [
    "X_bc, Y_bc = get_1d_dirichlet_boundary_observations(bvp.boundary_conditions)"
   ]
  },
  {
   "cell_type": "markdown",
   "id": "4f834e80-407e-4a86-bdb5-0db26719ed60",
   "metadata": {
    "tags": []
   },
   "source": [
    "## Posterior (PDE First)"
   ]
  },
  {
   "cell_type": "markdown",
   "id": "dcf3657e-1008-4db9-9ef9-c61fa16be296",
   "metadata": {},
   "source": [
    "### Conditioning on the PDE"
   ]
  },
  {
   "cell_type": "code",
   "execution_count": null,
   "id": "c1bd76db-ddc8-440f-aefc-1506548e7b13",
   "metadata": {},
   "outputs": [],
   "source": [
    "u_cond_pde = u_prior.condition_on_observations(\n",
    "    Y_pde,\n",
    "    X=X_pde,\n",
    "    L=bvp.pde.diffop,\n",
    ")"
   ]
  },
  {
   "cell_type": "code",
   "execution_count": null,
   "id": "f798307f-2ad9-4688-a641-e08f33586efd",
   "metadata": {},
   "outputs": [],
   "source": [
    "plotter.plot_belief(\n",
    "    ax=plt.gca(),\n",
    "    u=u_cond_pde,\n",
    "    conditioned_on=[\"pde\"],\n",
    "    X_pde=X_pde,\n",
    "    f_X_pde=Y_pde,\n",
    ")\n",
    "\n",
    "experiment_utils.savefig(\"pdefirst_01a_u_cond_pde\")"
   ]
  },
  {
   "cell_type": "code",
   "execution_count": null,
   "id": "4a04ef71-0a27-4548-b614-236ddd520e86",
   "metadata": {},
   "outputs": [],
   "source": [
    "plotter.plot_pred_belief(\n",
    "    ax=plt.gca(),\n",
    "    u=u_cond_pde,\n",
    "    conditioned_on=[\"pde\"],\n",
    "    X_pde=X_pde,\n",
    "    f_X_pde=Y_pde,\n",
    ")\n",
    "\n",
    "experiment_utils.savefig(\"pdefirst_01b_Du_cond_pde\")"
   ]
  },
  {
   "cell_type": "markdown",
   "id": "8ff15519-3302-463c-9a2d-0b448604f96d",
   "metadata": {},
   "source": [
    "### Conditioning on the Boundary Conditions"
   ]
  },
  {
   "cell_type": "code",
   "execution_count": null,
   "id": "6af95978-0efd-492b-922a-2e76f37badb9",
   "metadata": {},
   "outputs": [],
   "source": [
    "u_cond_pde_bc = u_cond_pde.condition_on_observations(Y_bc, X=X_bc)"
   ]
  },
  {
   "cell_type": "code",
   "execution_count": null,
   "id": "47869cc3-2b2c-4f3a-9092-d48565f5af2e",
   "metadata": {},
   "outputs": [],
   "source": [
    "plotter.plot_belief(\n",
    "    ax=plt.gca(),\n",
    "    u=u_cond_pde_bc,\n",
    "    conditioned_on=[\"pde\", \"bc\"],\n",
    "    X_pde=X_pde,\n",
    "    f_X_pde=Y_pde,\n",
    ")\n",
    "\n",
    "experiment_utils.savefig(\"pdefirst_02a_u_cond_pde_bc\")"
   ]
  },
  {
   "cell_type": "code",
   "execution_count": null,
   "id": "2a3f5d99-34bb-43f7-8a3b-6796cfbfd123",
   "metadata": {},
   "outputs": [],
   "source": [
    "plotter.plot_pred_belief(\n",
    "    ax=plt.gca(),\n",
    "    u=u_cond_pde_bc,\n",
    "    conditioned_on=[\"pde\", \"bc\"],\n",
    "    X_pde=X_pde,\n",
    "    f_X_pde=Y_pde,\n",
    ")\n",
    "\n",
    "experiment_utils.savefig(\"pdefirst_02b_Du_cond_pde_bc\")"
   ]
  },
  {
   "cell_type": "markdown",
   "id": "60dc4a26-4500-438f-8955-bde13c48156a",
   "metadata": {},
   "source": [
    "### Complete Plot"
   ]
  },
  {
   "cell_type": "code",
   "execution_count": null,
   "id": "5dd82ace-d17f-4fcb-979d-671933224dae",
   "metadata": {
    "jupyter": {
     "source_hidden": true
    },
    "tags": []
   },
   "outputs": [],
   "source": [
    "for include_bc in [False, True]:\n",
    "    nrows = 3 if include_bc else 2\n",
    "\n",
    "    rc = config.tueplots_bundle(nrows=nrows, ncols=2)\n",
    "    rc.update(\n",
    "        {\n",
    "            \"lines.linewidth\": 1\n",
    "        }\n",
    "    )\n",
    "\n",
    "    with plt.rc_context(rc):\n",
    "        fig, ax = plt.subplots(nrows=nrows, ncols=2)\n",
    "\n",
    "        ax[0, 0].set_title(\"(a)\")\n",
    "\n",
    "        plotter.plot_belief(\n",
    "            ax=ax[0, 0],\n",
    "            u=u_prior,\n",
    "        )\n",
    "\n",
    "        ax[0, 1].set_title(\"(b)\")\n",
    "\n",
    "        plotter.plot_pred_belief(\n",
    "            ax=ax[0, 1],\n",
    "            u=u_prior,\n",
    "        )\n",
    "\n",
    "        ax[1, 0].set_title(\"(c)\")\n",
    "\n",
    "        plotter.plot_belief(\n",
    "            ax=ax[1, 0],\n",
    "            u=u_cond_pde,\n",
    "            conditioned_on=[\"pde\"],\n",
    "            X_pde=X_pde,\n",
    "            f_X_pde=Y_pde,\n",
    "        )\n",
    "\n",
    "        ax[1, 1].set_title(\"(d)\")\n",
    "\n",
    "        plotter.plot_pred_belief(\n",
    "            ax=ax[1, 1],\n",
    "            u=u_cond_pde,\n",
    "            conditioned_on=[\"pde\"],\n",
    "            X_pde=X_pde,\n",
    "            f_X_pde=Y_pde,\n",
    "        )\n",
    "\n",
    "        if include_bc:\n",
    "            ax[2, 0].set_title(\"(e)\")\n",
    "\n",
    "            plotter.plot_belief(\n",
    "                ax=ax[2, 0],\n",
    "                u=u_cond_pde_bc,\n",
    "                conditioned_on=[\"pde\", \"bc\"],\n",
    "                X_pde=X_pde,\n",
    "                f_X_pde=Y_pde,\n",
    "            )\n",
    "\n",
    "            ax[2, 1].set_title(\"(f)\")\n",
    "\n",
    "            plotter.plot_pred_belief(\n",
    "                ax=ax[2, 1],\n",
    "                u=u_cond_pde_bc,\n",
    "                conditioned_on=[\"pde\", \"bc\"],\n",
    "                X_pde=X_pde,\n",
    "                f_X_pde=Y_pde,\n",
    "            )\n",
    "\n",
    "    experiment_utils.savefig(\"pdefirst\" + (\"\" if include_bc else \"_nobc\"))"
   ]
  },
  {
   "cell_type": "markdown",
   "id": "f5c5cee5-3ec1-430d-a68b-e4fb5e9d42a6",
   "metadata": {},
   "source": [
    "## Posterior (Boundary Values First)"
   ]
  },
  {
   "cell_type": "markdown",
   "id": "286ad7c4-0268-4328-a959-abde6f5a0f0c",
   "metadata": {},
   "source": [
    "### Conditioning on Boundary Conditions"
   ]
  },
  {
   "cell_type": "code",
   "execution_count": null,
   "id": "bcd02974-ca82-44ac-be13-79cc7a6b9841",
   "metadata": {},
   "outputs": [],
   "source": [
    "u_cond_bc = u_prior.condition_on_observations(Y_bc, X=X_bc)"
   ]
  },
  {
   "cell_type": "code",
   "execution_count": null,
   "id": "f6018567-0442-45c9-a16c-88577c696765",
   "metadata": {},
   "outputs": [],
   "source": [
    "plotter.plot_belief(\n",
    "    ax=plt.gca(),\n",
    "    u=u_cond_bc,\n",
    "    conditioned_on=[\"bc\"],\n",
    ")\n",
    "\n",
    "experiment_utils.savefig(\"bcfirst_01a_u_cond_bc\")"
   ]
  },
  {
   "cell_type": "code",
   "execution_count": null,
   "id": "fa904213-6fa4-4441-8042-219c70329d29",
   "metadata": {},
   "outputs": [],
   "source": [
    "plotter.plot_pred_belief(\n",
    "    ax=plt.gca(),\n",
    "    u=u_cond_bc,\n",
    "    conditioned_on=[\"bc\"],\n",
    ")\n",
    "\n",
    "experiment_utils.savefig(\"bcfirst_01b_Du_cond_bc\")"
   ]
  },
  {
   "cell_type": "markdown",
   "id": "548b91c3-2c6a-4c14-b2a7-4be056e58f48",
   "metadata": {},
   "source": [
    "### Conditioning on the PDE"
   ]
  },
  {
   "cell_type": "code",
   "execution_count": null,
   "id": "341de563-134d-4fd5-ae3b-def9999f97a9",
   "metadata": {},
   "outputs": [],
   "source": [
    "u_cond_bc_pde = u_cond_bc.condition_on_observations(\n",
    "    Y=Y_pde,\n",
    "    L=bvp.pde.diffop,\n",
    "    X=X_pde,\n",
    ")"
   ]
  },
  {
   "cell_type": "code",
   "execution_count": null,
   "id": "c086a9cb-f801-47c9-a02f-b87e34ed2494",
   "metadata": {},
   "outputs": [],
   "source": [
    "plotter.plot_belief(\n",
    "    ax=plt.gca(),\n",
    "    u=u_cond_bc_pde,\n",
    "    conditioned_on=[\"bc\", \"pde\"],\n",
    "    X_pde=X_pde,\n",
    "    f_X_pde=Y_pde,\n",
    ")\n",
    "\n",
    "experiment_utils.savefig(\"bcfirst_02a_u_cond_bc_pde\")"
   ]
  },
  {
   "cell_type": "code",
   "execution_count": null,
   "id": "c3672b63-f863-470b-9b94-5b02b40dec28",
   "metadata": {},
   "outputs": [],
   "source": [
    "plotter.plot_pred_belief(\n",
    "    ax=plt.gca(),\n",
    "    u=u_cond_bc_pde,\n",
    "    conditioned_on=[\"bc\", \"pde\"],\n",
    "    X_pde=X_pde,\n",
    "    f_X_pde=Y_pde,\n",
    ")\n",
    "\n",
    "experiment_utils.savefig(\"bcfirst_02b_Du_cond_bc_pde\")"
   ]
  },
  {
   "cell_type": "markdown",
   "id": "97d67ba6-f0da-488f-b575-1a69ce5cd2da",
   "metadata": {},
   "source": [
    "### Complete Plot"
   ]
  },
  {
   "cell_type": "code",
   "execution_count": null,
   "id": "2ba4ec51-95ce-4f60-8740-5f0d61f41daa",
   "metadata": {
    "jupyter": {
     "source_hidden": true
    },
    "tags": []
   },
   "outputs": [],
   "source": [
    "rc = config.tueplots_bundle(nrows=3, ncols=2)\n",
    "rc.update(\n",
    "    {\n",
    "        \"lines.linewidth\": 1\n",
    "    }\n",
    ")\n",
    "\n",
    "with plt.rc_context(rc):\n",
    "    fig, ax = plt.subplots(nrows=3, ncols=2)\n",
    "\n",
    "    ax[0, 0].set_title(\"(a)\")\n",
    "\n",
    "    plotter.plot_belief(\n",
    "        ax=ax[0, 0],\n",
    "        u=u_prior,\n",
    "    )\n",
    "\n",
    "    ax[0, 1].set_title(\"(b)\")\n",
    "\n",
    "    plotter.plot_pred_belief(\n",
    "        ax=ax[0, 1],\n",
    "        u=u_prior,\n",
    "    )\n",
    "\n",
    "    ax[1, 0].set_title(\"(c)\")\n",
    "\n",
    "    plotter.plot_belief(\n",
    "        ax=ax[1, 0],\n",
    "        u=u_cond_bc,\n",
    "        conditioned_on=[\"bc\"],\n",
    "    )\n",
    "\n",
    "    ax[1, 1].set_title(\"(d)\")\n",
    "\n",
    "    plotter.plot_pred_belief(\n",
    "        ax=ax[1, 1],\n",
    "        u=u_cond_bc,\n",
    "        conditioned_on=[\"bc\"],\n",
    "    )\n",
    "\n",
    "    ax[2, 0].set_title(\"(e)\")\n",
    "\n",
    "    plotter.plot_belief(\n",
    "        ax=ax[2, 0],\n",
    "        u=u_cond_bc_pde,\n",
    "        conditioned_on=[\"bc\", \"pde\"],\n",
    "        X_pde=X_pde,\n",
    "        f_X_pde=Y_pde,\n",
    "    )\n",
    "\n",
    "    ax[2, 1].set_title(\"(f)\")\n",
    "\n",
    "    plotter.plot_pred_belief(\n",
    "        ax=ax[2, 1],\n",
    "        u=u_cond_bc_pde,\n",
    "        conditioned_on=[\"bc\", \"pde\"],\n",
    "        X_pde=X_pde,\n",
    "        f_X_pde=Y_pde,\n",
    "    )\n",
    "\n",
    "experiment_utils.savefig(\"bcfirst\")"
   ]
  },
  {
   "cell_type": "markdown",
   "id": "35faaf61-9d8b-478e-b964-6100acb283e8",
   "metadata": {},
   "source": [
    "## Interactive Example"
   ]
  },
  {
   "cell_type": "code",
   "execution_count": null,
   "id": "bf7528c5",
   "metadata": {
    "jupyter": {
     "source_hidden": true
    },
    "tags": []
   },
   "outputs": [],
   "source": [
    "import ipywidgets\n",
    "\n",
    "%matplotlib widget\n",
    "\n",
    "with plt.rc_context(config.tueplots_bundle(ncols=2, rel_width=1.5)):\n",
    "    fig, ax = plt.subplots(\n",
    "        num=\"Gaussian Process Solution to the Dirichlet Problem for the 1D Poisson Equation\",\n",
    "        ncols=2,\n",
    "    )\n",
    "\n",
    "@ipywidgets.interact(\n",
    "    domain=ipywidgets.FloatRangeSlider(\n",
    "        value=(-1.0, 1.0),\n",
    "        min=-3.0,\n",
    "        max=3.0,\n",
    "        description=\"Domain [l, r]\",\n",
    "    ),\n",
    "    f=ipywidgets.FloatSlider(\n",
    "        value=2.0,\n",
    "        min=-3.0,\n",
    "        max=3.0,\n",
    "        description=\"f(x)\",\n",
    "    ),\n",
    "    f_std=ipywidgets.FloatSlider(\n",
    "        value=0.0,\n",
    "        min=0.0,\n",
    "        max=1.0,\n",
    "        description=\"f(x) std\",\n",
    "    ),\n",
    "    u_l=ipywidgets.FloatSlider(\n",
    "        value=0.0,\n",
    "        min=-2.0,\n",
    "        max=2.0,\n",
    "        description=\"g(l)\",\n",
    "    ),\n",
    "    u_l_std=ipywidgets.FloatSlider(\n",
    "        value=0.0,\n",
    "        min=0.0,\n",
    "        max=1.0,\n",
    "        description=\"g(l) std\",\n",
    "    ),\n",
    "    u_r=ipywidgets.FloatSlider(\n",
    "        value=1.0,\n",
    "        min=-2.0,\n",
    "        max=2.0,\n",
    "        description=\"g(r)\",\n",
    "    ),\n",
    "    u_r_std=ipywidgets.FloatSlider(\n",
    "        value=0.0,\n",
    "        min=0.0,\n",
    "        max=1.0,\n",
    "        description=\"g(r) std\",\n",
    "    ),\n",
    "    prior_output_scale=ipywidgets.FloatSlider(\n",
    "        value=2.0,\n",
    "        min=0.1,\n",
    "        max=8.0,\n",
    "        description=\"σ\",\n",
    "    ),\n",
    "    prior_lengthscale=ipywidgets.FloatSlider(\n",
    "        value=1.0,\n",
    "        min=0.1,\n",
    "        max=2.0,\n",
    "        description=\"λ\",\n",
    "    ),\n",
    "    collocation_range=ipywidgets.FloatRangeSlider(\n",
    "        value=(0.1, 0.9),\n",
    "        min=1e-6,\n",
    "        max=1.0 - 1e-6,\n",
    "        description=\"X_pde range\",\n",
    "    ),\n",
    "    num_collocation_points=ipywidgets.IntSlider(\n",
    "        value=3,\n",
    "        min=1,\n",
    "        max=10,\n",
    "        description=\"len(X_pde)\",\n",
    "    ),\n",
    ")\n",
    "def interact(\n",
    "    domain: tuple,\n",
    "    f: float,\n",
    "    f_std: float,\n",
    "    u_l: float,\n",
    "    u_l_std: float,\n",
    "    u_r: float,\n",
    "    u_r_std: float,\n",
    "    prior_output_scale: float,\n",
    "    prior_lengthscale: float,\n",
    "    collocation_range: tuple,\n",
    "    num_collocation_points: int,\n",
    "):\n",
    "    collocation_range = tuple(\n",
    "        (domain[1] - domain[0]) * bound + domain[0] for bound in collocation_range\n",
    "    )\n",
    "\n",
    "    # Problem definition\n",
    "    bvp = linpde_gp.problems.pde.PoissonEquationDirichletProblem(\n",
    "        domain=domain,\n",
    "        rhs=linpde_gp.functions.Constant(input_shape=(), value=f),\n",
    "        boundary_values=(u_l, u_r),\n",
    "    )\n",
    "\n",
    "    u_prior = pn.randprocs.GaussianProcess(\n",
    "        mean=linpde_gp.functions.Zero(\n",
    "            input_shape=bvp.pde.diffop.input_domain_shape,\n",
    "            output_shape=bvp.pde.diffop.input_codomain_shape,\n",
    "        ),\n",
    "        cov=prior_output_scale ** 2 * linpde_gp.randprocs.covfuncs.ExpQuad(\n",
    "            input_shape=bvp.pde.diffop.input_domain_shape,\n",
    "            lengthscales=prior_lengthscale,\n",
    "        ),\n",
    "    )\n",
    "\n",
    "    # Solve the BVP\n",
    "    X_bc, Y_bc = get_1d_dirichlet_boundary_observations(bvp.boundary_conditions)\n",
    "\n",
    "    u_cond_bc = u_prior.condition_on_observations(\n",
    "        Y=Y_bc,\n",
    "        X=X_bc,\n",
    "        b=pn.randvars.Normal(np.zeros_like(Y_bc), np.diag((u_l_std**2, u_r_std**2))),\n",
    "    )\n",
    "\n",
    "    X_pde = np.linspace(*collocation_range, num_collocation_points)\n",
    "    Y_pde = bvp.pde.rhs(X_pde)\n",
    "\n",
    "    u_cond_bc_pde = u_cond_bc.condition_on_observations(\n",
    "        Y_pde,\n",
    "        L=bvp.pde.diffop,\n",
    "        X=X_pde,\n",
    "        b=pn.randvars.Normal(np.zeros_like(Y_pde), f_std**2 * np.eye(Y_pde.size)),\n",
    "    )\n",
    "\n",
    "    # Plotting\n",
    "    plotter = BeliefPlotter(bvp)\n",
    "\n",
    "    ax[0].cla()\n",
    "    ax[1].cla()\n",
    "\n",
    "    plotter.plot_belief(\n",
    "        ax[0],\n",
    "        u=u_cond_bc_pde,\n",
    "        conditioned_on=[\"bc\", \"pde\"],\n",
    "        X_pde=X_pde,\n",
    "        f_X_pde=Y_pde,\n",
    "    )\n",
    "    plotter.plot_pred_belief(\n",
    "        ax[1],\n",
    "        u=u_cond_bc_pde,\n",
    "        conditioned_on=[\"bc\", \"pde\"],\n",
    "        X_pde=X_pde,\n",
    "        f_X_pde=Y_pde,\n",
    "    )\n",
    "\n",
    "    fig.canvas.draw()\n"
   ]
  },
  {
   "cell_type": "code",
   "execution_count": null,
   "id": "e09771ef",
   "metadata": {},
   "outputs": [],
   "source": []
  }
 ],
 "metadata": {
  "kernelspec": {
   "display_name": "Python 3.10.9 ('rp')",
   "language": "python",
   "name": "python3"
  },
  "language_info": {
   "codemirror_mode": {
    "name": "ipython",
    "version": 3
   },
   "file_extension": ".py",
   "mimetype": "text/x-python",
   "name": "python",
   "nbconvert_exporter": "python",
   "pygments_lexer": "ipython3",
   "version": "3.10.9"
  },
  "vscode": {
   "interpreter": {
    "hash": "e6e8c2dcdbd56f97393d936234f742b50420975831114bbb57672bab77d2e717"
   }
  }
 },
 "nbformat": 4,
 "nbformat_minor": 5
}
