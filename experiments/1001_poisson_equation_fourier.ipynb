{
 "cells": [
  {
   "cell_type": "code",
   "execution_count": null,
   "id": "e1aefb21-23cf-42fe-a91f-2a9bcb369ecc",
   "metadata": {},
   "outputs": [],
   "source": [
    "import matplotlib.pyplot as plt\n",
    "import numpy as np\n",
    "import probnum as pn\n",
    "import scipy.sparse\n",
    "import scipy.sparse.linalg\n",
    "\n",
    "import linpde_gp"
   ]
  },
  {
   "cell_type": "code",
   "execution_count": null,
   "id": "348a2efc-656f-4d46-af3d-22409d69b82b",
   "metadata": {},
   "outputs": [],
   "source": [
    "%matplotlib inline\n",
    "\n",
    "from matplotlib_inline.backend_inline import set_matplotlib_formats\n",
    "set_matplotlib_formats(\"pdf\", \"svg\")"
   ]
  },
  {
   "cell_type": "code",
   "execution_count": null,
   "id": "5b1a37cf-ac5d-4fac-8488-6288c3e1f308",
   "metadata": {},
   "outputs": [],
   "source": [
    "bvp = linpde_gp.problems.pde.PoissonEquationDirichletProblem(\n",
    "    domain=(-1.0, 1.0),\n",
    "    rhs=linpde_gp.functions.Constant(input_shape=(), value=2.0),\n",
    "    boundary_values=(0.0, 0.0),\n",
    ")"
   ]
  },
  {
   "cell_type": "markdown",
   "id": "de205720-d33e-4a9f-a597-ad3303755924",
   "metadata": {},
   "source": [
    "## 1D Fourier Basis Functions"
   ]
  },
  {
   "cell_type": "code",
   "execution_count": null,
   "id": "51278836-a9bf-42a5-9037-3474763e70d8",
   "metadata": {},
   "outputs": [],
   "source": [
    "def fourier_basis_element_1d(x, n, domain):\n",
    "    l, r = domain\n",
    "\n",
    "    return np.sin(n * np.pi * (x - l) / (r - l))"
   ]
  },
  {
   "cell_type": "code",
   "execution_count": null,
   "id": "c18a97c4-5748-4afd-b1b2-b2cbe50674ad",
   "metadata": {},
   "outputs": [],
   "source": [
    "xs_plot = np.linspace(*bvp.domain, 100)\n",
    "    \n",
    "for n in range(1, 5):\n",
    "    plt.plot(xs_plot, fourier_basis_element_1d(xs_plot, n, bvp.domain))\n",
    "\n",
    "plt.show()"
   ]
  },
  {
   "cell_type": "code",
   "execution_count": null,
   "id": "d9d414ed-3f0d-4c56-865d-ca92dc94a26f",
   "metadata": {},
   "outputs": [],
   "source": [
    "def coords2fn(coords, domain):\n",
    "    ns = np.arange(1, coords.size + 1)\n",
    "\n",
    "    def f(grid):\n",
    "        sol = fourier_basis_element_1d(  # shape: (G, N)\n",
    "            grid[:, None],\n",
    "            ns[None, :],\n",
    "            domain,\n",
    "        )\n",
    "        sol *= coords\n",
    "        \n",
    "        return np.sum(sol, axis=-1)\n",
    "    \n",
    "    return f"
   ]
  },
  {
   "cell_type": "code",
   "execution_count": null,
   "id": "ad702200-9724-494c-88ae-542e460bc80d",
   "metadata": {},
   "outputs": [],
   "source": [
    "xs_plot = np.linspace(*bvp.domain, 100)\n",
    "\n",
    "plt.plot(\n",
    "    xs_plot,\n",
    "    coords2fn(coords=np.array([-4.0, 1.0, 2.0, 2.0, 1.0]), domain=bvp.domain)(xs_plot)\n",
    ")\n",
    "plt.show()"
   ]
  },
  {
   "cell_type": "markdown",
   "id": "96258d9c-6fdf-4818-86ae-97e23cc182e4",
   "metadata": {},
   "source": [
    "## Approximate Laplace Operator in the Fourier Basis"
   ]
  },
  {
   "cell_type": "code",
   "execution_count": null,
   "id": "a52361fe-69a1-4824-a769-5177d3ada88d",
   "metadata": {},
   "outputs": [],
   "source": [
    "def poisson_1d_zero_boundary_operator_fourier(N: int, domain):\n",
    "    l, r = domain\n",
    "    Ns = np.arange(1, N + 1)\n",
    "\n",
    "    return pn.linops.Matrix(\n",
    "        scipy.sparse.diags(\n",
    "            Ns * np.pi / (4 * (r - l)) * ((2 * np.pi) * Ns + np.sin((2 * np.pi) * Ns)),\n",
    "            offsets=0,\n",
    "            format=\"csr\",\n",
    "            dtype=np.double,\n",
    "        )\n",
    "    )"
   ]
  },
  {
   "cell_type": "code",
   "execution_count": null,
   "id": "78863e26-1b62-4dfc-9aa5-8163becc92dd",
   "metadata": {},
   "outputs": [],
   "source": [
    "poisson_1d_zero_boundary_operator_fourier(6, bvp.domain)"
   ]
  },
  {
   "cell_type": "code",
   "execution_count": null,
   "id": "c16e794e-cb89-4865-983c-e64bfd2835c3",
   "metadata": {},
   "outputs": [],
   "source": [
    "plt.imshow(poisson_1d_zero_boundary_operator_fourier(6, bvp.domain).todense())\n",
    "plt.show()"
   ]
  },
  {
   "cell_type": "markdown",
   "id": "b1bdaef9-050e-499d-bbf4-dfe6b86c86ae",
   "metadata": {},
   "source": [
    "## Approximate RHS in the Fourier Basis"
   ]
  },
  {
   "cell_type": "code",
   "execution_count": null,
   "id": "0c52a4a5-3b2b-43e4-b68c-522c1513944a",
   "metadata": {},
   "outputs": [],
   "source": [
    "def poisson_1d_rhs_fourier(alpha: float, N: int, domain):\n",
    "    if isinstance(alpha, float):\n",
    "        l, r = domain\n",
    "        Ns = np.arange(1, N + 1)\n",
    "\n",
    "        return alpha * (r - l) / np.pi * (1 - np.cos(np.pi * Ns)) / Ns\n",
    "    else:\n",
    "        raise TypeError()"
   ]
  },
  {
   "cell_type": "code",
   "execution_count": null,
   "id": "30aec99e-f97d-4224-80f9-3c0239947a1c",
   "metadata": {},
   "outputs": [],
   "source": [
    "poisson_1d_rhs_fourier(1.0, 6, bvp.domain)"
   ]
  },
  {
   "cell_type": "markdown",
   "id": "e2681b53-74b0-4cc5-b209-e836debc039c",
   "metadata": {},
   "source": [
    "## Solution"
   ]
  },
  {
   "cell_type": "code",
   "execution_count": null,
   "id": "8695fa3c-44c6-485d-af57-3cd09cc5ad86",
   "metadata": {},
   "outputs": [],
   "source": [
    "def discrete_1d_fourier_solve(N: int, domain):\n",
    "    A = poisson_1d_zero_boundary_operator_fourier(N, domain)\n",
    "    b = poisson_1d_rhs_fourier(2.0, N, domain)\n",
    "\n",
    "    (coeffs, _) = scipy.sparse.linalg.cg(A.A, b)\n",
    "    \n",
    "    return coeffs"
   ]
  },
  {
   "cell_type": "code",
   "execution_count": null,
   "id": "311b4def-4b44-4dcb-afd3-42b3bdb99a34",
   "metadata": {},
   "outputs": [],
   "source": [
    "u_fourier_coords = discrete_1d_fourier_solve(N=3, domain=bvp.domain)\n",
    "u_fourier = coords2fn(u_fourier_coords, bvp.domain)"
   ]
  },
  {
   "cell_type": "code",
   "execution_count": null,
   "id": "26c6e445-e283-4f66-85d1-126250d12653",
   "metadata": {},
   "outputs": [],
   "source": [
    "u_fourier_coords"
   ]
  },
  {
   "cell_type": "code",
   "execution_count": null,
   "id": "bcacddd6-3021-4445-824f-310d82b6a41d",
   "metadata": {},
   "outputs": [],
   "source": [
    "xs_plot = np.linspace(-1.0, 1.0, 100)\n",
    "\n",
    "plt.plot(xs_plot, bvp.solution(xs_plot), label=\"Exact Solution\")\n",
    "plt.plot(xs_plot, u_fourier(xs_plot), label=\"Fourier Solution\")\n",
    "plt.legend()\n",
    "\n",
    "plt.show()"
   ]
  },
  {
   "cell_type": "markdown",
   "id": "8644324d-1a8b-4cff-8380-c8abe8e15ba2",
   "metadata": {},
   "source": [
    "### Implementation in `linpde_gp`"
   ]
  },
  {
   "cell_type": "code",
   "execution_count": null,
   "id": "491a8535-0640-4294-9da4-54cb8e559a37",
   "metadata": {},
   "outputs": [],
   "source": [
    "import ipywidgets\n",
    "\n",
    "%matplotlib widget\n",
    "\n",
    "fig, ax = plt.subplots(num=\"Solution to the 1D Poisson Problem with g(x) = 0\")\n",
    "\n",
    "def interact(domain: tuple, rhs: float, n: int):\n",
    "    # Define the problem\n",
    "    bvp = linpde_gp.problems.pde.PoissonEquationDirichletProblem(\n",
    "        domain=domain,\n",
    "        rhs=linpde_gp.functions.Constant(input_shape=(), value=rhs),\n",
    "        boundary_values=(0.0, 0.0),\n",
    "    )\n",
    "    \n",
    "    # Define a finite basis\n",
    "    basis = linpde_gp.galerkin.bases.FourierBasis(\n",
    "        domain=bvp.domain,\n",
    "        num_frequencies=n,\n",
    "    )\n",
    "    \n",
    "    discrete_problem = linpde_gp.galerkin.project(bvp, basis)\n",
    "    \n",
    "    # Pick a linear solver\n",
    "    solver = linpde_gp.linalg.solvers.ConjugateGradients()\n",
    "\n",
    "    # Solve the problem\n",
    "    sol_coords_fourier = solver.solve(discrete_problem).support\n",
    "    sol_fourier = basis.coords2fn(sol_coords_fourier)\n",
    "    \n",
    "    # Plot the solution\n",
    "    plot_grid = np.linspace(*domain, 200)\n",
    "    \n",
    "    ax.cla()\n",
    "    ax.plot(plot_grid, bvp.solution(plot_grid), label=\"Exact Solution\")\n",
    "    ax.plot(plot_grid, sol_fourier(plot_grid), label=\"Fourier Solution\")\n",
    "    ax.legend()\n",
    "\n",
    "    fig.canvas.draw()\n",
    "    \n",
    "ipywidgets.interactive(\n",
    "    interact,\n",
    "    domain=ipywidgets.FloatRangeSlider(\n",
    "        value=(-1.0, 1.0),\n",
    "        min=-3.0,\n",
    "        max=3.0,\n",
    "        description=\"Domain\",\n",
    "    ),\n",
    "    rhs=ipywidgets.FloatSlider(\n",
    "        value=2.0,\n",
    "        min=-3.0,\n",
    "        max=3.0,\n",
    "        description=\"f(x)\",\n",
    "    ),\n",
    "    n=ipywidgets.IntSlider(\n",
    "        value=1,\n",
    "        min=1,\n",
    "        max=20,\n",
    "        continuous_update=True,\n",
    "    ),\n",
    ")"
   ]
  },
  {
   "cell_type": "code",
   "execution_count": null,
   "id": "e88280e0-c8ee-4498-bcd5-c238e71c1440",
   "metadata": {},
   "outputs": [],
   "source": []
  }
 ],
 "metadata": {
  "kernelspec": {
   "display_name": "Python [conda env:linpde-gp]",
   "language": "python",
   "name": "conda-env-linpde-gp-py"
  },
  "language_info": {
   "codemirror_mode": {
    "name": "ipython",
    "version": 3
   },
   "file_extension": ".py",
   "mimetype": "text/x-python",
   "name": "python",
   "nbconvert_exporter": "python",
   "pygments_lexer": "ipython3",
   "version": "3.10.0"
  }
 },
 "nbformat": 4,
 "nbformat_minor": 5
}
