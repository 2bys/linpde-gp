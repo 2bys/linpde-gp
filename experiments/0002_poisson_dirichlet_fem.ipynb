{
 "cells": [
  {
   "cell_type": "code",
   "execution_count": null,
   "metadata": {},
   "outputs": [],
   "source": [
    "from matplotlib import pyplot as plt\n",
    "import numpy as np\n",
    "import probnum as pn\n",
    "\n",
    "import linpde_gp"
   ]
  },
  {
   "cell_type": "code",
   "execution_count": null,
   "id": "8234a5d8-aa32-48ee-9c8c-81bc280c5218",
   "metadata": {},
   "outputs": [],
   "source": [
    "import experiment_utils\n",
    "from experiment_utils import config\n",
    "\n",
    "config.experiment_name = \"0002_poisson_dirichlet_fem\"\n",
    "config.target = \"jmlr\"\n",
    "config.debug_mode = True\n",
    "\n",
    "plt.rcParams.update(config.tueplots_bundle())"
   ]
  },
  {
   "cell_type": "markdown",
   "id": "491df4dc-eee9-406e-aba3-a7ce90ebbfb5",
   "metadata": {
    "tags": []
   },
   "source": [
    "## Problem Definition"
   ]
  },
  {
   "cell_type": "code",
   "execution_count": null,
   "id": "254b8a77-cdfb-4524-be6e-02de61790ed8",
   "metadata": {},
   "outputs": [],
   "source": [
    "domain = linpde_gp.domains.asdomain([-1.0, 1.0])\n",
    "\n",
    "alpha = 1.0\n",
    "\n",
    "rhs = linpde_gp.functions.Piecewise(\n",
    "    xs=[-1.0, -0.3, 0.1, 1.0],\n",
    "    fns=[\n",
    "        linpde_gp.functions.Polynomial([3.0]),\n",
    "        linpde_gp.functions.Polynomial([0.0]),\n",
    "        linpde_gp.functions.Polynomial([2.0]),\n",
    "    ],\n",
    ")"
   ]
  },
  {
   "cell_type": "code",
   "execution_count": null,
   "metadata": {},
   "outputs": [],
   "source": [
    "solution = linpde_gp.problems.pde.Solution_PoissonEquation_IVP_1D_RHSPiecewisePolynomial(\n",
    "    domain,\n",
    "    rhs,\n",
    "    initial_values=[-0.5, 3.0],\n",
    "    alpha=alpha,\n",
    ")"
   ]
  },
  {
   "cell_type": "code",
   "execution_count": null,
   "id": "99a1f619-15f3-4f74-af2d-55f0242faeed",
   "metadata": {},
   "outputs": [],
   "source": [
    "bvp = linpde_gp.problems.pde.PoissonEquationDirichletProblem(\n",
    "    domain,\n",
    "    rhs=rhs,\n",
    "    boundary_values=np.asarray((solution(-1.), solution(1.))),\n",
    "    solution=solution,\n",
    ")"
   ]
  },
  {
   "cell_type": "markdown",
   "metadata": {},
   "source": [
    "## Test and Trial Bases"
   ]
  },
  {
   "cell_type": "code",
   "execution_count": null,
   "metadata": {},
   "outputs": [],
   "source": [
    "num_finite_elements = 3\n",
    "\n",
    "basis_grid = np.linspace(*bvp.domain, num_finite_elements + 2)\n",
    "\n",
    "trial_basis = linpde_gp.functions.bases.UnivariateLinearInterpolationBasis(\n",
    "    basis_grid,\n",
    "    zero_boundary=False,\n",
    ")\n",
    "\n",
    "test_basis = linpde_gp.functions.bases.UnivariateLinearInterpolationBasis(\n",
    "    basis_grid,\n",
    "    zero_boundary=True,\n",
    ")\n",
    "\n",
    "trial_proj = trial_basis.l2_projection()\n",
    "test_proj = test_basis.l2_projection(normalized=False)"
   ]
  },
  {
   "cell_type": "code",
   "execution_count": null,
   "metadata": {},
   "outputs": [],
   "source": [
    "diffop_galerkin = bvp.pde.diffop.weak_form(test_basis)(trial_basis)\n",
    "rhs_galerkin = test_proj(bvp.pde.rhs)"
   ]
  },
  {
   "cell_type": "code",
   "execution_count": null,
   "metadata": {},
   "outputs": [],
   "source": [
    "diffop_galerkin.todense()"
   ]
  },
  {
   "cell_type": "code",
   "execution_count": null,
   "metadata": {},
   "outputs": [],
   "source": [
    "rhs_galerkin"
   ]
  },
  {
   "cell_type": "markdown",
   "metadata": {},
   "source": [
    "## Plotting"
   ]
  },
  {
   "cell_type": "code",
   "execution_count": null,
   "metadata": {},
   "outputs": [],
   "source": [
    "%matplotlib inline\n",
    "\n",
    "import matplotlib.axes\n",
    "\n",
    "from linpde_gp.typing import RandomProcessLike, RandomVariableLike\n",
    "\n",
    "plt_grid = domain.uniform_grid(200)\n",
    "\n",
    "def plot_belief(\n",
    "    ax: matplotlib.axes.Axes,\n",
    "    *,\n",
    "    u: pn.randprocs.GaussianProcess,\n",
    "    conditioned_on: list[str] = [],\n",
    "    solution: RandomProcessLike | None = None,\n",
    "    simplified: bool = False,\n",
    "):\n",
    "    # True Solution\n",
    "    if solution is not None:\n",
    "        solution.plot(\n",
    "            ax,\n",
    "            plt_grid,\n",
    "            color=\"C1\",\n",
    "            label=\"$u^\\star$\",\n",
    "        )\n",
    "\n",
    "    # Solution Belief\n",
    "    cond_events_str = _build_cond_events_str(conditioned_on)\n",
    "\n",
    "    u.plot(\n",
    "        ax,\n",
    "        plt_grid,\n",
    "        num_samples=3,\n",
    "        rng=np.random.default_rng(24),\n",
    "        color=\"C0\",\n",
    "        label=(\n",
    "            fr\"$\\mathrm{{u}} \\mid {cond_events_str}$\"\n",
    "            if len(cond_events_str) > 0\n",
    "            else r\"$\\mathrm{u}$\"\n",
    "        ),\n",
    "    )\n",
    "\n",
    "    if simplified:\n",
    "        ax.set(\n",
    "            xlabel=\"Domain $\\mathbb{D}$\",\n",
    "            xticks=[],\n",
    "            yticks=[],\n",
    "        )\n",
    "\n",
    "    ax.legend()\n",
    "\n",
    "def plot_proj_belief(\n",
    "    ax: matplotlib.axes.Axes,\n",
    "    *,\n",
    "    u: pn.randprocs.GaussianProcess,\n",
    "    conditioned_on: list[str] = [],\n",
    "    solution: RandomProcessLike | None = None,\n",
    "):\n",
    "    # True Solution\n",
    "    if solution is not None:\n",
    "        linpde_gp.randprocs.asrandproc(solution).plot(\n",
    "            ax,\n",
    "            plt_grid,\n",
    "            color=\"C1\",\n",
    "            label=\"$u^\\star$\",\n",
    "        )\n",
    "\n",
    "    # Projected Solution Belief\n",
    "    Pu = trial_proj(u)\n",
    "\n",
    "    Pu_gp = linpde_gp.randprocs.ParametricGaussianProcess(\n",
    "        weights=Pu,\n",
    "        feature_fn=trial_basis,\n",
    "    )\n",
    "\n",
    "    cond_events_str = _build_cond_events_str(conditioned_on)\n",
    "\n",
    "    Pu_gp.plot(\n",
    "        ax,\n",
    "        plt_grid,\n",
    "        num_samples=3,\n",
    "        rng=np.random.default_rng(24),\n",
    "        color=\"C0\",\n",
    "        label=(\n",
    "            fr\"$\\mathcal{{P}}[\\mathrm{{u}}] \\mid {cond_events_str}$\"\n",
    "            if len(cond_events_str) > 0\n",
    "            else r\"$\\mathcal{P}[\\mathrm{{u}}]$\"\n",
    "        ),\n",
    "    )\n",
    "\n",
    "    ax.legend()\n",
    "\n",
    "def _build_cond_events_str(conditioned_on: list[str]) -> str:\n",
    "    events = []\n",
    "\n",
    "    for key in conditioned_on:\n",
    "        match key:\n",
    "            case \"bc\":\n",
    "                events.append(r\"\\mathrm{BC}\")\n",
    "            case \"bc_fem\":\n",
    "                events.append(r\"\\mathrm{BC}_\\mathrm{FEM}\")\n",
    "            case \"pde\":\n",
    "                events.append(r\"\\mathrm{PDE}\")\n",
    "            case \"sc\":\n",
    "                events.append(r\"\\mathrm{SC}\")\n",
    "            case _:\n",
    "                raise ValueError(f\"Unknown event '{key}'\")\n",
    "    \n",
    "    return \", \".join(events)"
   ]
  },
  {
   "cell_type": "code",
   "execution_count": null,
   "metadata": {},
   "outputs": [],
   "source": [
    "evals = trial_basis(plt_grid)\n",
    "\n",
    "plt.plot(plt_grid, evals[...])\n",
    "\n",
    "# for x in trial_basis.grid:\n",
    "#     plt.axvline(x)\n",
    "\n",
    "plt.show()"
   ]
  },
  {
   "cell_type": "markdown",
   "id": "e5d2cf03-077b-42f4-8d7e-9625b75d4ba8",
   "metadata": {
    "tags": []
   },
   "source": [
    "## Prior"
   ]
  },
  {
   "cell_type": "code",
   "execution_count": null,
   "metadata": {},
   "outputs": [],
   "source": [
    "base_cov = pn.randprocs.covfuncs.Matern(\n",
    "    input_shape=(),\n",
    "    lengthscales=0.75,\n",
    "    nu=1.5,\n",
    ")\n",
    "\n",
    "u_prior = pn.randprocs.GaussianProcess(\n",
    "    mean=pn.functions.Zero(\n",
    "        input_shape=(),\n",
    "        output_shape=(),\n",
    "    ),\n",
    "    cov=linpde_gp.randprocs.covfuncs.GalerkinCovarianceFunction(\n",
    "        base_cov,\n",
    "        projection=trial_proj,\n",
    "    ),\n",
    ")"
   ]
  },
  {
   "cell_type": "code",
   "execution_count": null,
   "metadata": {},
   "outputs": [],
   "source": [
    "plot_belief(\n",
    "    plt.gca(),\n",
    "    u=u_prior,\n",
    "    solution=bvp.solution,\n",
    ")\n",
    "\n",
    "# experiment_utils.savefig(\"00_u_prior\")"
   ]
  },
  {
   "cell_type": "code",
   "execution_count": null,
   "metadata": {},
   "outputs": [],
   "source": [
    "plot_proj_belief(\n",
    "    plt.gca(),\n",
    "    u=u_prior,\n",
    "    solution=bvp.solution,\n",
    ")\n",
    "\n",
    "# experiment_utils.savefig(\"00_u_prior_proj\")"
   ]
  },
  {
   "cell_type": "markdown",
   "id": "4f834e80-407e-4a86-bdb5-0db26719ed60",
   "metadata": {
    "tags": []
   },
   "source": [
    "## Posterior"
   ]
  },
  {
   "cell_type": "markdown",
   "metadata": {},
   "source": [
    "### Conditioning on the Boundary Conditions"
   ]
  },
  {
   "cell_type": "code",
   "execution_count": null,
   "metadata": {},
   "outputs": [],
   "source": [
    "X_bc, Y_bc = linpde_gp.problems.pde.get_1d_dirichlet_boundary_observations(bvp.boundary_conditions)"
   ]
  },
  {
   "cell_type": "code",
   "execution_count": null,
   "metadata": {},
   "outputs": [],
   "source": [
    "u_cond_bc = u_prior.condition_on_observations(Y_bc, X=X_bc)"
   ]
  },
  {
   "cell_type": "code",
   "execution_count": null,
   "metadata": {},
   "outputs": [],
   "source": [
    "plot_belief(\n",
    "    plt.gca(),\n",
    "    u=u_cond_bc,\n",
    "    conditioned_on=[\"bc\"],\n",
    "    solution=bvp.solution,\n",
    ")\n",
    "\n",
    "# experiment_utils.savefig(\"01_u_cond_bc\")"
   ]
  },
  {
   "cell_type": "code",
   "execution_count": null,
   "metadata": {},
   "outputs": [],
   "source": [
    "plot_proj_belief(\n",
    "    plt.gca(),\n",
    "    u=u_cond_bc,\n",
    "    conditioned_on=[\"bc\"],\n",
    "    solution=bvp.solution,\n",
    ")\n",
    "\n",
    "# experiment_utils.savefig(\"01_u_cond_bc_proj\")"
   ]
  },
  {
   "cell_type": "code",
   "execution_count": null,
   "metadata": {},
   "outputs": [],
   "source": [
    "A_bc = np.eye(len(trial_basis))[[0, -1], :]\n",
    "\n",
    "u_cond_bc = u_cond_bc.condition_on_observations(\n",
    "    Y_bc,\n",
    "    L=A_bc @ trial_proj,\n",
    ")"
   ]
  },
  {
   "cell_type": "code",
   "execution_count": null,
   "metadata": {},
   "outputs": [],
   "source": [
    "plot_belief(\n",
    "    plt.gca(),\n",
    "    u=u_cond_bc,\n",
    "    conditioned_on=[\"bc\", \"bc_fem\"],\n",
    "    solution=bvp.solution,\n",
    ")\n",
    "\n",
    "# experiment_utils.savefig(\"02_u_cond_bc_bc_fem\")"
   ]
  },
  {
   "cell_type": "code",
   "execution_count": null,
   "metadata": {},
   "outputs": [],
   "source": [
    "plot_proj_belief(\n",
    "    plt.gca(),\n",
    "    u=u_cond_bc,\n",
    "    conditioned_on=[\"bc\", \"bc_fem\"],\n",
    "    solution=bvp.solution,\n",
    ")\n",
    "\n",
    "# experiment_utils.savefig(\"02_u_cond_bc_bc_fem_proj\")"
   ]
  },
  {
   "cell_type": "markdown",
   "id": "dcf3657e-1008-4db9-9ef9-c61fa16be296",
   "metadata": {},
   "source": [
    "### Conditioning on the PDE"
   ]
  },
  {
   "cell_type": "code",
   "execution_count": null,
   "metadata": {},
   "outputs": [],
   "source": [
    "u_cond_bc_pde = u_cond_bc.condition_on_observations(\n",
    "    rhs_galerkin,\n",
    "    L=diffop_galerkin @ trial_proj,\n",
    ")"
   ]
  },
  {
   "cell_type": "code",
   "execution_count": null,
   "metadata": {},
   "outputs": [],
   "source": [
    "# MWR section plot\n",
    "mwr_plots_ylim = (-0.8, 1.99)\n",
    "\n",
    "with plt.rc_context(config.tueplots_bundle(rel_width=0.5)):\n",
    "    plot_belief(\n",
    "        plt.gca(),\n",
    "        u=u_cond_bc_pde,\n",
    "        conditioned_on=[\"bc\", \"pde\"],\n",
    "        solution=bvp.solution,\n",
    "    )\n",
    "\n",
    "    plt.ylim(*mwr_plots_ylim)\n",
    "\n",
    "experiment_utils.savefig(\"03_u_cond_bc_bc_fem_pde\")"
   ]
  },
  {
   "cell_type": "code",
   "execution_count": null,
   "metadata": {},
   "outputs": [],
   "source": [
    "# Figure 1 Plot\n",
    "with plt.rc_context(\n",
    "    config.tueplots_bundle(\n",
    "        rel_width=0.45,\n",
    "        # height_to_width_ratio=fig_1_plot_aspect,\n",
    "    )\n",
    "):\n",
    "    plot_belief(\n",
    "        plt.gca(),\n",
    "        u=u_cond_bc_pde,\n",
    "        conditioned_on=[\"bc\", \"pde\"],\n",
    "        solution=bvp.solution,\n",
    "        simplified=True,\n",
    "    )\n",
    "\n",
    "    experiment_utils.savefig(\"03_u_cond_bc_bc_fem_pde_fig_1\")"
   ]
  },
  {
   "cell_type": "code",
   "execution_count": null,
   "metadata": {},
   "outputs": [],
   "source": [
    "plot_proj_belief(\n",
    "    plt.gca(),\n",
    "    u=u_cond_bc_pde,\n",
    "    conditioned_on=[\"bc\", \"bc_fem\", \"pde\"],\n",
    "    solution=bvp.solution,\n",
    ")\n",
    "\n",
    "# experiment_utils.savefig(\"03_u_cond_bc_bc_fem_pde_proj\")"
   ]
  },
  {
   "cell_type": "markdown",
   "metadata": {},
   "source": [
    "### Testing"
   ]
  },
  {
   "cell_type": "code",
   "execution_count": null,
   "metadata": {},
   "outputs": [],
   "source": [
    "import scipy.integrate\n",
    "\n",
    "phis_grid = trial_basis(plt_grid)\n",
    "\n",
    "def sample_trial_proj(sample):\n",
    "    res = scipy.integrate.trapezoid(\n",
    "        phis_grid * sample[..., None],\n",
    "        plt_grid,\n",
    "        axis=0,\n",
    "    )\n",
    "\n",
    "    return trial_proj.normalizer(res)\n",
    "\n",
    "samples = np.stack(\n",
    "    [\n",
    "        sample - np.sum(sample_trial_proj(sample) * phis_grid, axis=-1)\n",
    "        for sample in u_cond_bc.sample(np.random.default_rng(24), plt_grid, size=(2000,))\n",
    "    ],\n",
    "    axis=-1,\n",
    ")\n",
    "\n",
    "samples_std = np.std(samples, axis=-1)"
   ]
  },
  {
   "cell_type": "code",
   "execution_count": null,
   "metadata": {},
   "outputs": [],
   "source": [
    "plot_belief(\n",
    "    plt.gca(),\n",
    "    u=u_cond_bc_pde,\n",
    "    conditioned_on=[\"bc\", \"bc_fem\", \"pde\"],\n",
    "    solution=bvp.solution,\n",
    ")\n",
    "\n",
    "post_mean = u_cond_bc_pde.mean(plt_grid)\n",
    "\n",
    "plt.plot(plt_grid, post_mean + 1.96 * samples_std, c=\"C3\", label=\"Sample Cred. Int.\")\n",
    "plt.plot(plt_grid, post_mean - 1.96 * samples_std, c=\"C3\")\n",
    "\n",
    "plt.legend()\n",
    "\n",
    "# experiment_utils.savefig(\"posterior_std_samples\")"
   ]
  },
  {
   "attachments": {},
   "cell_type": "markdown",
   "metadata": {},
   "source": [
    "## Comparison to regular GP Prior"
   ]
  },
  {
   "cell_type": "code",
   "execution_count": null,
   "metadata": {},
   "outputs": [],
   "source": [
    "u_full_prior = pn.randprocs.GaussianProcess(\n",
    "    mean=pn.functions.Zero(\n",
    "        input_shape=(),\n",
    "        output_shape=(),\n",
    "    ),\n",
    "    cov=base_cov,\n",
    ")"
   ]
  },
  {
   "cell_type": "code",
   "execution_count": null,
   "metadata": {},
   "outputs": [],
   "source": [
    "u_full_cond_bc = u_full_prior.condition_on_observations(Y_bc, X=X_bc)"
   ]
  },
  {
   "cell_type": "code",
   "execution_count": null,
   "metadata": {},
   "outputs": [],
   "source": [
    "u_full_cond_bc_pde = u_full_cond_bc.condition_on_observations(\n",
    "    rhs_galerkin,\n",
    "    L=diffop_galerkin @ trial_proj,\n",
    ")"
   ]
  },
  {
   "cell_type": "code",
   "execution_count": null,
   "metadata": {},
   "outputs": [],
   "source": [
    "# MWR section plot\n",
    "with plt.rc_context(config.tueplots_bundle(rel_width=0.5)):\n",
    "    plot_belief(\n",
    "        plt.gca(),\n",
    "        u=u_full_cond_bc_pde,\n",
    "        conditioned_on=[\"bc\", \"pde\"],\n",
    "        solution=bvp.solution,\n",
    "    )\n",
    "\n",
    "    plt.ylim(*mwr_plots_ylim)\n",
    "\n",
    "experiment_utils.savefig(\"05_u_full_cond_bc_pde\")"
   ]
  },
  {
   "cell_type": "code",
   "execution_count": null,
   "metadata": {},
   "outputs": [],
   "source": []
  }
 ],
 "metadata": {
  "kernelspec": {
   "display_name": "Python 3.10.4 ('linpde-gp')",
   "language": "python",
   "name": "python3"
  },
  "language_info": {
   "codemirror_mode": {
    "name": "ipython",
    "version": 3
   },
   "file_extension": ".py",
   "mimetype": "text/x-python",
   "name": "python",
   "nbconvert_exporter": "python",
   "pygments_lexer": "ipython3",
   "version": "3.10.4"
  },
  "orig_nbformat": 4,
  "vscode": {
   "interpreter": {
    "hash": "88aade6ae3c887346ad7959dbc8c013e14bde92b1226dcb94dccc773c12fdf89"
   }
  }
 },
 "nbformat": 4,
 "nbformat_minor": 2
}
