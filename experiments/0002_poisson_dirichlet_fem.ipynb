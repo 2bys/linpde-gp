{
 "cells": [
  {
   "cell_type": "code",
   "execution_count": null,
   "metadata": {},
   "outputs": [],
   "source": [
    "import numpy as np\n",
    "\n",
    "import linpde_gp\n",
    "import probnum as pn\n",
    "from matplotlib import pyplot as plt"
   ]
  },
  {
   "cell_type": "code",
   "execution_count": null,
   "id": "8234a5d8-aa32-48ee-9c8c-81bc280c5218",
   "metadata": {},
   "outputs": [],
   "source": [
    "import experiment_utils\n",
    "from experiment_utils import config\n",
    "\n",
    "config.experiment_name = \"0002_poisson_dirichlet_fem\"\n",
    "config.target = \"jmlr\"\n",
    "config.debug_mode = True\n",
    "\n",
    "plt.rcParams.update(config.tueplots_bundle())"
   ]
  },
  {
   "cell_type": "markdown",
   "id": "491df4dc-eee9-406e-aba3-a7ce90ebbfb5",
   "metadata": {
    "tags": []
   },
   "source": [
    "## Problem Definition"
   ]
  },
  {
   "cell_type": "code",
   "execution_count": null,
   "id": "254b8a77-cdfb-4524-be6e-02de61790ed8",
   "metadata": {},
   "outputs": [],
   "source": [
    "domain = linpde_gp.domains.asdomain([-1.0, 1.0])"
   ]
  },
  {
   "cell_type": "code",
   "execution_count": null,
   "id": "9f19b64e-1f95-4b3c-a084-a16d64176122",
   "metadata": {},
   "outputs": [],
   "source": [
    "# Boundary Values\n",
    "g = np.asarray((0.0, 1.0))\n",
    "\n",
    "# PDE RHS\n",
    "f = linpde_gp.functions.Constant(input_shape=(), value=2.0)\n",
    "\n",
    "# True Solution\n",
    "u = linpde_gp.problems.pde.PoissonEquation1DConstRHSDirichletProblemSolution(\n",
    "    domain=domain,\n",
    "    rhs=f.value,\n",
    "    boundary_values=g,\n",
    ")"
   ]
  },
  {
   "cell_type": "code",
   "execution_count": null,
   "id": "99a1f619-15f3-4f74-af2d-55f0242faeed",
   "metadata": {},
   "outputs": [],
   "source": [
    "bvp = linpde_gp.problems.pde.PoissonEquationDirichletProblem(\n",
    "    pde=linpde_gp.problems.pde.PoissonEquation(\n",
    "        domain=domain,\n",
    "        rhs=linpde_gp.randprocs.DeterministicProcess(f),\n",
    "    ),\n",
    "    boundary_values=pn.randvars.asrandvar(g),\n",
    "    solution=u,\n",
    ")"
   ]
  },
  {
   "cell_type": "markdown",
   "metadata": {},
   "source": [
    "## Test and Trial Bases"
   ]
  },
  {
   "cell_type": "code",
   "execution_count": null,
   "metadata": {},
   "outputs": [],
   "source": [
    "legacy_basis = linpde_gp.galerkin.bases.LinearInterpolationBasis(\n",
    "    domain=bvp.pde.domain,\n",
    "    num_elements=5,\n",
    ")\n",
    "\n",
    "trial_basis = linpde_gp.functions.bases.UnivariateLinearInterpolationBasis(\n",
    "    legacy_basis.grid,\n",
    "    zero_boundary=False,\n",
    ")\n",
    "\n",
    "test_basis = linpde_gp.functions.bases.UnivariateLinearInterpolationBasis(\n",
    "    legacy_basis.grid,\n",
    "    zero_boundary=True,\n",
    ")\n",
    "\n",
    "trial_proj = trial_basis.l2_projection()\n",
    "test_proj = test_basis.l2_projection(normalized=False)"
   ]
  },
  {
   "cell_type": "markdown",
   "metadata": {},
   "source": [
    "## Plotting"
   ]
  },
  {
   "cell_type": "code",
   "execution_count": null,
   "metadata": {},
   "outputs": [],
   "source": [
    "%matplotlib inline\n",
    "\n",
    "import matplotlib.axes\n",
    "\n",
    "from linpde_gp.typing import RandomProcessLike, RandomVariableLike\n",
    "\n",
    "plt_grid = domain.uniform_grid(200)\n",
    "\n",
    "def plot_belief(\n",
    "    ax: matplotlib.axes.Axes,\n",
    "    *,\n",
    "    u: pn.randprocs.GaussianProcess,\n",
    "    conditioned_on: list[str] = [],\n",
    "    solution: RandomProcessLike | None = None,\n",
    "):\n",
    "    # Solution Belief\n",
    "    cond_events_str = _build_cond_events_str(conditioned_on)\n",
    "\n",
    "    u.plot(\n",
    "        ax,\n",
    "        plt_grid,\n",
    "        num_samples=3,\n",
    "        rng=np.random.default_rng(24),\n",
    "        color=\"C0\",\n",
    "        label=(\n",
    "            fr\"$u \\mid {cond_events_str}$\"\n",
    "            if len(cond_events_str) > 0\n",
    "            else \"$u$\"\n",
    "        ),\n",
    "    )\n",
    "\n",
    "    # True Solution\n",
    "    if solution is not None:\n",
    "        linpde_gp.randprocs.asrandproc(solution).plot(\n",
    "            ax,\n",
    "            plt_grid,\n",
    "            color=\"C1\",\n",
    "            label=\"$u^\\star$\",\n",
    "        )\n",
    "\n",
    "    ax.legend()\n",
    "\n",
    "def plot_proj_belief(\n",
    "    ax: matplotlib.axes.Axes,\n",
    "    *,\n",
    "    u: pn.randprocs.GaussianProcess,\n",
    "    conditioned_on: list[str] = [],\n",
    "    solution: RandomProcessLike | None = None,\n",
    "):\n",
    "    # Projected Solution Belief\n",
    "    Pu = trial_proj(u)\n",
    "\n",
    "    Pu_gp = linpde_gp.randprocs.ParametricGaussianProcess(\n",
    "        weights=Pu,\n",
    "        feature_fn=trial_basis,\n",
    "    )\n",
    "\n",
    "    cond_events_str = _build_cond_events_str(conditioned_on)\n",
    "\n",
    "    Pu_gp.plot(\n",
    "        ax,\n",
    "        plt_grid,\n",
    "        num_samples=3,\n",
    "        rng=np.random.default_rng(24),\n",
    "        color=\"C0\",\n",
    "        label=(\n",
    "            fr\"$\\mathcal{{P}}[u] \\mid {cond_events_str}$\"\n",
    "            if len(cond_events_str) > 0\n",
    "            else r\"$\\mathcal{P}[u]$\"\n",
    "        ),\n",
    "    )\n",
    "\n",
    "    # True Solution\n",
    "    if solution is not None:\n",
    "        linpde_gp.randprocs.asrandproc(solution).plot(\n",
    "            ax,\n",
    "            plt_grid,\n",
    "            color=\"C1\",\n",
    "            label=\"$u^\\star$\",\n",
    "        )\n",
    "\n",
    "    ax.legend()\n",
    "\n",
    "def _build_cond_events_str(conditioned_on: list[str]) -> str:\n",
    "    events = []\n",
    "\n",
    "    for key in conditioned_on:\n",
    "        match key:\n",
    "            case \"bc\":\n",
    "                events.append(r\"\\mathrm{BC}\")\n",
    "            case \"bc_fem\":\n",
    "                events.append(r\"\\mathrm{BC}_\\mathrm{FEM}\")\n",
    "            case \"pde\":\n",
    "                events.append(r\"\\mathrm{PDE}\")\n",
    "            case _:\n",
    "                raise ValueError(f\"Unknown event '{key}'\")\n",
    "    \n",
    "    return \", \".join(events)"
   ]
  },
  {
   "cell_type": "code",
   "execution_count": null,
   "metadata": {},
   "outputs": [],
   "source": [
    "evals = trial_basis(plt_grid)\n",
    "\n",
    "plt.plot(plt_grid, evals[...])\n",
    "\n",
    "# for x in trial_basis.grid:\n",
    "#     plt.axvline(x)\n",
    "\n",
    "plt.show()"
   ]
  },
  {
   "cell_type": "markdown",
   "id": "e5d2cf03-077b-42f4-8d7e-9625b75d4ba8",
   "metadata": {
    "tags": []
   },
   "source": [
    "## Prior"
   ]
  },
  {
   "cell_type": "code",
   "execution_count": null,
   "metadata": {},
   "outputs": [],
   "source": [
    "u_prior = pn.randprocs.GaussianProcess(\n",
    "    mean=pn.functions.Zero(\n",
    "        input_shape=(),\n",
    "        output_shape=(),\n",
    "    ),\n",
    "    cov=linpde_gp.randprocs.kernels.GalerkinKernel(\n",
    "        pn.randprocs.kernels.Matern(\n",
    "            input_shape=(),\n",
    "            lengthscale=1.0,\n",
    "            nu=1.5,\n",
    "        ),\n",
    "        projection=trial_proj,\n",
    "    ),\n",
    ")"
   ]
  },
  {
   "cell_type": "code",
   "execution_count": null,
   "metadata": {},
   "outputs": [],
   "source": [
    "plot_belief(\n",
    "    plt.gca(),\n",
    "    u=u_prior,\n",
    "    solution=bvp.solution,\n",
    ")\n",
    "\n",
    "experiment_utils.savefig(\"00_u_prior\")"
   ]
  },
  {
   "cell_type": "code",
   "execution_count": null,
   "metadata": {},
   "outputs": [],
   "source": [
    "plot_proj_belief(\n",
    "    plt.gca(),\n",
    "    u=u_prior,\n",
    "    solution=bvp.solution,\n",
    ")\n",
    "\n",
    "experiment_utils.savefig(\"00_u_prior_proj\")"
   ]
  },
  {
   "cell_type": "markdown",
   "id": "4f834e80-407e-4a86-bdb5-0db26719ed60",
   "metadata": {
    "tags": []
   },
   "source": [
    "## Posterior"
   ]
  },
  {
   "cell_type": "markdown",
   "metadata": {},
   "source": [
    "### Conditioning on the Boundary Conditions"
   ]
  },
  {
   "cell_type": "code",
   "execution_count": null,
   "metadata": {},
   "outputs": [],
   "source": [
    "X_bc = np.asarray(bvp.boundary_conditions[0].boundary)\n",
    "Y_bc = bvp.boundary_conditions[0].values\n",
    "\n",
    "u_cond_bc = u_prior.condition_on_observations(\n",
    "    np.zeros_like(Y_bc.mean),\n",
    "    X=X_bc,\n",
    "    b=-Y_bc\n",
    ")"
   ]
  },
  {
   "cell_type": "code",
   "execution_count": null,
   "metadata": {},
   "outputs": [],
   "source": [
    "plot_belief(\n",
    "    plt.gca(),\n",
    "    u=u_cond_bc,\n",
    "    conditioned_on=[\"bc\"],\n",
    "    solution=bvp.solution,\n",
    ")\n",
    "\n",
    "experiment_utils.savefig(\"01_u_cond_bc\")"
   ]
  },
  {
   "cell_type": "code",
   "execution_count": null,
   "metadata": {},
   "outputs": [],
   "source": [
    "plot_proj_belief(\n",
    "    plt.gca(),\n",
    "    u=u_cond_bc,\n",
    "    conditioned_on=[\"bc\"],\n",
    "    solution=bvp.solution,\n",
    ")\n",
    "\n",
    "experiment_utils.savefig(\"01_u_cond_bc_proj\")"
   ]
  },
  {
   "cell_type": "code",
   "execution_count": null,
   "metadata": {},
   "outputs": [],
   "source": [
    "A_bc = np.eye(len(trial_basis))[[0, -1], :]\n",
    "\n",
    "u_cond_bc = u_cond_bc.condition_on_observations(\n",
    "    Y_bc.mean,\n",
    "    L=A_bc @ trial_proj,\n",
    ")"
   ]
  },
  {
   "cell_type": "code",
   "execution_count": null,
   "metadata": {},
   "outputs": [],
   "source": [
    "plot_belief(\n",
    "    plt.gca(),\n",
    "    u=u_cond_bc,\n",
    "    conditioned_on=[\"bc\", \"bc_fem\"],\n",
    "    solution=bvp.solution,\n",
    ")\n",
    "\n",
    "experiment_utils.savefig(\"02_u_cond_bc_bc_fem\")"
   ]
  },
  {
   "cell_type": "code",
   "execution_count": null,
   "metadata": {},
   "outputs": [],
   "source": [
    "plot_proj_belief(\n",
    "    plt.gca(),\n",
    "    u=u_cond_bc,\n",
    "    conditioned_on=[\"bc\", \"bc_fem\"],\n",
    "    solution=bvp.solution,\n",
    ")\n",
    "\n",
    "experiment_utils.savefig(\"02_u_cond_bc_bc_fem_proj\")"
   ]
  },
  {
   "cell_type": "markdown",
   "id": "dcf3657e-1008-4db9-9ef9-c61fa16be296",
   "metadata": {},
   "source": [
    "### Conditioning on the PDE"
   ]
  },
  {
   "cell_type": "code",
   "execution_count": null,
   "metadata": {},
   "outputs": [],
   "source": [
    "diffop_galerkin = bvp.pde.diffop.weak_form(test_basis)(trial_basis)\n",
    "rhs_galerkin = test_proj(bvp.pde.rhs)"
   ]
  },
  {
   "cell_type": "code",
   "execution_count": null,
   "metadata": {},
   "outputs": [],
   "source": [
    "diffop_galerkin.todense()"
   ]
  },
  {
   "cell_type": "code",
   "execution_count": null,
   "metadata": {},
   "outputs": [],
   "source": [
    "rhs_galerkin.mean"
   ]
  },
  {
   "cell_type": "code",
   "execution_count": null,
   "metadata": {},
   "outputs": [],
   "source": [
    "u_cond_bc_pde = u_cond_bc.condition_on_observations(\n",
    "    np.zeros_like(rhs_galerkin.mean),\n",
    "    L=diffop_galerkin @ trial_proj,\n",
    "    b=-rhs_galerkin,\n",
    ")"
   ]
  },
  {
   "cell_type": "code",
   "execution_count": null,
   "metadata": {},
   "outputs": [],
   "source": [
    "plot_belief(\n",
    "    plt.gca(),\n",
    "    u=u_cond_bc_pde,\n",
    "    conditioned_on=[\"bc\", \"bc_fem\", \"pde\"],\n",
    "    solution=bvp.solution,\n",
    ")\n",
    "\n",
    "experiment_utils.savefig(\"03_u_cond_bc_bc_fem_pde\")"
   ]
  },
  {
   "cell_type": "code",
   "execution_count": null,
   "metadata": {},
   "outputs": [],
   "source": [
    "plot_proj_belief(\n",
    "    plt.gca(),\n",
    "    u=u_cond_bc_pde,\n",
    "    conditioned_on=[\"bc\", \"bc_fem\", \"pde\"],\n",
    "    solution=bvp.solution,\n",
    ")\n",
    "\n",
    "experiment_utils.savefig(\"03_u_cond_bc_bc_fem_pde_proj\")"
   ]
  },
  {
   "cell_type": "markdown",
   "metadata": {},
   "source": [
    "### Testing"
   ]
  },
  {
   "cell_type": "code",
   "execution_count": null,
   "metadata": {},
   "outputs": [],
   "source": [
    "import scipy.integrate\n",
    "\n",
    "phis_grid = trial_basis(plt_grid)\n",
    "\n",
    "def sample_trial_proj(sample):\n",
    "    res = scipy.integrate.trapezoid(\n",
    "        phis_grid * sample[..., None],\n",
    "        plt_grid,\n",
    "        axis=0,\n",
    "    )\n",
    "\n",
    "    return trial_proj.normalizer(res)\n",
    "\n",
    "samples = np.stack(\n",
    "    [\n",
    "        sample - np.sum(sample_trial_proj(sample) * phis_grid, axis=-1)\n",
    "        for sample in u_cond_bc.sample(np.random.default_rng(24), plt_grid, size=(2000,))\n",
    "    ],\n",
    "    axis=-1,\n",
    ")\n",
    "\n",
    "samples_std = np.std(samples, axis=-1)"
   ]
  },
  {
   "cell_type": "code",
   "execution_count": null,
   "metadata": {},
   "outputs": [],
   "source": [
    "plot_belief(\n",
    "    plt.gca(),\n",
    "    u=u_cond_bc_pde,\n",
    "    conditioned_on=[\"bc\", \"bc_fem\", \"pde\"],\n",
    "    solution=bvp.solution,\n",
    ")\n",
    "\n",
    "post_mean = u_cond_bc_pde.mean(plt_grid)\n",
    "\n",
    "plt.plot(plt_grid, post_mean + 1.96 * samples_std, c=\"C3\", label=\"Sample Cred. Int.\")\n",
    "plt.plot(plt_grid, post_mean - 1.96 * samples_std, c=\"C3\")\n",
    "\n",
    "plt.legend()\n",
    "\n",
    "experiment_utils.savefig(\"posterior_std_samples\")"
   ]
  },
  {
   "cell_type": "markdown",
   "metadata": {},
   "source": [
    "## Conditioning on Superconvergence at the Nodes"
   ]
  },
  {
   "cell_type": "code",
   "execution_count": null,
   "metadata": {},
   "outputs": [],
   "source": [
    "u_cond_fem = u_cond_bc_pde.condition_on_observations(\n",
    "    u_cond_bc_pde.mean(trial_basis.grid[2:-2]),\n",
    "    X=trial_basis.grid[2:-2],\n",
    ")"
   ]
  },
  {
   "cell_type": "code",
   "execution_count": null,
   "metadata": {},
   "outputs": [],
   "source": [
    "plot_belief(\n",
    "    plt.gca(),\n",
    "    u=u_cond_fem,\n",
    "    conditioned_on=[\"bc\", \"bc_fem\", \"pde\"],\n",
    "    solution=bvp.solution,\n",
    ")\n",
    "\n",
    "experiment_utils.savefig(\"04_u_cond_bc_bc_fem_pde_superconv\")"
   ]
  },
  {
   "cell_type": "code",
   "execution_count": null,
   "metadata": {},
   "outputs": [],
   "source": []
  }
 ],
 "metadata": {
  "kernelspec": {
   "display_name": "Python 3.10.4 ('linpde-gp')",
   "language": "python",
   "name": "python3"
  },
  "language_info": {
   "codemirror_mode": {
    "name": "ipython",
    "version": 3
   },
   "file_extension": ".py",
   "mimetype": "text/x-python",
   "name": "python",
   "nbconvert_exporter": "python",
   "pygments_lexer": "ipython3",
   "version": "3.10.4"
  },
  "orig_nbformat": 4,
  "vscode": {
   "interpreter": {
    "hash": "77667e9c64d75a2118edecfc83f7d8b4053f7ad6b677992fa7a52ce1c01219a0"
   }
  }
 },
 "nbformat": 4,
 "nbformat_minor": 2
}
