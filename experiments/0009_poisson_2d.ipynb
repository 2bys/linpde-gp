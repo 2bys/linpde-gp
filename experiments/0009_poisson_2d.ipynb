{
 "cells": [
  {
   "cell_type": "code",
   "execution_count": null,
   "id": "2548ae90-6e4e-41c7-a81f-d07c0e209510",
   "metadata": {},
   "outputs": [],
   "source": [
    "import matplotlib.pyplot as plt\n",
    "import numpy as np\n",
    "import probnum as pn\n",
    "\n",
    "import linpde_gp"
   ]
  },
  {
   "cell_type": "code",
   "execution_count": null,
   "id": "8234a5d8-aa32-48ee-9c8c-81bc280c5218",
   "metadata": {},
   "outputs": [],
   "source": [
    "import experiment_utils\n",
    "from experiment_utils import config\n",
    "\n",
    "config.experiment_name = \"0009_poisson_2d\"\n",
    "config.target = \"imprs_2022\"\n",
    "config.debug_mode = True"
   ]
  },
  {
   "cell_type": "code",
   "execution_count": null,
   "id": "f6044763-2b1c-4908-9a85-ef3c2e4d4fdb",
   "metadata": {},
   "outputs": [],
   "source": [
    "%matplotlib inline"
   ]
  },
  {
   "cell_type": "code",
   "execution_count": null,
   "id": "2db103b5-1461-439b-9ba2-d749304c4f3a",
   "metadata": {},
   "outputs": [],
   "source": [
    "plt.rcParams.update(config.tueplots_bundle())"
   ]
  },
  {
   "cell_type": "code",
   "execution_count": null,
   "id": "2a7c2061-ae33-4464-bb2f-adacb4167e27",
   "metadata": {},
   "outputs": [],
   "source": [
    "rng = np.random.default_rng(24)"
   ]
  },
  {
   "cell_type": "markdown",
   "id": "2795e41a-06ee-4b3d-ba86-b05a2110f9b2",
   "metadata": {
    "tags": []
   },
   "source": [
    "## Problem Definition"
   ]
  },
  {
   "cell_type": "code",
   "execution_count": null,
   "id": "1b353db6-b480-40a7-9f42-c658bf500489",
   "metadata": {},
   "outputs": [],
   "source": [
    "domain= linpde_gp.domains.Box([[-1.0, 1.0], [-1.0, 1.0]])"
   ]
  },
  {
   "cell_type": "code",
   "execution_count": null,
   "id": "c6e32a26-a960-4f18-8be0-26c15994936b",
   "metadata": {},
   "outputs": [],
   "source": [
    "rhs = linpde_gp.functions.Constant(input_shape=(2,), value=2.0)"
   ]
  },
  {
   "cell_type": "code",
   "execution_count": null,
   "id": "8f472708-301c-4783-a657-caa931354048",
   "metadata": {},
   "outputs": [],
   "source": [
    "boundary_function = linpde_gp.functions.Constant(input_shape=(2,), value=0.0)"
   ]
  },
  {
   "cell_type": "code",
   "execution_count": null,
   "id": "8c30d4ef-7d14-4b2a-9a5e-2416f3a9f8b8",
   "metadata": {},
   "outputs": [],
   "source": [
    "bvp = linpde_gp.problems.pde.PoissonEquationDirichletProblem(domain, rhs, boundary_function)"
   ]
  },
  {
   "cell_type": "code",
   "execution_count": null,
   "id": "6b20ff4c-8fd2-488c-b986-c2ca059a897a",
   "metadata": {},
   "outputs": [],
   "source": [
    "plt_grid_t, plt_grid_x = np.meshgrid(\n",
    "    np.linspace(*domain[0], 50),\n",
    "    np.linspace(*domain[1], 50),\n",
    "    indexing=\"ij\",\n",
    ")\n",
    "\n",
    "plt_grid = np.stack((plt_grid_t, plt_grid_x), axis=-1)"
   ]
  },
  {
   "cell_type": "markdown",
   "id": "38f82430-3b8c-4c6c-a306-d93c5e54aedd",
   "metadata": {
    "tags": []
   },
   "source": [
    "## Prior"
   ]
  },
  {
   "cell_type": "code",
   "execution_count": null,
   "id": "b8d94c0c-a02d-4418-a8b5-68fd0c25f6b4",
   "metadata": {},
   "outputs": [],
   "source": [
    "prior_gp = pn.randprocs.GaussianProcess(\n",
    "    mean=linpde_gp.functions.Zero(input_shape=(2,)),\n",
    "    cov=2.0 ** 2 * linpde_gp.randprocs.kernels.ExpQuad(\n",
    "        input_shape=(2,),\n",
    "        lengthscales=0.5,\n",
    "    ),\n",
    ")"
   ]
  },
  {
   "cell_type": "code",
   "execution_count": null,
   "id": "8f0d5695-4351-4bac-9367-6d3c98fc106f",
   "metadata": {},
   "outputs": [],
   "source": [
    "fig, ax = plt.subplots(subplot_kw={\"projection\": \"3d\"})\n",
    "\n",
    "ax.plot_surface(plt_grid_t, plt_grid_x, prior_gp.mean(plt_grid))"
   ]
  },
  {
   "cell_type": "markdown",
   "id": "352f2ebf-194b-4214-abe3-807c74729501",
   "metadata": {},
   "source": [
    "## Boundary Conditions"
   ]
  },
  {
   "cell_type": "code",
   "execution_count": null,
   "id": "75d4429c-99a3-45a3-8331-a2ca0f2db9d3",
   "metadata": {},
   "outputs": [],
   "source": [
    "N_bc = 9\n",
    "\n",
    "bc_Xia = np.stack(\n",
    "    (\n",
    "        np.linspace(*domain[0], N_bc),\n",
    "        np.full(N_bc, domain[1][0])\n",
    "    ),\n",
    "    axis=-1\n",
    ")\n",
    "\n",
    "bc_Xib = np.stack(\n",
    "    (\n",
    "        np.linspace(*domain[0], N_bc),\n",
    "        np.full(N_bc, domain[1][1])\n",
    "    ),\n",
    "    axis=-1\n",
    ")\n",
    "\n",
    "bc_Xai = np.stack(\n",
    "    (\n",
    "        np.full(N_bc, domain[0][0])[1:-1],\n",
    "        np.linspace(*domain[1], N_bc)[1:-1]\n",
    "    ),\n",
    "    axis=-1\n",
    ")\n",
    "\n",
    "bc_Xbi = np.stack(\n",
    "    (\n",
    "        np.full(N_bc, domain[0][1])[1:-1],\n",
    "        np.linspace(*domain[1], N_bc)[1:-1],\n",
    "    ),\n",
    "    axis=-1\n",
    ")\n",
    "\n",
    "bc_X = np.concatenate(\n",
    "    (bc_Xia, bc_Xib, bc_Xai, bc_Xbi),\n",
    "    axis=0,\n",
    ")"
   ]
  },
  {
   "cell_type": "code",
   "execution_count": null,
   "id": "4ac5aef4-cdda-4413-9848-7aa63c99d9c7",
   "metadata": {},
   "outputs": [],
   "source": [
    "u_bc = prior_gp.condition_on_observations(\n",
    "    bc_X,\n",
    "    bvp.boundary_conditions[0].values(bc_X),\n",
    ")"
   ]
  },
  {
   "cell_type": "code",
   "execution_count": null,
   "id": "08ccdfe4-a907-4a65-be64-94bd815cebf3",
   "metadata": {},
   "outputs": [],
   "source": [
    "fig, ax = plt.subplots(subplot_kw={\"projection\": \"3d\"})\n",
    "\n",
    "ax.plot_surface(plt_grid_t, plt_grid_x, u_bc.mean(plt_grid))"
   ]
  },
  {
   "cell_type": "markdown",
   "id": "5d1c281c-7917-4419-967d-12dad1dcfccf",
   "metadata": {},
   "source": [
    "### Predictive Induced by $\\Delta$"
   ]
  },
  {
   "cell_type": "code",
   "execution_count": null,
   "id": "fc65fd19-2f18-4ea3-a8a8-5e4ad6c1d7ea",
   "metadata": {},
   "outputs": [],
   "source": [
    "Lu_bc = bvp.diffop(u_bc)"
   ]
  },
  {
   "cell_type": "code",
   "execution_count": null,
   "id": "df19e640-d51d-4400-abd9-2a1a5fe66a23",
   "metadata": {},
   "outputs": [],
   "source": [
    "fig, ax = plt.subplots(subplot_kw={\"projection\": \"3d\"})\n",
    "\n",
    "ax.plot_surface(plt_grid_t, plt_grid_x, Lu_bc.mean(plt_grid))"
   ]
  },
  {
   "cell_type": "markdown",
   "id": "e893b5fe-47b1-41ef-8428-ffa2f79ae121",
   "metadata": {},
   "source": [
    "### Conditioning on the PDE"
   ]
  },
  {
   "cell_type": "code",
   "execution_count": null,
   "id": "677823b8-c9a6-4069-af4a-7c2dde1450d8",
   "metadata": {},
   "outputs": [],
   "source": [
    "N_pde = 7\n",
    "eps = 0.0\n",
    "\n",
    "pde_X = np.stack(\n",
    "    np.meshgrid(\n",
    "        np.linspace(domain[0][0] + eps, domain[0][1] + eps, N_pde),\n",
    "        np.linspace(domain[1][0] + eps, domain[1][1] + eps, N_pde),\n",
    "        indexing=\"ij\",\n",
    "    ),\n",
    "    axis=-1,\n",
    ").reshape(-1, 2)\n",
    "\n",
    "u_bc_pde = u_bc.condition_on_observations(\n",
    "    X=pde_X,\n",
    "    Y=bvp.rhs(pde_X),\n",
    "    L=bvp.diffop,\n",
    ")"
   ]
  },
  {
   "cell_type": "code",
   "execution_count": null,
   "id": "d5e3c7ca-e66a-43ff-b106-b65eb7e9c1a6",
   "metadata": {},
   "outputs": [],
   "source": [
    "# %matplotlib widget\n",
    "\n",
    "fig, ax = plt.subplots(subplot_kw={\"projection\": \"3d\"})\n",
    "\n",
    "ax.plot_surface(plt_grid_t, plt_grid_x, u_bc_pde.mean(plt_grid))\n",
    "ax.set_xlabel(\"$x_1$\")\n",
    "ax.set_ylabel(\"$x_2$\")"
   ]
  },
  {
   "cell_type": "code",
   "execution_count": null,
   "id": "0d4e33dc-b277-48f3-ac22-ccabac488dfb",
   "metadata": {},
   "outputs": [],
   "source": [
    "# %matplotlib inline"
   ]
  },
  {
   "cell_type": "code",
   "execution_count": null,
   "id": "6f111294-93fc-4036-8dd5-d3faf1ba5f76",
   "metadata": {},
   "outputs": [],
   "source": [
    "plt.figure()\n",
    "\n",
    "X_std = np.reshape(plt_grid, (-1, 2))\n",
    "u_post_std = 1.95 * u_bc_pde.std(X_std).reshape(plt_grid.shape[:-1])\n",
    "\n",
    "im = plt.imshow(u_post_std, cmap=\"coolwarm\")\n",
    "plt.colorbar()"
   ]
  },
  {
   "cell_type": "code",
   "execution_count": null,
   "id": "740f6cca-b1ca-451b-9e29-f8b611aa8133",
   "metadata": {},
   "outputs": [],
   "source": [
    "from mpl_toolkits import axes_grid1\n",
    "\n",
    "fig = plt.figure()\n",
    "spec = fig.add_gridspec(ncols=2, width_ratios=[0.55, 0.45])\n",
    "\n",
    "fig.set_constrained_layout_pads(w_pad=10 / 72, h_pad=4 / 72)\n",
    "\n",
    "# Mean\n",
    "ax_mean = fig.add_subplot(spec[0], projection=\"3d\")\n",
    "u_post_mean_surf = ax_mean.plot_surface(\n",
    "    plt_grid_t,\n",
    "    plt_grid_x,\n",
    "    u_bc_pde.mean(plt_grid),\n",
    ")\n",
    "\n",
    "ax_mean.set_title(\"Posterior Mean\")\n",
    "\n",
    "# 95% Credible Interval\n",
    "ax_std = fig.add_subplot(spec[1])\n",
    "u_post_std_img = ax_std.imshow(\n",
    "    u_post_std,\n",
    "    cmap=\"coolwarm\",\n",
    "    extent=[-1., 1., -1., 1.],\n",
    ")\n",
    "\n",
    "ax_std.set_title(\"95% Confidence Interval\")\n",
    "\n",
    "# Colorbar\n",
    "divider = axes_grid1.make_axes_locatable(ax_std)\n",
    "cax = divider.append_axes(\n",
    "    \"right\",\n",
    "    size=\"5%\",\n",
    "    pad=plt.rcParams['figure.subplot.wspace'] / 3.0\n",
    ")\n",
    "fig.colorbar(u_post_std_img, cax=cax)\n",
    "\n",
    "experiment_utils.savefig(\"poisson_2d_posterior\")"
   ]
  },
  {
   "cell_type": "code",
   "execution_count": null,
   "id": "8d787d59-b1cb-49ae-b11d-553bda25cc57",
   "metadata": {},
   "outputs": [],
   "source": [
    "fig, ax = plt.subplots(ncols=2)\n",
    "\n",
    "# Mean\n",
    "u_post_mean_img = ax[0].imshow(\n",
    "    u_bc_pde.mean(plt_grid),\n",
    "    cmap=\"coolwarm\",\n",
    "    extent=[-1., 1., -1., 1.],\n",
    ")\n",
    "\n",
    "divider = axes_grid1.make_axes_locatable(ax[0])\n",
    "cax = divider.append_axes(\n",
    "    \"right\",\n",
    "    size=\"5%\",\n",
    "    pad=plt.rcParams['figure.subplot.wspace'] / 4.0\n",
    ")\n",
    "fig.colorbar(u_post_mean_img, cax=cax)\n",
    "\n",
    "ax[0].set_title(\"Posterior Mean\")\n",
    "\n",
    "# 95% Credible Interval\n",
    "u_post_std_img = ax[1].imshow(\n",
    "    u_post_std,\n",
    "    cmap=\"coolwarm\",\n",
    "    extent=[-1., 1., -1., 1.],\n",
    ")\n",
    "\n",
    "divider = axes_grid1.make_axes_locatable(ax[1])\n",
    "cax = divider.append_axes(\n",
    "    \"right\",\n",
    "    size=\"5%\",\n",
    "    pad=plt.rcParams['figure.subplot.wspace'] / 3.0\n",
    ")\n",
    "fig.colorbar(u_post_std_img, cax=cax)\n",
    "\n",
    "ax[1].set_title(\"95% Confidence Interval\")\n",
    "\n",
    "experiment_utils.savefig(\"poisson_2d_posterior_heatmap\")"
   ]
  },
  {
   "cell_type": "code",
   "execution_count": null,
   "id": "88832d17-cf09-4335-bb59-4e39082f2346",
   "metadata": {},
   "outputs": [],
   "source": []
  }
 ],
 "metadata": {
  "kernelspec": {
   "display_name": "Python [conda env:linpde-gp]",
   "language": "python",
   "name": "conda-env-linpde-gp-py"
  },
  "language_info": {
   "codemirror_mode": {
    "name": "ipython",
    "version": 3
   },
   "file_extension": ".py",
   "mimetype": "text/x-python",
   "name": "python",
   "nbconvert_exporter": "python",
   "pygments_lexer": "ipython3",
   "version": "3.9.7"
  }
 },
 "nbformat": 4,
 "nbformat_minor": 5
}
