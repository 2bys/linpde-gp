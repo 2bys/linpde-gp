{
 "cells": [
  {
   "cell_type": "markdown",
   "metadata": {},
   "source": [
    "# The Finite Element Method applied to the 1D Poisson Equation"
   ]
  },
  {
   "cell_type": "markdown",
   "metadata": {},
   "source": [
    "In the following, we will solve the **Poisson equation** subject to **Dirichlet boundary conditions**, i.e. we want to find a function $u: \\Omega \\subset \\mathbb{R}^d \\to \\mathbb{R}$, which fulfills\n",
    "\n",
    "\\begin{equation}\n",
    "    \\begin{cases}\n",
    "        -\\Delta u(x) = f(x) & \\text{if } x \\in \\operatorname{int} \\Omega \\\\\n",
    "        u(x) = g(x)         & \\text{if } x \\in \\partial \\Omega,\n",
    "    \\end{cases}\n",
    "\\end{equation}\n",
    "\n",
    "where $$\\Delta := \\sum_{i = 1}^D \\frac{\\partial^2}{\\partial x_i^2}$$ is the **Laplace operator**.\n",
    "For simplicity, we set $\\Omega = [l, r] \\subset \\mathbb{R}$, which means that the problem reduces to\n",
    "\n",
    "$$\n",
    "    \\begin{cases}\n",
    "        -u''(x) = f(x) & \\text{for } x \\in (l, r) \\\\\n",
    "        u(x) = g(x) & \\text{for } x \\in \\{l, r\\}\n",
    "    \\end{cases}\n",
    "$$\n",
    "\n",
    "We will use the **finite element method** (**FEM**) to solve the problem numerically."
   ]
  },
  {
   "cell_type": "code",
   "execution_count": null,
   "metadata": {},
   "outputs": [],
   "source": [
    "import matplotlib.pyplot as plt\n",
    "import numpy as np\n",
    "import probnum as pn\n",
    "import scipy.linalg\n",
    "import scipy.sparse\n",
    "import scipy.sparse.linalg\n",
    "\n",
    "import linpde_gp"
   ]
  },
  {
   "cell_type": "code",
   "execution_count": null,
   "metadata": {},
   "outputs": [],
   "source": [
    "import experiment_utils\n",
    "from experiment_utils import config\n",
    "\n",
    "config.experiment_name = \"0000_poisson_equation_fem\"\n",
    "config.target = \"imprs_2022\"\n",
    "config.debug_mode = True"
   ]
  },
  {
   "cell_type": "code",
   "execution_count": null,
   "metadata": {},
   "outputs": [],
   "source": [
    "%matplotlib inline"
   ]
  },
  {
   "cell_type": "code",
   "execution_count": null,
   "metadata": {},
   "outputs": [],
   "source": [
    "# Define the domain \\Omega = [l, r]\n",
    "domain = (-1.0, 1.0)\n",
    "(l, r) = domain"
   ]
  },
  {
   "cell_type": "markdown",
   "metadata": {},
   "source": [
    "## Closed-form Solution in 1D for $f(x) = c$"
   ]
  },
  {
   "cell_type": "markdown",
   "metadata": {},
   "source": [
    "The 1D Poisson problem can be solved by simply integrating the PDE and enforcing the boundary conditions afterwards.\n",
    "We have\n",
    "\n",
    "\\begin{align*}\n",
    "    \\int_l^x \\int_l^{\\nu_2} -u''(\\nu_1) \\text{d}\\nu_1 \\text{d}\\nu_2\n",
    "    & = - \\int_l^x (u'(\\nu_2) - u'(l)) \\text{d}\\nu_2 \\\\\n",
    "    & = - (u(x) - u(l)) + u'(l) (x - l) \\\\\n",
    "    & = -u(x) + u(l) + u'(l) (x - l)\n",
    "\\end{align*}\n",
    "\n",
    "and\n",
    "\n",
    "\\begin{align*}\n",
    "    \\int_l^x \\int_l^{\\nu_2} f(\\nu_1) \\text{d}\\nu_1 \\text{d}\\nu_2\n",
    "    & = c \\int_l^x \\int_l^{\\nu_2} \\text{d}\\nu_1 \\text{d}\\nu_2 \\\\\n",
    "    & = c \\int_l^x (\\nu_2 - l) \\text{d}\\nu_2 \\\\\n",
    "    & = \\frac{c}{2} (x^2 - l^2) - cl(x - l) \\\\\n",
    "    & = \\frac{c}{2} (x - l)(x + l) - cl(x - l).\n",
    "\\end{align*}\n",
    "\n",
    "This means that\n",
    "\n",
    "\\begin{align*}\n",
    "    & -u(x) + u(l) + u'(l) (x - l) = \\frac{c}{2} (x - l)(x + l) - c l(x - l) \\\\\n",
    "    \\Leftrightarrow \\quad\n",
    "    & u(x) = u(l) + \\left( u'(l) + c l - \\frac{c}{2} (x + l) \\right) (x - l).\n",
    "\\end{align*}\n",
    "\n",
    "Obviously $u(l) = g(l)$.\n",
    "However, we still need to find $u'(l)$.\n",
    "This can be done by enforcing the right boundary condition:\n",
    "\n",
    "\\begin{align*}\n",
    "    & g(r) \\stackrel{!}{=} u(r) = g(l) + \\left( u'(l) + c l - \\frac{c}{2} (r + l) \\right) (r - l) \\\\\n",
    "    \\Leftrightarrow \\quad\n",
    "    & u'(l) (r - l) = g(r) - g(l) - c l (r - l) + \\frac{c}{2} (r + l) (r - l) \\\\\n",
    "    \\Leftrightarrow \\quad\n",
    "    & u'(l) = \\frac{g(r) - g(l)}{r - l} - c l + \\frac{c}{2} (r + l),\n",
    "\\end{align*}\n",
    "\n",
    "All in all, we arrive at\n",
    "\n",
    "\\begin{align*}\n",
    "    u(x)\n",
    "    & = g(l) + \\frac{g(r) - g(l)}{r - l} (x - l) + \\frac{c}{2} (r + l - (x + l)) (x - l) \\\\\n",
    "    & = g(l) + \\frac{g(r) - g(l)}{r - l} (x - l) - \\frac{c}{2} (x - r)(x - l).\n",
    "\\end{align*}"
   ]
  },
  {
   "cell_type": "code",
   "execution_count": null,
   "metadata": {},
   "outputs": [],
   "source": [
    "def poisson_1d_solution_constant_rhs(rhs, domain=(0.0, 1.0), boundary_values=(0.0, 0.0)):\n",
    "    (l, r) = domain\n",
    "    (g_l, g_r) = boundary_values\n",
    "    \n",
    "    aff_slope = (g_r - g_l) / (r - l)\n",
    "\n",
    "    def u(x):\n",
    "        return g_l + (aff_slope - (rhs / 2.0) * (x - r)) * (x - l)\n",
    "    \n",
    "    return u"
   ]
  },
  {
   "cell_type": "code",
   "execution_count": null,
   "metadata": {},
   "outputs": [],
   "source": [
    "u_zero_boundary = poisson_1d_solution_constant_rhs(\n",
    "    rhs=2.0,\n",
    "    domain=domain,\n",
    "    boundary_values=(0.0, 0.0),\n",
    ")"
   ]
  },
  {
   "cell_type": "code",
   "execution_count": null,
   "metadata": {},
   "outputs": [],
   "source": [
    "xs_plot = np.linspace(l, r, 100)\n",
    "\n",
    "plt.plot(xs_plot, u_zero_boundary(xs_plot))\n",
    "plt.show()"
   ]
  },
  {
   "cell_type": "markdown",
   "metadata": {},
   "source": [
    "## Finite Element Solution for $g(x) = 0$"
   ]
  },
  {
   "cell_type": "markdown",
   "metadata": {},
   "source": [
    "For the sake of simplicity, we will now assume that $g(x) = 0$ for $x \\in \\partial \\Omega$."
   ]
  },
  {
   "cell_type": "markdown",
   "metadata": {},
   "source": [
    "### Step 1: Weak Formulation"
   ]
  },
  {
   "cell_type": "markdown",
   "metadata": {},
   "source": [
    "To apply the finite element method, we must first convert the problem to its so-called **weak formulation**.\n",
    "\n",
    "Let $V$ be a vector space of sufficiently smooth functions $\\Omega \\to \\mathbb{R}$ with $v(x) = 0$ for all $v \\in V$.\n",
    "Note that a function $u \\in V$ solves the problem above if and only if $\\langle -\\Delta u, v \\rangle = \\langle f, v \\rangle$, or equivalently\n",
    "$$-\\int_\\Omega \\Delta u(x) v(x) \\text{d}x = \\int_\\Omega f(x) v(x) \\text{d}x$$\n",
    "for every $v \\in V$.\n",
    "We can introduce additional symmetry to this formulation by applying Green's first identity to the left-hand side of the equation\n",
    "$$-\\int_\\Omega \\Delta u(x) v(x) \\text{d}x = \\int_\\Omega \\nabla u(x) \\cdot \\nabla v(x) \\text{d}x - \\int_{\\partial \\Omega} \\underbrace{v(x)}_{= 0} (\\nabla u(x) \\cdot \\mathbf{n}) \\text{d}S = \\int_\\Omega \\nabla u(x) \\cdot \\nabla v(x) \\text{d}x.$$\n",
    "This means that our original problem can be solved by finding a function $u \\in V$ such that\n",
    "$$\\int_\\Omega \\nabla u(x) \\nabla v(x) \\text{d}x = \\int_\\Omega f(x) v(x) \\text{d}x$$\n",
    "for all $v \\in V$.\n",
    "This is commonly referred to as the weak formulation of the Poisson problem.\n",
    "\n",
    "Note that we did not yet define the function space $V$ precisely.\n",
    "In order to be able to write down the equations above, we require that the first (weak) derivatives of $u$ and $v$ are square integrable.\n",
    "This means that an appropriate choice of $V$ is $V = H_0^1(\\Omega)$, the Sobolev space of functions with square-integrable first (weak) derivatives which attain the value 0 on the boundary of $\\Omega$.\n",
    "\n",
    "In the 1D case, the integral equation simplifies to\n",
    "$$\\int_l^r u'(x) v'(x) \\text{d}x = \\int_l^r f(x) v(x) \\text{d}x.$$"
   ]
  },
  {
   "cell_type": "markdown",
   "metadata": {},
   "source": [
    "### Step 2: Discretization"
   ]
  },
  {
   "cell_type": "markdown",
   "metadata": {},
   "source": [
    "Next, we convert the continuous problem above into a discrete problem by replacing $V$ with a finite-dimensional subspace $\\hat{V} \\subset V$."
   ]
  },
  {
   "cell_type": "markdown",
   "metadata": {},
   "source": [
    "#### The FEM Basis"
   ]
  },
  {
   "cell_type": "markdown",
   "metadata": {},
   "source": [
    "In the one-dimensional finite element method, typically constucts $\\hat{V}$ as follows:"
   ]
  },
  {
   "cell_type": "markdown",
   "metadata": {},
   "source": [
    "The input domain $\\Omega = [l, r]$ is discretized into a grid $(x_i)_{i = 1}^{n + 2}$ with $l = x_0 \\le x_1 \\le \\dots \\le x_{n + 1} = r$."
   ]
  },
  {
   "cell_type": "code",
   "execution_count": null,
   "metadata": {},
   "outputs": [],
   "source": [
    "n = 9\n",
    "grid = np.linspace(l, r, n + 2)"
   ]
  },
  {
   "cell_type": "markdown",
   "metadata": {},
   "source": [
    "The grid can then be used to define a set of $n$ basis functions for $\\hat{V}$:\n",
    "$$\n",
    "    \\phi_i(x) :=\n",
    "    \\begin{cases}\n",
    "        \\frac{x - x_{i - 1}}{x_i - x_{i - 1}} & \\text{if } x \\in [x_{i - 1}, x_i] \\\\\n",
    "        \\frac{x_{i + 1} - x}{x_{i + 1} - x_i} & \\text{if } x \\in [x_i, x_{i + 1}] \\\\\n",
    "        0 & \\text{otherwise}\n",
    "    \\end{cases},\n",
    "$$\n",
    "where $i = 1, \\dots, n$.\n",
    "Note that this basis is constructed such that $\\hat{V}$ only contains functions which directly fulfill the boundary conditions."
   ]
  },
  {
   "cell_type": "code",
   "execution_count": null,
   "metadata": {},
   "outputs": [],
   "source": [
    "def plot_1d_fem_basis_zero_boundary(ax, grid, coords=None, **plot_kwargs):\n",
    "    \"\"\"Assumes an ordered grid\"\"\"\n",
    "    if coords is None:\n",
    "        coords = np.ones_like(grid[1:-1])\n",
    "    \n",
    "    xs = np.vstack((grid[:-2], grid[1:-1], grid[2:]))\n",
    "\n",
    "    ys = np.empty_like(xs)\n",
    "    ys[0, :] = 0.0\n",
    "    ys[1, :] = coords\n",
    "    ys[2, :] = 0.0\n",
    "\n",
    "    ax.plot(xs, ys, **plot_kwargs)"
   ]
  },
  {
   "cell_type": "code",
   "execution_count": null,
   "metadata": {},
   "outputs": [],
   "source": [
    "plot_1d_fem_basis_zero_boundary(plt.gca(), grid)"
   ]
  },
  {
   "cell_type": "markdown",
   "metadata": {},
   "source": [
    "### Span of the FEM Basis"
   ]
  },
  {
   "cell_type": "markdown",
   "metadata": {},
   "source": [
    "The function space spanned by this set of basis functions is given by\n",
    "$$\\hat{V} = \\{ f_w := \\sum_{i = 1}^n w_i \\phi_i \\mid w \\in \\mathbb{R}^n \\}.$$\n",
    "\n",
    "To see how $f_w$ behaves, let $x \\in [x_k, x_{k + 1}]$ for $k = 1, \\dots, n - 1$.\n",
    "Then\n",
    "\n",
    "\\begin{align*}\n",
    "    f_w(x)\n",
    "    & = \\sum_{i = 1}^n w_i \\phi_i(x) \\\\\n",
    "    & = \\sum_{i = 1}^n w_i\n",
    "    \\begin{cases}\n",
    "        \\frac{x - x_{i - 1}}{x_i - x_{i - 1}} & \\text{if } x \\in [x_{i - 1}, x_i] \\\\\n",
    "        \\frac{x_{i + 1} - x}{x_{i + 1} - x_i} & \\text{if } x \\in [x_i, x_{i + 1}] \\\\\n",
    "        0 & \\text{otherwise}\n",
    "    \\end{cases}\n",
    "    \\\\\n",
    "    & = w_k \\frac{x_{k + 1} - x}{x_{k + 1} - x_k} + w_{k + 1} \\frac{x - x_{(k + 1) - 1}}{x_{k + 1} - x_{(k + 1) - 1}} \\\\\n",
    "    & = \\frac{x_{k + 1} - x_k + x_k - x}{x_{k + 1} - x_k} w_k + \\frac{x - x_k}{x_{k + 1} - x_k} w_{k + 1} \\\\\n",
    "    & = \\left( 1 - \\frac{x - x_k}{x_{k + 1} - x_k} \\right) w_k + \\frac{x - x_k}{x_{k + 1} - x_k} w_{k + 1}.\n",
    "\\end{align*}\n",
    "\n",
    "We can see that $f_w$ attains value $w_i$ at grid point $i$ and it interpolates linearly in between grid points."
   ]
  },
  {
   "cell_type": "code",
   "execution_count": null,
   "metadata": {},
   "outputs": [],
   "source": [
    "def fem_zero_boundary_coords_to_fn(grid, coords):\n",
    "    ys_grid = np.empty_like(coords, shape=(grid.shape[0],))\n",
    "    ys_grid[0] = 0.0\n",
    "    ys_grid[1:-1] = coords\n",
    "    ys_grid[-1] = 0.0\n",
    "\n",
    "    return lambda x: np.interp(x, grid, ys_grid)"
   ]
  },
  {
   "cell_type": "code",
   "execution_count": null,
   "metadata": {},
   "outputs": [],
   "source": [
    "w = u_zero_boundary(grid[1:-1])\n",
    "\n",
    "xs_plot = np.linspace(l, r, 100)\n",
    "\n",
    "plt.plot(xs_plot, fem_zero_boundary_coords_to_fn(grid, w)(xs_plot), label=\"$f_w$\")\n",
    "plot_1d_fem_basis_zero_boundary(plt.gca(), grid, coords=w, alpha=0.2)\n",
    "plt.legend()\n",
    "plt.show()"
   ]
  },
  {
   "cell_type": "markdown",
   "metadata": {},
   "source": [
    "### Weak Formulation of the Poisson Problem in the FEM basis"
   ]
  },
  {
   "cell_type": "markdown",
   "metadata": {},
   "source": [
    "We can now express $u$ in the weak formulation by its basis expansion\n",
    "$$u(x) = \\sum_{j = 1}^n \\hat{u}_j \\phi_j(x),$$\n",
    "i.e.\n",
    "$$u'(x) = \\sum_{j = 1}^n \\hat{u}_j \\phi_j'(x).$$\n",
    "This means that we now need to find the coefficients $u_i$ such that\n",
    "$$\\sum_{j = 1}^n \\hat{u}_j \\int_l^r \\phi_j'(x) v'(x) \\text{d}x = \\int_l^r f(x) v(x) \\text{d}x$$\n",
    "for all $v \\in \\hat{V}$.\n",
    "Since the equation is linear in $v$, this is equivalent to solving the system of equations\n",
    "$$\\sum_{j = 1}^n \\hat{u}_j \\int_l^r \\phi_j'(x) \\phi_i'(x) \\text{d}x = \\int_l^r f(x) \\phi_i(x) \\text{d}x,$$\n",
    "where $j = 1, \\dots, n$ for the coeffients $\\hat{u}_i$."
   ]
  },
  {
   "cell_type": "markdown",
   "metadata": {},
   "source": [
    "If we define a matrix $A \\in \\mathbb{R}^{n \\times n}$ with\n",
    "$$A_{ij} := \\int_l^r \\phi_i'(x) \\phi_j'(x) \\text{d}x,$$\n",
    "and a vector $b \\in \\mathbb{R}^n$, where\n",
    "$$b_i := \\int_l^r \\phi_i(x) f(x) \\text{d}x,$$\n",
    "we can equivalently write the weak formulation on $\\hat{V}$ as\n",
    "$$(A \\hat{u})_i = \\sum_{j = 1}^n \\left( \\int_l^r \\phi_i'(x) \\phi_j'(x) \\text{d}x \\right) \\hat{u}_j = \\int_l^r f(x) \\phi_i(x) \\text{d}x = b_i.$$\n",
    "Hence, we have now reduced our original continuous Poisson problem to a linear system $A \\hat{u} = b$."
   ]
  },
  {
   "cell_type": "markdown",
   "metadata": {},
   "source": [
    "### Computing Closed-form Expressions for $A$ and $b$"
   ]
  },
  {
   "cell_type": "markdown",
   "metadata": {},
   "source": [
    "We will now compute closed-form expressions for the entries of $A$.\n",
    "First of all, note that $A$ is symmetric.\n",
    "Moreover, we have\n",
    "$$\n",
    "    \\phi_i'(x) =\n",
    "    \\begin{cases}\n",
    "        \\frac{1}{x_i - x_{i - 1}}, & \\text{if } x \\in [x_i - x_{i - 1}] \\\\\n",
    "        -\\frac{1}{x_{i + 1} - x_i}, & \\text{if } x \\in [x_{i + 1} - x_i] \\\\\n",
    "        0, & \\text{otherwise}\n",
    "    \\end{cases}\n",
    "$$\n",
    "(in the weak sense).\n",
    "This implies that $A_{ij} = 0$ for $j \\notin \\{ i - 1, i, i + 1 \\}$, since the support of $\\phi_i'$ only overlaps with the support of $\\phi_j'$ for $j \\in \\{ i - 1, i, i + 1 \\}$.\n",
    "Hence, $A$ is tridiagonal.\n",
    "\n",
    "Consequently, we only need to compute $A_{ii}$ for $i = 1, \\dotsc, n$, and $A_{i,i+1}$ for $i = 1, \\dots, n - 1$."
   ]
  },
  {
   "cell_type": "markdown",
   "metadata": {},
   "source": [
    "\\begin{align*}\n",
    "    A_{ii}\n",
    "    & := \\int_l^r (\\phi_i'(x))^2 \\text{d}x \\\\\n",
    "    & = \\int_{x_{i - 1}}^{x_i} \\left( \\frac{1}{x_i - x_{i - 1}} \\right)^2 \\text{d}x + \\int_{x_i}^{x_{i + 1}} \\left( -\\frac{1}{x_{i + 1} - x_i} \\right)^2 \\text{d}x \\\\\n",
    "    & = \\frac{1}{(x_i - x_{i - 1})^2} \\int_{x_{i - 1}}^{x_i} \\text{d}x + \\frac{1}{(x_{i + 1} - x_i)^2} \\int_{x_i}^{x_{i + 1}} \\text{d}x \\\\\n",
    "    & = \\frac{x_i - x_{i - 1}}{(x_i - x_{i - 1})^2} + \\frac{x_{i + 1} - x_i}{(x_{i + 1} - x_i)^2} \\\\\n",
    "    & = \\frac{1}{x_i - x_{i - 1}} + \\frac{1}{x_{i + 1} - x_i}\n",
    "\\end{align*}"
   ]
  },
  {
   "cell_type": "markdown",
   "metadata": {},
   "source": [
    "\\begin{align*}\n",
    "    A_{i,i + 1}\n",
    "    & := \\int_l^r \\phi_i'(x) \\phi_{i + 1}'(x) \\text{d}x \\\\\n",
    "    & = \\int_{x_{i - 1}}^{x_i} \\frac{1}{x_i - x_{i - 1}} \\cdot 0 \\text{d}x \\\\\n",
    "    \\qquad & + \\int_{x_i}^{x_{i + 1}} \\left( -\\frac{1}{x_{i + 1} - x_i} \\right) \\left( \\frac{1}{x_{i + 1} - x_i} \\right) \\text{d}x \\\\\n",
    "    \\qquad & + \\int_{x_{i + 1}}^{x_{i + 2}} 0 \\cdot \\left( -\\frac{1}{x_{i + 1} - x_i} \\right) \\text{d}x \\\\\n",
    "    & = -\\frac{1}{(x_{i + 1} - x_i)^2} \\int_{x_i}^{x_{i + 1}} \\text{d}x \\\\\n",
    "    & = -\\frac{x_{i + 1} - x_i}{(x_{i + 1} - x_i)^2} \\\\\n",
    "    & = -\\frac{1}{x_{i + 1} - x_i}\n",
    "\\end{align*}"
   ]
  },
  {
   "cell_type": "code",
   "execution_count": null,
   "metadata": {},
   "outputs": [],
   "source": [
    "def poisson_1d_zero_boundary_operator_fem(grid: np.ndarray) -> pn.linops.Matrix:\n",
    "    # Diagonal\n",
    "    diag = 1 / (grid[1:-1] - grid[:-2])\n",
    "    diag += 1 / (grid[2:] - grid[1:-1])\n",
    "\n",
    "    # Off-Diagonals\n",
    "    offdiag = -1.0 / (grid[2:-1] - grid[1:-2])\n",
    "    \n",
    "    return pn.linops.Matrix(\n",
    "        scipy.sparse.diags(\n",
    "            (offdiag, diag, offdiag),\n",
    "            offsets=(-1, 0, 1),\n",
    "            format=\"csr\",\n",
    "            dtype=np.double,\n",
    "        )\n",
    "    )"
   ]
  },
  {
   "cell_type": "code",
   "execution_count": null,
   "metadata": {},
   "outputs": [],
   "source": [
    "A = poisson_1d_zero_boundary_operator_fem(grid)\n",
    "\n",
    "# Plot a heatmap of the matrix\n",
    "vmax = np.max(np.abs(A.todense()))\n",
    "\n",
    "plt.imshow(A.todense(), cmap=\"bwr\", vmin=-vmax, vmax=vmax)\n",
    "plt.colorbar()\n",
    "plt.show()"
   ]
  },
  {
   "cell_type": "markdown",
   "metadata": {},
   "source": [
    "In order to find a closed-form expression for the right-hand side, we either need to fix a closed-form representation of $f$ or revert to quadrature algorithms.\n",
    "\n",
    "For the sake of simplicity, we will assume $f(x) = c \\in \\mathbb{R}$ in the following.\n",
    "In this case, the entries of $b$ are given by\n",
    "\n",
    "\\begin{align*}\n",
    "    b_i\n",
    "    & = \\int_l^r f(x) \\phi_i(x) \\text{d}x \\\\\n",
    "    & = c \\int_l^r \\phi_i(x) \\text{d}x \\\\\n",
    "    & = c \\left( \\int_{x_{i - 1}}^{x_i} \\frac{x - x_{i - 1}}{x_i - x_{i - 1}} \\text{d}x + \\int_{x_i}^{x_{i + 1}} \\frac{x_{i + 1} - x}{x_{i + 1} - x_i} \\text{d}x \\right) \\\\\n",
    "    & = c \\left( \\frac{1}{x_i - x_{i - 1}} \\int_{x_{i - 1}}^{x_i} x - x_{i - 1} \\text{d}x + \\frac{1}{x_{i + 1} - x_i} \\int_{x_i}^{x_{i + 1}} x_{i + 1} - x \\text{d}x \\right) \\\\\n",
    "    & = c \\left( \\frac{1}{x_i - x_{i - 1}} \\int_0^{x_i - x_{i - 1}} x \\text{d}x + \\frac{1}{x_{i + 1} - x_i} \\int_{x_{i + 1} - x_i}^0 x \\cdot (-1) \\text{d}x \\right) \\\\\n",
    "    & = c \\left( \\frac{1}{x_i - x_{i - 1}} \\left( \\frac{1}{2} x^2 \\bigg \\rvert_0^{x_i - x_{i - 1}} \\right) - \\frac{1}{x_{i + 1} - x_i} \\left( \\frac{1}{2} x^2 \\bigg \\rvert_{x_{i + 1} - x_i}^0 \\right) \\right) \\\\\n",
    "    & = \\frac{c}{2} \\left( \\frac{(x_i - x_{i - 1})^2}{x_i - x_{i - 1}} + \\frac{(x_{i + 1} - x_i)^2}{x_{i + 1} - x_i} \\right) \\\\\n",
    "    & = \\frac{c}{2} (x_i - x_{i - 1} + (x_{i + 1} - x_i)) \\\\\n",
    "    & = \\frac{c}{2} (x_{i + 1} - x_{i - 1}).\n",
    "\\end{align*}"
   ]
  },
  {
   "cell_type": "code",
   "execution_count": null,
   "metadata": {},
   "outputs": [],
   "source": [
    "c = 2.0"
   ]
  },
  {
   "cell_type": "code",
   "execution_count": null,
   "metadata": {},
   "outputs": [],
   "source": [
    "def poisson_1d_rhs_fem(rhs: float, grid: np.ndarray) -> np.ndarray:\n",
    "    if isinstance(rhs, float):\n",
    "        return (rhs / 2) * (grid[2:] - grid[:-2])\n",
    "    else:\n",
    "        raise TypeError"
   ]
  },
  {
   "cell_type": "code",
   "execution_count": null,
   "metadata": {},
   "outputs": [],
   "source": [
    "b = poisson_1d_rhs_fem(c, grid)\n",
    "b"
   ]
  },
  {
   "cell_type": "markdown",
   "metadata": {},
   "source": [
    "### Step 3: Solving the Linear System"
   ]
  },
  {
   "cell_type": "markdown",
   "metadata": {},
   "source": [
    "In the final step of the finite element method, we need to solve the linear system $A \\hat{u} = b$, where $A$ and $b$ are defined as above."
   ]
  },
  {
   "cell_type": "code",
   "execution_count": null,
   "metadata": {},
   "outputs": [],
   "source": [
    "A = poisson_1d_zero_boundary_operator_fem(grid)\n",
    "b = poisson_1d_rhs_fem(c, grid)"
   ]
  },
  {
   "cell_type": "code",
   "execution_count": null,
   "metadata": {},
   "outputs": [],
   "source": [
    "fig, axes = plt.subplots(\n",
    "    ncols=3,\n",
    "    figsize=(5, 3.5),\n",
    "    gridspec_kw={\n",
    "        \"width_ratios\": [4, 0.75, .2]\n",
    "    },\n",
    ")\n",
    "\n",
    "vmax = np.max(np.abs(np.hstack([A.todense(), b[:, None]])))\n",
    "\n",
    "img = axes[0].imshow(A.todense(), cmap=\"bwr\", vmin=-vmax, vmax=vmax)\n",
    "axes[1].imshow(b[:, None], cmap=\"bwr\", vmin=-vmax, vmax=vmax)\n",
    "fig.colorbar(img, cax=axes[2])\n",
    "\n",
    "for ax in axes[:-1]:\n",
    "    ax.set_xticks([])\n",
    "    ax.set_yticks([])\n",
    "\n",
    "fig.tight_layout()\n",
    "plt.show()"
   ]
  },
  {
   "cell_type": "markdown",
   "metadata": {},
   "source": [
    "The system matrix $A$ is sparse which means that we can benefit from a sparse solver like the method of **conjugate gradients**."
   ]
  },
  {
   "cell_type": "code",
   "execution_count": null,
   "metadata": {},
   "outputs": [],
   "source": [
    "u_zero_boundary_fem_coords, _ = scipy.sparse.linalg.cg(A.A, b)"
   ]
  },
  {
   "cell_type": "code",
   "execution_count": null,
   "metadata": {},
   "outputs": [],
   "source": [
    "u_zero_boundary_fem = fem_zero_boundary_coords_to_fn(grid, u_zero_boundary_fem_coords)"
   ]
  },
  {
   "cell_type": "code",
   "execution_count": null,
   "metadata": {},
   "outputs": [],
   "source": [
    "xs_plot = np.linspace(l, r, 100)\n",
    "\n",
    "plt.plot(xs_plot, u_zero_boundary(xs_plot), label=\"Exact Solution\")\n",
    "plt.plot(xs_plot, u_zero_boundary_fem(xs_plot), label=\"FEM Solution\")\n",
    "plot_1d_fem_basis_zero_boundary(plt.gca(), grid, coords=u_zero_boundary_fem_coords, alpha=0.2)\n",
    "plt.legend()\n",
    "plt.show()"
   ]
  },
  {
   "cell_type": "markdown",
   "metadata": {},
   "source": [
    "### Implementation in `linpde_gp`"
   ]
  },
  {
   "cell_type": "code",
   "execution_count": null,
   "metadata": {},
   "outputs": [],
   "source": [
    "import ipywidgets"
   ]
  },
  {
   "cell_type": "code",
   "execution_count": null,
   "metadata": {},
   "outputs": [],
   "source": [
    "%matplotlib widget\n",
    "\n",
    "fig, ax = plt.subplots(num=\"Solution to the 1D Poisson Problem with g(x) = 0\")\n",
    "\n",
    "def interact(domain: tuple, rhs: float, n: int):\n",
    "    # Problem definition\n",
    "    bvp = linpde_gp.problems.pde.PoissonEquationDirichletProblem(\n",
    "        domain=domain,\n",
    "        rhs=linpde_gp.functions.Constant(input_shape=(), value=rhs),\n",
    "        boundary_values=(0.0, 0.0),\n",
    "    )\n",
    "    \n",
    "    # FEM Discretization\n",
    "    basis = linpde_gp.galerkin.bases.ZeroBoundaryFiniteElementBasis(\n",
    "        domain=bvp.domain,\n",
    "        num_elements=n,\n",
    "    )\n",
    "    linsys = linpde_gp.galerkin.project(bvp, basis)\n",
    "    \n",
    "    # Solve with CG\n",
    "    solver = linpde_gp.linalg.solvers.ConjugateGradients()\n",
    "    u_fem_coords = solver.solve(linsys)\n",
    "    \n",
    "    # FEM Solution\n",
    "    u_fem = basis.coords2fn(u_fem_coords)\n",
    "    \n",
    "    # Plotting\n",
    "    plot_grid = np.linspace(*domain, 200)\n",
    "    \n",
    "    ax.cla()\n",
    "    ax.plot(plot_grid, bvp.solution(plot_grid), label=\"Exact Solution\")\n",
    "    ax.plot(plot_grid, u_fem(plot_grid).support, label=\"FEM Solution\")\n",
    "    ax.legend()\n",
    "\n",
    "    fig.canvas.draw()\n",
    "    \n",
    "ipywidgets.interactive(\n",
    "    interact,\n",
    "    domain=ipywidgets.FloatRangeSlider(\n",
    "        value=(-1.0, 1.0),\n",
    "        min=-3.0,\n",
    "        max=3.0,\n",
    "        description=\"Domain\",\n",
    "    ),\n",
    "    rhs=ipywidgets.FloatSlider(\n",
    "        value=2.0,\n",
    "        min=-3.0,\n",
    "        max=3.0,\n",
    "        description=\"f(x)\",\n",
    "    ),\n",
    "    u_l=ipywidgets.FloatSlider(\n",
    "        value=0.0,\n",
    "        min=-2.0,\n",
    "        max=2.0,\n",
    "        description=\"g(l)\",\n",
    "    ),\n",
    "    u_r=ipywidgets.FloatSlider(\n",
    "        value=0.0,\n",
    "        min=-2.0,\n",
    "        max=2.0,\n",
    "        description=\"g(r)\",\n",
    "    ),\n",
    "    n=ipywidgets.IntSlider(\n",
    "        value=1,\n",
    "        min=1,\n",
    "        max=20,\n",
    "        continuous_update=True,\n",
    "    ),\n",
    ")"
   ]
  },
  {
   "cell_type": "code",
   "execution_count": null,
   "metadata": {},
   "outputs": [],
   "source": [
    "%matplotlib inline"
   ]
  },
  {
   "cell_type": "markdown",
   "metadata": {},
   "source": [
    "## Finite Element Solution for Non-zero Boundary Conditions"
   ]
  },
  {
   "cell_type": "code",
   "execution_count": null,
   "metadata": {},
   "outputs": [],
   "source": [
    "boundary_values = (0.0, 1.0)"
   ]
  },
  {
   "cell_type": "code",
   "execution_count": null,
   "metadata": {},
   "outputs": [],
   "source": [
    "n = 3\n",
    "grid = np.linspace(l, r, n + 2)"
   ]
  },
  {
   "cell_type": "code",
   "execution_count": null,
   "metadata": {},
   "outputs": [],
   "source": [
    "def discrete_poisson_problem_with_boundary_conditions(grid):\n",
    "    (N,) = grid.shape\n",
    "    \n",
    "    diag = np.empty_like(grid)\n",
    "    offdiag = np.empty_like(grid, shape=(N - 1,))\n",
    "\n",
    "    # Laplace Operator on the interior\n",
    "    diag[1:-1] = (\n",
    "        1 / (grid[1:-1] - grid[:-2])\n",
    "        + 1 / (grid[2:] - grid[1:-1])\n",
    "    )\n",
    "    offdiag[1:-1] = -1.0 / (grid[2:-1] - grid[1:-2])\n",
    "    \n",
    "    # Left boundary condition\n",
    "    diag[0] = 1.0\n",
    "    offdiag[0] = 0.0\n",
    "    \n",
    "    # Right boundary condition\n",
    "    diag[-1] = 1.0\n",
    "    offdiag[-1] = 0.0\n",
    "    \n",
    "    return pn.linops.Matrix(\n",
    "        scipy.sparse.diags(\n",
    "            (offdiag, diag, offdiag),\n",
    "            offsets=(-1, 0, 1),\n",
    "            format=\"csr\",\n",
    "            dtype=grid.dtype,\n",
    "        )\n",
    "    )"
   ]
  },
  {
   "cell_type": "code",
   "execution_count": null,
   "metadata": {},
   "outputs": [],
   "source": [
    "plt.imshow(discrete_poisson_problem_with_boundary_conditions(grid).todense())\n",
    "plt.colorbar()"
   ]
  },
  {
   "cell_type": "code",
   "execution_count": null,
   "metadata": {},
   "outputs": [],
   "source": [
    "def discrete_poisson_problem_with_boundary_conditions_rhs(grid, alpha, boundary_values):\n",
    "    rhs = np.empty_like(grid)\n",
    "    \n",
    "    l, r = boundary_values\n",
    "    \n",
    "    rhs[1:-1] = (alpha / 2) * (grid[2:] - grid[:-2])\n",
    "    \n",
    "    # Left Boundary Condition\n",
    "    rhs[0] = l\n",
    "    rhs[1] += l / (grid[2] - grid[1])\n",
    "    \n",
    "    # Right Boundary Condition\n",
    "    rhs[-1] = r\n",
    "    rhs[-2] += r / (grid[-2] - grid[-3])\n",
    "\n",
    "    return rhs"
   ]
  },
  {
   "cell_type": "code",
   "execution_count": null,
   "metadata": {},
   "outputs": [],
   "source": [
    "discrete_poisson_problem_with_boundary_conditions_rhs(grid, 1.0, boundary_values=boundary_values)"
   ]
  },
  {
   "cell_type": "code",
   "execution_count": null,
   "metadata": {},
   "outputs": [],
   "source": [
    "def discrete_poisson_problem_with_boundary_conditions_sol(grid, boundary_values):\n",
    "    A = discrete_poisson_problem_with_boundary_conditions(grid)\n",
    "    b = discrete_poisson_problem_with_boundary_conditions_rhs(grid, 2.0, boundary_values=boundary_values)\n",
    "\n",
    "    (u, _) = scipy.sparse.linalg.cg(A.A, b)\n",
    "    \n",
    "    return u"
   ]
  },
  {
   "cell_type": "code",
   "execution_count": null,
   "metadata": {},
   "outputs": [],
   "source": [
    "sol = discrete_poisson_problem_with_boundary_conditions_sol(grid, boundary_values)"
   ]
  },
  {
   "cell_type": "code",
   "execution_count": null,
   "metadata": {},
   "outputs": [],
   "source": [
    "sol"
   ]
  },
  {
   "cell_type": "code",
   "execution_count": null,
   "metadata": {},
   "outputs": [],
   "source": [
    "with plt.rc_context(config.tueplots_bundle()):\n",
    "    plt.plot(grid, sol, label=\"FEM Solution\")\n",
    "    plt.plot(\n",
    "        xs_plot,\n",
    "        poisson_1d_solution_constant_rhs(2.0, domain, boundary_values)(xs_plot),\n",
    "        label=\"Exact Solution\",\n",
    "    )\n",
    "    plt.legend()\n",
    "    \n",
    "experiment_utils.savefig(\"poisson_1d_fem\")"
   ]
  },
  {
   "cell_type": "markdown",
   "metadata": {},
   "source": [
    "### Comparison with clean implementation"
   ]
  },
  {
   "cell_type": "code",
   "execution_count": null,
   "metadata": {},
   "outputs": [],
   "source": [
    "import ipywidgets\n",
    "\n",
    "%matplotlib widget\n",
    "\n",
    "fig, ax = plt.subplots(num=\"Solution to the 1D Poisson Problem\")\n",
    "\n",
    "def interact(domain: tuple, rhs: float, u_l: float, u_r: float, n: int):\n",
    "    bvp = linpde_gp.problems.pde.PoissonEquationDirichletProblem(\n",
    "        domain=domain,\n",
    "        rhs=linpde_gp.functions.Constant(input_shape=(), value=rhs),\n",
    "        boundary_values=(u_l, u_r),\n",
    "    )\n",
    "    \n",
    "    # FEM Discretization\n",
    "    basis = linpde_gp.galerkin.bases.FiniteElementBasis(\n",
    "        domain=bvp.domain,\n",
    "        boundary_conditions=bvp.boundary_conditions,\n",
    "        num_elements=n,\n",
    "    )\n",
    "    linsys = linpde_gp.galerkin.project(bvp, basis)\n",
    "    \n",
    "    # Solve with CG\n",
    "    solver = linpde_gp.linalg.solvers.ConjugateGradients()\n",
    "    u_fem_coords = solver.solve(linsys)\n",
    "\n",
    "    # FEM Solution\n",
    "    u_fem = basis.coords2fn(u_fem_coords)\n",
    "    \n",
    "    # Plotting\n",
    "    plot_grid = np.linspace(*domain, 200)\n",
    "    \n",
    "    ax.cla()\n",
    "    ax.plot(plot_grid, bvp.solution(plot_grid), label=\"Exact Solution\")\n",
    "    ax.plot(plot_grid, u_fem(plot_grid).support, label=\"FEM Solution\")\n",
    "    ax.legend()\n",
    "\n",
    "    fig.canvas.draw()\n",
    "    \n",
    "ipywidgets.interactive(\n",
    "    interact,\n",
    "    domain=ipywidgets.FloatRangeSlider(\n",
    "        value=(-1.0, 1.0),\n",
    "        min=-3.0,\n",
    "        max=3.0,\n",
    "        description=\"Domain\",\n",
    "    ),\n",
    "    rhs=ipywidgets.FloatSlider(\n",
    "        value=2.0,\n",
    "        min=-3.0,\n",
    "        max=3.0,\n",
    "        description=\"f(x)\",\n",
    "    ),\n",
    "    u_l=ipywidgets.FloatSlider(\n",
    "        value=0.0,\n",
    "        min=-2.0,\n",
    "        max=2.0,\n",
    "        description=\"g(l)\",\n",
    "    ),\n",
    "    u_r=ipywidgets.FloatSlider(\n",
    "        value=0.0,\n",
    "        min=-2.0,\n",
    "        max=2.0,\n",
    "        description=\"g(r)\",\n",
    "    ),\n",
    "    n=ipywidgets.IntSlider(\n",
    "        value=1,\n",
    "        min=1,\n",
    "        max=20,\n",
    "        continuous_update=True,\n",
    "    ),\n",
    ")"
   ]
  },
  {
   "cell_type": "code",
   "execution_count": null,
   "metadata": {},
   "outputs": [],
   "source": []
  }
 ],
 "metadata": {
  "kernelspec": {
   "display_name": "Python [conda env:linpde-gp]",
   "language": "python",
   "name": "conda-env-linpde-gp-py"
  },
  "language_info": {
   "codemirror_mode": {
    "name": "ipython",
    "version": 3
   },
   "file_extension": ".py",
   "mimetype": "text/x-python",
   "name": "python",
   "nbconvert_exporter": "python",
   "pygments_lexer": "ipython3",
   "version": "3.9.7"
  }
 },
 "nbformat": 4,
 "nbformat_minor": 4
}
