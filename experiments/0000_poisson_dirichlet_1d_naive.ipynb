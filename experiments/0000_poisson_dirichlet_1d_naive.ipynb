{
 "cells": [
  {
   "cell_type": "markdown",
   "id": "2191b9f9",
   "metadata": {},
   "source": [
    "# Gaussian Process Solution to the Dirichlet Problem for the 1D Poisson Equation"
   ]
  },
  {
   "cell_type": "markdown",
   "id": "ca673b61",
   "metadata": {},
   "source": [
    "In the following, we will solve the **Poisson equation** subject to **Dirichlet boundary conditions**, i.e. we want to find a function $u: \\Omega \\subset \\mathbb{R}^d \\to \\mathbb{R}$, which fulfills\n",
    "\n",
    "\\begin{equation}\n",
    "    \\begin{cases}\n",
    "        -\\Delta u(x) = f(x) & \\text{if } x \\in \\operatorname{int} \\Omega \\\\\n",
    "        u(x) = g(x)         & \\text{if } x \\in \\partial \\Omega,\n",
    "    \\end{cases}\n",
    "\\end{equation}\n",
    "\n",
    "where $$\\Delta := \\sum_{i = 1}^D \\frac{\\partial^2}{\\partial x_i^2}$$ is the **Laplace operator**.\n",
    "For simplicity, we set $d = 1$ and $\\Omega = [l, r] \\subset \\mathbb{R}$, which means that the problem reduces to\n",
    "\n",
    "$$\n",
    "    \\begin{cases}\n",
    "        -u''(x) = f(x) & \\text{for } x \\in (l, r) \\\\\n",
    "        u(x) = g(x) & \\text{for } x \\in \\{l, r\\}\n",
    "    \\end{cases}\n",
    "$$"
   ]
  },
  {
   "cell_type": "code",
   "execution_count": null,
   "id": "dc637170-8b95-4e44-b0eb-3dbc8402c9a4",
   "metadata": {},
   "outputs": [],
   "source": [
    "import jax\n",
    "import jax.numpy as jnp\n",
    "import jax.scipy.linalg\n",
    "import matplotlib.pyplot as plt\n",
    "import numpy as np\n",
    "import probnum as pn\n",
    "import scipy.linalg\n",
    "\n",
    "import linpde_gp"
   ]
  },
  {
   "cell_type": "code",
   "execution_count": null,
   "id": "9009b61f-6bf6-4ea3-af92-586c62b71af6",
   "metadata": {},
   "outputs": [],
   "source": [
    "from experiment_utils import config\n",
    "\n",
    "config.experiment_name = \"0000_poisson_dirichlet_1d_naive\"\n",
    "config.target = \"jmlr\"\n",
    "config.debug_mode = True"
   ]
  },
  {
   "cell_type": "code",
   "execution_count": null,
   "id": "6e64b8f6-8d25-43d8-adbc-9c521839bd3a",
   "metadata": {},
   "outputs": [],
   "source": [
    "%matplotlib inline"
   ]
  },
  {
   "cell_type": "code",
   "execution_count": null,
   "id": "8825b1ee-ab33-4688-b1a7-1a6597f43504",
   "metadata": {},
   "outputs": [],
   "source": [
    "plt.rcParams.update(config.tueplots_bundle())"
   ]
  },
  {
   "cell_type": "markdown",
   "id": "7e14edce",
   "metadata": {},
   "source": [
    "## Problem Definition"
   ]
  },
  {
   "cell_type": "code",
   "execution_count": null,
   "id": "db0c9233",
   "metadata": {},
   "outputs": [],
   "source": [
    "domain = (-1.0, 1.0)"
   ]
  },
  {
   "cell_type": "code",
   "execution_count": null,
   "id": "3b20733e",
   "metadata": {},
   "outputs": [],
   "source": [
    "def diffop(f: callable, /, argnum: int = 0) -> callable:\n",
    "    f_hessian = jax.hessian(f, argnums=argnum)\n",
    "\n",
    "    @jax.jit\n",
    "    def f_diffop(*args, **kwargs) -> jnp.ndarray:\n",
    "        return -jnp.trace(\n",
    "            jnp.atleast_2d(f_hessian(*args, **kwargs))\n",
    "        )\n",
    "    \n",
    "    return f_diffop"
   ]
  },
  {
   "cell_type": "code",
   "execution_count": null,
   "id": "bb7473fc",
   "metadata": {},
   "outputs": [],
   "source": [
    "# Boundary Values\n",
    "g = np.asarray((0.0, 1.0))\n",
    "\n",
    "# RHS\n",
    "_f_const = 2.0\n",
    "f = lambda x: np.full_like(x, _f_const)\n",
    "\n",
    "# True Solution\n",
    "_a = -(_f_const / 2.0)\n",
    "_b = (g[1] - g[0]) / (domain[1] - domain[0])\n",
    "_c = g[0]\n",
    "u_star = lambda x: (_a * (x - domain[1]) + _b) * (x - domain[0]) + _c\n",
    "\n",
    "# PDE Measurement Locations\n",
    "X_pde = np.linspace(-0.8, 0.8, 3)"
   ]
  },
  {
   "cell_type": "code",
   "execution_count": null,
   "id": "ffdb54f1",
   "metadata": {},
   "outputs": [],
   "source": [
    "plt_grid = np.linspace(*domain, 100)"
   ]
  },
  {
   "cell_type": "markdown",
   "id": "71e991b3",
   "metadata": {},
   "source": [
    "## Prior"
   ]
  },
  {
   "cell_type": "code",
   "execution_count": null,
   "id": "d31892a8",
   "metadata": {},
   "outputs": [],
   "source": [
    "u_prior = pn.randprocs.GaussianProcess(\n",
    "    mean=linpde_gp.functions.Zero(input_shape=()),\n",
    "    cov=2.0 ** 2 * linpde_gp.randprocs.kernels.ExpQuad(\n",
    "        input_shape=(),\n",
    "        lengthscales=1.0,\n",
    "    ),\n",
    ")"
   ]
  },
  {
   "cell_type": "code",
   "execution_count": null,
   "id": "04b5dd94",
   "metadata": {},
   "outputs": [],
   "source": [
    "u_prior.plot(\n",
    "    plt.gca(),\n",
    "    plt_grid,\n",
    "    num_samples=10,\n",
    "    rng=np.random.default_rng(24),\n",
    "    color=\"C0\",\n",
    "    label=\"$u$\",\n",
    ")\n",
    "\n",
    "plt.plot(\n",
    "    plt_grid,\n",
    "    u_star(plt_grid),\n",
    "    color=\"C1\",\n",
    "    label=\"$u^\\star$\"\n",
    ")\n",
    "\n",
    "plt.legend()\n",
    "plt.show()"
   ]
  },
  {
   "cell_type": "markdown",
   "id": "87af5403",
   "metadata": {},
   "source": [
    "# Prior Predictive"
   ]
  },
  {
   "cell_type": "code",
   "execution_count": null,
   "id": "0c82e134",
   "metadata": {},
   "outputs": [],
   "source": [
    "def apply_lindiffop_to_gp(\n",
    "    gp: pn.randprocs.GaussianProcess,\n",
    "    lindiffop: callable,\n",
    ") -> pn.randprocs.GaussianProcess:\n",
    "    mean = lindiffop(gp.mean.jax, argnum=0)\n",
    "    crosscov = lindiffop(gp.cov.jax, argnum=1)\n",
    "    cov = lindiffop(crosscov, argnum=0)\n",
    "\n",
    "    return pn.randprocs.GaussianProcess(\n",
    "        mean=linpde_gp.functions.JaxLambdaFunction(\n",
    "            mean,\n",
    "            input_shape=gp.input_shape,\n",
    "            output_shape=(),\n",
    "            vectorize=True,\n",
    "        ),\n",
    "        cov=linpde_gp.randprocs.kernels.JaxLambdaKernel(\n",
    "            cov,\n",
    "            input_shape=gp.input_shape,\n",
    "            output_shape=(),\n",
    "            vectorize=True,\n",
    "        ),\n",
    "    )"
   ]
  },
  {
   "cell_type": "code",
   "execution_count": null,
   "id": "4072b4f8",
   "metadata": {},
   "outputs": [],
   "source": [
    "Du_prior = apply_lindiffop_to_gp(u_prior, diffop)"
   ]
  },
  {
   "cell_type": "code",
   "execution_count": null,
   "id": "eb95c74b",
   "metadata": {},
   "outputs": [],
   "source": [
    "Du_prior.plot(\n",
    "    plt.gca(),\n",
    "    plt_grid,\n",
    "    num_samples=10,\n",
    "    rng=np.random.default_rng(24),\n",
    "    color=\"C0\",\n",
    "    label=\"$\\mathcal{D}[u]$\",\n",
    ")\n",
    "\n",
    "plt.plot(\n",
    "    plt_grid,\n",
    "    f(plt_grid),\n",
    "    color=\"C1\",\n",
    "    label=\"$f$\"\n",
    ")\n",
    "\n",
    "plt.legend()\n",
    "plt.show()"
   ]
  },
  {
   "cell_type": "markdown",
   "id": "edb75a6f",
   "metadata": {},
   "source": [
    "## Conditioning on the PDE"
   ]
  },
  {
   "cell_type": "code",
   "execution_count": null,
   "id": "e996cfa0",
   "metadata": {},
   "outputs": [],
   "source": [
    "def condition_gp_on_observations(\n",
    "    gp: pn.randprocs.GaussianProcess,\n",
    "    X: np.ndarray,\n",
    "    Y: np.ndarray,\n",
    "    lindiffop: callable = None,\n",
    ") -> pn.randprocs.GaussianProcess:\n",
    "    if lindiffop is None:\n",
    "        gp_pred = gp\n",
    "        crosscov = gp.cov\n",
    "    else:\n",
    "        gp_pred = apply_lindiffop_to_gp(gp, lindiffop)\n",
    "        crosscov = linpde_gp.randprocs.kernels.JaxLambdaKernel(\n",
    "            lindiffop(gp.cov.jax, argnum=1),\n",
    "            input_shape=gp.input_shape,\n",
    "            output_shape=gp.output_shape + (),\n",
    "            vectorize=True,\n",
    "        )\n",
    "\n",
    "    gp_pred_mean_X = gp_pred.mean(X)\n",
    "    gramXX = gp_pred.cov(X[:, None], X[None, :])\n",
    "    gramXX_cho = scipy.linalg.cho_factor(gramXX)\n",
    "\n",
    "    @jax.jit\n",
    "    def cond_mean(x: jnp.ndarray) -> jnp.ndarray:\n",
    "        gp_mean_X = gp.mean.jax(x)\n",
    "        crosscov_xX = crosscov.jax(x, X)\n",
    "        return gp_mean_X + crosscov_xX @ jax.scipy.linalg.cho_solve(\n",
    "            gramXX_cho, (Y - gp_pred_mean_X)\n",
    "        )\n",
    "    \n",
    "    @jax.jit\n",
    "    def cond_cov(x0: jnp.ndarray, x1: jnp.ndarray) -> jnp.ndarray:\n",
    "        gp_cov_x0_x1 = gp.cov.jax(x0, x1)\n",
    "        crosscov_x0_X = crosscov.jax(x0, X)\n",
    "        crosscov_X_x1 = crosscov.jax(x1, X).T\n",
    "        return gp_cov_x0_x1 - crosscov_x0_X @ jax.scipy.linalg.cho_solve(\n",
    "            gramXX_cho, crosscov_X_x1\n",
    "        )\n",
    "    \n",
    "    return pn.randprocs.GaussianProcess(\n",
    "        mean=linpde_gp.functions.JaxLambdaFunction(\n",
    "            cond_mean,\n",
    "            input_shape=gp.input_shape,\n",
    "            output_shape=gp.output_shape,\n",
    "            vectorize=True,\n",
    "        ),\n",
    "        cov=linpde_gp.randprocs.kernels.JaxLambdaKernel(\n",
    "            cond_cov,\n",
    "            input_shape=gp.input_shape,\n",
    "            output_shape=gp.output_shape,\n",
    "            vectorize=True,\n",
    "        ),\n",
    "    )"
   ]
  },
  {
   "cell_type": "code",
   "execution_count": null,
   "id": "1f2b1cd1",
   "metadata": {},
   "outputs": [],
   "source": [
    "Y_pde = f(X_pde)\n",
    "\n",
    "u_cond_pde = condition_gp_on_observations(\n",
    "    gp=u_prior,\n",
    "    X=X_pde,\n",
    "    Y=Y_pde,\n",
    "    lindiffop=diffop,\n",
    ")"
   ]
  },
  {
   "cell_type": "code",
   "execution_count": null,
   "id": "6f0e65fa",
   "metadata": {},
   "outputs": [],
   "source": [
    "u_cond_pde.plot(\n",
    "    plt.gca(),\n",
    "    plt_grid,\n",
    "    num_samples=10,\n",
    "    rng=np.random.default_rng(24),\n",
    "    color=\"C0\",\n",
    "    label=\"$u \\mid \\mathcal{D}[u] = f(X_{pde})$\",\n",
    ")\n",
    "\n",
    "plt.plot(\n",
    "    plt_grid,\n",
    "    u_star(plt_grid),\n",
    "    color=\"C1\",\n",
    "    label=\"$u^\\star$\"\n",
    ")\n",
    "\n",
    "linpde_gp.utils.plotting.plot_local_curvature(\n",
    "    ax=plt.gca(),\n",
    "    xs=X_pde,\n",
    "    f_xs=u_cond_pde.mean(X_pde),\n",
    "    ddf_xs=-f(X_pde),\n",
    "    df_xs=jnp.vectorize(jax.grad(u_cond_pde.mean.jax))(X_pde),\n",
    "    color=\"C3\",\n",
    "    label=\"$f(X_{pde})$\",\n",
    ")\n",
    "\n",
    "plt.legend()\n",
    "plt.show()"
   ]
  },
  {
   "cell_type": "markdown",
   "id": "efa54445",
   "metadata": {},
   "source": [
    "## Posterior Predictive"
   ]
  },
  {
   "cell_type": "code",
   "execution_count": null,
   "id": "ba5d8f19",
   "metadata": {},
   "outputs": [],
   "source": [
    "Du_cond_pde = apply_lindiffop_to_gp(u_cond_pde, diffop)"
   ]
  },
  {
   "cell_type": "code",
   "execution_count": null,
   "id": "a96dec13",
   "metadata": {},
   "outputs": [],
   "source": [
    "Du_cond_pde.plot(\n",
    "    plt.gca(),\n",
    "    plt_grid,\n",
    "    num_samples=10,\n",
    "    rng=np.random.default_rng(24),\n",
    "    color=\"C0\",\n",
    "    label=\"$\\mathcal{D}[u] \\mid \\mathcal{D}[u] = f(X_{pde})$\",\n",
    ")\n",
    "\n",
    "plt.plot(\n",
    "    plt_grid,\n",
    "    f(plt_grid),\n",
    "    color=\"C1\",\n",
    "    label=\"$f$\"\n",
    ")\n",
    "\n",
    "plt.errorbar(\n",
    "    X_pde,\n",
    "    Y_pde,\n",
    "    yerr=0,\n",
    "    fmt=\"+\",\n",
    "    capsize=2,\n",
    "    c=\"C3\",\n",
    "    label=\"$f(X_{pde})$\",\n",
    ")\n",
    "\n",
    "plt.legend()\n",
    "plt.show()"
   ]
  },
  {
   "cell_type": "markdown",
   "id": "b0cd3c34",
   "metadata": {},
   "source": [
    "## Conditioning on the Boundary Values"
   ]
  },
  {
   "cell_type": "code",
   "execution_count": null,
   "id": "88045aaf",
   "metadata": {},
   "outputs": [],
   "source": [
    "u_cond_pde_bv = condition_gp_on_observations(u_cond_pde, X=np.asarray(domain), Y=g)"
   ]
  },
  {
   "cell_type": "code",
   "execution_count": null,
   "id": "62d08ca4",
   "metadata": {},
   "outputs": [],
   "source": [
    "u_cond_pde_bv.plot(\n",
    "    plt.gca(),\n",
    "    plt_grid,\n",
    "    num_samples=10,\n",
    "    rng=np.random.default_rng(24),\n",
    "    color=\"C0\",\n",
    "    label=\"$u \\mid \\mathcal{D}[u] = f(X_{pde}), u|_{\\partial \\Omega} = g$\",\n",
    ")\n",
    "\n",
    "plt.plot(\n",
    "    plt_grid,\n",
    "    u_star(plt_grid),\n",
    "    color=\"C1\",\n",
    "    label=\"$u^\\star$\"\n",
    ")\n",
    "\n",
    "linpde_gp.utils.plotting.plot_local_curvature(\n",
    "    ax=plt.gca(),\n",
    "    xs=X_pde,\n",
    "    f_xs=u_cond_pde_bv.mean(X_pde),\n",
    "    ddf_xs=-f(X_pde),\n",
    "    df_xs=jnp.vectorize(jax.grad(u_cond_pde_bv.mean.jax))(X_pde),\n",
    "    color=\"C3\",\n",
    "    label=\"$f(X_{pde})$\",\n",
    ")\n",
    "\n",
    "plt.errorbar(\n",
    "    domain,\n",
    "    g,\n",
    "    yerr=0,\n",
    "    fmt=\"+\",\n",
    "    capsize=2,\n",
    "    color=\"C2\",\n",
    "    label=\"$g$\",\n",
    ")\n",
    "\n",
    "plt.legend()\n",
    "plt.show()"
   ]
  },
  {
   "cell_type": "code",
   "execution_count": null,
   "id": "d8a8fda9",
   "metadata": {},
   "outputs": [],
   "source": []
  }
 ],
 "metadata": {
  "kernelspec": {
   "display_name": "Python [conda env:linpde-gp]",
   "language": "python",
   "name": "conda-env-linpde-gp-py"
  },
  "language_info": {
   "codemirror_mode": {
    "name": "ipython",
    "version": 3
   },
   "file_extension": ".py",
   "mimetype": "text/x-python",
   "name": "python",
   "nbconvert_exporter": "python",
   "pygments_lexer": "ipython3",
   "version": "3.9.7"
  }
 },
 "nbformat": 4,
 "nbformat_minor": 5
}
