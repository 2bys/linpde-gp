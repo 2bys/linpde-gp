{
 "cells": [
  {
   "cell_type": "code",
   "execution_count": null,
   "id": "f416152f-fc5f-405a-8b24-1ca919bcdade",
   "metadata": {},
   "outputs": [],
   "source": [
    "import matplotlib.pyplot as plt\n",
    "import numpy as np\n",
    "import probnum as pn\n",
    "\n",
    "import linpde_gp"
   ]
  },
  {
   "cell_type": "code",
   "execution_count": null,
   "id": "8234a5d8-aa32-48ee-9c8c-81bc280c5218",
   "metadata": {},
   "outputs": [],
   "source": [
    "import experiment_utils\n",
    "from experiment_utils import config\n",
    "\n",
    "config.experiment_name = \"0001_cpu_stationary_2d\"\n",
    "config.target = \"jmlr\"\n",
    "config.debug_mode = True"
   ]
  },
  {
   "cell_type": "code",
   "execution_count": null,
   "metadata": {},
   "outputs": [],
   "source": [
    "import cpu"
   ]
  },
  {
   "cell_type": "markdown",
   "metadata": {},
   "source": [
    "## Plotting"
   ]
  },
  {
   "cell_type": "code",
   "execution_count": null,
   "metadata": {},
   "outputs": [],
   "source": [
    "%matplotlib inline\n",
    "\n",
    "import matplotlib.axes\n",
    "from mpl_toolkits.axes_grid1 import make_axes_locatable\n",
    "import matplotlib.cm\n",
    "\n",
    "plt.rcParams.update(config.tueplots_bundle())\n",
    "\n",
    "\n",
    "class BeliefPlotter:\n",
    "    def __init__(\n",
    "        self,\n",
    "        domain: linpde_gp.domains.Domain,\n",
    "        diffop: linpde_gp.linfuncops.LinearDifferentialOperator,\n",
    "    ):\n",
    "        self._domain = domain\n",
    "        self._diffop = diffop\n",
    "\n",
    "        self._plt_grid_x = np.linspace(*domain[0], 100),\n",
    "        self._plt_grid_y = np.linspace(*domain[1], 100),\n",
    "\n",
    "        self._plt_grid = np.stack(\n",
    "            np.meshgrid(self._plt_grid_x, self._plt_grid_y),\n",
    "            axis=-1,\n",
    "        )\n",
    "    \n",
    "    def plot_geometry(\n",
    "        self,\n",
    "        ax: matplotlib.axes.Axes,\n",
    "        q_dot_V: pn.Function | pn.randprocs.RandomProcess,\n",
    "    ):\n",
    "        cpu.plot_schematic(ax)\n",
    "\n",
    "        ax.imshow(\n",
    "            q_dot_V(self._plt_grid),\n",
    "            cmap=\"coolwarm\",\n",
    "            extent=[0.0, cpu.width, 0.0, cpu.height],\n",
    "            aspect=\"auto\",\n",
    "        )\n",
    "    \n",
    "    def plot_rhs(\n",
    "        self,\n",
    "        ax: matplotlib.axes.Axes,\n",
    "        q_dot_V: pn.Function | pn.randprocs.RandomProcess,\n",
    "    ):\n",
    "        ax.plot_surface(\n",
    "            self._plt_grid[..., 0],\n",
    "            self._plt_grid[..., 1],\n",
    "            q_dot_V(self._plt_grid),\n",
    "            cmap=\"coolwarm\",\n",
    "        )\n",
    "\n",
    "        cpu.adjust_xaxis(ax)\n",
    "        cpu.adjust_yaxis(ax)\n",
    "        cpu.adjust_q_dot_V_axis(ax.zaxis)\n",
    "    \n",
    "    def plot_belief_3D(\n",
    "        self,\n",
    "        ax: matplotlib.axes.Axes,\n",
    "        u: pn.randprocs.GaussianProcess,\n",
    "    ):\n",
    "        ax.plot_surface(\n",
    "            self._plt_grid[..., 0],\n",
    "            self._plt_grid[..., 1],\n",
    "            u.mean(self._plt_grid),\n",
    "            cmap=\"inferno\",\n",
    "        )\n",
    "\n",
    "        cpu.adjust_xaxis(ax)\n",
    "        cpu.adjust_yaxis(ax)\n",
    "        cpu.adjust_tempaxis(ax.zaxis)\n",
    "    \n",
    "    def plot_pred_belief_3D(\n",
    "        self,\n",
    "        ax: matplotlib.axes.Axes,\n",
    "        u: pn.randprocs.GaussianProcess,\n",
    "    ):\n",
    "        # Differential Operator Image Belief\n",
    "        Du = self._diffop(u)\n",
    "\n",
    "        ax.plot_surface(\n",
    "            self._plt_grid[..., 0],\n",
    "            self._plt_grid[..., 1],\n",
    "            Du.mean(self._plt_grid),\n",
    "            cmap=\"coolwarm\",\n",
    "        )\n",
    "\n",
    "        cpu.adjust_xaxis(ax)\n",
    "        cpu.adjust_yaxis(ax)\n",
    "        cpu.adjust_q_dot_V_axis(ax.zaxis)\n",
    "    \n",
    "    def plot_belief_heatmap(\n",
    "        self,\n",
    "        axs: np.ndarray,\n",
    "        u: pn.randprocs.GaussianProcess,\n",
    "    ):\n",
    "        u_mean_im = axs[0].imshow(\n",
    "            u.mean(self._plt_grid),\n",
    "            cmap=\"inferno\",\n",
    "            extent=[0.0, cpu.width, 0.0, cpu.height],\n",
    "        )\n",
    "\n",
    "        u_mean_im_cm = _add_top_colorbar(axs[0], u_mean_im)\n",
    "\n",
    "        cpu.adjust_xaxis(axs[0])\n",
    "        cpu.adjust_yaxis(axs[0])\n",
    "        cpu.adjust_tempaxis(u_mean_im_cm.xaxis)\n",
    "\n",
    "        u_cred_im = axs[1].imshow(\n",
    "            1.96 * u.std(self._plt_grid),\n",
    "            cmap=\"inferno\",\n",
    "            extent=[0.0, cpu.width, 0.0, cpu.height],\n",
    "        )\n",
    "\n",
    "        u_cred_im_cm = _add_top_colorbar(axs[1], u_cred_im)\n",
    "\n",
    "        cpu.adjust_xaxis(axs[1])\n",
    "        cpu.adjust_yaxis(axs[1])\n",
    "        cpu.adjust_tempaxis(u_cred_im_cm.xaxis)\n",
    "    \n",
    "    def plot_pred_belief_heatmap(\n",
    "        self,\n",
    "        axs: np.ndarray,\n",
    "        u: pn.randprocs.GaussianProcess,\n",
    "    ):\n",
    "        # Differential Operator Image Belief\n",
    "        Du = self._diffop(u)\n",
    "\n",
    "        Du_mean_im = axs[0].imshow(\n",
    "            Du.mean(self._plt_grid),\n",
    "            cmap=\"coolwarm\",\n",
    "            extent=[0.0, cpu.width, 0.0, cpu.height],\n",
    "        )\n",
    "\n",
    "        Du_mean_im_cm = _add_top_colorbar(axs[0], Du_mean_im)\n",
    "\n",
    "        cpu.adjust_xaxis(axs[0])\n",
    "        cpu.adjust_yaxis(axs[0])\n",
    "        cpu.adjust_q_dot_V_axis(Du_mean_im_cm.xaxis)\n",
    "\n",
    "        Du_cred_im = axs[1].imshow(\n",
    "            1.96 * Du.std(self._plt_grid),\n",
    "            cmap=\"coolwarm\",\n",
    "            extent=[0.0, cpu.width, 0.0, cpu.height],\n",
    "        )\n",
    "\n",
    "        Du_cred_im_cm = _add_top_colorbar(axs[1], Du_cred_im)\n",
    "\n",
    "        cpu.adjust_xaxis(axs[1])\n",
    "        cpu.adjust_yaxis(axs[1])\n",
    "        cpu.adjust_q_dot_V_axis(Du_cred_im_cm.xaxis)\n",
    "\n",
    "def _add_top_colorbar(\n",
    "    ax: matplotlib.axes.Axes,\n",
    "    mappable: matplotlib.cm.ScalarMappable,\n",
    ") -> matplotlib.axes.Axes:\n",
    "    cax = make_axes_locatable(ax).append_axes(\n",
    "        \"top\",\n",
    "        size=\"10%\",\n",
    "        pad=0.1,\n",
    "    )\n",
    "\n",
    "    plt.colorbar(\n",
    "        mappable,\n",
    "        cax=cax,\n",
    "        orientation=\"horizontal\",\n",
    "    )\n",
    "\n",
    "    # This must be placed after the colorbar has been drawn\n",
    "    cax.xaxis.tick_top()\n",
    "    cax.xaxis.set_label_position(\"top\")\n",
    "\n",
    "    return cax"
   ]
  },
  {
   "cell_type": "markdown",
   "id": "ce8bb040-8596-4377-a72e-22d391cfc34c",
   "metadata": {
    "tags": []
   },
   "source": [
    "## Problem Definition"
   ]
  },
  {
   "cell_type": "code",
   "execution_count": null,
   "id": "26fa9a41-aa06-49d5-ae35-f4ab6eac3297",
   "metadata": {},
   "outputs": [],
   "source": [
    "domain = cpu.domain[0:2]"
   ]
  },
  {
   "cell_type": "code",
   "execution_count": null,
   "metadata": {},
   "outputs": [],
   "source": [
    "diffop = cpu.diffop_2D\n",
    "q_dot_V = cpu.q_dot_V_2D"
   ]
  },
  {
   "cell_type": "code",
   "execution_count": null,
   "metadata": {},
   "outputs": [],
   "source": [
    "plotter = BeliefPlotter(domain, diffop)"
   ]
  },
  {
   "cell_type": "markdown",
   "metadata": {},
   "source": [
    "### Visualize Problem Geometry"
   ]
  },
  {
   "cell_type": "code",
   "execution_count": null,
   "metadata": {},
   "outputs": [],
   "source": [
    "plotter.plot_geometry(\n",
    "    ax=plt.gca(),\n",
    "    q_dot_V=q_dot_V,\n",
    ")"
   ]
  },
  {
   "cell_type": "code",
   "execution_count": null,
   "id": "d5e3c7ca-e66a-43ff-b106-b65eb7e9c1a6",
   "metadata": {},
   "outputs": [],
   "source": [
    "fig, ax = plt.subplots(subplot_kw={\"projection\": \"3d\"})\n",
    "plotter.plot_rhs(\n",
    "    ax,\n",
    "    q_dot_V=q_dot_V,\n",
    ")"
   ]
  },
  {
   "cell_type": "markdown",
   "id": "a39ff75b",
   "metadata": {},
   "source": [
    "## Prior"
   ]
  },
  {
   "cell_type": "code",
   "execution_count": null,
   "id": "e325809a-1f28-4433-b8ea-452abd1de8fb",
   "metadata": {},
   "outputs": [],
   "source": [
    "u_prior = pn.randprocs.GaussianProcess(\n",
    "    mean=linpde_gp.functions.Constant(input_shape=(2,), value=59.0),\n",
    "    cov=3.0 ** 2 * linpde_gp.randprocs.kernels.ProductMatern(\n",
    "        input_shape=(2,),\n",
    "        p=3,\n",
    "        lengthscales=[cpu.width / 2.0, cpu.height / 2.0],\n",
    "    ),\n",
    ")"
   ]
  },
  {
   "cell_type": "code",
   "execution_count": null,
   "metadata": {},
   "outputs": [],
   "source": [
    "q_dot_A_north_prior = pn.randprocs.GaussianProcess(\n",
    "    mean=cpu.q_dot_A_2D,\n",
    "    cov=0.1 ** 2 * linpde_gp.randprocs.kernels.Matern(\n",
    "        input_shape=(),\n",
    "        p=3,\n",
    "        lengthscale=cpu.width / 2.0,\n",
    "    )\n",
    ")\n",
    "\n",
    "q_dot_A_south_prior = q_dot_A_north_prior\n",
    "\n",
    "q_dot_A_east_prior = pn.randprocs.GaussianProcess(\n",
    "    mean=cpu.q_dot_A_2D,\n",
    "    cov=0.1 ** 2 * linpde_gp.randprocs.kernels.Matern(\n",
    "        input_shape=(),\n",
    "        p=3,\n",
    "        lengthscale=cpu.height / 2.0,\n",
    "    )\n",
    ")\n",
    "\n",
    "q_dot_A_west_prior = q_dot_A_east_prior"
   ]
  },
  {
   "cell_type": "code",
   "execution_count": null,
   "metadata": {},
   "outputs": [],
   "source": [
    "fig, ax = plt.subplots(subplot_kw={\"projection\": \"3d\"})\n",
    "plotter.plot_belief_3D(\n",
    "    ax,\n",
    "    u=u_prior,\n",
    ")"
   ]
  },
  {
   "cell_type": "code",
   "execution_count": null,
   "metadata": {},
   "outputs": [],
   "source": [
    "fig, ax = plt.subplots(subplot_kw={\"projection\": \"3d\"})\n",
    "plotter.plot_pred_belief_3D(\n",
    "    ax,\n",
    "    u=u_prior,\n",
    ")"
   ]
  },
  {
   "cell_type": "code",
   "execution_count": null,
   "metadata": {},
   "outputs": [],
   "source": [
    "fig, axs = plt.subplots(ncols=2)\n",
    "\n",
    "plotter.plot_belief_heatmap(\n",
    "    axs,\n",
    "    u=u_prior,\n",
    ")"
   ]
  },
  {
   "cell_type": "code",
   "execution_count": null,
   "metadata": {},
   "outputs": [],
   "source": [
    "fig, axs = plt.subplots(ncols=2)\n",
    "\n",
    "plotter.plot_pred_belief_heatmap(\n",
    "    axs,\n",
    "    u=u_prior,\n",
    ")"
   ]
  },
  {
   "cell_type": "markdown",
   "metadata": {},
   "source": [
    "## Conditioning on the PDE"
   ]
  },
  {
   "cell_type": "code",
   "execution_count": null,
   "metadata": {},
   "outputs": [],
   "source": [
    "N_pde = 15\n",
    "\n",
    "X_pde = np.stack(\n",
    "    np.meshgrid(\n",
    "        np.linspace(\n",
    "            domain[0][0] + 0.03 * cpu.width,\n",
    "            domain[0][1] - 0.03 * cpu.width,\n",
    "            N_pde,\n",
    "        ),\n",
    "        np.linspace(\n",
    "            domain[1][0] + 0.03 * cpu.height,\n",
    "            domain[1][1] - 0.03 * cpu.height,\n",
    "            N_pde,\n",
    "        ),\n",
    "    ),\n",
    "    axis=-1,\n",
    ")"
   ]
  },
  {
   "cell_type": "code",
   "execution_count": null,
   "id": "c1bd76db-ddc8-440f-aefc-1506548e7b13",
   "metadata": {},
   "outputs": [],
   "source": [
    "u_cond_pde = u_prior.condition_on_observations(\n",
    "    Y=np.zeros_like(X_pde, shape=X_pde.shape[:-1]),\n",
    "    X=X_pde,\n",
    "    L=diffop,\n",
    "    b=-q_dot_V(X_pde),\n",
    ")"
   ]
  },
  {
   "cell_type": "code",
   "execution_count": null,
   "metadata": {},
   "outputs": [],
   "source": [
    "fig, ax = plt.subplots(subplot_kw={\"projection\": \"3d\"})\n",
    "plotter.plot_belief_3D(\n",
    "    ax,\n",
    "    u=u_cond_pde,\n",
    ")"
   ]
  },
  {
   "cell_type": "code",
   "execution_count": null,
   "metadata": {},
   "outputs": [],
   "source": [
    "fig, ax = plt.subplots(subplot_kw={\"projection\": \"3d\"})\n",
    "plotter.plot_pred_belief_3D(\n",
    "    ax,\n",
    "    u=u_cond_pde,\n",
    ")"
   ]
  },
  {
   "cell_type": "code",
   "execution_count": null,
   "metadata": {},
   "outputs": [],
   "source": [
    "fig, axs = plt.subplots(ncols=2)\n",
    "\n",
    "plotter.plot_belief_heatmap(\n",
    "    axs,\n",
    "    u=u_cond_pde,\n",
    ")"
   ]
  },
  {
   "cell_type": "code",
   "execution_count": null,
   "metadata": {},
   "outputs": [],
   "source": [
    "fig, axs = plt.subplots(ncols=2)\n",
    "\n",
    "plotter.plot_pred_belief_heatmap(\n",
    "    axs,\n",
    "    u=u_cond_pde,\n",
    ")"
   ]
  },
  {
   "cell_type": "markdown",
   "metadata": {},
   "source": [
    "## Conditioning on Neumann Boundary Conditions"
   ]
  },
  {
   "cell_type": "code",
   "execution_count": null,
   "metadata": {},
   "outputs": [],
   "source": [
    "q_A = cpu.TDP / cpu.A_sink"
   ]
  },
  {
   "cell_type": "code",
   "execution_count": null,
   "metadata": {},
   "outputs": [],
   "source": [
    "X_bc = np.stack(\n",
    "    (\n",
    "        np.linspace(*domain[0], 10),\n",
    "        np.full((10,), domain[1][0]),\n",
    "    ),\n",
    "    axis=-1,\n",
    ")\n",
    "\n",
    "u_cond_pde_bc = u_cond_pde.condition_on_observations(\n",
    "    Y=np.zeros_like(X_bc, shape=X_bc.shape[:-1]) + q_A,\n",
    "    X=X_bc,\n",
    "    L=-cpu.kappa * linpde_gp.linfuncops.diffops.DirectionalDerivative([0.0, -1.0]),\n",
    ")\n",
    "\n",
    "X_bc = np.stack(\n",
    "    (\n",
    "        np.linspace(*domain[0], 10),\n",
    "        np.full((10,), domain[1][1]),\n",
    "    ),\n",
    "    axis=-1,\n",
    ")\n",
    "\n",
    "u_cond_pde_bc = u_cond_pde_bc.condition_on_observations(\n",
    "    Y=np.zeros_like(X_bc, shape=X_bc.shape[:-1]) + q_A,\n",
    "    X=X_bc,\n",
    "    L=-cpu.kappa * linpde_gp.linfuncops.diffops.DirectionalDerivative([0.0, 1.0]),\n",
    ")\n",
    "\n",
    "X_bc = np.stack(\n",
    "    (\n",
    "        np.full((10,), domain[0][0]),\n",
    "        np.linspace(*domain[1], 10),\n",
    "    ),\n",
    "    axis=-1,\n",
    ")\n",
    "\n",
    "u_cond_pde_bc = u_cond_pde_bc.condition_on_observations(\n",
    "    Y=np.zeros_like(X_bc, shape=X_bc.shape[:-1]) + q_A,\n",
    "    X=X_bc,\n",
    "    L=-cpu.kappa * linpde_gp.linfuncops.diffops.DirectionalDerivative([-1.0, 0.0]),\n",
    ")\n",
    "\n",
    "X_bc = np.stack(\n",
    "    (\n",
    "        np.full((10,), domain[0][1]),\n",
    "        np.linspace(*domain[1], 10),\n",
    "    ),\n",
    "    axis=-1,\n",
    ")\n",
    "\n",
    "u_cond_pde_bc = u_cond_pde_bc.condition_on_observations(\n",
    "    Y=np.zeros_like(X_bc, shape=X_bc.shape[:-1]) + q_A,\n",
    "    X=X_bc,\n",
    "    L=-cpu.kappa * linpde_gp.linfuncops.diffops.DirectionalDerivative([1.0, 0.0]),\n",
    ")"
   ]
  },
  {
   "cell_type": "code",
   "execution_count": null,
   "metadata": {},
   "outputs": [],
   "source": [
    "fig, ax = plt.subplots(subplot_kw={\"projection\": \"3d\"})\n",
    "\n",
    "plotter.plot_belief_3D(\n",
    "    ax,\n",
    "    u=u_cond_pde_bc,\n",
    ")"
   ]
  },
  {
   "cell_type": "code",
   "execution_count": null,
   "metadata": {},
   "outputs": [],
   "source": [
    "fig, axs = plt.subplots(ncols=2, sharey=True)\n",
    "\n",
    "plotter.plot_belief_heatmap(\n",
    "    axs,\n",
    "    u=u_cond_pde_bc,\n",
    ")"
   ]
  },
  {
   "cell_type": "markdown",
   "metadata": {},
   "source": [
    "## Conditioning on Measurements"
   ]
  },
  {
   "cell_type": "code",
   "execution_count": null,
   "metadata": {},
   "outputs": [],
   "source": [
    "u_cond_pde_bc_dts = u_cond_pde_bc.condition_on_observations(\n",
    "    60.0,\n",
    "    X=[cpu.core_centers_xs[0], cpu.core_centers_ys[0]],\n",
    ")"
   ]
  },
  {
   "cell_type": "code",
   "execution_count": null,
   "metadata": {},
   "outputs": [],
   "source": [
    "fig, ax = plt.subplots(subplot_kw={\"projection\": \"3d\"})\n",
    "\n",
    "plotter.plot_belief_3D(\n",
    "    ax,\n",
    "    u=u_cond_pde_bc,\n",
    ")"
   ]
  },
  {
   "cell_type": "code",
   "execution_count": null,
   "metadata": {},
   "outputs": [],
   "source": [
    "fig, axs = plt.subplots(ncols=2, sharey=True)\n",
    "\n",
    "plotter.plot_belief_heatmap(\n",
    "    axs,\n",
    "    u=u_cond_pde_bc_dts,\n",
    ")"
   ]
  },
  {
   "cell_type": "code",
   "execution_count": null,
   "metadata": {},
   "outputs": [],
   "source": [
    "u_cond_pde_bc_dts.sample(np.random.default_rng(), plotter._plt_grid.reshape(-1, 2)[:10000, :])"
   ]
  },
  {
   "cell_type": "code",
   "execution_count": null,
   "metadata": {},
   "outputs": [],
   "source": []
  }
 ],
 "metadata": {
  "kernelspec": {
   "display_name": "Python 3.10.4 ('linpde-gp')",
   "language": "python",
   "name": "python3"
  },
  "language_info": {
   "codemirror_mode": {
    "name": "ipython",
    "version": 3
   },
   "file_extension": ".py",
   "mimetype": "text/x-python",
   "name": "python",
   "nbconvert_exporter": "python",
   "pygments_lexer": "ipython3",
   "version": "3.10.4"
  },
  "orig_nbformat": 4,
  "vscode": {
   "interpreter": {
    "hash": "77667e9c64d75a2118edecfc83f7d8b4053f7ad6b677992fa7a52ce1c01219a0"
   }
  }
 },
 "nbformat": 4,
 "nbformat_minor": 2
}
