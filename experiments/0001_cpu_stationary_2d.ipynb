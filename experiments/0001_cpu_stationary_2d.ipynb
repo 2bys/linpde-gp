{
 "cells": [
  {
   "cell_type": "code",
   "execution_count": null,
   "id": "f416152f-fc5f-405a-8b24-1ca919bcdade",
   "metadata": {},
   "outputs": [],
   "source": [
    "import matplotlib.pyplot as plt\n",
    "import numpy as np\n",
    "import probnum as pn\n",
    "\n",
    "import linpde_gp"
   ]
  },
  {
   "cell_type": "code",
   "execution_count": null,
   "id": "8234a5d8-aa32-48ee-9c8c-81bc280c5218",
   "metadata": {},
   "outputs": [],
   "source": [
    "import experiment_utils\n",
    "from experiment_utils import config\n",
    "\n",
    "config.experiment_name = \"0001_cpu_stationary_2d\"\n",
    "config.target = \"jmlr\"\n",
    "config.debug_mode = True"
   ]
  },
  {
   "cell_type": "markdown",
   "id": "ce8bb040-8596-4377-a72e-22d391cfc34c",
   "metadata": {
    "tags": []
   },
   "source": [
    "## Problem Definition"
   ]
  },
  {
   "cell_type": "markdown",
   "id": "e99d7e5f",
   "metadata": {},
   "source": [
    "### References\n",
    "1. https://en.wikichip.org/wiki/intel/microarchitectures/coffee_lake#Quad-Core\n",
    "2. https://ark.intel.com/content/www/us/en/ark/products/134896/intel-core-i59600k-processor-9m-cache-up-to-4-60-ghz.html\n",
    "3. https://ark.intel.com/content/www/us/en/ark/products/134599/intel-core-i912900k-processor-30m-cache-up-to-5-20-ghz.html\n",
    "4. https://journals.aps.org/pr/pdf/10.1103/PhysRev.134.A1058"
   ]
  },
  {
   "cell_type": "markdown",
   "id": "7c288dfa",
   "metadata": {},
   "source": [
    "### Geometry"
   ]
  },
  {
   "cell_type": "code",
   "execution_count": null,
   "id": "43808f65",
   "metadata": {},
   "outputs": [],
   "source": [
    "w_CPU = 9.19  # mm, [1]\n",
    "l_CPU = 16.0  # ≈ 16.28 mm, [1]\n",
    "d_CPU = 0.37  # mm, datasheed linked under [3] (\"Supplemental Information / Datasheet\")\n",
    "\n",
    "A_CPU_top = l_CPU * w_CPU  # mm^2\n",
    "A_CPU_EW = w_CPU * d_CPU  # mm^2\n",
    "A_CPU_NS = l_CPU * d_CPU  # mm^2\n",
    "A_CPU_TI = A_CPU_top + 2 * A_CPU_EW + 2 * A_CPU_NS  # mm^2, thermal interface area\n",
    "\n",
    "V_CPU = w_CPU * l_CPU * d_CPU  # mm^3"
   ]
  },
  {
   "cell_type": "code",
   "execution_count": null,
   "id": "26fa9a41-aa06-49d5-ae35-f4ab6eac3297",
   "metadata": {},
   "outputs": [],
   "source": [
    "domain = linpde_gp.domains.Box([[0, l_CPU], [0, w_CPU]])"
   ]
  },
  {
   "cell_type": "code",
   "execution_count": null,
   "id": "bb3c3c2c",
   "metadata": {},
   "outputs": [],
   "source": [
    "X_core_centers = np.array([0.2, 0.4, 0.6]) * l_CPU  # estimated from the schematic in [1]\n",
    "Y_core_centers = np.array([0.25, 0.75]) * w_CPU  # estimated from the schematic in [1]\n",
    "\n",
    "core_centers = np.stack(np.meshgrid(X_core_centers, Y_core_centers), axis=-1)"
   ]
  },
  {
   "cell_type": "markdown",
   "id": "de3fb76e",
   "metadata": {},
   "source": [
    "### Material Properties"
   ]
  },
  {
   "cell_type": "code",
   "execution_count": null,
   "id": "fab7efc4",
   "metadata": {},
   "outputs": [],
   "source": [
    "# Thermal conductivity\n",
    "k_CPU = 1.56 # W/cm K, [4] TODO: Improve this estimate\n",
    "k_CPU *= 10  # W/mm K"
   ]
  },
  {
   "cell_type": "markdown",
   "id": "e8c63cd9",
   "metadata": {},
   "source": [
    "### Heat Sources and Heat Sinks"
   ]
  },
  {
   "cell_type": "code",
   "execution_count": null,
   "id": "5a0d4c84",
   "metadata": {},
   "outputs": [],
   "source": [
    "TDP_CPU = 95 # W, [2]"
   ]
  },
  {
   "cell_type": "code",
   "execution_count": null,
   "id": "74747da2",
   "metadata": {},
   "outputs": [],
   "source": [
    "# CPU Cores = Heat Sources\n",
    "core_heat_std = np.array([\n",
    "    0.09 * l_CPU,\n",
    "    0.15 * w_CPU,\n",
    "])\n",
    "\n",
    "f_CPU = TDP_CPU / d_CPU * pn.LambdaFunction(\n",
    "    lambda x: (\n",
    "        1.0 / (np.sqrt(2 * np.pi) * np.prod(core_heat_std))\n",
    "        * np.mean(\n",
    "            np.exp(\n",
    "                -0.5 * np.sum(\n",
    "                    ((x[..., None, None, :] - core_centers) / core_heat_std) ** 2,\n",
    "                    axis=-1\n",
    "                )\n",
    "            ),\n",
    "            axis=(-2, -1),\n",
    "        )\n",
    "    ),\n",
    "    input_shape=(2,),\n",
    "    output_shape=(),\n",
    ")"
   ]
  },
  {
   "cell_type": "code",
   "execution_count": null,
   "id": "a444c902-c372-44b9-bdfc-83d8f165a18a",
   "metadata": {},
   "outputs": [],
   "source": [
    "# CPU cooler = \"Uniform Heat Sink\"\n",
    "f_cooler = linpde_gp.functions.Constant(\n",
    "    input_shape=(2,),\n",
    "    value=TDP_CPU / A_CPU_top / d_CPU,\n",
    ")"
   ]
  },
  {
   "cell_type": "code",
   "execution_count": null,
   "metadata": {},
   "outputs": [],
   "source": [
    "# Total amount of heat entering/leaving the CPU\n",
    "f = f_CPU - f_cooler"
   ]
  },
  {
   "cell_type": "code",
   "execution_count": null,
   "id": "d5e3c7ca-e66a-43ff-b106-b65eb7e9c1a6",
   "metadata": {},
   "outputs": [],
   "source": [
    "# %matplotlib widget\n",
    "plt_grid_x, plt_grid_y = np.meshgrid(\n",
    "    np.linspace(*domain[0], 100),\n",
    "    np.linspace(*domain[1], 100),\n",
    ")\n",
    "plt_grid = np.stack((plt_grid_x, plt_grid_y), axis=-1)\n",
    "\n",
    "fig, ax = plt.subplots(subplot_kw={\"projection\": \"3d\"})\n",
    "ax.plot_surface(plt_grid_x, plt_grid_y, f_CPU(plt_grid))\n",
    "# plt.imshow(f(plt_grid))"
   ]
  },
  {
   "cell_type": "markdown",
   "id": "a39ff75b",
   "metadata": {},
   "source": [
    "### PDE"
   ]
  },
  {
   "cell_type": "code",
   "execution_count": null,
   "id": "02421142-3565-4ea5-8e18-9e59978af4c8",
   "metadata": {},
   "outputs": [],
   "source": [
    "diffop = -k_CPU * linpde_gp.linfuncops.diffops.Laplacian(domain.shape)"
   ]
  },
  {
   "cell_type": "code",
   "execution_count": null,
   "id": "e325809a-1f28-4433-b8ea-452abd1de8fb",
   "metadata": {},
   "outputs": [],
   "source": [
    "u_prior = pn.randprocs.GaussianProcess(\n",
    "    mean=linpde_gp.functions.Constant(input_shape=(2,), value=59.0),\n",
    "    cov=3.0 ** 2 * linpde_gp.randprocs.kernels.ProductMatern(\n",
    "        input_shape=(2,),\n",
    "        p=3,\n",
    "        lengthscales=[8.0, 8.0],\n",
    "    ),\n",
    ")"
   ]
  },
  {
   "cell_type": "code",
   "execution_count": null,
   "metadata": {},
   "outputs": [],
   "source": [
    "N_pde = 10\n",
    "\n",
    "X_pde = np.stack(\n",
    "    np.meshgrid(\n",
    "        np.linspace(\n",
    "            domain[0][0] + 0.03 * l_CPU,\n",
    "            domain[0][1] - 0.03 * l_CPU,\n",
    "            N_pde,\n",
    "        ),\n",
    "        np.linspace(\n",
    "            domain[0][0] + 0.03 * l_CPU,\n",
    "            domain[0][1] - 0.03 * l_CPU,\n",
    "            N_pde,\n",
    "        ),\n",
    "    ),\n",
    "    axis=-1,\n",
    ")"
   ]
  },
  {
   "cell_type": "code",
   "execution_count": null,
   "id": "c1bd76db-ddc8-440f-aefc-1506548e7b13",
   "metadata": {},
   "outputs": [],
   "source": [
    "u_cond_pde = u_prior.condition_on_observations(\n",
    "    Y=np.zeros_like(X_pde, shape=X_pde.shape[:-1]),\n",
    "    X=X_pde,\n",
    "    L=diffop,\n",
    "    b=-f(X_pde),\n",
    ")"
   ]
  },
  {
   "cell_type": "code",
   "execution_count": null,
   "metadata": {},
   "outputs": [],
   "source": [
    "plt_grid_x, plt_grid_y = np.meshgrid(\n",
    "    np.linspace(*domain[0], 100),\n",
    "    np.linspace(*domain[1], 100),\n",
    ")\n",
    "plt_grid = np.stack((plt_grid_x, plt_grid_y), axis=-1)\n",
    "\n",
    "fig, ax = plt.subplots(subplot_kw={\"projection\": \"3d\"})\n",
    "ax.plot_surface(plt_grid_x, plt_grid_y, u_cond_pde.mean(plt_grid))"
   ]
  },
  {
   "cell_type": "code",
   "execution_count": null,
   "metadata": {},
   "outputs": [],
   "source": []
  }
 ],
 "metadata": {
  "kernelspec": {
   "display_name": "Python 3.10.4 ('linpde-gp')",
   "language": "python",
   "name": "python3"
  },
  "language_info": {
   "codemirror_mode": {
    "name": "ipython",
    "version": 3
   },
   "file_extension": ".py",
   "mimetype": "text/x-python",
   "name": "python",
   "nbconvert_exporter": "python",
   "pygments_lexer": "ipython3",
   "version": "3.10.4"
  },
  "orig_nbformat": 4,
  "vscode": {
   "interpreter": {
    "hash": "77667e9c64d75a2118edecfc83f7d8b4053f7ad6b677992fa7a52ce1c01219a0"
   }
  }
 },
 "nbformat": 4,
 "nbformat_minor": 2
}
