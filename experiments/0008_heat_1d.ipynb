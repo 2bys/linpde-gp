{
 "cells": [
  {
   "cell_type": "code",
   "execution_count": null,
   "id": "2b8d330c-66f8-4664-9131-1bdc669df437",
   "metadata": {},
   "outputs": [],
   "source": [
    "import jax\n",
    "import jax.numpy as jnp\n",
    "import jax.scipy.linalg\n",
    "import matplotlib.pyplot as plt\n",
    "import numpy as np\n",
    "import probnum as pn\n",
    "\n",
    "import linpde_gp"
   ]
  },
  {
   "cell_type": "code",
   "execution_count": null,
   "id": "41ced55c-95bc-454b-a0dd-6d9249340e03",
   "metadata": {},
   "outputs": [],
   "source": [
    "import experiment_utils\n",
    "from experiment_utils import config\n",
    "\n",
    "config.experiment_name = \"0008_heat_1d\"\n",
    "config.target = \"imprs_2022\"\n",
    "config.debug_mode = True"
   ]
  },
  {
   "cell_type": "code",
   "execution_count": null,
   "id": "eb159da6-ec9e-4e3a-be45-aeffd5365900",
   "metadata": {},
   "outputs": [],
   "source": [
    "%matplotlib inline"
   ]
  },
  {
   "cell_type": "code",
   "execution_count": null,
   "id": "58dad844-9649-45ea-892a-2fae03c808a0",
   "metadata": {},
   "outputs": [],
   "source": [
    "plt.rcParams.update(config.tueplots_bundle())"
   ]
  },
  {
   "cell_type": "code",
   "execution_count": null,
   "id": "24c202b8-6760-45a0-b280-5791a6ad5585",
   "metadata": {},
   "outputs": [],
   "source": [
    "rng = np.random.default_rng(24)"
   ]
  },
  {
   "cell_type": "markdown",
   "id": "fc88a9bb-460c-4107-a5c8-8722866d8a3b",
   "metadata": {
    "tags": []
   },
   "source": [
    "## Problem Definition"
   ]
  },
  {
   "cell_type": "code",
   "execution_count": null,
   "id": "919b0c35-fcf6-4711-a9a0-e217c125f8b8",
   "metadata": {},
   "outputs": [],
   "source": [
    "domain = linpde_gp.domains.Box([[0.0, 1.0], [-1.0, 1.0]])"
   ]
  },
  {
   "cell_type": "code",
   "execution_count": null,
   "id": "bb500fa9-ab5f-481c-a0c2-96192469955a",
   "metadata": {},
   "outputs": [],
   "source": [
    "initial = lambda x: 1.0 - x ** 2"
   ]
  },
  {
   "cell_type": "code",
   "execution_count": null,
   "id": "790e744f-5196-4691-b44e-5ee68bcf0e1d",
   "metadata": {},
   "outputs": [],
   "source": [
    "bvp = linpde_gp.problems.pde.heat_1d_bvp(\n",
    "    domain,\n",
    "    initial,\n",
    ")"
   ]
  },
  {
   "cell_type": "code",
   "execution_count": null,
   "id": "28d21f76-2f62-4b6d-887f-22446015b47f",
   "metadata": {},
   "outputs": [],
   "source": [
    "plt_grid_t, plt_grid_x = np.meshgrid(\n",
    "    np.linspace(*domain[0], 50),\n",
    "    np.linspace(*domain[1], 50),\n",
    "    indexing=\"ij\",\n",
    ")\n",
    "\n",
    "plt_grid = np.stack((plt_grid_t, plt_grid_x), axis=-1)"
   ]
  },
  {
   "cell_type": "markdown",
   "id": "70725b4a-dd66-4635-a012-e5565ac5bdc1",
   "metadata": {
    "tags": []
   },
   "source": [
    "## Prior"
   ]
  },
  {
   "cell_type": "code",
   "execution_count": null,
   "id": "f8068acd-48c1-4008-8a00-34ffc058d9b5",
   "metadata": {},
   "outputs": [],
   "source": [
    "lengthscale_t = 0.5\n",
    "lengthscale_x = 1.0\n",
    "output_scale = 1.0"
   ]
  },
  {
   "cell_type": "code",
   "execution_count": null,
   "id": "3902cc09-a00e-4d3d-97aa-33be1d631b8f",
   "metadata": {},
   "outputs": [],
   "source": [
    "@jax.jit\n",
    "def matern_32(x0, x1, lengthscale=1.0):\n",
    "    dx_norm = jnp.abs((x0 - x1) / lengthscale)\n",
    "    \n",
    "    return (1 + jnp.sqrt(3) * dx_norm) * jnp.exp(-jnp.sqrt(3) * dx_norm)\n",
    "\n",
    "@jax.jit\n",
    "def matern_52(x0, x1, lengthscale=1.0):\n",
    "    dx_norm = jnp.abs((x0 - x1) / lengthscale)\n",
    "    \n",
    "    return (1 + jnp.sqrt(5) * dx_norm + (5. / 3.) * dx_norm ** 2) * jnp.exp(-jnp.sqrt(5) * dx_norm)\n",
    "\n",
    "@jax.jit\n",
    "def product_matern(tx0, tx1):\n",
    "    t0, t1 = tx0[..., 0], tx1[..., 0]\n",
    "    x0, x1 = tx0[..., 1], tx1[..., 1]\n",
    "    \n",
    "    return (\n",
    "        matern_32(t0, t1, lengthscale=lengthscale_t)\n",
    "        * matern_52(x0, x1, lengthscale=lengthscale_x)\n",
    "    )\n",
    "\n",
    "cov = linpde_gp.randprocs.kernels.JaxLambdaKernel(product_matern, input_shape=(2,), vectorize=True)"
   ]
  },
  {
   "cell_type": "code",
   "execution_count": null,
   "id": "f5c3550c-5172-4db7-926c-57ce52d9854f",
   "metadata": {},
   "outputs": [],
   "source": [
    "cov = linpde_gp.randprocs.kernels.ExpQuad(\n",
    "    input_shape=(2,),\n",
    "    lengthscales=[lengthscale_t, lengthscale_x],\n",
    ")"
   ]
  },
  {
   "cell_type": "code",
   "execution_count": null,
   "id": "e325809a-1f28-4433-b8ea-452abd1de8fb",
   "metadata": {},
   "outputs": [],
   "source": [
    "u_prior = pn.randprocs.GaussianProcess(\n",
    "    mean=linpde_gp.randprocs.mean_fns.Zero(input_shape=(2,)),\n",
    "    cov=output_scale ** 2 * cov,\n",
    ")"
   ]
  },
  {
   "cell_type": "code",
   "execution_count": null,
   "id": "8f0d5695-4351-4bac-9367-6d3c98fc106f",
   "metadata": {},
   "outputs": [],
   "source": [
    "fig, ax = plt.subplots(subplot_kw={\"projection\": \"3d\"})\n",
    "\n",
    "ax.plot_surface(plt_grid_t, plt_grid_x, u_prior.mean(plt_grid))"
   ]
  },
  {
   "cell_type": "markdown",
   "id": "4d04a5ae-e0be-420e-90cd-6bdd26029a1a",
   "metadata": {},
   "source": [
    "### Dirichlet Problem"
   ]
  },
  {
   "cell_type": "code",
   "execution_count": null,
   "id": "c250816a-90cd-4bec-8300-65109b572952",
   "metadata": {},
   "outputs": [],
   "source": [
    "N_ic = 3\n",
    "N_bc = 10"
   ]
  },
  {
   "cell_type": "markdown",
   "id": "4ae990e3-36dc-41a6-81d7-14a700be38a8",
   "metadata": {},
   "source": [
    "#### Initial conditions"
   ]
  },
  {
   "cell_type": "code",
   "execution_count": null,
   "id": "7da765aa-16ce-4b9b-87d7-6c8cc4a7ae29",
   "metadata": {},
   "outputs": [],
   "source": [
    "X_ic = np.stack(\n",
    "    (\n",
    "        np.zeros(N_ic),\n",
    "        np.linspace(*domain[1], N_ic),\n",
    "    ),\n",
    "    axis=-1,\n",
    ")\n",
    "Y_ic = bvp.boundary_conditions[0].values(X_ic[..., 1])\n",
    "\n",
    "u_ic = u_prior.condition_on_observations(X_ic, Y_ic)"
   ]
  },
  {
   "cell_type": "markdown",
   "id": "941bc073-ae89-4199-949d-93e07a9bfb8b",
   "metadata": {},
   "source": [
    "#### Left Boundary Conditions"
   ]
  },
  {
   "cell_type": "code",
   "execution_count": null,
   "id": "cf7237e3-c8f3-4dc5-b9c9-b15355b27013",
   "metadata": {},
   "outputs": [],
   "source": [
    "X_bc_left = np.stack(\n",
    "    (\n",
    "        np.linspace(*domain[0], N_bc + 1)[1:],\n",
    "        np.full(N_bc, domain[1][0]),\n",
    "    ),\n",
    "    axis=-1\n",
    ")\n",
    "Y_bc_left = np.zeros_like(X_bc_left[..., 0])\n",
    "\n",
    "u_ic_bc = u_ic.condition_on_observations(X_bc_left, Y_bc_left)"
   ]
  },
  {
   "cell_type": "markdown",
   "id": "8915a293-dadb-477e-a804-db7b0cb47b99",
   "metadata": {},
   "source": [
    "#### Right Boundary Conditions"
   ]
  },
  {
   "cell_type": "code",
   "execution_count": null,
   "id": "0b3306b1-4a1c-41c7-a1ad-98add1c0445d",
   "metadata": {},
   "outputs": [],
   "source": [
    "X_bc_right = np.stack(\n",
    "    (\n",
    "        np.linspace(*domain[0], N_bc + 1)[1:],\n",
    "        np.full(N_bc, domain[1][1]),\n",
    "    ),\n",
    "    axis=-1,\n",
    ")\n",
    "Y_bc_right = np.zeros_like(X_bc_right[..., 0])\n",
    "\n",
    "u_ic_bc = u_ic_bc.condition_on_observations(X_bc_right, Y_bc_right)"
   ]
  },
  {
   "cell_type": "markdown",
   "id": "b2df00fd-b391-436f-a424-15b227c3e397",
   "metadata": {},
   "source": [
    "#### Prior with Initial and Boundary Conditions"
   ]
  },
  {
   "cell_type": "code",
   "execution_count": null,
   "id": "8e576995-220f-4961-928f-b75507203ae6",
   "metadata": {},
   "outputs": [],
   "source": [
    "fig, ax = plt.subplots(subplot_kw={\"projection\": \"3d\"})\n",
    "\n",
    "ax.plot_surface(plt_grid_t, plt_grid_x, u_ic_bc.mean(plt_grid))"
   ]
  },
  {
   "cell_type": "markdown",
   "id": "8fbe59ce-16a3-409a-ae38-b954d68c65b1",
   "metadata": {},
   "source": [
    "### Cauchy Problem"
   ]
  },
  {
   "cell_type": "code",
   "execution_count": null,
   "id": "1ecc29c6-c2c9-4035-9001-55b7dc6ae5d7",
   "metadata": {},
   "outputs": [],
   "source": [
    "N_ic = 3\n",
    "N_bc = 10"
   ]
  },
  {
   "cell_type": "code",
   "execution_count": null,
   "id": "159e1f0e-38f7-4912-b0a4-c233d33ca507",
   "metadata": {},
   "outputs": [],
   "source": [
    "left_boundary_op = linpde_gp.linfuncops.diffops.DirectionalDerivative(direction=[0., 1.])\n",
    "right_boundary_op = linpde_gp.linfuncops.diffops.DirectionalDerivative(direction=[0., -1.])"
   ]
  },
  {
   "cell_type": "markdown",
   "id": "4dc3e7fd-74fa-40ca-b64d-c1f5d1342a0d",
   "metadata": {},
   "source": [
    "#### Initial Conditions"
   ]
  },
  {
   "cell_type": "code",
   "execution_count": null,
   "id": "ad7b28f0-1f83-4477-a634-b06a072e1040",
   "metadata": {},
   "outputs": [],
   "source": [
    "X_ic = np.stack(\n",
    "    (\n",
    "        np.zeros(N_ic),\n",
    "        np.linspace(*domain[1], N_ic),\n",
    "    ),\n",
    "    axis=-1,\n",
    ")\n",
    "Y_ic = bvp.boundary_conditions[0].values(X_ic[..., 1])\n",
    "\n",
    "u_ic = u_prior.condition_on_observations(X_ic, Y_ic)"
   ]
  },
  {
   "cell_type": "code",
   "execution_count": null,
   "id": "7ea57ce2-57fa-455a-b37b-a8a5dc2e3764",
   "metadata": {},
   "outputs": [],
   "source": [
    "fig, ax = plt.subplots(subplot_kw={\"projection\": \"3d\"})\n",
    "\n",
    "ax.plot_surface(plt_grid_t, plt_grid_x, u_ic.mean(plt_grid))"
   ]
  },
  {
   "cell_type": "code",
   "execution_count": null,
   "id": "a6c3398d-dee7-4e63-a6cf-8e9bf9253b2d",
   "metadata": {},
   "outputs": [],
   "source": [
    "fig, ax = plt.subplots(subplot_kw={\"projection\": \"3d\"})\n",
    "\n",
    "ax.plot_surface(plt_grid_t, plt_grid_x, right_boundary_op(u_ic).mean(plt_grid))"
   ]
  },
  {
   "cell_type": "markdown",
   "id": "ea46b4f5-41fa-4042-bd49-8a8966d5fd90",
   "metadata": {},
   "source": [
    "#### Left Boundary Condition"
   ]
  },
  {
   "cell_type": "code",
   "execution_count": null,
   "id": "ef713022-bd64-4b23-9636-0813ef20f9cd",
   "metadata": {},
   "outputs": [],
   "source": [
    "X_bc_left = np.stack(\n",
    "    (\n",
    "        np.linspace(*domain[0], N_bc + 1)[1:],\n",
    "        np.full(N_bc, domain[1][0]),\n",
    "    ),\n",
    "    axis=-1\n",
    ")\n",
    "Y_bc_left = np.zeros_like(X_bc_left[..., 0])"
   ]
  },
  {
   "cell_type": "code",
   "execution_count": null,
   "id": "9d8f2dee-89ca-448f-ae6c-aa946219ce69",
   "metadata": {},
   "outputs": [],
   "source": [
    "u_ic_bc_left = u_ic.condition_on_observations(\n",
    "    X=X_bc_left,\n",
    "    Y=Y_bc_left,\n",
    "    L=left_boundary_op,\n",
    ")"
   ]
  },
  {
   "cell_type": "markdown",
   "id": "94281022-8bf9-4772-89be-7cbe80ca990b",
   "metadata": {},
   "source": [
    "#### Right Boundary Condition"
   ]
  },
  {
   "cell_type": "code",
   "execution_count": null,
   "id": "94a13d8c-b467-408e-a683-ef23eff82820",
   "metadata": {},
   "outputs": [],
   "source": [
    "X_bc_right = np.stack(\n",
    "    (\n",
    "        np.linspace(*domain[0], N_bc + 1)[1:],\n",
    "        np.full(N_bc, domain[1][1]),\n",
    "    ),\n",
    "    axis=-1,\n",
    ")\n",
    "Y_bc_right = np.zeros_like(X_bc_right[..., 0])"
   ]
  },
  {
   "cell_type": "code",
   "execution_count": null,
   "id": "b5642000-5d42-4393-b104-12de6f4c2aa1",
   "metadata": {},
   "outputs": [],
   "source": [
    "u_ic_bc = u_ic_bc_left.condition_on_observations(\n",
    "    X=X_bc_right,\n",
    "    Y=Y_bc_right,\n",
    "    L=right_boundary_op,\n",
    ")"
   ]
  },
  {
   "cell_type": "markdown",
   "id": "9afee9d4-6d03-481c-a281-8be6e39c0616",
   "metadata": {},
   "source": [
    "#### Plots"
   ]
  },
  {
   "cell_type": "code",
   "execution_count": null,
   "id": "9e96774f-b4ef-48a2-9697-1825a165878a",
   "metadata": {},
   "outputs": [],
   "source": [
    "fig, ax = plt.subplots(subplot_kw={\"projection\": \"3d\"})\n",
    "\n",
    "ax.plot_surface(plt_grid_t, plt_grid_x, u_ic_bc.mean(plt_grid))"
   ]
  },
  {
   "cell_type": "code",
   "execution_count": null,
   "id": "31e483fb-af42-4757-bb60-3697afb6f001",
   "metadata": {},
   "outputs": [],
   "source": [
    "fig, ax = plt.subplots(subplot_kw={\"projection\": \"3d\"})\n",
    "\n",
    "ax.plot_surface(plt_grid_t, plt_grid_x, right_boundary_op(u_ic_bc).mean(plt_grid))"
   ]
  },
  {
   "cell_type": "markdown",
   "id": "74691cdc-7546-4825-9c93-23699d9a6062",
   "metadata": {},
   "source": [
    "### Conditioning on the PDE"
   ]
  },
  {
   "cell_type": "code",
   "execution_count": null,
   "id": "23799904-ed51-4a84-ab4b-6a89ed4fa732",
   "metadata": {},
   "outputs": [],
   "source": [
    "N_pde = (5, 5)"
   ]
  },
  {
   "cell_type": "code",
   "execution_count": null,
   "id": "0005dbb7-34e6-4c69-afa3-d1553acc511e",
   "metadata": {},
   "outputs": [],
   "source": [
    "# Before\n",
    "fig, ax = plt.subplots(subplot_kw={\"projection\": \"3d\"})\n",
    "\n",
    "ax.plot_surface(plt_grid_t, plt_grid_x, bvp.diffop(u_ic_bc).mean(plt_grid))"
   ]
  },
  {
   "cell_type": "code",
   "execution_count": null,
   "id": "677823b8-c9a6-4069-af4a-7c2dde1450d8",
   "metadata": {},
   "outputs": [],
   "source": [
    "X_pde = np.stack(\n",
    "    np.meshgrid(\n",
    "        np.linspace(*domain[0], N_pde[0]) + 0.01,\n",
    "        np.linspace(*domain[1], N_pde[1] + 2)[1:-1],\n",
    "    ),\n",
    "    axis=-1,\n",
    ")\n",
    "Y_pde = np.zeros_like(X_pde[..., 0])"
   ]
  },
  {
   "cell_type": "code",
   "execution_count": null,
   "id": "86295713-3432-4e94-a531-91507b59927d",
   "metadata": {},
   "outputs": [],
   "source": [
    "u_ic_bc_pde = u_ic_bc.condition_on_observations(\n",
    "    X=X_pde,\n",
    "    Y=Y_pde,\n",
    "    L=bvp.diffop,\n",
    ")"
   ]
  },
  {
   "cell_type": "code",
   "execution_count": null,
   "id": "f3cf1712-2acf-469e-b207-8be06eca5a43",
   "metadata": {},
   "outputs": [],
   "source": [
    "fig, ax = plt.subplots(subplot_kw={\"projection\": \"3d\"})\n",
    "\n",
    "ax.plot_surface(plt_grid_t, plt_grid_x, u_ic_bc_pde.mean(plt_grid))\n",
    "ax.set_xlabel(\"Time (s)\")\n",
    "ax.set_ylabel(\"Location (cm)\")\n",
    "ax.set_zlabel(\"Temperature (°C)\")\n",
    "\n",
    "experiment_utils.savefig(\"heat_posterior\")"
   ]
  },
  {
   "cell_type": "code",
   "execution_count": null,
   "id": "790a2068-9e0a-4ae4-a731-639a51244504",
   "metadata": {},
   "outputs": [],
   "source": [
    "fig, ax = plt.subplots(subplot_kw={\"projection\": \"3d\"})\n",
    "\n",
    "ax.plot_surface(plt_grid_t, plt_grid_x, bvp.diffop(u_ic_bc_pde).mean(plt_grid))"
   ]
  },
  {
   "cell_type": "markdown",
   "id": "3263f283-87e4-48b9-9d1a-3b92bdcbdaeb",
   "metadata": {},
   "source": [
    "### Generate Animation"
   ]
  },
  {
   "cell_type": "code",
   "execution_count": null,
   "id": "4391ed06-9780-48d1-8077-a02f29f06c01",
   "metadata": {},
   "outputs": [],
   "source": [
    "plt.rcParams[\"font.weight\"] = \"light\"\n",
    "plt.rcParams[\"axes.labelweight\"] = \"light\"\n",
    "plt.rcParams[\"axes.titleweight\"] = \"light\""
   ]
  },
  {
   "cell_type": "code",
   "execution_count": null,
   "id": "431eaa8c-6786-4970-8e12-ea7b6944ddf3",
   "metadata": {},
   "outputs": [],
   "source": [
    "import functools\n",
    "from matplotlib import animation\n",
    "\n",
    "fig, ax = plt.subplots()\n",
    "\n",
    "ax.set_xlabel(\"Location (cm)\")\n",
    "ax.set_ylabel(\"Temperature (°C)\")\n",
    "ax.set_title(\"t = 0.00s\")\n",
    "\n",
    "@functools.partial(\n",
    "    animation.FuncAnimation,\n",
    "    fig,\n",
    "    frames=len(plt_grid_t),\n",
    "    interval=200,\n",
    "    repeat_delay=4000,\n",
    "    blit=False,\n",
    ")\n",
    "def anim(frame_idx):\n",
    "    txs = plt_grid[frame_idx, :, :]\n",
    "    \n",
    "    ax.cla()\n",
    "    \n",
    "    mean = u_ic_bc_pde.mean(txs)\n",
    "    std = u_ic_bc_pde.std(txs)\n",
    "    \n",
    "    ax.plot(txs[:, 1], mean)\n",
    "    ax.fill_between(\n",
    "        txs[:, 1],\n",
    "        mean - 1.96 * std,\n",
    "        mean + 1.96 * std,\n",
    "        alpha=.3,\n",
    "    )\n",
    "    ax.set_ylim(-0.01, 1.2)\n",
    "    ax.set_xlabel(\"Location (cm)\")\n",
    "    ax.set_ylabel(\"Temperature (°C) \")\n",
    "    ax.set_title(f\"t = {plt_grid[frame_idx, 0, 0]:.2f} s\")\n"
   ]
  },
  {
   "cell_type": "code",
   "execution_count": null,
   "id": "3235e008-2447-4793-bb58-4887498f4225",
   "metadata": {},
   "outputs": [],
   "source": [
    "from IPython.display import HTML\n",
    "\n",
    "HTML(anim.to_jshtml())"
   ]
  },
  {
   "cell_type": "code",
   "execution_count": null,
   "id": "8ec147b5-72ba-4a4d-add7-9175f5f41340",
   "metadata": {},
   "outputs": [],
   "source": [
    "anim_path = experiment_utils.config.experiment_results_path / \"heat_anim\"\n",
    "\n",
    "if anim_path.is_dir():\n",
    "    import shutil\n",
    "    \n",
    "    shutil.rmtree(anim_path)\n",
    "\n",
    "anim_path.mkdir(exist_ok=True)\n",
    "\n",
    "anim.save(anim_path / \"{}.pdf\", linpde_gp.plotting.PDFWriter())"
   ]
  },
  {
   "cell_type": "code",
   "execution_count": null,
   "id": "d94509e1-99ce-4783-b546-69c5b6a52130",
   "metadata": {},
   "outputs": [],
   "source": [
    "# anim.save(experiment_utils.config.experiment_results_path / \"heat_anim.gif\", animation.PillowWriter(fps=5))"
   ]
  },
  {
   "cell_type": "code",
   "execution_count": null,
   "id": "93ee6967-9820-481b-8268-29dfd039c4db",
   "metadata": {},
   "outputs": [],
   "source": []
  }
 ],
 "metadata": {
  "kernelspec": {
   "display_name": "Python [conda env:linpde-gp]",
   "language": "python",
   "name": "conda-env-linpde-gp-py"
  },
  "language_info": {
   "codemirror_mode": {
    "name": "ipython",
    "version": 3
   },
   "file_extension": ".py",
   "mimetype": "text/x-python",
   "name": "python",
   "nbconvert_exporter": "python",
   "pygments_lexer": "ipython3",
   "version": "3.9.7"
  }
 },
 "nbformat": 4,
 "nbformat_minor": 5
}
