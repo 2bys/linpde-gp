{
 "cells": [
  {
   "cell_type": "code",
   "execution_count": null,
   "id": "f416152f-fc5f-405a-8b24-1ca919bcdade",
   "metadata": {},
   "outputs": [],
   "source": [
    "import matplotlib.pyplot as plt\n",
    "import numpy as np\n",
    "import probnum as pn\n",
    "\n",
    "import linpde_gp"
   ]
  },
  {
   "cell_type": "code",
   "execution_count": null,
   "id": "8234a5d8-aa32-48ee-9c8c-81bc280c5218",
   "metadata": {},
   "outputs": [],
   "source": [
    "import experiment_utils\n",
    "from experiment_utils import config\n",
    "\n",
    "config.experiment_name = \"0000_cpu_stationary_1d\"\n",
    "config.target = \"jmlr\"\n",
    "config.debug_mode = True"
   ]
  },
  {
   "cell_type": "code",
   "execution_count": null,
   "id": "b3d74b7c-8c57-49a8-a1a5-cdbf998da43e",
   "metadata": {
    "tags": []
   },
   "outputs": [],
   "source": [
    "%matplotlib inline\n",
    "\n",
    "import matplotlib.axes\n",
    "import matplotlib.ticker\n",
    "\n",
    "# plt.rcParams.update(config.tueplots_bundle(rel_width=0.5))\n",
    "plt.rcParams.update(config.tueplots_bundle())\n",
    "\n",
    "class BeliefPlotter:\n",
    "    def __init__(self, pde: linpde_gp.problems.pde.PoissonEquation):\n",
    "        self._pde = pde\n",
    "\n",
    "        self._plt_grid = np.linspace(*self._pde.domain, 100)\n",
    "\n",
    "    @staticmethod\n",
    "    def _build_cond_events_str(conditioned_on: list[str]) -> str:\n",
    "        for key in conditioned_on:\n",
    "            match key:\n",
    "                case \"bc\":\n",
    "                    yield r\"u\\vert_{\\partial \\Omega} = g\"\n",
    "                case \"pde\":\n",
    "                    yield r\"-\\alpha \\Delta u(x_{\\mathrm{PDE}, i}) = f(x_{\\mathrm{PDE}, i})\"\n",
    "                case \"meas\":\n",
    "                    yield r\"u(x_{\\mathrm{meas}, i}) = u_{\\mathrm{meas}, i}\"\n",
    "                case _:\n",
    "                    raise ValueError(f\"Unknown event '{key}'\")\n",
    "\n",
    "    def _configure_axes(self, ax: matplotlib.axes.Axes):\n",
    "        ax.xaxis.set_major_locator(matplotlib.ticker.FixedLocator([self._plt_grid[0], self._plt_grid[-1]]))\n",
    "        ax.xaxis.set_major_formatter(matplotlib.ticker.FixedFormatter([rf\"${self._plt_grid[0]:.0f}\\, \\mathrm{{mm}}$\", r\"$l_{\\mathrm{CPU}}$\"]))\n",
    "\n",
    "        ax.xaxis.set_minor_locator(matplotlib.ticker.AutoMinorLocator())\n",
    "        ax.xaxis.set_minor_formatter(matplotlib.ticker.FormatStrFormatter(r\"$%d\\,\\mathrm{mm}$\"))\n",
    "\n",
    "    def plot_belief(\n",
    "        self,\n",
    "        ax,\n",
    "        u: pn.randprocs.GaussianProcess,\n",
    "        conditioned_on: list[str] = [],\n",
    "        X_pde: np.ndarray | None = None,\n",
    "        f_X_pde: pn.randvars.RandomVariable | None = None,\n",
    "        boundary_condition: linpde_gp.problems.pde.DirichletBoundaryCondition | None = None,\n",
    "        solution: pn.Function | None = None,\n",
    "        X_meas: np.ndarray | None = None,\n",
    "        u_X_meas: pn.randvars.RandomVariable | None = None,\n",
    "    ):\n",
    "        cond_events_str = ', '.join(BeliefPlotter._build_cond_events_str(conditioned_on))\n",
    "\n",
    "        u_label = (\n",
    "            fr\"$u \\mid {cond_events_str}$\"\n",
    "            if len(conditioned_on) > 0\n",
    "            else \"$u$\"\n",
    "        )\n",
    "        \n",
    "        u.plot(\n",
    "            ax,\n",
    "            self._plt_grid,\n",
    "            num_samples=10,\n",
    "            rng=np.random.default_rng(24),\n",
    "            color=\"C0\",\n",
    "            label=u_label,\n",
    "        )\n",
    "        \n",
    "        if solution is not None:\n",
    "            ax.plot(\n",
    "                self._plt_grid,\n",
    "                solution(self._plt_grid),\n",
    "                color=\"C1\",\n",
    "                label=\"$u^*$\",\n",
    "            )\n",
    "        \n",
    "        for key in conditioned_on:\n",
    "            if key == \"bc\":\n",
    "                g = pn.randvars.asrandvar(boundary_condition.values)\n",
    "\n",
    "                ax.errorbar(\n",
    "                    self._pde.domain.boundary,\n",
    "                    g.mean,\n",
    "                    yerr=1.96 * g.std,\n",
    "                    fmt=\"+\",\n",
    "                    capsize=2,\n",
    "                    color=\"C2\",\n",
    "                    label=r\"$g$\",\n",
    "                )\n",
    "            elif key == \"pde\":\n",
    "                for i, x in enumerate(X_pde):\n",
    "                    ax.axvline(\n",
    "                        x,\n",
    "                        color=\"C3\",\n",
    "                        alpha=0.1,\n",
    "                        linestyle=\"--\",\n",
    "                        label=(\n",
    "                            fr\"$(x_{{\\mathrm{{PDE}}, 1}}, \\dots, \"\n",
    "                            fr\"  x_{{\\mathrm{{PDE}}, {X_pde.shape[0]}}})$\"\n",
    "                            if i == 0\n",
    "                            else None\n",
    "                        )\n",
    "                    )\n",
    "            elif key == \"meas\":\n",
    "                u_X_meas = pn.asrandvar(u_X_meas)\n",
    "\n",
    "                ax.errorbar(\n",
    "                    X_meas,\n",
    "                    u_X_meas.mean,\n",
    "                    yerr=1.96 * u_X_meas.std,\n",
    "                    fmt=\"+\",\n",
    "                    capsize=2,\n",
    "                    color=\"C4\",\n",
    "                    label=fr\"$(u_{{\\mathrm{{meas}}, 1}}, \\dots, u_{{\\mathrm{{meas}}, {X_meas.shape[0]}}})$\",\n",
    "                )\n",
    "        \n",
    "        self._configure_axes(ax)\n",
    "\n",
    "        ax.yaxis.set_major_formatter(\n",
    "            matplotlib.ticker.FormatStrFormatter(r\"$%d \\, {}^{\\circ} \\mathrm{C}$\")\n",
    "        )\n",
    "\n",
    "        ax.legend()\n",
    "\n",
    "    def plot_pred_belief(\n",
    "        self,\n",
    "        ax,\n",
    "        u: pn.randprocs.GaussianProcess,\n",
    "        conditioned_on: list[str] = [],\n",
    "        X_pde: np.ndarray | None = None,\n",
    "        f_X_pde: pn.randvars.RandomVariable | None = None,\n",
    "    ):\n",
    "        cond_events_str = ', '.join(BeliefPlotter._build_cond_events_str(conditioned_on))\n",
    "        \n",
    "        u_label = (\n",
    "            fr\"$-\\alpha \\Delta u \\mid {cond_events_str}$\"\n",
    "            if len(cond_events_str) > 0\n",
    "            else r\"$-\\alpha \\Delta u$\"\n",
    "        )\n",
    "\n",
    "        self._pde.diffop(u).plot(\n",
    "            ax,\n",
    "            self._plt_grid,\n",
    "            num_samples=10,\n",
    "            rng=np.random.default_rng(24),\n",
    "            color=\"C0\",\n",
    "            label=u_label,\n",
    "        )\n",
    "        \n",
    "        self._pde.rhs.plot(\n",
    "            ax,\n",
    "            self._plt_grid,\n",
    "            color=\"C1\",\n",
    "            label=\"$f$\",\n",
    "        )\n",
    "        \n",
    "        if \"pde\" in conditioned_on:\n",
    "            f_X_pde = pn.randvars.asrandvar(f_X_pde)\n",
    "\n",
    "            ax.errorbar(\n",
    "                X_pde,\n",
    "                f_X_pde.mean,\n",
    "                yerr=1.96 * f_X_pde.std,\n",
    "                fmt=\"+\",\n",
    "                capsize=2,\n",
    "                c=\"C3\",\n",
    "                label=f\"$(f(x_1), \\dots, f(x_{{{X_pde.shape[0]}}}))$\",\n",
    "            )\n",
    "        \n",
    "        self._configure_axes(ax)\n",
    "\n",
    "        ax.yaxis.set_major_formatter(\n",
    "            matplotlib.ticker.FormatStrFormatter(\n",
    "                r\"$%d \\, \\frac{\\mathrm{W}}{\\mathrm{mm}^3}$\"\n",
    "            )\n",
    "        )\n",
    "\n",
    "        ax.legend()"
   ]
  },
  {
   "cell_type": "markdown",
   "id": "ce8bb040-8596-4377-a72e-22d391cfc34c",
   "metadata": {
    "tags": []
   },
   "source": [
    "## Problem Definition"
   ]
  },
  {
   "cell_type": "code",
   "execution_count": null,
   "id": "69d7dc5f-b465-4ef5-a721-109892241b5f",
   "metadata": {},
   "outputs": [],
   "source": [
    "# [1] https://en.wikichip.org/wiki/intel/microarchitectures/coffee_lake#Quad-Core\n",
    "# [2] https://ark.intel.com/content/www/us/en/ark/products/134896/intel-core-i59600k-processor-9m-cache-up-to-4-60-ghz.html\n",
    "# [3] https://ark.intel.com/content/www/us/en/ark/products/134599/intel-core-i912900k-processor-30m-cache-up-to-5-20-ghz.html\n",
    "# [4] https://journals.aps.org/pr/pdf/10.1103/PhysRev.134.A1058\n",
    "# [5]\n",
    "\n",
    "# CPU Dimensions\n",
    "w_CPU = 9.19  # mm, [1]\n",
    "l_CPU = 16.0  # ≈ 16.28 mm, [1]\n",
    "d_CPU = 0.37  # mm, datasheed linked under [3] (\"Supplemental Information / Datasheet\")\n",
    "V_CPU = w_CPU * l_CPU * d_CPU  # mm^3\n",
    "\n",
    "# Thermal properties\n",
    "alpha_CPU = 1.56 # W/cm K, [4], TODO: Improve this estimate\n",
    "alpha_CPU *= 10  # W/mm K\n",
    "\n",
    "TDP_CPU = 95 # W"
   ]
  },
  {
   "cell_type": "code",
   "execution_count": null,
   "id": "26fa9a41-aa06-49d5-ae35-f4ab6eac3297",
   "metadata": {},
   "outputs": [],
   "source": [
    "domain = linpde_gp.domains.asdomain([0, l_CPU])"
   ]
  },
  {
   "cell_type": "code",
   "execution_count": null,
   "id": "a444c902-c372-44b9-bdfc-83d8f165a18a",
   "metadata": {},
   "outputs": [],
   "source": [
    "# Heat Sources\n",
    "rel_core_positions = np.array([0.2, 0.4, 0.6])\n",
    "X_cores = rel_core_positions * l_CPU\n",
    "\n",
    "std_core = 1.2\n",
    "\n",
    "f_CPU = pn.LambdaFunction(\n",
    "    lambda x: (TDP_CPU / (w_CPU * d_CPU)) * (1 / np.sqrt(2 * np.pi * std_core)) * np.mean(np.exp(-(1 / (2 * std_core ** 2)) * (x[..., None] - X_cores) ** 2), axis=-1),\n",
    "    input_shape=(),\n",
    ")\n",
    "\n",
    "# Heat Sink\n",
    "f_cooler = pn.LambdaFunction(\n",
    "    lambda x: np.full_like(x, TDP_CPU / V_CPU),\n",
    "    input_shape=(),\n",
    ")\n",
    "\n",
    "f = pn.LambdaFunction(\n",
    "    lambda x: f_CPU(x) - f_cooler(x),\n",
    "    input_shape=(),\n",
    ")\n"
   ]
  },
  {
   "cell_type": "code",
   "execution_count": null,
   "id": "721c0739-b5f1-4197-bdec-78f357eada6c",
   "metadata": {},
   "outputs": [],
   "source": [
    "f.plot(plt.gca(), np.linspace(*domain, 100), label=r\"$f = f_\\mathrm{CPU} + f_\\mathrm{cooler}$\")\n",
    "plt.legend()"
   ]
  },
  {
   "cell_type": "code",
   "execution_count": null,
   "id": "02421142-3565-4ea5-8e18-9e59978af4c8",
   "metadata": {},
   "outputs": [],
   "source": [
    "pde = linpde_gp.problems.pde.PoissonEquation(\n",
    "    domain=domain,\n",
    "    rhs=f,\n",
    "    alpha=alpha_CPU,\n",
    ")\n",
    "\n",
    "plotter = BeliefPlotter(pde)"
   ]
  },
  {
   "cell_type": "markdown",
   "id": "582d3242-e441-4704-abef-ddb302b89f6a",
   "metadata": {},
   "source": [
    "# Prior"
   ]
  },
  {
   "cell_type": "code",
   "execution_count": null,
   "id": "e325809a-1f28-4433-b8ea-452abd1de8fb",
   "metadata": {},
   "outputs": [],
   "source": [
    "u_prior = pn.randprocs.GaussianProcess(\n",
    "    mean=linpde_gp.functions.Constant(input_shape=(), value=50.0),\n",
    "    cov=5.0 ** 2 * linpde_gp.randprocs.kernels.Matern(\n",
    "        input_shape=(),\n",
    "        p=3,\n",
    "        lengthscale=5.0,\n",
    "    ),\n",
    ")"
   ]
  },
  {
   "cell_type": "code",
   "execution_count": null,
   "id": "4cd34855-aaa4-4f36-8073-130729f914f4",
   "metadata": {},
   "outputs": [],
   "source": [
    "with plt.rc_context(config.tueplots_bundle(nrows=2, rel_width=0.5)):\n",
    "    fig, ax = plt.subplots(nrows=2, sharex=True)\n",
    "\n",
    "    plotter.plot_belief(\n",
    "        ax=ax[0],\n",
    "        u=u_prior,\n",
    "    )\n",
    "\n",
    "    plotter.plot_pred_belief(\n",
    "        ax=ax[1],\n",
    "        u=u_prior,\n",
    "    )"
   ]
  },
  {
   "cell_type": "markdown",
   "id": "aa15a4a6-7261-4a27-b764-32ce0caecabb",
   "metadata": {
    "tags": []
   },
   "source": [
    "## Posterior (PDE First)"
   ]
  },
  {
   "cell_type": "markdown",
   "id": "96d86eb1-2636-44c3-a3db-34dc5e6f6a4f",
   "metadata": {},
   "source": [
    "### Conditioning on the PDE"
   ]
  },
  {
   "cell_type": "code",
   "execution_count": null,
   "id": "c7d1c847",
   "metadata": {},
   "outputs": [],
   "source": [
    "X_pde = np.linspace(pde.domain[0] + 0.5, pde.domain[1] - 0.5, 15)\n",
    "f_X_pde = pde.rhs(X_pde)"
   ]
  },
  {
   "cell_type": "code",
   "execution_count": null,
   "id": "c1bd76db-ddc8-440f-aefc-1506548e7b13",
   "metadata": {},
   "outputs": [],
   "source": [
    "u_cond_pde = u_prior.condition_on_observations(\n",
    "    X=X_pde,\n",
    "    Y=np.zeros_like(X_pde),\n",
    "    L=pde.diffop,\n",
    "    b=-pn.randvars.asrandvar(f_X_pde),\n",
    ")"
   ]
  },
  {
   "cell_type": "code",
   "execution_count": null,
   "id": "f798307f-2ad9-4688-a641-e08f33586efd",
   "metadata": {},
   "outputs": [],
   "source": [
    "plotter.plot_belief(\n",
    "    ax=plt.gca(),\n",
    "    u=u_cond_pde,\n",
    "    conditioned_on=[\"pde\"],\n",
    "    X_pde=X_pde,\n",
    "    f_X_pde=f_X_pde,\n",
    ")\n",
    "\n",
    "# experiment_utils.savefig(\"pdefirst_01a_u_cond_pde\")"
   ]
  },
  {
   "cell_type": "code",
   "execution_count": null,
   "id": "4a04ef71-0a27-4548-b614-236ddd520e86",
   "metadata": {},
   "outputs": [],
   "source": [
    "plotter.plot_pred_belief(\n",
    "    ax=plt.gca(),\n",
    "    u=u_cond_pde,\n",
    "    conditioned_on=[\"pde\"],\n",
    "    X_pde=X_pde,\n",
    "    f_X_pde=f_X_pde,\n",
    ")\n",
    "\n",
    "# experiment_utils.savefig(\"pdefirst_01b_Du_cond_pde\")"
   ]
  },
  {
   "cell_type": "markdown",
   "id": "e7693e01",
   "metadata": {},
   "source": [
    "### Conditioning on Exact Dirichlet Boundary Conditions"
   ]
  },
  {
   "cell_type": "code",
   "execution_count": null,
   "id": "accab73a-d079-4634-9665-6c3c8aee1d76",
   "metadata": {},
   "outputs": [],
   "source": [
    "g = np.array([50.0, 50.0])\n",
    "\n",
    "bvp = linpde_gp.problems.pde.PoissonEquationDirichletProblem(pde, boundary_values=g)"
   ]
  },
  {
   "cell_type": "code",
   "execution_count": null,
   "id": "6af95978-0efd-492b-922a-2e76f37badb9",
   "metadata": {},
   "outputs": [],
   "source": [
    "u_cond_pde_bc = u_cond_pde.condition_on_observations(\n",
    "    X=np.asarray(pde.domain.boundary),\n",
    "    Y=g,\n",
    ")"
   ]
  },
  {
   "cell_type": "code",
   "execution_count": null,
   "id": "47869cc3-2b2c-4f3a-9092-d48565f5af2e",
   "metadata": {},
   "outputs": [],
   "source": [
    "plotter.plot_belief(\n",
    "    ax=plt.gca(),\n",
    "    u=u_cond_pde_bc,\n",
    "    conditioned_on=[\"pde\", \"bc\"],\n",
    "    X_pde=X_pde,\n",
    "    f_X_pde=f_X_pde,\n",
    "    boundary_condition=bvp.boundary_conditions[0],\n",
    ")\n",
    "\n",
    "experiment_utils.savefig(\"pdefirst_02a_u_cond_pde_bc\")"
   ]
  },
  {
   "cell_type": "code",
   "execution_count": null,
   "id": "2a3f5d99-34bb-43f7-8a3b-6796cfbfd123",
   "metadata": {},
   "outputs": [],
   "source": [
    "plotter.plot_pred_belief(\n",
    "    ax=plt.gca(),\n",
    "    u=u_cond_pde_bc,\n",
    "    conditioned_on=[\"pde\", \"bc\"],\n",
    "    X_pde=X_pde,\n",
    "    f_X_pde=f_X_pde,\n",
    ")\n",
    "\n",
    "experiment_utils.savefig(\"pdefirst_02b_Du_cond_pde_bc\")"
   ]
  },
  {
   "cell_type": "markdown",
   "id": "5128c366",
   "metadata": {},
   "source": [
    "### Condition on Interior Measurements"
   ]
  },
  {
   "cell_type": "code",
   "execution_count": null,
   "id": "e30560dc",
   "metadata": {},
   "outputs": [],
   "source": [
    "X_meas = rel_core_positions * l_CPU + 0.2\n",
    "u_X_meas = np.array([60.0, 61.0, 60.3])\n",
    "u_X_meas_noise = pn.randvars.Normal(\n",
    "    mean=np.zeros_like(u_X_meas),\n",
    "    cov=0.3 ** 2 * np.eye(u_X_meas.size),\n",
    ")"
   ]
  },
  {
   "cell_type": "code",
   "execution_count": null,
   "id": "6af95978-0efd-492b-922a-2e76f37badb9",
   "metadata": {},
   "outputs": [],
   "source": [
    "u_cond_pde_meas = u_cond_pde.condition_on_observations(\n",
    "    X=X_meas,\n",
    "    Y=u_X_meas,\n",
    "    b=u_X_meas_noise,\n",
    ")"
   ]
  },
  {
   "cell_type": "code",
   "execution_count": null,
   "id": "47869cc3-2b2c-4f3a-9092-d48565f5af2e",
   "metadata": {},
   "outputs": [],
   "source": [
    "plotter.plot_belief(\n",
    "    ax=plt.gca(),\n",
    "    u=u_cond_pde_meas,\n",
    "    conditioned_on=[\"pde\", \"meas\"],\n",
    "    X_pde=X_pde,\n",
    "    f_X_pde=f_X_pde,\n",
    "    X_meas=X_meas,\n",
    "    u_X_meas=u_X_meas + u_X_meas_noise,\n",
    ")\n",
    "\n",
    "# experiment_utils.savefig(\"pdefirst_02a_u_cond_pde_bc\")"
   ]
  },
  {
   "cell_type": "code",
   "execution_count": null,
   "id": "2a3f5d99-34bb-43f7-8a3b-6796cfbfd123",
   "metadata": {},
   "outputs": [],
   "source": [
    "plotter.plot_pred_belief(\n",
    "    ax=plt.gca(),\n",
    "    u=u_cond_pde_meas,\n",
    "    conditioned_on=[\"pde\"],\n",
    "    X_pde=X_pde,\n",
    "    f_X_pde=f_X_pde,\n",
    ")\n",
    "\n",
    "# experiment_utils.savefig(\"pdefirst_02b_Du_cond_pde_bc\")"
   ]
  },
  {
   "cell_type": "code",
   "execution_count": null,
   "id": "6a751a71-a602-408c-a36b-100b94832f51",
   "metadata": {},
   "outputs": [],
   "source": []
  }
 ],
 "metadata": {
  "kernelspec": {
   "display_name": "Python [conda env:linpde-gp]",
   "language": "python",
   "name": "conda-env-linpde-gp-py"
  },
  "language_info": {
   "codemirror_mode": {
    "name": "ipython",
    "version": 3
   },
   "file_extension": ".py",
   "mimetype": "text/x-python",
   "name": "python",
   "nbconvert_exporter": "python",
   "pygments_lexer": "ipython3",
   "version": "3.10.4"
  }
 },
 "nbformat": 4,
 "nbformat_minor": 5
}
