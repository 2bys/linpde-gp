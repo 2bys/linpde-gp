{
 "cells": [
  {
   "cell_type": "code",
   "execution_count": null,
   "id": "f416152f-fc5f-405a-8b24-1ca919bcdade",
   "metadata": {},
   "outputs": [],
   "source": [
    "import matplotlib.pyplot as plt\n",
    "import numpy as np\n",
    "import probnum as pn\n",
    "\n",
    "import linpde_gp"
   ]
  },
  {
   "cell_type": "code",
   "execution_count": null,
   "id": "8234a5d8-aa32-48ee-9c8c-81bc280c5218",
   "metadata": {},
   "outputs": [],
   "source": [
    "import experiment_utils\n",
    "from experiment_utils import config\n",
    "\n",
    "config.experiment_name = \"0000_cpu_stationary_1d\"\n",
    "config.target = \"jmlr\"\n",
    "config.debug_mode = True\n",
    "\n",
    "plt.rcParams.update(config.tueplots_bundle())"
   ]
  },
  {
   "cell_type": "markdown",
   "id": "56474b0e",
   "metadata": {},
   "source": [
    "## Problem Definition"
   ]
  },
  {
   "cell_type": "code",
   "execution_count": null,
   "id": "cded4a9a",
   "metadata": {},
   "outputs": [],
   "source": [
    "import cpu\n",
    "\n",
    "domain = cpu.domain_1D\n",
    "\n",
    "diffop = cpu.diffop_1D"
   ]
  },
  {
   "cell_type": "code",
   "execution_count": null,
   "id": "b3d74b7c-8c57-49a8-a1a5-cdbf998da43e",
   "metadata": {
    "tags": []
   },
   "outputs": [],
   "source": [
    "%matplotlib inline\n",
    "\n",
    "import matplotlib.axes\n",
    "import matplotlib.ticker\n",
    "\n",
    "from probnum.typing import ArrayLike\n",
    "\n",
    "from linpde_gp.typing import RandomProcessLike, RandomVariableLike\n",
    "\n",
    "\n",
    "plt_grid = domain.uniform_grid(100)\n",
    "\n",
    "\n",
    "def plot_belief(\n",
    "    ax: matplotlib.axes.Axes,\n",
    "    *,\n",
    "    u: pn.randprocs.GaussianProcess,\n",
    "    conditioned_on: list[str] = [],\n",
    "    X_pde: ArrayLike | None = None,\n",
    "    q_dot_A: RandomVariableLike | None = None,\n",
    "    X_dts: ArrayLike | None = None,\n",
    "    y_dts: ArrayLike | None = None,\n",
    "    noise_dts: RandomVariableLike | None = None,\n",
    "    solution: RandomProcessLike | None = None,\n",
    "):\n",
    "    # Solution Belief\n",
    "    cond_events_str = \", \".join(_build_cond_events_str(conditioned_on))\n",
    "\n",
    "    u.plot(\n",
    "        ax,\n",
    "        plt_grid,\n",
    "        num_samples=10,\n",
    "        rng=np.random.default_rng(24),\n",
    "        color=\"C0\",\n",
    "        label=(\n",
    "            fr\"$\\mathrm{{u}} \\mid {cond_events_str}$\"\n",
    "            if len(cond_events_str) > 0\n",
    "            else r\"$\\mathrm{u}$\"\n",
    "        ),\n",
    "    )\n",
    "    \n",
    "    # True Solution\n",
    "    if solution is not None:\n",
    "        ax.plot(\n",
    "            plt_grid,\n",
    "            solution(plt_grid),\n",
    "            color=\"C1\",\n",
    "            label=\"$u^*$\",\n",
    "        )\n",
    "\n",
    "    for key in conditioned_on:\n",
    "        # PDE Observations\n",
    "        if key == \"pde\":\n",
    "            X_pde = np.asarray(X_pde)\n",
    "\n",
    "            for i, x in enumerate(X_pde):\n",
    "                ax.axvline(\n",
    "                    x,\n",
    "                    color=\"C3\",\n",
    "                    alpha=0.1,\n",
    "                    linestyle=\"--\",\n",
    "                    label=r\"$\\bm{X}_{\\mathrm{PDE}}$\" if i == 0 else None,\n",
    "                )\n",
    "        # Neumann Boundary Conditions\n",
    "        elif key == \"nbc\":\n",
    "            X_bc = np.asarray(domain.boundary)\n",
    "            q_dot_A = pn.randvars.asrandvar(q_dot_A)\n",
    "\n",
    "            slopes = [-q_dot_A[0] / cpu.kappa, q_dot_A[1] / cpu.kappa]\n",
    "\n",
    "            linpde_gp.utils.plotting.plot_local_taylor_processes(\n",
    "                ax,\n",
    "                xs=X_bc,\n",
    "                coeffs_xs=[\n",
    "                    pn.randvars.Normal(\n",
    "                        np.array([u.mean(x), slope.mean]),\n",
    "                        np.diag([0.0, slope.var]),\n",
    "                    )\n",
    "                    for x, slope in zip(domain, slopes)\n",
    "                ],\n",
    "                radius=0.3,\n",
    "                color=\"C5\",\n",
    "                rel_fill_alpha=0.25,\n",
    "                label=r\"$\\dot{\\mathrm{q}}_A(\\bm{X}_{\\mathrm{NBC}})\" + (\n",
    "                    r\"\\mid \\mathrm{STAT}$\"\n",
    "                    if \"stat\" in conditioned_on\n",
    "                    else \"$\"\n",
    "                ),\n",
    "            )\n",
    "        # Measurements\n",
    "        elif key == \"dts\":\n",
    "            X_dts = np.asarray(X_dts)\n",
    "            y_dts = np.asarray(y_dts)\n",
    "            noise_dts = pn.asrandvar(noise_dts)\n",
    "\n",
    "            ax.errorbar(\n",
    "                X_dts,\n",
    "                y_dts + noise_dts.mean,\n",
    "                yerr=1.96 * noise_dts.std,\n",
    "                fmt=\"+\",\n",
    "                capsize=2,\n",
    "                color=\"C4\",\n",
    "                label=r\"$(\\bm{X}_{\\mathrm{DTS}}, \\bm{y}_{\\mathrm{DTS}})$\",\n",
    "            )\n",
    "\n",
    "    cpu.adjust_xaxis(ax)\n",
    "    cpu.adjust_tempaxis(ax.yaxis)\n",
    "\n",
    "    # ax.set_ylabel(\n",
    "    #     r\"Temperature (\\unit{\\degreeCelsius})\",\n",
    "    #     ha=\"left\",\n",
    "    #     y=1,\n",
    "    #     rotation=0,\n",
    "    #     labelpad=0,\n",
    "    # )\n",
    "\n",
    "    ax.legend()\n",
    "\n",
    "\n",
    "def plot_pred_belief(\n",
    "    ax,\n",
    "    u: pn.randprocs.GaussianProcess | None = None,\n",
    "    q_dot_V: RandomProcessLike | None = None,\n",
    "    conditioned_on: list[str] = [],\n",
    "    X_pde: ArrayLike | None = None,\n",
    "):\n",
    "    # Differential Operator Image Belief\n",
    "    if u is not None:\n",
    "        cond_events_str = \", \".join(_build_cond_events_str(conditioned_on))\n",
    "\n",
    "        diffop(u).plot(\n",
    "            ax,\n",
    "            plt_grid,\n",
    "            num_samples=10,\n",
    "            rng=np.random.default_rng(24),\n",
    "            color=\"C0\",\n",
    "                label=(\n",
    "                fr\"$-\\kappa \\Delta \\mathrm{{u}} \\mid {cond_events_str}$\"\n",
    "                if len(cond_events_str) > 0\n",
    "                else r\"$-\\kappa \\Delta \\mathrm{u}$\"\n",
    "            ),\n",
    "        )\n",
    "    \n",
    "    # True Right-Hand Side\n",
    "    if q_dot_V is not None:\n",
    "        q_dot_V_label = r\"\\dot{\" + (\n",
    "            r\"\\mathrm{q}\" if isinstance(q_dot_V, pn.randprocs.RandomProcess) else \"q\"\n",
    "        ) + r\"}_V\"\n",
    "\n",
    "        q_dot_V = linpde_gp.randprocs.asrandproc(q_dot_V)\n",
    "\n",
    "        q_dot_V.plot(\n",
    "            ax,\n",
    "            plt_grid,\n",
    "            num_samples=10,\n",
    "            rng=np.random.default_rng(24),\n",
    "            color=\"C1\",\n",
    "            label=\"$\" + q_dot_V_label + (\n",
    "                r\"\\mid \\mathrm{STAT}$\"\n",
    "                if \"stat\" in conditioned_on\n",
    "                else \"$\"\n",
    "            ),\n",
    "        )\n",
    "    \n",
    "    # PDE Observations\n",
    "    if \"pde\" in conditioned_on:\n",
    "        X_pde = np.asarray(X_pde)\n",
    "        q_dot_V_X_pde = q_dot_V(X_pde)\n",
    "\n",
    "        ax.errorbar(\n",
    "            X_pde,\n",
    "            q_dot_V_X_pde.mean,\n",
    "            yerr=1.96 * q_dot_V_X_pde.std,\n",
    "            fmt=\"+\",\n",
    "            capsize=2,\n",
    "            c=\"C3\",\n",
    "            label=(\n",
    "                r\"$(\\bm{X}_{\\mathrm{PDE}},\"\n",
    "                f\"{q_dot_V_label}\"\n",
    "                r\"(\\bm{X}_{\\mathrm{PDE}})$\"\n",
    "            ),\n",
    "        )\n",
    "    \n",
    "    cpu.adjust_xaxis(ax)\n",
    "    cpu.adjust_q_dot_V_axis(ax.yaxis)\n",
    "\n",
    "    # ax.set_ylabel(\n",
    "    #     r\"Heat Flow (\\unit{\\watt\\per\\cubic\\mm)}\",\n",
    "    #     ha=\"left\",\n",
    "    #     y=1,\n",
    "    #     rotation=0,\n",
    "    #     labelpad=0,\n",
    "    # )\n",
    "\n",
    "    ax.legend()\n",
    "\n",
    "\n",
    "def _build_cond_events_str(\n",
    "    conditioned_on: list[str]\n",
    ") -> str:\n",
    "    for key in conditioned_on:\n",
    "        match key:\n",
    "            case \"pde\":\n",
    "                yield r\"\\mathrm{PDE}\"\n",
    "            case \"dbc\":\n",
    "                yield r\"\\mathrm{DBC}\"\n",
    "            case \"nbc\":\n",
    "                yield r\"\\mathrm{NBC}\"\n",
    "            case \"dts\":\n",
    "                yield r\"\\mathrm{DTS}\"\n",
    "            case \"stat\":\n",
    "                if \"pde\" in conditioned_on:\n",
    "                    yield r\"\\mathrm{STAT}\"\n",
    "                else:\n",
    "                    continue\n",
    "            case _:\n",
    "                raise ValueError(f\"Unknown event '{key}'\")"
   ]
  },
  {
   "cell_type": "markdown",
   "id": "cb1ae509",
   "metadata": {},
   "source": [
    "## Simplified Model with Dirichlet Boundaries"
   ]
  },
  {
   "cell_type": "markdown",
   "id": "582d3242-e441-4704-abef-ddb302b89f6a",
   "metadata": {},
   "source": [
    "### Prior"
   ]
  },
  {
   "cell_type": "code",
   "execution_count": null,
   "id": "e325809a-1f28-4433-b8ea-452abd1de8fb",
   "metadata": {},
   "outputs": [],
   "source": [
    "u = pn.randprocs.GaussianProcess(\n",
    "    mean=linpde_gp.functions.Constant(input_shape=(), value=59.0),\n",
    "    cov=3.0 ** 2 * linpde_gp.randprocs.covfuncs.Matern(\n",
    "        input_shape=(),\n",
    "        nu=2.5,\n",
    "        lengthscales=cpu.width,\n",
    "    ),\n",
    ")\n",
    "\n",
    "q_dot_V = cpu.q_dot_V_src_1D + linpde_gp.functions.Constant(\n",
    "    input_shape=(),\n",
    "    value=-cpu.TDP / cpu.V,\n",
    ")\n",
    "\n",
    "y_dbc = cpu.u_X_dbc_1D"
   ]
  },
  {
   "cell_type": "code",
   "execution_count": null,
   "id": "dbbfe427",
   "metadata": {},
   "outputs": [],
   "source": [
    "plot_belief(\n",
    "    ax=plt.gca(),\n",
    "    u=u,\n",
    ")"
   ]
  },
  {
   "cell_type": "code",
   "execution_count": null,
   "id": "efc625da",
   "metadata": {},
   "outputs": [],
   "source": [
    "plot_pred_belief(\n",
    "    ax=plt.gca(),\n",
    "    u=u,\n",
    "    q_dot_V=q_dot_V,\n",
    ")"
   ]
  },
  {
   "cell_type": "code",
   "execution_count": null,
   "id": "4cd34855-aaa4-4f36-8073-130729f914f4",
   "metadata": {},
   "outputs": [],
   "source": [
    "with plt.rc_context(config.tueplots_bundle(nrows=2, rel_width=0.5)):\n",
    "    with plt.rc_context({\"legend.loc\": \"lower center\"}):\n",
    "        fig, ax = plt.subplots(nrows=2, sharex=True)\n",
    "\n",
    "        plot_belief(\n",
    "            ax=ax[0],\n",
    "            u=u,\n",
    "        )\n",
    "\n",
    "        plot_pred_belief(\n",
    "            ax=ax[1],\n",
    "            u=u,\n",
    "            q_dot_V=q_dot_V,\n",
    "        )\n",
    "\n",
    "experiment_utils.savefig(\"01_simplified_dbc_00_prior\")"
   ]
  },
  {
   "cell_type": "markdown",
   "id": "65a121c2",
   "metadata": {},
   "source": [
    "### Observations"
   ]
  },
  {
   "cell_type": "code",
   "execution_count": null,
   "id": "c7d1c847",
   "metadata": {},
   "outputs": [],
   "source": [
    "N_pde = 15\n",
    "\n",
    "X_pde = domain.uniform_grid(N_pde, inset=0.03 * cpu.width)"
   ]
  },
  {
   "cell_type": "markdown",
   "id": "aa15a4a6-7261-4a27-b764-32ce0caecabb",
   "metadata": {
    "tags": []
   },
   "source": [
    "### Posterior"
   ]
  },
  {
   "cell_type": "markdown",
   "id": "96d86eb1-2636-44c3-a3db-34dc5e6f6a4f",
   "metadata": {},
   "source": [
    "#### Conditioning on the PDE"
   ]
  },
  {
   "cell_type": "code",
   "execution_count": null,
   "id": "c1bd76db-ddc8-440f-aefc-1506548e7b13",
   "metadata": {},
   "outputs": [],
   "source": [
    "u_cond_pde = u.condition_on_observations(\n",
    "    Y=q_dot_V(X_pde),\n",
    "    X=X_pde,\n",
    "    L=diffop,\n",
    ")"
   ]
  },
  {
   "cell_type": "code",
   "execution_count": null,
   "id": "f798307f-2ad9-4688-a641-e08f33586efd",
   "metadata": {},
   "outputs": [],
   "source": [
    "plot_belief(\n",
    "    ax=plt.gca(),\n",
    "    u=u_cond_pde,\n",
    "    conditioned_on=[\"pde\"],\n",
    "    X_pde=X_pde,\n",
    ")"
   ]
  },
  {
   "cell_type": "code",
   "execution_count": null,
   "id": "4a04ef71-0a27-4548-b614-236ddd520e86",
   "metadata": {},
   "outputs": [],
   "source": [
    "plot_pred_belief(\n",
    "    ax=plt.gca(),\n",
    "    u=u_cond_pde,\n",
    "    q_dot_V=q_dot_V,\n",
    "    conditioned_on=[\"pde\"],\n",
    "    X_pde=X_pde,\n",
    ")"
   ]
  },
  {
   "cell_type": "code",
   "execution_count": null,
   "id": "96b2c903",
   "metadata": {},
   "outputs": [],
   "source": [
    "with plt.rc_context(config.tueplots_bundle(nrows=2, rel_width=0.5)):\n",
    "    with plt.rc_context({\"legend.loc\": \"lower center\"}):\n",
    "        fig, ax = plt.subplots(nrows=2, sharex=True)\n",
    "\n",
    "        plot_belief(\n",
    "            ax=ax[0],\n",
    "            u=u_cond_pde,\n",
    "            conditioned_on=[\"pde\"],\n",
    "            X_pde=X_pde,\n",
    "        )\n",
    "\n",
    "        plot_pred_belief(\n",
    "            ax=ax[1],\n",
    "            u=u_cond_pde,\n",
    "            q_dot_V=q_dot_V,\n",
    "            conditioned_on=[\"pde\"],\n",
    "            X_pde=X_pde,\n",
    "        )\n",
    "\n",
    "experiment_utils.savefig(\"01_simplified_dbc_01_cond_pde\")"
   ]
  },
  {
   "cell_type": "markdown",
   "id": "e7693e01",
   "metadata": {},
   "source": [
    "#### Conditioning on the Dirichlet Boundary Conditions"
   ]
  },
  {
   "cell_type": "code",
   "execution_count": null,
   "id": "6af95978-0efd-492b-922a-2e76f37badb9",
   "metadata": {},
   "outputs": [],
   "source": [
    "X_dbc = np.asarray(domain.boundary)\n",
    "\n",
    "u_cond_pde_bc = u_cond_pde.condition_on_observations(\n",
    "    Y=y_dbc,\n",
    "    X=X_dbc,\n",
    ")"
   ]
  },
  {
   "cell_type": "code",
   "execution_count": null,
   "id": "fdf6b613",
   "metadata": {},
   "outputs": [],
   "source": [
    "def plot_dbc(ax: matplotlib.axes.Axes, u_X_dbc: RandomVariableLike):\n",
    "    X_dbc = np.asarray(domain.boundary)\n",
    "    u_X_dbc = pn.randvars.asrandvar(u_X_dbc)\n",
    "\n",
    "    ax.errorbar(\n",
    "        X_dbc,\n",
    "        u_X_dbc.mean,\n",
    "        yerr=1.96 * u_X_dbc.std,\n",
    "        fmt=\"+\",\n",
    "        capsize=2,\n",
    "        color=\"C2\",\n",
    "        label=r\"$g$\",\n",
    "    )"
   ]
  },
  {
   "cell_type": "code",
   "execution_count": null,
   "id": "47869cc3-2b2c-4f3a-9092-d48565f5af2e",
   "metadata": {},
   "outputs": [],
   "source": [
    "plot_belief(\n",
    "    ax=plt.gca(),\n",
    "    u=u_cond_pde_bc,\n",
    "    conditioned_on=[\"pde\", \"dbc\"],\n",
    "    X_pde=X_pde,\n",
    ")\n",
    "\n",
    "plot_dbc(plt.gca(), u_X_dbc=y_dbc)"
   ]
  },
  {
   "cell_type": "code",
   "execution_count": null,
   "id": "2a3f5d99-34bb-43f7-8a3b-6796cfbfd123",
   "metadata": {},
   "outputs": [],
   "source": [
    "plot_pred_belief(\n",
    "    ax=plt.gca(),\n",
    "    u=u_cond_pde_bc,\n",
    "    q_dot_V=q_dot_V,\n",
    "    conditioned_on=[\"pde\", \"dbc\"],\n",
    "    X_pde=X_pde,\n",
    ")"
   ]
  },
  {
   "cell_type": "code",
   "execution_count": null,
   "id": "4f7bb808",
   "metadata": {},
   "outputs": [],
   "source": [
    "with plt.rc_context(config.tueplots_bundle(nrows=2, rel_width=0.5)):\n",
    "    with plt.rc_context({\"legend.loc\": \"lower center\"}):\n",
    "        fig, ax = plt.subplots(nrows=2, sharex=True)\n",
    "\n",
    "        plot_belief(\n",
    "            ax=ax[0],\n",
    "            u=u_cond_pde_bc,\n",
    "            conditioned_on=[\"pde\", \"dbc\"],\n",
    "            X_pde=X_pde,\n",
    "        )\n",
    "\n",
    "        plot_dbc(ax[0], u_X_dbc=y_dbc)\n",
    "\n",
    "        plot_pred_belief(\n",
    "            ax=ax[1],\n",
    "            u=u_cond_pde_bc,\n",
    "            q_dot_V=q_dot_V,\n",
    "            conditioned_on=[\"pde\", \"dbc\"],\n",
    "            X_pde=X_pde,\n",
    "        )\n",
    "    \n",
    "experiment_utils.savefig(\"01_simplified_dbc_02_cond_pde_dbc\")"
   ]
  },
  {
   "cell_type": "markdown",
   "id": "2316b662",
   "metadata": {},
   "source": [
    "## Simplified Model with Uncertain Neumann Boundary Conditions and Interior Measurements"
   ]
  },
  {
   "cell_type": "markdown",
   "id": "a2e8c511",
   "metadata": {},
   "source": [
    "### Prior"
   ]
  },
  {
   "cell_type": "code",
   "execution_count": null,
   "id": "a5b9f1a0",
   "metadata": {},
   "outputs": [],
   "source": [
    "u = pn.randprocs.GaussianProcess(\n",
    "    mean=linpde_gp.functions.Constant(input_shape=(), value=59.0),\n",
    "    cov=3.0 ** 2 * linpde_gp.randprocs.covfuncs.Matern(\n",
    "        input_shape=(),\n",
    "        nu=2.5,\n",
    "        lengthscales=cpu.width,\n",
    "    ),\n",
    ")\n",
    "\n",
    "q_dot_V = cpu.q_dot_V_1D\n",
    "\n",
    "q_dot_A = pn.randvars.Normal(\n",
    "    mean=cpu.q_dot_A_1D,\n",
    "    cov=np.diag(np.abs(cpu.q_dot_A_1D) ** 2),\n",
    ")"
   ]
  },
  {
   "cell_type": "code",
   "execution_count": null,
   "id": "dbbfe427",
   "metadata": {},
   "outputs": [],
   "source": [
    "with plt.rc_context(config.tueplots_bundle(rel_width=0.5)):\n",
    "    with plt.rc_context({\"legend.loc\": \"lower center\"}):\n",
    "        plot_belief(\n",
    "            ax=plt.gca(),\n",
    "            u=u,\n",
    "        )\n",
    "\n",
    "experiment_utils.savefig(\"02_simplified_nbc_00_prior_u\")"
   ]
  },
  {
   "cell_type": "code",
   "execution_count": null,
   "id": "efc625da",
   "metadata": {},
   "outputs": [],
   "source": [
    "with plt.rc_context(config.tueplots_bundle(rel_width=0.5)):\n",
    "    with plt.rc_context({\"legend.loc\": \"lower center\"}):\n",
    "        plot_pred_belief(\n",
    "            ax=plt.gca(),\n",
    "            u=u,\n",
    "            q_dot_V=q_dot_V,\n",
    "        )\n",
    "\n",
    "experiment_utils.savefig(\"02_simplified_nbc_00_prior_f\")"
   ]
  },
  {
   "cell_type": "code",
   "execution_count": null,
   "id": "721c0739-b5f1-4197-bdec-78f357eada6c",
   "metadata": {},
   "outputs": [],
   "source": [
    "with plt.rc_context(config.tueplots_bundle(nrows=2, rel_width=0.44)):\n",
    "    fig, ax = plt.subplots(nrows=2, sharex=True)\n",
    "\n",
    "    # CPU Schematic\n",
    "    cpu.plot_schematic(ax[0])\n",
    "\n",
    "    ax[0].imshow(\n",
    "        cpu.q_dot_V_2D(\n",
    "            np.stack(\n",
    "                np.meshgrid(\n",
    "                    np.linspace(*cpu.domain_2D[0], 50),\n",
    "                    np.linspace(*cpu.domain_2D[1], 50)\n",
    "                ),\n",
    "                axis=-1,\n",
    "            )\n",
    "        ),\n",
    "        cmap=\"coolwarm\",\n",
    "        norm=matplotlib.colors.TwoSlopeNorm(0.0),\n",
    "        extent=[0.0, cpu.width, 0.0, cpu.height],\n",
    "    )\n",
    "\n",
    "    ax[0].plot([0.0, cpu.width], 2 * [cpu.core_centers_ys[1]], c=\"C1\")\n",
    "\n",
    "    # PDE RHS\n",
    "    plt_grid = np.linspace(*domain, 100)\n",
    "\n",
    "    cpu.q_dot_V_1D.plot(\n",
    "        ax[1],\n",
    "        plt_grid,\n",
    "        c=\"C1\",\n",
    "        label=r\"$\\dot{q}_V$\"\n",
    "    )\n",
    "\n",
    "    cpu.adjust_xaxis(ax[1])\n",
    "    cpu.adjust_q_dot_V_axis(ax[1].yaxis)\n",
    "\n",
    "    ax[1].legend(loc=\"lower center\")\n",
    "\n",
    "experiment_utils.savefig(\"01_simplified_nbc_00_geometry_rhs\")"
   ]
  },
  {
   "cell_type": "markdown",
   "id": "54390ae1",
   "metadata": {},
   "source": [
    "### Observations"
   ]
  },
  {
   "cell_type": "code",
   "execution_count": null,
   "id": "c7d1c847",
   "metadata": {},
   "outputs": [],
   "source": [
    "N_pde = 15\n",
    "\n",
    "X_pde = domain.uniform_grid(N_pde, inset=0.03 * cpu.width)"
   ]
  },
  {
   "cell_type": "code",
   "execution_count": null,
   "id": "e30560dc",
   "metadata": {},
   "outputs": [],
   "source": [
    "X_dts = cpu.X_dts_1D\n",
    "y_dts = cpu.y_dts_1D\n",
    "noise_dts = cpu.noise_dts_1D"
   ]
  },
  {
   "cell_type": "markdown",
   "id": "c61c6a35",
   "metadata": {},
   "source": [
    "### Posterior"
   ]
  },
  {
   "cell_type": "markdown",
   "id": "49df0bf7",
   "metadata": {},
   "source": [
    "#### Conditioning on the PDE"
   ]
  },
  {
   "cell_type": "code",
   "execution_count": null,
   "id": "c1bd76db-ddc8-440f-aefc-1506548e7b13",
   "metadata": {},
   "outputs": [],
   "source": [
    "u_cond_pde = u.condition_on_observations(\n",
    "    Y=q_dot_V(X_pde),\n",
    "    X=X_pde,\n",
    "    L=diffop,\n",
    ")"
   ]
  },
  {
   "cell_type": "code",
   "execution_count": null,
   "id": "f798307f-2ad9-4688-a641-e08f33586efd",
   "metadata": {},
   "outputs": [],
   "source": [
    "with plt.rc_context(config.tueplots_bundle(rel_width=0.5)):\n",
    "    with plt.rc_context({\"legend.loc\": \"lower center\"}):\n",
    "        plot_belief(\n",
    "            ax=plt.gca(),\n",
    "            u=u_cond_pde,\n",
    "            conditioned_on=[\"pde\"],\n",
    "            X_pde=X_pde,\n",
    "        )\n",
    "\n",
    "experiment_utils.savefig(\"02_simplified_nbc_01_cond_pde_u\")"
   ]
  },
  {
   "cell_type": "code",
   "execution_count": null,
   "id": "4a04ef71-0a27-4548-b614-236ddd520e86",
   "metadata": {},
   "outputs": [],
   "source": [
    "with plt.rc_context(config.tueplots_bundle(rel_width=0.5)):\n",
    "    with plt.rc_context({\"legend.loc\": \"lower center\"}):\n",
    "        plot_pred_belief(\n",
    "            ax=plt.gca(),\n",
    "            u=u_cond_pde,\n",
    "            q_dot_V=q_dot_V,\n",
    "            conditioned_on=[\"pde\"],\n",
    "            X_pde=X_pde,\n",
    "        )\n",
    "\n",
    "experiment_utils.savefig(\"02_simplified_nbc_01_cond_pde_f\")"
   ]
  },
  {
   "cell_type": "code",
   "execution_count": null,
   "id": "96b2c903",
   "metadata": {},
   "outputs": [],
   "source": [
    "with plt.rc_context(config.tueplots_bundle(nrows=2, rel_width=0.5)):\n",
    "    with plt.rc_context({\"legend.loc\": \"lower center\"}):\n",
    "        fig, ax = plt.subplots(nrows=2, sharex=True)\n",
    "\n",
    "        plot_belief(\n",
    "            ax=ax[0],\n",
    "            u=u_cond_pde,\n",
    "            conditioned_on=[\"pde\"],\n",
    "            X_pde=X_pde,\n",
    "        )\n",
    "\n",
    "        plot_pred_belief(\n",
    "            ax=ax[1],\n",
    "            u=u_cond_pde,\n",
    "            q_dot_V=q_dot_V,\n",
    "            conditioned_on=[\"pde\"],\n",
    "            X_pde=X_pde,\n",
    "        )\n",
    "\n",
    "experiment_utils.savefig(\"02_simplified_nbc_01_cond_pde\")"
   ]
  },
  {
   "cell_type": "markdown",
   "id": "fdf125b5",
   "metadata": {},
   "source": [
    "#### Conditioning on Uncertain Neumann Boundary Conditions"
   ]
  },
  {
   "cell_type": "markdown",
   "id": "5c8e7e4a",
   "metadata": {},
   "source": [
    "According to Fourier's law, the outward heat flux through the surface of the CPU is\n",
    "given by $q(x) = \\langle n(x), - k \\nabla u(x) \\rangle = - k \\nabla_{n(x)} u(x)$."
   ]
  },
  {
   "cell_type": "code",
   "execution_count": null,
   "id": "0213a0c4",
   "metadata": {},
   "outputs": [],
   "source": [
    "u_cond_pde_nbc_left = u_cond_pde.condition_on_observations(\n",
    "    X=domain[0],\n",
    "    Y=0.0,\n",
    "    L=-cpu.kappa * linpde_gp.linfuncops.diffops.DirectionalDerivative(1.0),\n",
    "    b=-q_dot_A[0],\n",
    ")\n",
    "\n",
    "u_cond_pde_nbc = u_cond_pde_nbc_left.condition_on_observations(\n",
    "    X=domain[1],\n",
    "    Y=0.0,\n",
    "    L=-cpu.kappa * linpde_gp.linfuncops.diffops.DirectionalDerivative(-1.0),\n",
    "    b=-q_dot_A[1],\n",
    ")"
   ]
  },
  {
   "cell_type": "code",
   "execution_count": null,
   "id": "7cb38df9",
   "metadata": {},
   "outputs": [],
   "source": [
    "with plt.rc_context(config.tueplots_bundle(rel_width=0.5)):\n",
    "    with plt.rc_context({\"legend.loc\": \"lower center\"}):\n",
    "        plot_belief(\n",
    "            ax=plt.gca(),\n",
    "            u=u_cond_pde_nbc,\n",
    "            conditioned_on=[\"pde\", \"nbc\"],\n",
    "            X_pde=X_pde,\n",
    "            q_dot_A=q_dot_A,\n",
    "        )\n",
    "\n",
    "experiment_utils.savefig(\"02_simplified_nbc_02_a_cond_pde_nbc_u\")"
   ]
  },
  {
   "cell_type": "code",
   "execution_count": null,
   "id": "feb5ec33",
   "metadata": {},
   "outputs": [],
   "source": [
    "with plt.rc_context(config.tueplots_bundle(rel_width=0.5)):\n",
    "    with plt.rc_context({\"legend.loc\": \"lower center\"}):\n",
    "        plot_pred_belief(\n",
    "            ax=plt.gca(),\n",
    "            u=u_cond_pde_nbc,\n",
    "            q_dot_V=q_dot_V,\n",
    "            conditioned_on=[\"pde\", \"nbc\"],\n",
    "            X_pde=X_pde,\n",
    "        )\n",
    "\n",
    "experiment_utils.savefig(\"02_simplified_nbc_02_a_cond_pde_nbc_f\")"
   ]
  },
  {
   "cell_type": "code",
   "execution_count": null,
   "id": "f99d47aa",
   "metadata": {},
   "outputs": [],
   "source": [
    "with plt.rc_context(config.tueplots_bundle(nrows=2, rel_width=0.5)):\n",
    "    with plt.rc_context({\"legend.loc\": \"lower center\"}):\n",
    "        fig, ax = plt.subplots(nrows=2, sharex=True)\n",
    "\n",
    "        plot_belief(\n",
    "            ax=ax[0],\n",
    "            u=u_cond_pde_nbc,\n",
    "            conditioned_on=[\"pde\", \"nbc\"],\n",
    "            X_pde=X_pde,\n",
    "            q_dot_A=q_dot_A,\n",
    "        )\n",
    "\n",
    "        plot_pred_belief(\n",
    "            ax=ax[1],\n",
    "            u=u_cond_pde_nbc,\n",
    "            q_dot_V=q_dot_V,\n",
    "            conditioned_on=[\"pde\", \"nbc\"],\n",
    "            X_pde=X_pde,\n",
    "        )\n",
    "\n",
    "experiment_utils.savefig(\"02_simplified_nbc_02_a_cond_pde_nbc\")"
   ]
  },
  {
   "cell_type": "markdown",
   "id": "5128c366",
   "metadata": {},
   "source": [
    "#### Conditioning on Noisy Interior Measurements"
   ]
  },
  {
   "cell_type": "code",
   "execution_count": null,
   "id": "6af95978-0efd-492b-922a-2e76f37badb9",
   "metadata": {},
   "outputs": [],
   "source": [
    "u_cond_pde_nbc_dts = u_cond_pde_nbc.condition_on_observations(\n",
    "    Y=y_dts,\n",
    "    X=X_dts,\n",
    "    b=noise_dts,\n",
    ")"
   ]
  },
  {
   "cell_type": "code",
   "execution_count": null,
   "id": "47869cc3-2b2c-4f3a-9092-d48565f5af2e",
   "metadata": {},
   "outputs": [],
   "source": [
    "with plt.rc_context(config.tueplots_bundle(rel_width=0.5)):\n",
    "    with plt.rc_context({\"legend.loc\": \"lower center\"}):\n",
    "        plot_belief(\n",
    "            ax=plt.gca(),\n",
    "            u=u_cond_pde_nbc_dts,\n",
    "            conditioned_on=[\"pde\", \"nbc\", \"dts\"],\n",
    "            X_pde=X_pde,\n",
    "            q_dot_A=q_dot_A,\n",
    "            X_dts=X_dts,\n",
    "            y_dts=y_dts,\n",
    "            noise_dts=noise_dts,\n",
    "        )\n",
    "\n",
    "experiment_utils.savefig(\"02_simplified_nbc_03_a_cond_pde_nbc_dts_u\")"
   ]
  },
  {
   "cell_type": "code",
   "execution_count": null,
   "id": "2a3f5d99-34bb-43f7-8a3b-6796cfbfd123",
   "metadata": {},
   "outputs": [],
   "source": [
    "with plt.rc_context(config.tueplots_bundle(rel_width=0.5)):\n",
    "    with plt.rc_context({\"legend.loc\": \"lower center\"}):\n",
    "        plot_pred_belief(\n",
    "            ax=plt.gca(),\n",
    "            u=u_cond_pde_nbc_dts,\n",
    "            q_dot_V=q_dot_V,\n",
    "            conditioned_on=[\"pde\", \"nbc\", \"dts\"],\n",
    "            X_pde=X_pde,\n",
    "        )\n",
    "\n",
    "experiment_utils.savefig(\"02_simplified_nbc_03_a_cond_pde_nbc_dts_f\")"
   ]
  },
  {
   "cell_type": "code",
   "execution_count": null,
   "id": "cdfc8203",
   "metadata": {},
   "outputs": [],
   "source": [
    "with plt.rc_context(config.tueplots_bundle(nrows=2, rel_width=0.5)):\n",
    "    with plt.rc_context({\"legend.loc\": \"lower center\"}):\n",
    "        fig, ax = plt.subplots(nrows=2, sharex=True)\n",
    "\n",
    "        plot_belief(\n",
    "            ax=ax[0],\n",
    "            u=u_cond_pde_nbc_dts,\n",
    "            conditioned_on=[\"pde\", \"nbc\", \"dts\"],\n",
    "            X_pde=X_pde,\n",
    "            q_dot_A=q_dot_A,\n",
    "            X_dts=X_dts,\n",
    "            y_dts=y_dts,\n",
    "            noise_dts=noise_dts,\n",
    "        )\n",
    "\n",
    "        plot_pred_belief(\n",
    "            ax=ax[1],\n",
    "            u=u_cond_pde_nbc_dts,\n",
    "            q_dot_V=q_dot_V,\n",
    "            conditioned_on=[\"pde\", \"nbc\", \"dts\"],\n",
    "            X_pde=X_pde,\n",
    "        )\n",
    "\n",
    "experiment_utils.savefig(\"02_simplified_nbc_03_a_cond_pde_nbc_dts\")"
   ]
  },
  {
   "cell_type": "markdown",
   "id": "87887530",
   "metadata": {},
   "source": [
    "## Full Model"
   ]
  },
  {
   "attachments": {},
   "cell_type": "markdown",
   "id": "cc5c802d",
   "metadata": {},
   "source": [
    "\\begin{align*}\n",
    "    \\mathrm{u} & \\sim \\mathcal{GP}(m_u, k_u) \\\\\n",
    "    \\dot{\\mathrm{q}}_V & \\sim \\mathcal{GP}(m_f, k_f) \\\\\n",
    "    \\dot{\\bm{\\mathrm{q}}}_A & \\sim \\mathcal{N}(\\bm{\\mu}_g, \\bm{\\Sigma}_g) \\\\\n",
    "    \\bm{\\epsilon}_{\\text{DTS}} & \\sim \\mathcal{N}(0, \\sigma_{\\text{DTS}}^2 \\bm{I})\n",
    "\\end{align*}\n",
    "\n",
    "\\begin{align*}\n",
    "    w_\\text{CPU} \\cdot \\int_{\\mathbb{D}} \\dot{\\mathrm{q}}_V(x) \\mathrm{d}x + h_\\text{CPU} \\cdot \\left( \\dot{\\bm{\\mathrm{q}}}_{A, 1} + \\dot{\\bm{\\mathrm{q}}}_{A, 2} \\right) & = 0 \\\\\n",
    "    -\\kappa \\Delta \\mathrm{u}(\\bm{X}_{\\text{PDE}}) - \\dot{\\mathrm{q}}_V(\\bm{X}_{\\text{PDE}}) & = 0 \\\\\n",
    "    -\\kappa \\nabla_{\\nu(\\bm{X}_{\\text{NBC}})} \\mathrm{u}(\\bm{X}_{\\text{NBC}}) - \\dot{\\bm{\\mathrm{q}}}_{A} & = 0 \\\\\n",
    "    \\mathrm{u}(\\bm{X}_{\\text{DTS}}) + \\bm{\\epsilon}_{\\text{DTS}} & = \\bm{y}_{\\text{DTS}}\n",
    "\\end{align*}"
   ]
  },
  {
   "cell_type": "markdown",
   "id": "3f316840",
   "metadata": {},
   "source": [
    "### Prior"
   ]
  },
  {
   "cell_type": "code",
   "execution_count": null,
   "id": "d1600a85",
   "metadata": {},
   "outputs": [],
   "source": [
    "u = pn.randprocs.GaussianProcess(\n",
    "    mean=linpde_gp.functions.Constant(input_shape=(), value=59.0),\n",
    "    cov=3.0 ** 2 * linpde_gp.randprocs.covfuncs.Matern(\n",
    "        input_shape=(),\n",
    "        nu=2.5,\n",
    "        lengthscales=cpu.width,\n",
    "    ),\n",
    ")"
   ]
  },
  {
   "cell_type": "code",
   "execution_count": null,
   "id": "cfa42ce4",
   "metadata": {},
   "outputs": [],
   "source": [
    "q_dot_V = pn.randprocs.GaussianProcess(\n",
    "    mean=cpu.q_dot_V_1D,\n",
    "    cov=0.9 ** 2 * linpde_gp.randprocs.covfuncs.Matern(\n",
    "        input_shape=(),\n",
    "        nu=3.5,\n",
    "        lengthscales=cpu.width / 2,\n",
    "    ),\n",
    ")"
   ]
  },
  {
   "cell_type": "code",
   "execution_count": null,
   "id": "789cdc6c",
   "metadata": {},
   "outputs": [],
   "source": [
    "q_dot_A = pn.randvars.Normal(\n",
    "    mean=cpu.q_dot_A_1D,\n",
    "    cov=np.diag(np.abs(cpu.q_dot_A_1D) ** 2),\n",
    ")"
   ]
  },
  {
   "cell_type": "code",
   "execution_count": null,
   "id": "5ccaee04",
   "metadata": {},
   "outputs": [],
   "source": [
    "plot_belief(\n",
    "    plt.gca(),\n",
    "    u=u,\n",
    ")"
   ]
  },
  {
   "cell_type": "code",
   "execution_count": null,
   "id": "7d1fa608",
   "metadata": {},
   "outputs": [],
   "source": [
    "plot_pred_belief(\n",
    "    plt.gca(),\n",
    "    u=u,\n",
    "    q_dot_V=q_dot_V,\n",
    ")"
   ]
  },
  {
   "cell_type": "code",
   "execution_count": null,
   "id": "f99d47aa",
   "metadata": {},
   "outputs": [],
   "source": [
    "with plt.rc_context(config.tueplots_bundle(rel_width=0.5)):\n",
    "    with plt.rc_context({\"legend.loc\": \"lower center\"}):\n",
    "        plot_pred_belief(\n",
    "            ax=plt.gca(),\n",
    "            q_dot_V=q_dot_V,\n",
    "        )\n",
    "\n",
    "experiment_utils.savefig(\"03_full_00_q_dot_V_prior\")"
   ]
  },
  {
   "cell_type": "markdown",
   "id": "1e394464",
   "metadata": {},
   "source": [
    "### Observations"
   ]
  },
  {
   "cell_type": "code",
   "execution_count": null,
   "id": "c7d1c847",
   "metadata": {},
   "outputs": [],
   "source": [
    "N_pde = 20\n",
    "\n",
    "X_pde = domain.uniform_grid(N_pde, inset=0.03 * cpu.width)"
   ]
  },
  {
   "cell_type": "code",
   "execution_count": null,
   "id": "e30560dc",
   "metadata": {},
   "outputs": [],
   "source": [
    "X_dts = cpu.X_dts_1D\n",
    "y_dts = cpu.y_dts_1D\n",
    "noise_dts = cpu.noise_dts_1D"
   ]
  },
  {
   "cell_type": "markdown",
   "id": "79d5e07b",
   "metadata": {},
   "source": [
    "### Posterior"
   ]
  },
  {
   "cell_type": "markdown",
   "id": "9ba72cc3",
   "metadata": {},
   "source": [
    "#### Conditioning on (Thermal) Stationarity"
   ]
  },
  {
   "cell_type": "code",
   "execution_count": null,
   "id": "71e3ef8f",
   "metadata": {},
   "outputs": [],
   "source": [
    "L_stat = cpu.height * linpde_gp.linfunctls.LebesgueIntegral(input_domain=domain)\n",
    "A_stat = np.array([cpu.height, cpu.height])\n",
    "\n",
    "q_dot_V_cond_stat = q_dot_V.condition_on_observations(\n",
    "    Y=0.0,\n",
    "    L=L_stat,\n",
    "    b=A_stat @ q_dot_A,\n",
    ")\n",
    "\n",
    "q_dot_A_cond_stat = q_dot_A.condition_on_observations(\n",
    "    observations=0.0,\n",
    "    noise=L_stat(q_dot_V),\n",
    "    transform=A_stat,\n",
    ")\n",
    "\n",
    "class CrossCovariance_q_dot_V_A_cond_stat(\n",
    "    linpde_gp.randprocs.crosscov.ProcessVectorCrossCovariance\n",
    "):\n",
    "    def __init__(self):\n",
    "        self._kLa = L_stat(q_dot_V.cov, argnum=1)\n",
    "        self._A_Sigma = A_stat @ q_dot_A.cov\n",
    "\n",
    "        super().__init__(\n",
    "            randproc_input_shape=q_dot_V.input_shape,\n",
    "            randproc_output_shape=q_dot_V.output_shape,\n",
    "            randvar_shape=q_dot_A.shape,\n",
    "            reverse=False\n",
    "        )\n",
    "    \n",
    "    def _evaluate(self, x: np.ndarray) -> np.ndarray:\n",
    "        return -self._kLa(x)[:, None] * self._A_Sigma[None, :] / q_dot_V_cond_stat.gram[0, 0]\n",
    "    \n",
    "    def _evaluate_jax(self, x):\n",
    "        pass\n",
    "\n",
    "q_dot_V_A_cond_stat_crosscov = CrossCovariance_q_dot_V_A_cond_stat()"
   ]
  },
  {
   "cell_type": "code",
   "execution_count": null,
   "id": "b13960c2",
   "metadata": {},
   "outputs": [],
   "source": [
    "q_dot_A_cond_stat.cov"
   ]
  },
  {
   "cell_type": "code",
   "execution_count": null,
   "id": "22bca5c4",
   "metadata": {},
   "outputs": [],
   "source": [
    "plot_pred_belief(\n",
    "    plt.gca(),\n",
    "    u=u,\n",
    "    q_dot_V=q_dot_V_cond_stat,\n",
    "    conditioned_on=[\"stat\"],\n",
    ")"
   ]
  },
  {
   "cell_type": "code",
   "execution_count": null,
   "id": "f99d47aa",
   "metadata": {},
   "outputs": [],
   "source": [
    "with plt.rc_context(config.tueplots_bundle(rel_width=0.5)):\n",
    "    with plt.rc_context({\"legend.loc\": \"lower center\"}):\n",
    "        plot_pred_belief(\n",
    "            ax=plt.gca(),\n",
    "            q_dot_V=q_dot_V_cond_stat,\n",
    "            conditioned_on=[\"stat\"],\n",
    "        )\n",
    "\n",
    "experiment_utils.savefig(\"03_full_01_q_dot_V_cond_stat\")"
   ]
  },
  {
   "cell_type": "markdown",
   "id": "dabc5eaa",
   "metadata": {},
   "source": [
    "#### Conditioning on the PDE with Uncertain RHS"
   ]
  },
  {
   "cell_type": "code",
   "execution_count": null,
   "id": "52963fc9",
   "metadata": {},
   "outputs": [],
   "source": [
    "u_cond_pde_stat_uncorr = u.condition_on_observations(\n",
    "    Y=np.zeros_like(X_pde),\n",
    "    X=X_pde,\n",
    "    L=diffop,\n",
    "    b=-q_dot_V_cond_stat(X_pde),\n",
    ")"
   ]
  },
  {
   "cell_type": "code",
   "execution_count": null,
   "id": "5ccaee04",
   "metadata": {},
   "outputs": [],
   "source": [
    "plot_belief(\n",
    "    plt.gca(),\n",
    "    u=u_cond_pde_stat_uncorr,\n",
    "    conditioned_on=[\"pde\", \"stat\"],\n",
    "    X_pde=X_pde,\n",
    ")"
   ]
  },
  {
   "cell_type": "code",
   "execution_count": null,
   "id": "7d1fa608",
   "metadata": {},
   "outputs": [],
   "source": [
    "plot_pred_belief(\n",
    "    plt.gca(),\n",
    "    u=u_cond_pde_stat_uncorr,\n",
    "    q_dot_V=q_dot_V_cond_stat,\n",
    "    conditioned_on=[\"pde\", \"stat\"],\n",
    "    X_pde=X_pde,\n",
    ")"
   ]
  },
  {
   "cell_type": "markdown",
   "id": "dabc5eaa",
   "metadata": {},
   "source": [
    "#### Conditioning on Uncertain Neumann Boundary Conditions"
   ]
  },
  {
   "cell_type": "code",
   "execution_count": null,
   "id": "8b851c8d",
   "metadata": {},
   "outputs": [],
   "source": [
    "u_cond_pde_nbc_left_stat_uncorr = u_cond_pde_stat_uncorr.condition_on_observations(\n",
    "    X=domain[0],\n",
    "    Y=0.0,\n",
    "    L=-cpu.kappa * linpde_gp.linfuncops.diffops.DirectionalDerivative(1.0),\n",
    "    b=-q_dot_A_cond_stat[0],\n",
    ")\n",
    "\n",
    "u_cond_pde_nbc_stat_uncorr = u_cond_pde_nbc_left_stat_uncorr.condition_on_observations(\n",
    "    X=domain[1],\n",
    "    Y=0.0,\n",
    "    L=-cpu.kappa * linpde_gp.linfuncops.diffops.DirectionalDerivative(-1.0),\n",
    "    b=-q_dot_A_cond_stat[1],\n",
    ")"
   ]
  },
  {
   "cell_type": "code",
   "execution_count": null,
   "id": "5ccaee04",
   "metadata": {},
   "outputs": [],
   "source": [
    "plot_belief(\n",
    "    plt.gca(),\n",
    "    u=u_cond_pde_nbc_stat_uncorr,\n",
    "    conditioned_on=[\"pde\", \"nbc\", \"stat\"],\n",
    "    X_pde=X_pde,\n",
    "    q_dot_A=q_dot_A_cond_stat,\n",
    ")"
   ]
  },
  {
   "cell_type": "code",
   "execution_count": null,
   "id": "7d1fa608",
   "metadata": {},
   "outputs": [],
   "source": [
    "plot_pred_belief(\n",
    "    plt.gca(),\n",
    "    u=u_cond_pde_nbc_stat_uncorr,\n",
    "    q_dot_V=q_dot_V_cond_stat,\n",
    "    conditioned_on=[\"pde\", \"nbc\", \"stat\"],\n",
    "    X_pde=X_pde,\n",
    ")"
   ]
  },
  {
   "cell_type": "markdown",
   "id": "99f809db",
   "metadata": {},
   "source": [
    "### Modify Gram matrix to account for correlations"
   ]
  },
  {
   "cell_type": "code",
   "execution_count": null,
   "id": "c18f08e1",
   "metadata": {},
   "outputs": [],
   "source": [
    "gram_blocks = u_cond_pde_nbc_stat_uncorr._gram_blocks\n",
    "q_dot_V_A_cond_stat_crosscov_X_pde = q_dot_V_A_cond_stat_crosscov(X_pde)"
   ]
  },
  {
   "cell_type": "code",
   "execution_count": null,
   "id": "8ad32c65",
   "metadata": {},
   "outputs": [],
   "source": [
    "gram_blocks_corr = (\n",
    "    (gram_blocks[0][0],),\n",
    "    (gram_blocks[1][0] + q_dot_V_A_cond_stat_crosscov_X_pde[:, 0].T, gram_blocks[1][1]),\n",
    "    (gram_blocks[2][0] + q_dot_V_A_cond_stat_crosscov_X_pde[:, 1].T, gram_blocks[2][1] + q_dot_A_cond_stat.cov[1, 1], gram_blocks[2][2])\n",
    ")"
   ]
  },
  {
   "cell_type": "code",
   "execution_count": null,
   "id": "d02240b8",
   "metadata": {},
   "outputs": [],
   "source": [
    "u_cond_pde_nbc_stat = linpde_gp.randprocs.ConditionalGaussianProcess(\n",
    "    prior=u_cond_pde_nbc_stat_uncorr._prior,\n",
    "    Ys=u_cond_pde_nbc_stat_uncorr._Ys,\n",
    "    Ls=u_cond_pde_nbc_stat_uncorr._Ls,\n",
    "    bs=u_cond_pde_nbc_stat_uncorr._bs,\n",
    "    kLas=u_cond_pde_nbc_stat_uncorr._kLas,\n",
    "    gram_blocks=gram_blocks_corr,\n",
    ")"
   ]
  },
  {
   "cell_type": "code",
   "execution_count": null,
   "id": "5ccaee04",
   "metadata": {},
   "outputs": [],
   "source": [
    "plot_belief(\n",
    "    plt.gca(),\n",
    "    u=u_cond_pde_nbc_stat,\n",
    "    conditioned_on=[\"pde\", \"nbc\", \"stat\"],\n",
    "    X_pde=X_pde,\n",
    "    q_dot_A=q_dot_A_cond_stat,\n",
    ")"
   ]
  },
  {
   "cell_type": "code",
   "execution_count": null,
   "id": "7d1fa608",
   "metadata": {},
   "outputs": [],
   "source": [
    "plot_pred_belief(\n",
    "    plt.gca(),\n",
    "    u=u_cond_pde_nbc_stat,\n",
    "    q_dot_V=q_dot_V_cond_stat,\n",
    "    conditioned_on=[\"pde\", \"nbc\", \"stat\"],\n",
    "    X_pde=X_pde,\n",
    ")"
   ]
  },
  {
   "cell_type": "code",
   "execution_count": null,
   "id": "f99d47aa",
   "metadata": {},
   "outputs": [],
   "source": [
    "with plt.rc_context(config.tueplots_bundle(nrows=2, rel_width=0.5)):\n",
    "    with plt.rc_context({\"legend.loc\": \"lower center\"}):\n",
    "        fig, ax = plt.subplots(nrows=2, sharex=True)\n",
    "\n",
    "        plot_belief(\n",
    "            ax=ax[0],\n",
    "            u=u_cond_pde_nbc_stat,\n",
    "            conditioned_on=[\"pde\", \"nbc\", \"stat\"],\n",
    "            X_pde=X_pde,\n",
    "            q_dot_A=q_dot_A_cond_stat,\n",
    "        )\n",
    "\n",
    "        plot_pred_belief(\n",
    "            ax=ax[1],\n",
    "            u=u_cond_pde_nbc_stat,\n",
    "            q_dot_V=q_dot_V_cond_stat,\n",
    "            conditioned_on=[\"pde\", \"nbc\", \"stat\"],\n",
    "            X_pde=X_pde,\n",
    "        )\n",
    "\n",
    "experiment_utils.savefig(\"03_full_02_cond_pde_nbc_stat\")"
   ]
  },
  {
   "cell_type": "markdown",
   "id": "2f047e3f",
   "metadata": {},
   "source": [
    "### Measurements"
   ]
  },
  {
   "cell_type": "code",
   "execution_count": null,
   "id": "0175964a",
   "metadata": {},
   "outputs": [],
   "source": [
    "u_cond_pde_nbc_stat_dts = u_cond_pde_nbc_stat.condition_on_observations(\n",
    "    Y=y_dts,\n",
    "    X=X_dts,\n",
    "    b=noise_dts,\n",
    ")"
   ]
  },
  {
   "cell_type": "code",
   "execution_count": null,
   "id": "5ccaee04",
   "metadata": {},
   "outputs": [],
   "source": [
    "with plt.rc_context(config.tueplots_bundle(rel_width=0.5)):\n",
    "    with plt.rc_context({\"legend.loc\": \"lower center\"}):\n",
    "        plot_belief(\n",
    "            plt.gca(),\n",
    "            u=u_cond_pde_nbc_stat_dts,\n",
    "            conditioned_on=[\"pde\", \"nbc\", \"stat\", \"dts\"],\n",
    "            X_pde=X_pde,\n",
    "            q_dot_A=q_dot_A_cond_stat,\n",
    "            X_dts=X_dts,\n",
    "            y_dts=y_dts,\n",
    "            noise_dts=noise_dts,\n",
    "        )\n",
    "\n",
    "experiment_utils.savefig(\"03_full_03_cond_pde_nbc_stat_dts_u\")"
   ]
  },
  {
   "cell_type": "code",
   "execution_count": null,
   "id": "7d1fa608",
   "metadata": {},
   "outputs": [],
   "source": [
    "with plt.rc_context(config.tueplots_bundle(rel_width=0.5)):\n",
    "    with plt.rc_context({\"legend.loc\": \"lower center\"}):\n",
    "        plot_pred_belief(\n",
    "            plt.gca(),\n",
    "            u=u_cond_pde_nbc_stat_dts,\n",
    "            q_dot_V=q_dot_V_cond_stat,\n",
    "            conditioned_on=[\"pde\", \"nbc\", \"stat\", \"dts\"],\n",
    "            X_pde=X_pde,\n",
    "        )\n",
    "\n",
    "experiment_utils.savefig(\"03_full_03_cond_pde_nbc_stat_dts_f\")"
   ]
  },
  {
   "cell_type": "code",
   "execution_count": null,
   "id": "f99d47aa",
   "metadata": {},
   "outputs": [],
   "source": [
    "with plt.rc_context(config.tueplots_bundle(nrows=2, rel_width=0.5)):\n",
    "    with plt.rc_context({\"legend.loc\": \"lower center\"}):\n",
    "        fig, ax = plt.subplots(nrows=2, sharex=True)\n",
    "\n",
    "        plot_belief(\n",
    "            ax=ax[0],\n",
    "            u=u_cond_pde_nbc_stat_dts,\n",
    "            conditioned_on=[\"pde\", \"nbc\", \"stat\", \"dts\"],\n",
    "            X_pde=X_pde,\n",
    "            q_dot_A=q_dot_A_cond_stat,\n",
    "            X_dts=X_dts,\n",
    "            y_dts=y_dts,\n",
    "            noise_dts=noise_dts,\n",
    "        )\n",
    "\n",
    "        plot_pred_belief(\n",
    "            ax=ax[1],\n",
    "            u=u_cond_pde_nbc_stat_dts,\n",
    "            q_dot_V=q_dot_V_cond_stat,\n",
    "            conditioned_on=[\"pde\", \"nbc\", \"stat\", \"dts\"],\n",
    "            X_pde=X_pde,\n",
    "        )\n",
    "\n",
    "experiment_utils.savefig(\"03_full_03_cond_pde_nbc_stat_dts\")"
   ]
  },
  {
   "cell_type": "code",
   "execution_count": null,
   "id": "b9c50e03",
   "metadata": {},
   "outputs": [],
   "source": []
  }
 ],
 "metadata": {
  "kernelspec": {
   "display_name": "Python 3.10.0 ('linpde-gp')",
   "language": "python",
   "name": "python3"
  },
  "language_info": {
   "codemirror_mode": {
    "name": "ipython",
    "version": 3
   },
   "file_extension": ".py",
   "mimetype": "text/x-python",
   "name": "python",
   "nbconvert_exporter": "python",
   "pygments_lexer": "ipython3",
   "version": "3.10.4"
  },
  "vscode": {
   "interpreter": {
    "hash": "88aade6ae3c887346ad7959dbc8c013e14bde92b1226dcb94dccc773c12fdf89"
   }
  }
 },
 "nbformat": 4,
 "nbformat_minor": 5
}
