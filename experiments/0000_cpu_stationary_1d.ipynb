{
 "cells": [
  {
   "cell_type": "code",
   "execution_count": null,
   "id": "f416152f-fc5f-405a-8b24-1ca919bcdade",
   "metadata": {},
   "outputs": [],
   "source": [
    "import matplotlib.pyplot as plt\n",
    "import numpy as np\n",
    "import probnum as pn\n",
    "\n",
    "import linpde_gp"
   ]
  },
  {
   "cell_type": "code",
   "execution_count": null,
   "id": "8234a5d8-aa32-48ee-9c8c-81bc280c5218",
   "metadata": {},
   "outputs": [],
   "source": [
    "import experiment_utils\n",
    "from experiment_utils import config\n",
    "\n",
    "config.experiment_name = \"0000_cpu_stationary_1d\"\n",
    "config.target = \"jmlr\"\n",
    "config.debug_mode = True"
   ]
  },
  {
   "cell_type": "code",
   "execution_count": null,
   "id": "b3d74b7c-8c57-49a8-a1a5-cdbf998da43e",
   "metadata": {
    "tags": []
   },
   "outputs": [],
   "source": [
    "%matplotlib inline\n",
    "\n",
    "import matplotlib.axes\n",
    "import matplotlib.ticker\n",
    "\n",
    "plt.rcParams.update(config.tueplots_bundle())\n",
    "\n",
    "class BeliefPlotter:\n",
    "    def __init__(self, pde: linpde_gp.problems.pde.PoissonEquation):\n",
    "        self._pde = pde\n",
    "\n",
    "        self._plt_grid = np.linspace(*self._pde.domain, 100)\n",
    "\n",
    "    @staticmethod\n",
    "    def _build_cond_events_str(\n",
    "        conditioned_on: list[str],\n",
    "        simplified_labels: bool = False,\n",
    "    ) -> str:\n",
    "        for key in conditioned_on:\n",
    "            match key:\n",
    "                case \"bc\":\n",
    "                    yield (\n",
    "                        r\"\\mathrm{BC}\"\n",
    "                        if simplified_labels\n",
    "                        else r\"u\\vert_{\\partial \\Omega} = g\"\n",
    "                    )\n",
    "                case \"pde\":\n",
    "                    yield (\n",
    "                        r\"\\mathrm{PDE}\"\n",
    "                        if simplified_labels\n",
    "                        else r\"-k \\Delta u(x_{\\mathrm{PDE}, i}) - \\dot{q}_V(x_{\\mathrm{PDE}, i}) = 0\"\n",
    "                    )\n",
    "                case \"dts\":\n",
    "                    yield (\n",
    "                        r\"\\mathrm{DTS}\"\n",
    "                        if simplified_labels\n",
    "                        else r\"u(x_{\\mathrm{DTS}, i}) = u_{\\mathrm{DTS}, i}\"\n",
    "                    )\n",
    "                case \"nbc\":\n",
    "                    yield (\n",
    "                        r\"\\mathrm{NBC}\"\n",
    "                        if simplified_labels\n",
    "                        else r\"-k \\nabla_n u\\vert_{\\partial \\Omega} - \\dot{q}_A = 0\"\n",
    "                    )\n",
    "                case _:\n",
    "                    raise ValueError(f\"Unknown event '{key}'\")\n",
    "\n",
    "    @staticmethod\n",
    "    def _configure_axes(ax: matplotlib.axes.Axes, plt_grid: np.ndarray):\n",
    "        ax.xaxis.set_major_locator(\n",
    "            matplotlib.ticker.FixedLocator(\n",
    "                [\n",
    "                    plt_grid[0],\n",
    "                    plt_grid[-1],\n",
    "                ]\n",
    "            )\n",
    "        )\n",
    "        ax.xaxis.set_major_formatter(\n",
    "            matplotlib.ticker.FixedFormatter(\n",
    "                [\n",
    "                    rf\"${plt_grid[0]:.0f}\\,\\mathrm{{mm}}$\",\n",
    "                    r\"$l_{\\mathrm{CPU}}$\",\n",
    "                ]\n",
    "            )\n",
    "        )\n",
    "\n",
    "        ax.xaxis.set_minor_locator(matplotlib.ticker.AutoMinorLocator())\n",
    "        ax.xaxis.set_minor_formatter(\n",
    "            matplotlib.ticker.FormatStrFormatter(r\"$%d\\,\\mathrm{mm}$\")\n",
    "        )\n",
    "\n",
    "    def plot_belief(\n",
    "        self,\n",
    "        ax,\n",
    "        u: pn.randprocs.GaussianProcess,\n",
    "        conditioned_on: list[str] = [],\n",
    "        X_pde: np.ndarray | None = None,\n",
    "        boundary_condition: linpde_gp.problems.pde.DirichletBoundaryCondition | None = None,\n",
    "        solution: pn.Function | None = None,\n",
    "        X_dts: np.ndarray | None = None,\n",
    "        u_X_dts: pn.randvars.RandomVariable | None = None,\n",
    "        simplified_labels: bool = False,\n",
    "    ):\n",
    "        cond_events_str = \", \".join(\n",
    "            BeliefPlotter._build_cond_events_str(\n",
    "                conditioned_on,\n",
    "                simplified_labels=simplified_labels\n",
    "            )\n",
    "        )\n",
    "\n",
    "        u_label = (\n",
    "            fr\"$u \\mid {cond_events_str}$\"\n",
    "            if len(cond_events_str) > 0\n",
    "            else \"$u$\"\n",
    "        )\n",
    "        \n",
    "        u.plot(\n",
    "            ax,\n",
    "            self._plt_grid,\n",
    "            num_samples=10,\n",
    "            rng=np.random.default_rng(24),\n",
    "            color=\"C0\",\n",
    "            label=u_label,\n",
    "        )\n",
    "        \n",
    "        if solution is not None:\n",
    "            ax.plot(\n",
    "                self._plt_grid,\n",
    "                solution(self._plt_grid),\n",
    "                color=\"C1\",\n",
    "                label=\"$u^*$\",\n",
    "            )\n",
    "        \n",
    "        for key in conditioned_on:\n",
    "            if key == \"bc\":\n",
    "                g = pn.randvars.asrandvar(boundary_condition.values)\n",
    "\n",
    "                ax.errorbar(\n",
    "                    self._pde.domain.boundary,\n",
    "                    g.mean,\n",
    "                    yerr=1.96 * g.std,\n",
    "                    fmt=\"+\",\n",
    "                    capsize=2,\n",
    "                    color=\"C2\",\n",
    "                    label=r\"$g$\",\n",
    "                )\n",
    "            elif key == \"pde\":\n",
    "                for i, x in enumerate(X_pde):\n",
    "                    label = None\n",
    "\n",
    "                    if i == 0:\n",
    "                        if simplified_labels:\n",
    "                            label = r\"$x_{\\mathrm{PDE}, i}$\"\n",
    "                        else:\n",
    "                            label = (\n",
    "                                fr\"$x_{{\\mathrm{{PDE}}, 1}}, \\dots, \"\n",
    "                                fr\" x_{{\\mathrm{{PDE}}, {X_pde.shape[0]}}}$\"\n",
    "                            )\n",
    "\n",
    "                    ax.axvline(\n",
    "                        x,\n",
    "                        color=\"C3\",\n",
    "                        alpha=0.1,\n",
    "                        linestyle=\"--\",\n",
    "                        label=label,\n",
    "                    )\n",
    "            elif key == \"dts\":\n",
    "                u_X_dts = pn.asrandvar(u_X_dts)\n",
    "\n",
    "                if simplified_labels:\n",
    "                    label = r\"$(x_{\\mathrm{DTS}, i}, u_{\\mathrm{DTS}, i})$\"\n",
    "                else:\n",
    "                    label = (\n",
    "                        r\"$u_{{\\mathrm{{DTS}}, 1}}, \\dots, \"\n",
    "                        fr\"u_{{\\mathrm{{DTS}}, {X_dts.shape[0]}}}$\"\n",
    "                    )\n",
    "\n",
    "                ax.errorbar(\n",
    "                    X_dts,\n",
    "                    u_X_dts.mean,\n",
    "                    yerr=1.96 * u_X_dts.std,\n",
    "                    fmt=\"+\",\n",
    "                    capsize=2,\n",
    "                    color=\"C4\",\n",
    "                    label=label,\n",
    "                )\n",
    "            elif key == \"nbc\":\n",
    "                neumann_bc = pn.asrandvar(boundary_condition)\n",
    "\n",
    "                linpde_gp.utils.plotting.plot_local_taylor_processes(\n",
    "                    ax,\n",
    "                    xs=self._pde.domain.boundary,\n",
    "                    coeffs_xs=[\n",
    "                        pn.randvars.Normal(\n",
    "                            np.array(\n",
    "                                [\n",
    "                                    u.mean(self._pde.domain[idx]),\n",
    "                                    (\n",
    "                                        -neumann_bc.mean[idx]\n",
    "                                        if idx == 0\n",
    "                                        else neumann_bc.mean[idx]\n",
    "                                    ),\n",
    "                                ],\n",
    "                            ),\n",
    "                            np.diag(\n",
    "                                [\n",
    "                                    0.0,\n",
    "                                    neumann_bc.var[idx],\n",
    "                                ],\n",
    "                            ),\n",
    "                        )\n",
    "                        for idx in [0, 1]\n",
    "                    ],\n",
    "                    radius=0.3,\n",
    "                    color=\"C5\",\n",
    "                    rel_fill_alpha=0.25,\n",
    "                    label=r\"$\\dot{q}_A$\",\n",
    "                )\n",
    "        \n",
    "        BeliefPlotter._configure_axes(ax, self._plt_grid)\n",
    "\n",
    "        ax.yaxis.set_major_formatter(\n",
    "            matplotlib.ticker.FormatStrFormatter(r\"$%d \\, {}^{\\circ} \\mathrm{C}$\")\n",
    "        )\n",
    "\n",
    "        ax.legend()\n",
    "\n",
    "    def plot_pred_belief(\n",
    "        self,\n",
    "        ax,\n",
    "        u: pn.randprocs.GaussianProcess,\n",
    "        conditioned_on: list[str] = [],\n",
    "        X_pde: np.ndarray | None = None,\n",
    "        f_X_pde: pn.randvars.RandomVariable | None = None,\n",
    "        simplified_labels: bool = False,\n",
    "    ):\n",
    "        cond_events_str = \", \".join(\n",
    "            BeliefPlotter._build_cond_events_str(\n",
    "                conditioned_on,\n",
    "                simplified_labels=simplified_labels\n",
    "            )\n",
    "        )\n",
    "        \n",
    "        u_label = (\n",
    "            fr\"$-k \\Delta u \\mid {cond_events_str}$\"\n",
    "            if len(cond_events_str) > 0\n",
    "            else r\"$-k \\Delta u$\"\n",
    "        )\n",
    "\n",
    "        self._pde.diffop(u).plot(\n",
    "            ax,\n",
    "            self._plt_grid,\n",
    "            num_samples=10,\n",
    "            rng=np.random.default_rng(24),\n",
    "            color=\"C0\",\n",
    "            label=u_label,\n",
    "        )\n",
    "        \n",
    "        self._pde.rhs.plot(\n",
    "            ax,\n",
    "            self._plt_grid,\n",
    "            color=\"C1\",\n",
    "            label=\"$\\dot{q}_V$\",\n",
    "        )\n",
    "        \n",
    "        if \"pde\" in conditioned_on:\n",
    "            f_X_pde = pn.randvars.asrandvar(f_X_pde)\n",
    "\n",
    "            if simplified_labels:\n",
    "                label = r\"$(x_{\\mathrm{PDE}, i}, \\dot{q}_V(x_{\\mathrm{PDE}, i}))$\"\n",
    "            else:\n",
    "                label = (\n",
    "                    r\"$\\dot{q}_V(x_{{\\mathrm{{PDE}}, 1}}), \\dots, \"\n",
    "                    fr\"\\dot{{q}}_V(x_{{\\mathrm{{PDE}}, {X_pde.shape[0]}}})$\"\n",
    "                )\n",
    "\n",
    "            ax.errorbar(\n",
    "                X_pde,\n",
    "                f_X_pde.mean,\n",
    "                yerr=1.96 * f_X_pde.std,\n",
    "                fmt=\"+\",\n",
    "                capsize=2,\n",
    "                c=\"C3\",\n",
    "                label=label,\n",
    "            )\n",
    "        \n",
    "        BeliefPlotter._configure_axes(ax, self._plt_grid)\n",
    "\n",
    "        ax.yaxis.set_major_formatter(\n",
    "            matplotlib.ticker.FormatStrFormatter(\n",
    "                r\"$%d \\, \\frac{\\mathrm{W}}{\\mathrm{mm}^3}$\"\n",
    "            )\n",
    "        )\n",
    "\n",
    "        ax.legend()"
   ]
  },
  {
   "cell_type": "markdown",
   "id": "ce8bb040-8596-4377-a72e-22d391cfc34c",
   "metadata": {
    "tags": []
   },
   "source": [
    "## Problem Definition"
   ]
  },
  {
   "cell_type": "markdown",
   "id": "e99d7e5f",
   "metadata": {},
   "source": [
    "### References\n",
    "1. https://en.wikichip.org/wiki/intel/microarchitectures/coffee_lake#Quad-Core\n",
    "2. https://ark.intel.com/content/www/us/en/ark/products/134896/intel-core-i59600k-processor-9m-cache-up-to-4-60-ghz.html\n",
    "3. https://ark.intel.com/content/www/us/en/ark/products/134599/intel-core-i912900k-processor-30m-cache-up-to-5-20-ghz.html\n",
    "4. https://journals.aps.org/pr/pdf/10.1103/PhysRev.134.A1058"
   ]
  },
  {
   "cell_type": "markdown",
   "id": "7c288dfa",
   "metadata": {},
   "source": [
    "### Geometry"
   ]
  },
  {
   "cell_type": "code",
   "execution_count": null,
   "id": "43808f65",
   "metadata": {},
   "outputs": [],
   "source": [
    "w_CPU = 9.19  # mm, [1]\n",
    "l_CPU = 16.0  # ≈ 16.28 mm, [1]\n",
    "d_CPU = 0.37  # mm, datasheed linked under [3] (\"Supplemental Information / Datasheet\")\n",
    "\n",
    "A_CPU_top = l_CPU * w_CPU  # mm^2\n",
    "A_CPU_EW = w_CPU * d_CPU  # mm^2\n",
    "A_CPU_NS = l_CPU * d_CPU  # mm^2\n",
    "A_CPU_TI = A_CPU_top + 2 * A_CPU_EW + 2 * A_CPU_NS  # mm^2, thermal interface area\n",
    "\n",
    "V_CPU = w_CPU * l_CPU * d_CPU  # mm^3"
   ]
  },
  {
   "cell_type": "code",
   "execution_count": null,
   "id": "26fa9a41-aa06-49d5-ae35-f4ab6eac3297",
   "metadata": {},
   "outputs": [],
   "source": [
    "domain = linpde_gp.domains.asdomain([0, l_CPU])"
   ]
  },
  {
   "cell_type": "code",
   "execution_count": null,
   "id": "bb3c3c2c",
   "metadata": {},
   "outputs": [],
   "source": [
    "X_core_centers = np.array([0.2, 0.4, 0.6]) * l_CPU  # estimated from the schematic in [1]"
   ]
  },
  {
   "cell_type": "markdown",
   "id": "de3fb76e",
   "metadata": {},
   "source": [
    "### Material Properties"
   ]
  },
  {
   "cell_type": "code",
   "execution_count": null,
   "id": "fab7efc4",
   "metadata": {},
   "outputs": [],
   "source": [
    "# Thermal conductivity\n",
    "k_CPU = 1.56 # W/cm K, [4] TODO: Improve this estimate\n",
    "k_CPU *= 10  # W/mm K"
   ]
  },
  {
   "cell_type": "markdown",
   "id": "e8c63cd9",
   "metadata": {},
   "source": [
    "### Heat Sources and Heat Sinks"
   ]
  },
  {
   "cell_type": "code",
   "execution_count": null,
   "id": "5a0d4c84",
   "metadata": {},
   "outputs": [],
   "source": [
    "TDP_CPU = 95 # W, [2]"
   ]
  },
  {
   "cell_type": "code",
   "execution_count": null,
   "id": "74747da2",
   "metadata": {},
   "outputs": [],
   "source": [
    "# CPU Cores = Heat Sources\n",
    "core_heat_std = 0.09 * l_CPU\n",
    "\n",
    "f_CPU = TDP_CPU / (w_CPU * d_CPU) * pn.LambdaFunction(\n",
    "    lambda x: (\n",
    "        1.0 / (np.sqrt(2 * np.pi) * core_heat_std)\n",
    "        * np.mean(\n",
    "            np.exp(-0.5 * ((x[..., None] - X_core_centers) / core_heat_std) ** 2),\n",
    "            axis=-1,\n",
    "        )\n",
    "    ),\n",
    "    input_shape=(),\n",
    "    output_shape=(),\n",
    ")"
   ]
  },
  {
   "cell_type": "code",
   "execution_count": null,
   "id": "a444c902-c372-44b9-bdfc-83d8f165a18a",
   "metadata": {},
   "outputs": [],
   "source": [
    "# CPU cooler = \"Uniform Heat Sink\"\n",
    "f_cooler = linpde_gp.functions.Constant(\n",
    "    input_shape=(),\n",
    "    value=TDP_CPU / A_CPU_top / d_CPU,\n",
    ")"
   ]
  },
  {
   "cell_type": "code",
   "execution_count": null,
   "id": "332ef8b7",
   "metadata": {},
   "outputs": [],
   "source": [
    "# Total amount of heat entering/leaving the CPU\n",
    "f = f_CPU - f_cooler"
   ]
  },
  {
   "cell_type": "markdown",
   "id": "96c2918a",
   "metadata": {},
   "source": [
    "### Visualization (Geometry and RHS)"
   ]
  },
  {
   "cell_type": "code",
   "execution_count": null,
   "id": "721c0739-b5f1-4197-bdec-78f357eada6c",
   "metadata": {},
   "outputs": [],
   "source": [
    "with plt.rc_context(config.tueplots_bundle(nrows=2, rel_width=0.5)):\n",
    "    fig, ax = plt.subplots(nrows=2, sharex=True)\n",
    "\n",
    "    # CPU Schematic\n",
    "    ax[0].add_patch(\n",
    "        plt.Rectangle(\n",
    "            (0, 0),\n",
    "            l_CPU,\n",
    "            w_CPU,\n",
    "            edgecolor=\"black\",\n",
    "            facecolor=\"white\",\n",
    "            linewidth=0.5,\n",
    "        )\n",
    "    )\n",
    "\n",
    "    for x_core_center in X_core_centers:\n",
    "        core_width = 2.5\n",
    "        core_height = 0.45 * w_CPU\n",
    "\n",
    "        ax[0].add_patch(\n",
    "            plt.Rectangle(\n",
    "                (x_core_center - core_width / 2, 0),\n",
    "                core_width,\n",
    "                core_height,\n",
    "                edgecolor=\"black\",\n",
    "                facecolor=\"white\",\n",
    "                linewidth=0.5,\n",
    "            )\n",
    "        )\n",
    "\n",
    "        ax[0].text(\n",
    "            x_core_center,\n",
    "            core_height / 2,\n",
    "            \"CPU Core\",\n",
    "            rotation=\"vertical\",\n",
    "            horizontalalignment=\"center\",\n",
    "            verticalalignment=\"center\",\n",
    "            fontsize=\"small\",\n",
    "        )\n",
    "\n",
    "        ax[0].add_patch(\n",
    "            plt.Rectangle(\n",
    "                (x_core_center - core_width / 2, w_CPU - core_height),\n",
    "                core_width,\n",
    "                core_height,\n",
    "                edgecolor=\"black\",\n",
    "                facecolor=\"white\",\n",
    "                linewidth=0.5,\n",
    "            )\n",
    "        )\n",
    "\n",
    "        ax[0].text(\n",
    "            x_core_center,\n",
    "            w_CPU - core_height / 2,\n",
    "            \"CPU Core\",\n",
    "            rotation=\"vertical\",\n",
    "            horizontalalignment=\"center\",\n",
    "            verticalalignment=\"center\",\n",
    "            fontsize=\"small\",\n",
    "        )\n",
    "\n",
    "    ax[0].plot([0.0, l_CPU], 2 * [core_height / 2], c=\"C1\")\n",
    "\n",
    "    ax[0].set_ylim(-0.5, w_CPU + 0.5)\n",
    "    ax[0].yaxis.set_major_locator(\n",
    "        matplotlib.ticker.FixedLocator(\n",
    "            [\n",
    "                0.0,\n",
    "                w_CPU,\n",
    "            ]\n",
    "        )\n",
    "    )\n",
    "    ax[0].yaxis.set_major_formatter(\n",
    "        matplotlib.ticker.FixedFormatter(\n",
    "            [\n",
    "                rf\"$0\\,\\mathrm{{mm}}$\",\n",
    "                r\"$w_{\\mathrm{CPU}}$\",\n",
    "            ]\n",
    "        )\n",
    "    )\n",
    "\n",
    "    ax[0].yaxis.set_minor_locator(matplotlib.ticker.AutoMinorLocator())\n",
    "    ax[0].yaxis.set_minor_formatter(\n",
    "        matplotlib.ticker.FormatStrFormatter(r\"$%d\\,\\mathrm{mm}$\")\n",
    "    )\n",
    "\n",
    "    # for spine in ax[0].spines.values():\n",
    "    #     spine.set_visible(False)\n",
    "\n",
    "    # ax[0].xaxis.set_visible(False)\n",
    "    # ax[0].yaxis.set_visible(False)\n",
    "\n",
    "    # PDE RHS\n",
    "    plt_grid = np.linspace(*domain, 100)\n",
    "\n",
    "    f.plot(\n",
    "        ax[1],\n",
    "        plt_grid,\n",
    "        c=\"C1\",\n",
    "        label=r\"$\\dot{q}_V$\"\n",
    "    )\n",
    "\n",
    "    BeliefPlotter._configure_axes(ax[1], plt_grid)\n",
    "    ax[1].yaxis.set_major_formatter(\n",
    "        matplotlib.ticker.FormatStrFormatter(\n",
    "            r\"$%d \\, \\frac{\\mathrm{W}}{\\mathrm{mm}^3}$\"\n",
    "        )\n",
    "    )\n",
    "    ax[1].legend(loc=\"lower center\")\n",
    "\n",
    "experiment_utils.savefig(\"00_geometry_pde_rhs\")"
   ]
  },
  {
   "cell_type": "markdown",
   "id": "a39ff75b",
   "metadata": {},
   "source": [
    "### PDE"
   ]
  },
  {
   "cell_type": "code",
   "execution_count": null,
   "id": "02421142-3565-4ea5-8e18-9e59978af4c8",
   "metadata": {},
   "outputs": [],
   "source": [
    "pde = linpde_gp.problems.pde.PoissonEquation(\n",
    "    domain=domain,\n",
    "    rhs=f,\n",
    "    alpha=k_CPU,\n",
    ")\n",
    "\n",
    "plotter = BeliefPlotter(pde)"
   ]
  },
  {
   "cell_type": "markdown",
   "id": "582d3242-e441-4704-abef-ddb302b89f6a",
   "metadata": {},
   "source": [
    "# Prior"
   ]
  },
  {
   "cell_type": "code",
   "execution_count": null,
   "id": "e325809a-1f28-4433-b8ea-452abd1de8fb",
   "metadata": {},
   "outputs": [],
   "source": [
    "u_prior = pn.randprocs.GaussianProcess(\n",
    "    mean=linpde_gp.functions.Constant(input_shape=(), value=59.0),\n",
    "    cov=3.0 ** 2 * linpde_gp.randprocs.kernels.Matern(\n",
    "        input_shape=(),\n",
    "        p=3,\n",
    "        lengthscale=8.0,\n",
    "    ),\n",
    ")"
   ]
  },
  {
   "cell_type": "code",
   "execution_count": null,
   "id": "dbbfe427",
   "metadata": {},
   "outputs": [],
   "source": [
    "plotter.plot_belief(\n",
    "    ax=plt.gca(),\n",
    "    u=u_prior,\n",
    ")"
   ]
  },
  {
   "cell_type": "code",
   "execution_count": null,
   "id": "efc625da",
   "metadata": {},
   "outputs": [],
   "source": [
    "plotter.plot_pred_belief(\n",
    "    ax=plt.gca(),\n",
    "    u=u_prior,\n",
    ")"
   ]
  },
  {
   "cell_type": "code",
   "execution_count": null,
   "id": "4cd34855-aaa4-4f36-8073-130729f914f4",
   "metadata": {},
   "outputs": [],
   "source": [
    "with plt.rc_context(config.tueplots_bundle(nrows=2, rel_width=0.5)):\n",
    "    with plt.rc_context({\"legend.loc\": \"lower center\"}):\n",
    "        fig, ax = plt.subplots(nrows=2, sharex=True)\n",
    "\n",
    "        plotter.plot_belief(\n",
    "            ax=ax[0],\n",
    "            u=u_prior,\n",
    "            simplified_labels=True,\n",
    "        )\n",
    "\n",
    "        plotter.plot_pred_belief(\n",
    "            ax=ax[1],\n",
    "            u=u_prior,\n",
    "            simplified_labels=True,\n",
    "        )\n",
    "\n",
    "experiment_utils.savefig(\"00_prior\")"
   ]
  },
  {
   "cell_type": "markdown",
   "id": "aa15a4a6-7261-4a27-b764-32ce0caecabb",
   "metadata": {
    "tags": []
   },
   "source": [
    "## Posterior (PDE First)"
   ]
  },
  {
   "cell_type": "markdown",
   "id": "96d86eb1-2636-44c3-a3db-34dc5e6f6a4f",
   "metadata": {},
   "source": [
    "### Conditioning on the PDE"
   ]
  },
  {
   "cell_type": "code",
   "execution_count": null,
   "id": "c7d1c847",
   "metadata": {},
   "outputs": [],
   "source": [
    "X_pde = np.linspace(pde.domain[0] + 0.5, pde.domain[1] - 0.5, 15)\n",
    "f_X_pde = pde.rhs(X_pde)"
   ]
  },
  {
   "cell_type": "code",
   "execution_count": null,
   "id": "c1bd76db-ddc8-440f-aefc-1506548e7b13",
   "metadata": {},
   "outputs": [],
   "source": [
    "u_cond_pde = u_prior.condition_on_observations(\n",
    "    X=X_pde,\n",
    "    Y=np.zeros_like(X_pde),\n",
    "    L=pde.diffop,\n",
    "    b=-pn.randvars.asrandvar(f_X_pde),\n",
    ")"
   ]
  },
  {
   "cell_type": "code",
   "execution_count": null,
   "id": "f798307f-2ad9-4688-a641-e08f33586efd",
   "metadata": {},
   "outputs": [],
   "source": [
    "plotter.plot_belief(\n",
    "    ax=plt.gca(),\n",
    "    u=u_cond_pde,\n",
    "    conditioned_on=[\"pde\"],\n",
    "    X_pde=X_pde,\n",
    ")"
   ]
  },
  {
   "cell_type": "code",
   "execution_count": null,
   "id": "4a04ef71-0a27-4548-b614-236ddd520e86",
   "metadata": {},
   "outputs": [],
   "source": [
    "plotter.plot_pred_belief(\n",
    "    ax=plt.gca(),\n",
    "    u=u_cond_pde,\n",
    "    conditioned_on=[\"pde\"],\n",
    "    X_pde=X_pde,\n",
    "    f_X_pde=f_X_pde,\n",
    ")"
   ]
  },
  {
   "cell_type": "code",
   "execution_count": null,
   "id": "96b2c903",
   "metadata": {},
   "outputs": [],
   "source": [
    "with plt.rc_context(config.tueplots_bundle(nrows=2, rel_width=0.5)):\n",
    "    with plt.rc_context({\"legend.loc\": \"lower center\"}):\n",
    "        fig, ax = plt.subplots(nrows=2, sharex=True)\n",
    "\n",
    "        plotter.plot_belief(\n",
    "            ax=ax[0],\n",
    "            u=u_cond_pde,\n",
    "            conditioned_on=[\"pde\"],\n",
    "            X_pde=X_pde,\n",
    "            simplified_labels=True,\n",
    "        )\n",
    "\n",
    "        plotter.plot_pred_belief(\n",
    "            ax=ax[1],\n",
    "            u=u_cond_pde,\n",
    "            conditioned_on=[\"pde\"],\n",
    "            X_pde=X_pde,\n",
    "            f_X_pde=f_X_pde,\n",
    "            simplified_labels=True,\n",
    "        )\n",
    "\n",
    "experiment_utils.savefig(\"01_cond_pde\")"
   ]
  },
  {
   "cell_type": "markdown",
   "id": "e7693e01",
   "metadata": {},
   "source": [
    "### Conditioning on Exact Dirichlet Boundary Conditions"
   ]
  },
  {
   "cell_type": "code",
   "execution_count": null,
   "id": "accab73a-d079-4634-9665-6c3c8aee1d76",
   "metadata": {},
   "outputs": [],
   "source": [
    "g = np.array([60.5, 58.5])\n",
    "\n",
    "bvp = linpde_gp.problems.pde.PoissonEquationDirichletProblem(pde, boundary_values=g)"
   ]
  },
  {
   "cell_type": "code",
   "execution_count": null,
   "id": "6af95978-0efd-492b-922a-2e76f37badb9",
   "metadata": {},
   "outputs": [],
   "source": [
    "u_cond_pde_bc = u_cond_pde.condition_on_observations(\n",
    "    X=np.asarray(pde.domain.boundary),\n",
    "    Y=g,\n",
    ")"
   ]
  },
  {
   "cell_type": "code",
   "execution_count": null,
   "id": "47869cc3-2b2c-4f3a-9092-d48565f5af2e",
   "metadata": {},
   "outputs": [],
   "source": [
    "plotter.plot_belief(\n",
    "    ax=plt.gca(),\n",
    "    u=u_cond_pde_bc,\n",
    "    conditioned_on=[\"pde\", \"bc\"],\n",
    "    X_pde=X_pde,\n",
    "    boundary_condition=bvp.boundary_conditions[0],\n",
    ")"
   ]
  },
  {
   "cell_type": "code",
   "execution_count": null,
   "id": "2a3f5d99-34bb-43f7-8a3b-6796cfbfd123",
   "metadata": {},
   "outputs": [],
   "source": [
    "plotter.plot_pred_belief(\n",
    "    ax=plt.gca(),\n",
    "    u=u_cond_pde_bc,\n",
    "    conditioned_on=[\"pde\", \"bc\"],\n",
    "    X_pde=X_pde,\n",
    "    f_X_pde=f_X_pde,\n",
    ")"
   ]
  },
  {
   "cell_type": "code",
   "execution_count": null,
   "id": "4f7bb808",
   "metadata": {},
   "outputs": [],
   "source": [
    "with plt.rc_context(config.tueplots_bundle(nrows=2, rel_width=0.5)):\n",
    "    with plt.rc_context({\"legend.loc\": \"lower center\"}):\n",
    "        fig, ax = plt.subplots(nrows=2, sharex=True)\n",
    "\n",
    "        plotter.plot_belief(\n",
    "            ax=ax[0],\n",
    "            u=u_cond_pde_bc,\n",
    "            conditioned_on=[\"pde\", \"bc\"],\n",
    "            X_pde=X_pde,\n",
    "            boundary_condition=bvp.boundary_conditions[0],\n",
    "            simplified_labels=True,\n",
    "        )\n",
    "\n",
    "        plotter.plot_pred_belief(\n",
    "            ax=ax[1],\n",
    "            u=u_cond_pde_bc,\n",
    "            conditioned_on=[\"pde\", \"bc\"],\n",
    "            X_pde=X_pde,\n",
    "            f_X_pde=f_X_pde,\n",
    "            simplified_labels=True,\n",
    "        )\n",
    "    \n",
    "experiment_utils.savefig(\"02_cond_pde_bc\")"
   ]
  },
  {
   "cell_type": "markdown",
   "id": "5128c366",
   "metadata": {},
   "source": [
    "### Condition on Interior Measurements"
   ]
  },
  {
   "cell_type": "code",
   "execution_count": null,
   "id": "e30560dc",
   "metadata": {},
   "outputs": [],
   "source": [
    "X_dts = X_core_centers + 0.2\n",
    "u_X_dts = np.array([60.6, 60.8, 60])\n",
    "u_X_dts_noise = pn.randvars.Normal(\n",
    "    mean=np.zeros_like(u_X_dts),\n",
    "    cov=0.3 ** 2 * np.eye(u_X_dts.size),\n",
    ")"
   ]
  },
  {
   "cell_type": "code",
   "execution_count": null,
   "id": "6af95978-0efd-492b-922a-2e76f37badb9",
   "metadata": {},
   "outputs": [],
   "source": [
    "u_cond_pde_dts = u_cond_pde.condition_on_observations(\n",
    "    X=X_dts,\n",
    "    Y=u_X_dts,\n",
    "    b=u_X_dts_noise,\n",
    ")"
   ]
  },
  {
   "cell_type": "code",
   "execution_count": null,
   "id": "47869cc3-2b2c-4f3a-9092-d48565f5af2e",
   "metadata": {},
   "outputs": [],
   "source": [
    "plotter.plot_belief(\n",
    "    ax=plt.gca(),\n",
    "    u=u_cond_pde_dts,\n",
    "    conditioned_on=[\"pde\", \"dts\"],\n",
    "    X_pde=X_pde,\n",
    "    X_dts=X_dts,\n",
    "    u_X_dts=u_X_dts + u_X_dts_noise,\n",
    ")"
   ]
  },
  {
   "cell_type": "code",
   "execution_count": null,
   "id": "2a3f5d99-34bb-43f7-8a3b-6796cfbfd123",
   "metadata": {},
   "outputs": [],
   "source": [
    "plotter.plot_pred_belief(\n",
    "    ax=plt.gca(),\n",
    "    u=u_cond_pde_dts,\n",
    "    conditioned_on=[\"pde\", \"dts\"],\n",
    "    X_pde=X_pde,\n",
    "    f_X_pde=f_X_pde,\n",
    ")"
   ]
  },
  {
   "cell_type": "code",
   "execution_count": null,
   "id": "cdfc8203",
   "metadata": {},
   "outputs": [],
   "source": [
    "with plt.rc_context(config.tueplots_bundle(nrows=2, rel_width=0.5)):\n",
    "    with plt.rc_context({\"legend.loc\": \"lower center\"}):\n",
    "        fig, ax = plt.subplots(nrows=2, sharex=True)\n",
    "\n",
    "        plotter.plot_belief(\n",
    "            ax=ax[0],\n",
    "            u=u_cond_pde_dts,\n",
    "            conditioned_on=[\"pde\", \"dts\"],\n",
    "            X_pde=X_pde,\n",
    "            X_dts=X_dts,\n",
    "            u_X_dts=u_X_dts + u_X_dts_noise,\n",
    "            simplified_labels=True,\n",
    "        )\n",
    "\n",
    "        plotter.plot_pred_belief(\n",
    "            ax=ax[1],\n",
    "            u=u_cond_pde_dts,\n",
    "            conditioned_on=[\"pde\", \"dts\"],\n",
    "            X_pde=X_pde,\n",
    "            f_X_pde=f_X_pde,\n",
    "            simplified_labels=True,\n",
    "        )\n",
    "\n",
    "experiment_utils.savefig(\"03_cond_pde_dts\")"
   ]
  },
  {
   "cell_type": "markdown",
   "id": "6a751a71-a602-408c-a36b-100b94832f51",
   "metadata": {},
   "source": [
    "### Neumann Boundary Conditions"
   ]
  },
  {
   "cell_type": "markdown",
   "id": "5c8e7e4a",
   "metadata": {},
   "source": [
    "According to Fourier's law, the outward heat flux through the surface of the CPU is\n",
    "given by $q(x) = \\langle n(x), - k \\nabla u(x) \\rangle = - k \\nabla_{n(x)} u(x)$."
   ]
  },
  {
   "cell_type": "code",
   "execution_count": null,
   "id": "58a0f3be",
   "metadata": {},
   "outputs": [],
   "source": [
    "g_neumann = np.full(\n",
    "    (2,),\n",
    "    TDP_CPU / A_CPU_TI\n",
    ")\n",
    "\n",
    "eps_neumann = pn.randvars.Normal(\n",
    "    np.zeros_like(g_neumann),\n",
    "    np.diag(np.full_like(g_neumann, 0.2 ** 2))\n",
    ")"
   ]
  },
  {
   "cell_type": "code",
   "execution_count": null,
   "id": "85f09683",
   "metadata": {},
   "outputs": [],
   "source": [
    "left_boundary_op = -k_CPU * linpde_gp.linfuncops.diffops.DirectionalDerivative(-1.0)\n",
    "right_boundary_op = -k_CPU * linpde_gp.linfuncops.diffops.DirectionalDerivative(1.0)"
   ]
  },
  {
   "cell_type": "code",
   "execution_count": null,
   "id": "0213a0c4",
   "metadata": {},
   "outputs": [],
   "source": [
    "u_cond_pde_dts_bc = u_cond_pde_dts.condition_on_observations(\n",
    "    X=[domain[0]],\n",
    "    Y=[g_neumann[0]],\n",
    "    L=left_boundary_op,\n",
    "    b=eps_neumann[[0]],\n",
    ")\n",
    "\n",
    "u_cond_pde_dts_bc = u_cond_pde_dts_bc.condition_on_observations(\n",
    "    X=[domain[1]],\n",
    "    Y=[g_neumann[1]],\n",
    "    L=right_boundary_op,\n",
    "    b=eps_neumann[[1]],\n",
    ")"
   ]
  },
  {
   "cell_type": "code",
   "execution_count": null,
   "id": "7cb38df9",
   "metadata": {},
   "outputs": [],
   "source": [
    "plotter.plot_belief(\n",
    "    ax=plt.gca(),\n",
    "    u=u_cond_pde_dts_bc,\n",
    "    conditioned_on=[\"pde\", \"dts\", \"nbc\"],\n",
    "    X_pde=X_pde,\n",
    "    X_dts=X_dts,\n",
    "    u_X_dts=u_X_dts + u_X_dts_noise,\n",
    "    boundary_condition=g_neumann / -k_CPU + eps_neumann,\n",
    ")"
   ]
  },
  {
   "cell_type": "code",
   "execution_count": null,
   "id": "feb5ec33",
   "metadata": {},
   "outputs": [],
   "source": [
    "plotter.plot_pred_belief(\n",
    "    ax=plt.gca(),\n",
    "    u=u_cond_pde_dts,\n",
    "    conditioned_on=[\"pde\", \"dts\", \"nbc\"],\n",
    "    X_pde=X_pde,\n",
    "    f_X_pde=f_X_pde,\n",
    ")"
   ]
  },
  {
   "cell_type": "code",
   "execution_count": null,
   "id": "f99d47aa",
   "metadata": {},
   "outputs": [],
   "source": [
    "with plt.rc_context(config.tueplots_bundle(nrows=2, rel_width=0.5)):\n",
    "    with plt.rc_context({\"legend.loc\": \"lower center\"}):\n",
    "        fig, ax = plt.subplots(nrows=2, sharex=True)\n",
    "\n",
    "        plotter.plot_belief(\n",
    "            ax=ax[0],\n",
    "            u=u_cond_pde_dts_bc,\n",
    "            conditioned_on=[\"pde\", \"dts\", \"nbc\"],\n",
    "            X_pde=X_pde,\n",
    "            X_dts=X_dts,\n",
    "            u_X_dts=u_X_dts + u_X_dts_noise,\n",
    "            boundary_condition=g_neumann / -k_CPU + eps_neumann,\n",
    "            simplified_labels=True,\n",
    "        )\n",
    "\n",
    "        plotter.plot_pred_belief(\n",
    "            ax=ax[1],\n",
    "            u=u_cond_pde_dts,\n",
    "            conditioned_on=[\"pde\", \"dts\", \"nbc\"],\n",
    "            X_pde=X_pde,\n",
    "            f_X_pde=f_X_pde,\n",
    "            simplified_labels=True,\n",
    "        )\n",
    "\n",
    "experiment_utils.savefig(\"04_cond_pde_dts_nbc\")"
   ]
  },
  {
   "cell_type": "markdown",
   "id": "87887530",
   "metadata": {},
   "source": [
    "## Full Model"
   ]
  },
  {
   "cell_type": "markdown",
   "id": "cc5c802d",
   "metadata": {},
   "source": [
    "\\begin{align*}\n",
    "    u & \\sim \\mathcal{GP}(m_u, k_u) \\\\\n",
    "    \\dot{q}_V & \\sim \\mathcal{GP}(m_f, k_f) \\\\\n",
    "    \\dot{q}_A & \\sim \\mathcal{N}(\\mu_g, \\Sigma_u) \\\\\n",
    "\\end{align*}\n",
    "\n",
    "\\begin{align*}\n",
    "    w_\\text{CPU} \\cdot d_\\text{CPU} \\cdot \\int_D \\dot{q}_V(x) \\mathrm{d}x - w_\\text{CPU} \\cdot d_\\text{CPU} \\cdot \\left( \\dot{q}_{A, 1} + \\dot{q}_{A, 2} \\right) - 2 \\cdot l_\\text{CPU} \\cdot d_\\text{CPU} \\cdot \\dot{q}_{A, 3} & = 0 \\\\\n",
    "    -k \\Delta u(x_{\\text{PDE}, i}) - \\dot{q}_V(x_{\\text{PDE}, i}) & = 0 \\\\\n",
    "    \\frac{\\partial u(x_{\\text{NBC}, i})}{\\partial \\nu(x_{\\text{NBC}, i})} - \\dot{q}_{A, i} & = 0 \\qquad \\qquad \\qquad i \\in \\{ 1, 2 \\} \\\\\n",
    "    u(x_{\\text{DTS}, i}) + \\epsilon_{\\text{DTS}, i} & = \\hat{u}_{\\text{DTS}, i}\n",
    "\\end{align*}"
   ]
  },
  {
   "cell_type": "markdown",
   "id": "3f316840",
   "metadata": {},
   "source": [
    "### Prior"
   ]
  },
  {
   "cell_type": "code",
   "execution_count": null,
   "id": "d1600a85",
   "metadata": {},
   "outputs": [],
   "source": [
    "u_prior = pn.randprocs.GaussianProcess(\n",
    "    mean=linpde_gp.functions.Constant(input_shape=(), value=59.0),\n",
    "    cov=3.0 ** 2 * linpde_gp.randprocs.kernels.Matern(\n",
    "        input_shape=(),\n",
    "        p=3,\n",
    "        lengthscale=8.0,\n",
    "    ),\n",
    ")"
   ]
  },
  {
   "cell_type": "code",
   "execution_count": null,
   "id": "cfa42ce4",
   "metadata": {},
   "outputs": [],
   "source": [
    "f_prior = pn.randprocs.GaussianProcess(\n",
    "    mean=f_CPU - linpde_gp.functions.Constant((), TDP_CPU / A_CPU_TI / d_CPU),\n",
    "    cov=linpde_gp.randprocs.kernels.Matern(\n",
    "        input_shape=(),\n",
    "        p=3,\n",
    "        lengthscale=8.0,\n",
    "    ),\n",
    ")"
   ]
  },
  {
   "cell_type": "code",
   "execution_count": null,
   "id": "789cdc6c",
   "metadata": {},
   "outputs": [],
   "source": [
    "g_prior = pn.randvars.Normal(\n",
    "    mean=np.full((3,), TDP_CPU / A_CPU_TI),\n",
    "    cov=0.2 ** 2 * np.eye(3),\n",
    ")"
   ]
  },
  {
   "cell_type": "markdown",
   "id": "9ba72cc3",
   "metadata": {},
   "source": [
    "### Stationarity Condition"
   ]
  },
  {
   "cell_type": "code",
   "execution_count": null,
   "id": "71e3ef8f",
   "metadata": {},
   "outputs": [],
   "source": [
    "L_stat = w_CPU * d_CPU * linpde_gp.linfuncops.UndefinedLebesgueIntegral(lower_bound=domain[0])\n",
    "A_stat = -np.array([A_CPU_EW, A_CPU_EW, 2 * A_CPU_NS])\n",
    "\n",
    "f_stat = f_prior.condition_on_observations(\n",
    "    X=[domain[1]],\n",
    "    Y=[0.0],\n",
    "    L=L_stat,\n",
    "    b=A_stat @ g_prior,\n",
    ")\n",
    "\n",
    "g_stat = g_prior.condition_on_observations(\n",
    "    observations=0.0,\n",
    "    noise=L_stat(f_prior)(domain[1]),\n",
    "    transform=A_stat,\n",
    ")"
   ]
  },
  {
   "cell_type": "code",
   "execution_count": null,
   "id": "30d20848",
   "metadata": {},
   "outputs": [],
   "source": [
    "f_stat.plot(\n",
    "    plt.gca(), np.linspace(0.0, l_CPU), num_samples=10, rng=np.random.default_rng(24)\n",
    ")"
   ]
  },
  {
   "cell_type": "code",
   "execution_count": null,
   "id": "fafb920d",
   "metadata": {},
   "outputs": [],
   "source": []
  }
 ],
 "metadata": {
  "interpreter": {
   "hash": "77667e9c64d75a2118edecfc83f7d8b4053f7ad6b677992fa7a52ce1c01219a0"
  },
  "kernelspec": {
   "display_name": "Python 3.10.4 ('linpde-gp')",
   "language": "python",
   "name": "python3"
  },
  "language_info": {
   "codemirror_mode": {
    "name": "ipython",
    "version": 3
   },
   "file_extension": ".py",
   "mimetype": "text/x-python",
   "name": "python",
   "nbconvert_exporter": "python",
   "pygments_lexer": "ipython3",
   "version": "3.10.4"
  }
 },
 "nbformat": 4,
 "nbformat_minor": 5
}
