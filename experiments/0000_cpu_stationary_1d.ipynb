{
 "cells": [
  {
   "cell_type": "code",
   "execution_count": null,
   "id": "f416152f-fc5f-405a-8b24-1ca919bcdade",
   "metadata": {},
   "outputs": [],
   "source": [
    "import matplotlib.pyplot as plt\n",
    "import numpy as np\n",
    "import probnum as pn\n",
    "\n",
    "import linpde_gp"
   ]
  },
  {
   "cell_type": "code",
   "execution_count": null,
   "id": "8234a5d8-aa32-48ee-9c8c-81bc280c5218",
   "metadata": {},
   "outputs": [],
   "source": [
    "import experiment_utils\n",
    "from experiment_utils import config\n",
    "\n",
    "config.experiment_name = \"0000_cpu_stationary_1d\"\n",
    "config.target = \"jmlr\"\n",
    "config.debug_mode = True"
   ]
  },
  {
   "cell_type": "code",
   "execution_count": null,
   "id": "b3d74b7c-8c57-49a8-a1a5-cdbf998da43e",
   "metadata": {
    "tags": []
   },
   "outputs": [],
   "source": [
    "%matplotlib inline\n",
    "\n",
    "plt.rcParams.update(config.tueplots_bundle(rel_width=0.5))\n",
    "\n",
    "class BeliefPlotter:\n",
    "    def __init__(self, bvp: linpde_gp.problems.pde.PoissonEquationDirichletProblem):\n",
    "        self._bvp = bvp\n",
    "        self._plt_grid = np.linspace(*bvp.domain, 100)\n",
    "\n",
    "    def plot_belief(\n",
    "        self,\n",
    "        ax,\n",
    "        u: pn.randprocs.GaussianProcess,\n",
    "        conditioned_on: list[str] = [],\n",
    "        X_pde: np.ndarray | None = None,\n",
    "        f_X_pde: pn.randvars.RandomVariable | None = None,\n",
    "    ):\n",
    "        u_conditional_strs = []\n",
    "        \n",
    "        for key in conditioned_on:\n",
    "            if key == \"bc\":\n",
    "                u_conditional_strs.append(r\"u\\vert_{\\partial \\Omega} = g\")\n",
    "            elif key == \"pde\":\n",
    "                u_conditional_strs.append(r\"-\\Delta u(x_i) = f(x_i)\")\n",
    "        \n",
    "        u_label = (\n",
    "            fr\"$u \\mid {', '.join(u_conditional_strs)}$\"\n",
    "            if len(u_conditional_strs) > 0\n",
    "            else \"$u$\"\n",
    "        )\n",
    "        \n",
    "        u.plot(\n",
    "            ax,\n",
    "            self._plt_grid,\n",
    "            num_samples=10,\n",
    "            rng=np.random.default_rng(24),\n",
    "            color=\"C0\",\n",
    "            label=u_label,\n",
    "        )\n",
    "        \n",
    "        if self._bvp.solution is not None:\n",
    "            ax.plot(\n",
    "                self._plt_grid,\n",
    "                self._bvp.solution(self._plt_grid),\n",
    "                color=\"C1\",\n",
    "                label=\"$u^*$\",\n",
    "            )\n",
    "        \n",
    "        for key in conditioned_on:\n",
    "            if key == \"bc\":\n",
    "                g = self._bvp.boundary_conditions[0].values\n",
    "\n",
    "                ax.errorbar(\n",
    "                    self._bvp.domain.boundary,\n",
    "                    g.mean,\n",
    "                    yerr=1.96 * g.std,\n",
    "                    fmt=\"+\",\n",
    "                    capsize=2,\n",
    "                    color=\"C2\",\n",
    "                    label=r\"$g$\",\n",
    "                )\n",
    "            elif key == \"pde\":\n",
    "                linpde_gp.utils.plotting.plot_local_curvature(\n",
    "                    ax,\n",
    "                    xs=X_pde,\n",
    "                    f_xs=u.mean(X_pde),\n",
    "                    ddf_xs=-f_X_pde,\n",
    "                    # df_xs=(\n",
    "                    #     linpde_gp.linfuncops.diffops.PartialDerivative(\n",
    "                    #         domain_shape=(),\n",
    "                    #         domain_index=(),\n",
    "                    #     )(u)(X_pde).mean\n",
    "                    # ),\n",
    "                    color=\"C3\",\n",
    "                    label=f\"$(f(x_1), \\dots, f(x_{{{X_pde.shape[0]}}}))$\",\n",
    "                )\n",
    "        \n",
    "        ax.legend()\n",
    "\n",
    "    def plot_pred_belief(\n",
    "        self,\n",
    "        ax,\n",
    "        u: pn.randprocs.GaussianProcess,\n",
    "        conditioned_on: list[str] = [],\n",
    "        X_pde: np.ndarray | None = None,\n",
    "        f_X_pde: pn.randvars.RandomVariable | None = None,\n",
    "    ):\n",
    "        u_conditional_strs = []\n",
    "        \n",
    "        for key in conditioned_on:\n",
    "            if key == \"bc\":\n",
    "                u_conditional_strs.append(r\"u\\vert_{\\partial \\Omega} = g\")\n",
    "            elif key == \"pde\":\n",
    "                u_conditional_strs.append(r\"-\\Delta u(x_i) = f(x_i)\")\n",
    "        \n",
    "        u_label = (\n",
    "            fr\"$-\\Delta u \\mid {', '.join(u_conditional_strs)}$\"\n",
    "            if len(u_conditional_strs) > 0\n",
    "            else \"$-\\Delta u$\"\n",
    "        )\n",
    "\n",
    "        self._bvp.diffop(u).plot(\n",
    "            ax,\n",
    "            self._plt_grid,\n",
    "            num_samples=10,\n",
    "            rng=np.random.default_rng(24),\n",
    "            color=\"C0\",\n",
    "            label=u_label,\n",
    "        )\n",
    "        \n",
    "        self._bvp.rhs.plot(\n",
    "            ax,\n",
    "            self._plt_grid,\n",
    "            color=\"C1\",\n",
    "            label=\"$f$\",\n",
    "        )\n",
    "        \n",
    "        if \"pde\" in conditioned_on:\n",
    "            ax.errorbar(\n",
    "                X_pde,\n",
    "                f_X_pde.mean,\n",
    "                yerr=1.96 * f_X_pde.std,\n",
    "                fmt=\"+\",\n",
    "                capsize=2,\n",
    "                c=\"C3\",\n",
    "                label=f\"$(f(x_1), \\dots, f(x_{{{X_pde.shape[0]}}}))$\",\n",
    "            )\n",
    "        \n",
    "        ax.legend()"
   ]
  },
  {
   "cell_type": "markdown",
   "id": "ce8bb040-8596-4377-a72e-22d391cfc34c",
   "metadata": {
    "tags": []
   },
   "source": [
    "## Problem Definition"
   ]
  },
  {
   "cell_type": "code",
   "execution_count": null,
   "id": "69d7dc5f-b465-4ef5-a721-109892241b5f",
   "metadata": {},
   "outputs": [],
   "source": [
    "# https://en.wikichip.org/wiki/intel/microarchitectures/coffee_lake#Quad-Core\n",
    "# https://ark.intel.com/content/www/us/en/ark/products/134896/intel-core-i59600k-processor-9m-cache-up-to-4-60-ghz.html\n",
    "w_CPU = 9.19  # mm\n",
    "l_CPU = 16.28  # mm\n",
    "area_CPU = w_CPU * l_CPU  # mm^2\n",
    "\n",
    "TDP_CPU = 95 # W\n",
    "\n",
    "rel_core_positions = np.array([0.2, 0.4, 0.6])\n",
    "std_core = 1.2"
   ]
  },
  {
   "cell_type": "code",
   "execution_count": null,
   "id": "26fa9a41-aa06-49d5-ae35-f4ab6eac3297",
   "metadata": {},
   "outputs": [],
   "source": [
    "domain = linpde_gp.domains.asdomain([0, l_CPU])"
   ]
  },
  {
   "cell_type": "code",
   "execution_count": null,
   "id": "a444c902-c372-44b9-bdfc-83d8f165a18a",
   "metadata": {},
   "outputs": [],
   "source": [
    "# Heat Sources\n",
    "f_CPU = pn.LambdaFunction(\n",
    "    lambda x: (TDP_CPU / w_CPU) * (1 / np.sqrt(2 * np.pi * std_core)) * np.mean(np.exp(-(1 / (2 * std_core ** 2)) * (x[..., None] - l_CPU * rel_core_positions) ** 2), axis=-1),\n",
    "    input_shape=(),\n",
    ")\n",
    "\n",
    "# Heat Sink\n",
    "f_cooler = pn.LambdaFunction(\n",
    "    lambda x: np.full_like(x, TDP_CPU / (area_CPU)),\n",
    "    input_shape=(),\n",
    ")\n",
    "\n",
    "f = pn.LambdaFunction(\n",
    "    lambda x: f_CPU(x) - f_cooler(x),\n",
    "    input_shape=(),\n",
    ")"
   ]
  },
  {
   "cell_type": "code",
   "execution_count": null,
   "id": "accab73a-d079-4634-9665-6c3c8aee1d76",
   "metadata": {},
   "outputs": [],
   "source": [
    "g = np.zeros(2) + 50\n",
    "\n",
    "X_pde = np.linspace(0.2, 14.8, 15)"
   ]
  },
  {
   "cell_type": "code",
   "execution_count": null,
   "id": "02421142-3565-4ea5-8e18-9e59978af4c8",
   "metadata": {},
   "outputs": [],
   "source": [
    "bvp = linpde_gp.problems.pde.PoissonEquationDirichletProblem(\n",
    "    domain=domain,\n",
    "    rhs=linpde_gp.randprocs.DeterministicProcess(f),\n",
    "    boundary_values=pn.randvars.asrandvar(g),\n",
    "    solution=None,\n",
    ")\n",
    "\n",
    "f_X_pde = bvp.rhs(X_pde)\n",
    "\n",
    "plotter = BeliefPlotter(bvp)"
   ]
  },
  {
   "cell_type": "code",
   "execution_count": null,
   "id": "721c0739-b5f1-4197-bdec-78f357eada6c",
   "metadata": {},
   "outputs": [],
   "source": [
    "xs = np.linspace(0, 16.28, 100)\n",
    "plt.plot(xs, f(xs))"
   ]
  },
  {
   "cell_type": "markdown",
   "id": "582d3242-e441-4704-abef-ddb302b89f6a",
   "metadata": {},
   "source": [
    "# Prior"
   ]
  },
  {
   "cell_type": "code",
   "execution_count": null,
   "id": "e325809a-1f28-4433-b8ea-452abd1de8fb",
   "metadata": {},
   "outputs": [],
   "source": [
    "u_prior = pn.randprocs.GaussianProcess(\n",
    "    mean=linpde_gp.functions.Constant(input_shape=(), value=50.0),\n",
    "    cov=10.0 ** 2 * linpde_gp.randprocs.kernels.Matern(\n",
    "        input_shape=(),\n",
    "        p=3,\n",
    "        lengthscale=5.0,\n",
    "    ),\n",
    ")"
   ]
  },
  {
   "cell_type": "code",
   "execution_count": null,
   "id": "4cd34855-aaa4-4f36-8073-130729f914f4",
   "metadata": {},
   "outputs": [],
   "source": [
    "plotter.plot_belief(\n",
    "    ax=plt.gca(),\n",
    "    u=u_prior,\n",
    ")"
   ]
  },
  {
   "cell_type": "code",
   "execution_count": null,
   "id": "04a987d8-9f54-4201-a18e-857ecf15e2f2",
   "metadata": {},
   "outputs": [],
   "source": [
    "plotter.plot_pred_belief(\n",
    "    ax=plt.gca(),\n",
    "    u=u_prior,\n",
    ")"
   ]
  },
  {
   "cell_type": "markdown",
   "id": "aa15a4a6-7261-4a27-b764-32ce0caecabb",
   "metadata": {
    "tags": []
   },
   "source": [
    "## Posterior (PDE First)"
   ]
  },
  {
   "cell_type": "markdown",
   "id": "96d86eb1-2636-44c3-a3db-34dc5e6f6a4f",
   "metadata": {},
   "source": [
    "### Conditioning on the PDE"
   ]
  },
  {
   "cell_type": "code",
   "execution_count": null,
   "id": "c1bd76db-ddc8-440f-aefc-1506548e7b13",
   "metadata": {},
   "outputs": [],
   "source": [
    "u_cond_pde = u_prior.condition_on_observations(\n",
    "    X=X_pde,\n",
    "    Y=np.zeros_like(X_pde),\n",
    "    L=bvp.diffop,\n",
    "    b=-f_X_pde,\n",
    ")"
   ]
  },
  {
   "cell_type": "code",
   "execution_count": null,
   "id": "f798307f-2ad9-4688-a641-e08f33586efd",
   "metadata": {},
   "outputs": [],
   "source": [
    "plotter.plot_belief(\n",
    "    ax=plt.gca(),\n",
    "    u=u_cond_pde,\n",
    "    conditioned_on=[\"pde\"],\n",
    "    X_pde=X_pde,\n",
    "    f_X_pde=f_X_pde,\n",
    ")\n",
    "\n",
    "# experiment_utils.savefig(\"pdefirst_01a_u_cond_pde\")"
   ]
  },
  {
   "cell_type": "code",
   "execution_count": null,
   "id": "4a04ef71-0a27-4548-b614-236ddd520e86",
   "metadata": {},
   "outputs": [],
   "source": [
    "plotter.plot_pred_belief(\n",
    "    ax=plt.gca(),\n",
    "    u=u_cond_pde,\n",
    "    conditioned_on=[\"pde\"],\n",
    "    X_pde=X_pde,\n",
    "    f_X_pde=f_X_pde,\n",
    ")\n",
    "\n",
    "# experiment_utils.savefig(\"pdefirst_01b_Du_cond_pde\")"
   ]
  },
  {
   "cell_type": "code",
   "execution_count": null,
   "id": "6af95978-0efd-492b-922a-2e76f37badb9",
   "metadata": {},
   "outputs": [],
   "source": [
    "u_cond_pde_bc = u_cond_pde.condition_on_observations(\n",
    "    X=bvp.domain.boundary,\n",
    "    Y=np.zeros_like(bvp.domain.boundary),\n",
    "    b=-bvp.boundary_conditions[0].values,\n",
    ")"
   ]
  },
  {
   "cell_type": "code",
   "execution_count": null,
   "id": "47869cc3-2b2c-4f3a-9092-d48565f5af2e",
   "metadata": {},
   "outputs": [],
   "source": [
    "plotter.plot_belief(\n",
    "    ax=plt.gca(),\n",
    "    u=u_cond_pde_bc,\n",
    "    conditioned_on=[\"pde\", \"bc\"],\n",
    "    X_pde=X_pde,\n",
    "    f_X_pde=f_X_pde,\n",
    ")\n",
    "\n",
    "experiment_utils.savefig(\"pdefirst_02a_u_cond_pde_bc\")"
   ]
  },
  {
   "cell_type": "code",
   "execution_count": null,
   "id": "2a3f5d99-34bb-43f7-8a3b-6796cfbfd123",
   "metadata": {},
   "outputs": [],
   "source": [
    "plotter.plot_pred_belief(\n",
    "    ax=plt.gca(),\n",
    "    u=u_cond_pde_bc,\n",
    "    conditioned_on=[\"pde\"],\n",
    "    X_pde=X_pde,\n",
    "    f_X_pde=f_X_pde,\n",
    ")\n",
    "\n",
    "experiment_utils.savefig(\"pdefirst_02b_Du_cond_pde_bc\")"
   ]
  },
  {
   "cell_type": "code",
   "execution_count": null,
   "id": "6af95978-0efd-492b-922a-2e76f37badb9",
   "metadata": {},
   "outputs": [],
   "source": [
    "u_cond_pde_meas = u_cond_pde.condition_on_observations(\n",
    "    X=rel_core_positions * l_CPU + 0.2,\n",
    "    Y=np.full_like(rel_core_positions, 60),\n",
    "    b=0.5 * pn.randvars.Normal(\n",
    "        np.zeros_like(rel_core_positions),\n",
    "        np.eye(rel_core_positions.size),\n",
    "    ),\n",
    ")"
   ]
  },
  {
   "cell_type": "code",
   "execution_count": null,
   "id": "47869cc3-2b2c-4f3a-9092-d48565f5af2e",
   "metadata": {},
   "outputs": [],
   "source": [
    "plotter.plot_belief(\n",
    "    ax=plt.gca(),\n",
    "    u=u_cond_pde_meas,\n",
    "    conditioned_on=[\"pde\"],\n",
    "    X_pde=X_pde,\n",
    "    f_X_pde=f_X_pde,\n",
    ")\n",
    "\n",
    "# experiment_utils.savefig(\"pdefirst_02a_u_cond_pde_bc\")"
   ]
  },
  {
   "cell_type": "code",
   "execution_count": null,
   "id": "2a3f5d99-34bb-43f7-8a3b-6796cfbfd123",
   "metadata": {},
   "outputs": [],
   "source": [
    "plotter.plot_pred_belief(\n",
    "    ax=plt.gca(),\n",
    "    u=u_cond_pde_meas,\n",
    "    conditioned_on=[\"pde\"],\n",
    "    X_pde=X_pde,\n",
    "    f_X_pde=f_X_pde,\n",
    ")\n",
    "\n",
    "# experiment_utils.savefig(\"pdefirst_02b_Du_cond_pde_bc\")"
   ]
  },
  {
   "cell_type": "code",
   "execution_count": null,
   "id": "6a751a71-a602-408c-a36b-100b94832f51",
   "metadata": {},
   "outputs": [],
   "source": []
  }
 ],
 "metadata": {
  "kernelspec": {
   "display_name": "Python [conda env:linpde-gp]",
   "language": "python",
   "name": "conda-env-linpde-gp-py"
  },
  "language_info": {
   "codemirror_mode": {
    "name": "ipython",
    "version": 3
   },
   "file_extension": ".py",
   "mimetype": "text/x-python",
   "name": "python",
   "nbconvert_exporter": "python",
   "pygments_lexer": "ipython3",
   "version": "3.10.4"
  }
 },
 "nbformat": 4,
 "nbformat_minor": 5
}
