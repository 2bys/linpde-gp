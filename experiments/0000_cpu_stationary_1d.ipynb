{
 "cells": [
  {
   "cell_type": "code",
   "execution_count": null,
   "id": "f416152f-fc5f-405a-8b24-1ca919bcdade",
   "metadata": {},
   "outputs": [],
   "source": [
    "import matplotlib.pyplot as plt\n",
    "import numpy as np\n",
    "import probnum as pn\n",
    "\n",
    "import linpde_gp"
   ]
  },
  {
   "cell_type": "code",
   "execution_count": null,
   "id": "8234a5d8-aa32-48ee-9c8c-81bc280c5218",
   "metadata": {},
   "outputs": [],
   "source": [
    "import experiment_utils\n",
    "from experiment_utils import config\n",
    "\n",
    "config.experiment_name = \"0000_cpu_stationary_1d\"\n",
    "config.target = \"jmlr\"\n",
    "config.debug_mode = True"
   ]
  },
  {
   "cell_type": "code",
   "execution_count": null,
   "id": "b3d74b7c-8c57-49a8-a1a5-cdbf998da43e",
   "metadata": {
    "tags": []
   },
   "outputs": [],
   "source": [
    "%matplotlib inline\n",
    "\n",
    "import matplotlib.axes\n",
    "import matplotlib.ticker\n",
    "\n",
    "from probnum.typing import ArrayLike\n",
    "\n",
    "from linpde_gp.typing import DomainLike, RandomProcessLike, RandomVariableLike\n",
    "\n",
    "plt.rcParams.update(config.tueplots_bundle())\n",
    "\n",
    "\n",
    "class BeliefPlotter:\n",
    "    def __init__(\n",
    "        self,\n",
    "        domain: DomainLike,\n",
    "        diffop: linpde_gp.linfuncops.LinearDifferentialOperator,\n",
    "    ):\n",
    "        self._domain = linpde_gp.domains.asdomain(domain)\n",
    "        self._diffop = diffop\n",
    "\n",
    "        self._plt_grid = np.linspace(*self._domain, 100)\n",
    "\n",
    "    def plot_belief(\n",
    "        self,\n",
    "        ax: matplotlib.axes.Axes,\n",
    "        *,\n",
    "        u: pn.randprocs.GaussianProcess,\n",
    "        conditioned_on: list[str] = [],\n",
    "        X_pde: ArrayLike | None = None,\n",
    "        g_X_bc: RandomVariableLike | None = None,\n",
    "        X_dts: ArrayLike | None = None,\n",
    "        u_X_dts: RandomVariableLike | None = None,\n",
    "        simplified_labels: bool = False,\n",
    "        solution: RandomProcessLike | None = None,\n",
    "    ):\n",
    "        # Solution Belief\n",
    "        cond_events_str = \", \".join(\n",
    "            BeliefPlotter._build_cond_events_str(\n",
    "                conditioned_on,\n",
    "                simplified_labels=simplified_labels\n",
    "            )\n",
    "        )\n",
    "        \n",
    "        u.plot(\n",
    "            ax,\n",
    "            self._plt_grid,\n",
    "            num_samples=10,\n",
    "            rng=np.random.default_rng(24),\n",
    "            color=\"C0\",\n",
    "            label=(\n",
    "                fr\"$u \\mid {cond_events_str}$\"\n",
    "                if len(cond_events_str) > 0\n",
    "                else \"$u$\"\n",
    "            ),\n",
    "        )\n",
    "        \n",
    "        # True Solution\n",
    "        if solution is not None:\n",
    "            ax.plot(\n",
    "                self._plt_grid,\n",
    "                solution(self._plt_grid),\n",
    "                color=\"C1\",\n",
    "                label=\"$u^*$\",\n",
    "            )\n",
    "\n",
    "        for key in conditioned_on:\n",
    "            # PDE Observations\n",
    "            if key == \"pde\":\n",
    "                X_pde = np.asarray(X_pde)\n",
    "\n",
    "                for i, x in enumerate(X_pde):\n",
    "                    label = None\n",
    "\n",
    "                    if i == 0:\n",
    "                        if simplified_labels:\n",
    "                            label = r\"$x_{\\mathrm{PDE}, i}$\"\n",
    "                        else:\n",
    "                            label = (\n",
    "                                fr\"$x_{{\\mathrm{{PDE}}, 1}}, \\dots, \"\n",
    "                                fr\" x_{{\\mathrm{{PDE}}, {X_pde.shape[0]}}}$\"\n",
    "                            )\n",
    "\n",
    "                    ax.axvline(\n",
    "                        x,\n",
    "                        color=\"C3\",\n",
    "                        alpha=0.1,\n",
    "                        linestyle=\"--\",\n",
    "                        label=label,\n",
    "                    )\n",
    "            # Dirichlet Boundary Conditions\n",
    "            elif key == \"dbc\":\n",
    "                X_bc = np.asarray(self._domain.boundary)\n",
    "                g_X_bc = pn.randvars.asrandvar(g_X_bc)\n",
    "\n",
    "                ax.errorbar(\n",
    "                    X_bc,\n",
    "                    g_X_bc.mean,\n",
    "                    yerr=1.96 * g_X_bc.std,\n",
    "                    fmt=\"+\",\n",
    "                    capsize=2,\n",
    "                    color=\"C2\",\n",
    "                    label=r\"$g$\",\n",
    "                )\n",
    "            # Neumann Boundary Conditions\n",
    "            elif key == \"nbc\":\n",
    "                X_bc = np.asarray(self._domain.boundary)\n",
    "                g_X_bc = pn.randvars.asrandvar(g_X_bc)\n",
    "\n",
    "                linpde_gp.utils.plotting.plot_local_taylor_processes(\n",
    "                    ax,\n",
    "                    xs=X_bc,\n",
    "                    coeffs_xs=[\n",
    "                        pn.randvars.Normal(\n",
    "                            np.array([u.mean(self._domain[0]), -g_X_bc.mean[0]]),\n",
    "                            np.diag([0.0, g_X_bc.var[0]]),\n",
    "                        ),\n",
    "                        pn.randvars.Normal(\n",
    "                            np.array([u.mean(self._domain[1]), g_X_bc.mean[1]]),\n",
    "                            np.diag([0.0, g_X_bc.var[1]]),\n",
    "                        ),\n",
    "                    ],\n",
    "                    radius=0.3,\n",
    "                    color=\"C5\",\n",
    "                    rel_fill_alpha=0.25,\n",
    "                    label=r\"$\\dot{q}_A$\",\n",
    "                )\n",
    "            # Measurements\n",
    "            elif key == \"dts\":\n",
    "                X_dts = np.asarray(X_dts)\n",
    "                u_X_dts = pn.asrandvar(u_X_dts)\n",
    "\n",
    "                if simplified_labels:\n",
    "                    label = r\"$(x_{\\mathrm{DTS}, i}, u_{\\mathrm{DTS}, i})$\"\n",
    "                else:\n",
    "                    label = (\n",
    "                        r\"$u_{{\\mathrm{{DTS}}, 1}}, \\dots, \"\n",
    "                        fr\"u_{{\\mathrm{{DTS}}, {X_dts.shape[0]}}}$\"\n",
    "                    )\n",
    "\n",
    "                ax.errorbar(\n",
    "                    X_dts,\n",
    "                    u_X_dts.mean,\n",
    "                    yerr=1.96 * u_X_dts.std,\n",
    "                    fmt=\"+\",\n",
    "                    capsize=2,\n",
    "                    color=\"C4\",\n",
    "                    label=label,\n",
    "                )\n",
    "            \n",
    "        \n",
    "        BeliefPlotter._configure_axes(ax, self._plt_grid)\n",
    "\n",
    "        ax.yaxis.set_major_formatter(\n",
    "            matplotlib.ticker.FormatStrFormatter(r\"$%d \\, {}^{\\circ} \\mathrm{C}$\")\n",
    "        )\n",
    "\n",
    "        ax.legend()\n",
    "\n",
    "    def plot_pred_belief(\n",
    "        self,\n",
    "        ax,\n",
    "        u: pn.randprocs.GaussianProcess,\n",
    "        f: RandomProcessLike,\n",
    "        conditioned_on: list[str] = [],\n",
    "        X_pde: ArrayLike | None = None,\n",
    "        simplified_labels: bool = False,\n",
    "    ):\n",
    "        # Differential Operator Image Belief\n",
    "        Du = self._diffop(u)\n",
    "\n",
    "        cond_events_str = \", \".join(\n",
    "            BeliefPlotter._build_cond_events_str(\n",
    "                conditioned_on,\n",
    "                simplified_labels=simplified_labels\n",
    "            )\n",
    "        )\n",
    "\n",
    "        Du.plot(\n",
    "            ax,\n",
    "            self._plt_grid,\n",
    "            num_samples=10,\n",
    "            rng=np.random.default_rng(24),\n",
    "            color=\"C0\",\n",
    "                label=(\n",
    "                fr\"$-\\kappa \\Delta u \\mid {cond_events_str}$\"\n",
    "                if len(cond_events_str) > 0\n",
    "                else r\"$-\\kappa \\Delta u$\"\n",
    "            ),\n",
    "        )\n",
    "        \n",
    "        # True Right-Hand Side\n",
    "        f = linpde_gp.randprocs.asrandproc(f)\n",
    "\n",
    "        f.plot(\n",
    "            ax,\n",
    "            self._plt_grid,\n",
    "            num_samples=10,\n",
    "            rng=np.random.default_rng(24),\n",
    "            color=\"C1\",\n",
    "            label=\"$\\dot{q}_V$\",\n",
    "        )\n",
    "        \n",
    "        # PDE Observations\n",
    "        if \"pde\" in conditioned_on:\n",
    "            X_pde = np.asarray(X_pde)\n",
    "            f_X_pde = f(X_pde)\n",
    "\n",
    "            if simplified_labels:\n",
    "                label = r\"$(x_{\\mathrm{PDE}, i}, \\dot{q}_V(x_{\\mathrm{PDE}, i}))$\"\n",
    "            else:\n",
    "                label = (\n",
    "                    r\"$\\dot{q}_V(x_{{\\mathrm{{PDE}}, 1}}), \\dots, \"\n",
    "                    fr\"\\dot{{q}}_V(x_{{\\mathrm{{PDE}}, {X_pde.shape[0]}}})$\"\n",
    "                )\n",
    "\n",
    "            ax.errorbar(\n",
    "                X_pde,\n",
    "                f_X_pde.mean,\n",
    "                yerr=1.96 * f_X_pde.std,\n",
    "                fmt=\"+\",\n",
    "                capsize=2,\n",
    "                c=\"C3\",\n",
    "                label=label,\n",
    "            )\n",
    "        \n",
    "        BeliefPlotter._configure_axes(ax, self._plt_grid)\n",
    "\n",
    "        ax.yaxis.set_major_formatter(\n",
    "            matplotlib.ticker.FormatStrFormatter(\n",
    "                r\"$%d \\, \\frac{\\mathrm{W}}{\\mathrm{mm}^3}$\"\n",
    "            )\n",
    "        )\n",
    "\n",
    "        ax.legend()\n",
    "\n",
    "    @staticmethod\n",
    "    def _build_cond_events_str(\n",
    "        conditioned_on: list[str],\n",
    "        simplified_labels: bool = False,\n",
    "    ) -> str:\n",
    "        for key in conditioned_on:\n",
    "            match key:\n",
    "                case \"pde\":\n",
    "                    yield (\n",
    "                        r\"\\mathrm{PDE}\"\n",
    "                        if simplified_labels\n",
    "                        else r\"-\\kappa \\Delta u(x_{\\mathrm{PDE}, i}) - \\dot{q}_V(x_{\\mathrm{PDE}, i}) = 0\"\n",
    "                    )\n",
    "                case \"dbc\":\n",
    "                    yield (\n",
    "                        r\"\\mathrm{BC}\"\n",
    "                        if simplified_labels\n",
    "                        else r\"u\\vert_{\\partial \\Omega} = g\"\n",
    "                    )\n",
    "                case \"nbc\":\n",
    "                    yield (\n",
    "                        r\"\\mathrm{NBC}\"\n",
    "                        if simplified_labels\n",
    "                        else r\"-\\kappa \\nabla_n u\\vert_{\\partial \\Omega} - \\dot{q}_A = 0\"\n",
    "                    )\n",
    "                case \"dts\":\n",
    "                    yield (\n",
    "                        r\"\\mathrm{DTS}\"\n",
    "                        if simplified_labels\n",
    "                        else r\"u(x_{\\mathrm{DTS}, i}) = u_{\\mathrm{DTS}, i}\"\n",
    "                    )\n",
    "                case _:\n",
    "                    raise ValueError(f\"Unknown event '{key}'\")\n",
    "\n",
    "    @staticmethod\n",
    "    def _configure_axes(ax: matplotlib.axes.Axes, plt_grid: np.ndarray):\n",
    "        ax.xaxis.set_major_locator(\n",
    "            matplotlib.ticker.FixedLocator(\n",
    "                [\n",
    "                    plt_grid[0],\n",
    "                    plt_grid[-1],\n",
    "                ]\n",
    "            )\n",
    "        )\n",
    "        ax.xaxis.set_major_formatter(\n",
    "            matplotlib.ticker.FixedFormatter(\n",
    "                [\n",
    "                    rf\"${plt_grid[0]:.0f}\\,\\mathrm{{mm}}$\",\n",
    "                    r\"$l_{\\mathrm{CPU}}$\",\n",
    "                ]\n",
    "            )\n",
    "        )\n",
    "\n",
    "        ax.xaxis.set_minor_locator(matplotlib.ticker.AutoMinorLocator())\n",
    "        ax.xaxis.set_minor_formatter(\n",
    "            matplotlib.ticker.FormatStrFormatter(r\"$%d\\,\\mathrm{mm}$\")\n",
    "        )"
   ]
  },
  {
   "cell_type": "markdown",
   "id": "ce8bb040-8596-4377-a72e-22d391cfc34c",
   "metadata": {
    "tags": []
   },
   "source": [
    "## Problem Definition"
   ]
  },
  {
   "cell_type": "markdown",
   "id": "e99d7e5f",
   "metadata": {},
   "source": [
    "### References\n",
    "1. https://en.wikichip.org/wiki/intel/microarchitectures/coffee_lake#Quad-Core\n",
    "2. https://ark.intel.com/content/www/us/en/ark/products/134896/intel-core-i59600k-processor-9m-cache-up-to-4-60-ghz.html\n",
    "3. https://ark.intel.com/content/www/us/en/ark/products/134599/intel-core-i912900k-processor-30m-cache-up-to-5-20-ghz.html\n",
    "4. https://journals.aps.org/pr/pdf/10.1103/PhysRev.134.A1058"
   ]
  },
  {
   "cell_type": "markdown",
   "id": "7c288dfa",
   "metadata": {},
   "source": [
    "### Geometry"
   ]
  },
  {
   "cell_type": "code",
   "execution_count": null,
   "id": "43808f65",
   "metadata": {},
   "outputs": [],
   "source": [
    "w_CPU = 9.19  # mm, [1]\n",
    "l_CPU = 16.0  # ≈ 16.28 mm, [1]\n",
    "d_CPU = 0.37  # mm, datasheed linked under [3] (\"Supplemental Information / Datasheet\")\n",
    "\n",
    "A_CPU_top = l_CPU * w_CPU  # mm^2\n",
    "A_CPU_EW = w_CPU * d_CPU  # mm^2\n",
    "A_CPU_NS = l_CPU * d_CPU  # mm^2\n",
    "A_CPU_TI = A_CPU_top + 2 * A_CPU_EW + 2 * A_CPU_NS  # mm^2, thermal interface area\n",
    "\n",
    "V_CPU = w_CPU * l_CPU * d_CPU  # mm^3"
   ]
  },
  {
   "cell_type": "code",
   "execution_count": null,
   "id": "26fa9a41-aa06-49d5-ae35-f4ab6eac3297",
   "metadata": {},
   "outputs": [],
   "source": [
    "domain = linpde_gp.domains.asdomain([0, l_CPU])"
   ]
  },
  {
   "cell_type": "code",
   "execution_count": null,
   "id": "bb3c3c2c",
   "metadata": {},
   "outputs": [],
   "source": [
    "X_core_centers = np.array([0.2, 0.4, 0.6]) * l_CPU  # estimated from the schematic in [1]"
   ]
  },
  {
   "cell_type": "markdown",
   "id": "de3fb76e",
   "metadata": {},
   "source": [
    "### Material Properties"
   ]
  },
  {
   "cell_type": "code",
   "execution_count": null,
   "id": "fab7efc4",
   "metadata": {},
   "outputs": [],
   "source": [
    "# Thermal conductivity\n",
    "k_CPU = 1.56 # W/cm K, [4] TODO: Improve this estimate\n",
    "k_CPU *= 10  # W/mm K"
   ]
  },
  {
   "cell_type": "markdown",
   "id": "e8c63cd9",
   "metadata": {},
   "source": [
    "### Heat Sources and Heat Sinks"
   ]
  },
  {
   "cell_type": "code",
   "execution_count": null,
   "id": "5a0d4c84",
   "metadata": {},
   "outputs": [],
   "source": [
    "TDP_CPU = 95 # W, [2]"
   ]
  },
  {
   "cell_type": "code",
   "execution_count": null,
   "id": "74747da2",
   "metadata": {},
   "outputs": [],
   "source": [
    "# CPU Cores = Heat Sources\n",
    "core_heat_std = 0.09 * l_CPU\n",
    "\n",
    "f_CPU = TDP_CPU / (w_CPU * d_CPU) * pn.LambdaFunction(\n",
    "    lambda x: (\n",
    "        1.0 / (np.sqrt(2 * np.pi) * core_heat_std)\n",
    "        * np.mean(\n",
    "            np.exp(-0.5 * ((x[..., None] - X_core_centers) / core_heat_std) ** 2),\n",
    "            axis=-1,\n",
    "        )\n",
    "    ),\n",
    "    input_shape=(),\n",
    "    output_shape=(),\n",
    ")"
   ]
  },
  {
   "cell_type": "code",
   "execution_count": null,
   "id": "a444c902-c372-44b9-bdfc-83d8f165a18a",
   "metadata": {},
   "outputs": [],
   "source": [
    "# CPU cooler = \"Uniform Heat Sink\"\n",
    "f_cooler = linpde_gp.functions.Constant(\n",
    "    input_shape=(),\n",
    "    value=TDP_CPU / A_CPU_top / d_CPU,\n",
    ")"
   ]
  },
  {
   "cell_type": "code",
   "execution_count": null,
   "id": "332ef8b7",
   "metadata": {},
   "outputs": [],
   "source": [
    "# Total amount of heat entering/leaving the CPU\n",
    "f = f_CPU - f_cooler"
   ]
  },
  {
   "cell_type": "markdown",
   "id": "96c2918a",
   "metadata": {},
   "source": [
    "### Visualization (Geometry and RHS)"
   ]
  },
  {
   "cell_type": "code",
   "execution_count": null,
   "id": "721c0739-b5f1-4197-bdec-78f357eada6c",
   "metadata": {},
   "outputs": [],
   "source": [
    "with plt.rc_context(config.tueplots_bundle(nrows=2, rel_width=0.5)):\n",
    "    fig, ax = plt.subplots(nrows=2, sharex=True)\n",
    "\n",
    "    # CPU Schematic\n",
    "    ax[0].add_patch(\n",
    "        plt.Rectangle(\n",
    "            (0, 0),\n",
    "            l_CPU,\n",
    "            w_CPU,\n",
    "            edgecolor=\"black\",\n",
    "            facecolor=\"white\",\n",
    "            linewidth=0.5,\n",
    "        )\n",
    "    )\n",
    "\n",
    "    for x_core_center in X_core_centers:\n",
    "        core_width = 2.5\n",
    "        core_height = 0.45 * w_CPU\n",
    "\n",
    "        ax[0].add_patch(\n",
    "            plt.Rectangle(\n",
    "                (x_core_center - core_width / 2, 0),\n",
    "                core_width,\n",
    "                core_height,\n",
    "                edgecolor=\"black\",\n",
    "                facecolor=\"white\",\n",
    "                linewidth=0.5,\n",
    "            )\n",
    "        )\n",
    "\n",
    "        ax[0].text(\n",
    "            x_core_center,\n",
    "            core_height / 2,\n",
    "            \"CPU Core\",\n",
    "            rotation=\"vertical\",\n",
    "            horizontalalignment=\"center\",\n",
    "            verticalalignment=\"center\",\n",
    "            fontsize=\"small\",\n",
    "        )\n",
    "\n",
    "        ax[0].add_patch(\n",
    "            plt.Rectangle(\n",
    "                (x_core_center - core_width / 2, w_CPU - core_height),\n",
    "                core_width,\n",
    "                core_height,\n",
    "                edgecolor=\"black\",\n",
    "                facecolor=\"white\",\n",
    "                linewidth=0.5,\n",
    "            )\n",
    "        )\n",
    "\n",
    "        ax[0].text(\n",
    "            x_core_center,\n",
    "            w_CPU - core_height / 2,\n",
    "            \"CPU Core\",\n",
    "            rotation=\"vertical\",\n",
    "            horizontalalignment=\"center\",\n",
    "            verticalalignment=\"center\",\n",
    "            fontsize=\"small\",\n",
    "        )\n",
    "\n",
    "    ax[0].plot([0.0, l_CPU], 2 * [core_height / 2], c=\"C1\")\n",
    "\n",
    "    ax[0].set_ylim(-0.5, w_CPU + 0.5)\n",
    "    ax[0].yaxis.set_major_locator(\n",
    "        matplotlib.ticker.FixedLocator(\n",
    "            [\n",
    "                0.0,\n",
    "                w_CPU,\n",
    "            ]\n",
    "        )\n",
    "    )\n",
    "    ax[0].yaxis.set_major_formatter(\n",
    "        matplotlib.ticker.FixedFormatter(\n",
    "            [\n",
    "                rf\"$0\\,\\mathrm{{mm}}$\",\n",
    "                r\"$w_{\\mathrm{CPU}}$\",\n",
    "            ]\n",
    "        )\n",
    "    )\n",
    "\n",
    "    ax[0].yaxis.set_minor_locator(matplotlib.ticker.AutoMinorLocator())\n",
    "    ax[0].yaxis.set_minor_formatter(\n",
    "        matplotlib.ticker.FormatStrFormatter(r\"$%d\\,\\mathrm{mm}$\")\n",
    "    )\n",
    "\n",
    "    # for spine in ax[0].spines.values():\n",
    "    #     spine.set_visible(False)\n",
    "\n",
    "    # ax[0].xaxis.set_visible(False)\n",
    "    # ax[0].yaxis.set_visible(False)\n",
    "\n",
    "    # PDE RHS\n",
    "    plt_grid = np.linspace(*domain, 100)\n",
    "\n",
    "    f.plot(\n",
    "        ax[1],\n",
    "        plt_grid,\n",
    "        c=\"C1\",\n",
    "        label=r\"$\\dot{q}_V$\"\n",
    "    )\n",
    "\n",
    "    BeliefPlotter._configure_axes(ax[1], plt_grid)\n",
    "    ax[1].yaxis.set_major_formatter(\n",
    "        matplotlib.ticker.FormatStrFormatter(\n",
    "            r\"$%d \\, \\frac{\\mathrm{W}}{\\mathrm{mm}^3}$\"\n",
    "        )\n",
    "    )\n",
    "    ax[1].legend(loc=\"lower center\")\n",
    "\n",
    "experiment_utils.savefig(\"00_geometry_pde_rhs\")"
   ]
  },
  {
   "cell_type": "markdown",
   "id": "a39ff75b",
   "metadata": {},
   "source": [
    "### PDE"
   ]
  },
  {
   "cell_type": "code",
   "execution_count": null,
   "id": "02421142-3565-4ea5-8e18-9e59978af4c8",
   "metadata": {},
   "outputs": [],
   "source": [
    "diffop = -k_CPU * linpde_gp.linfuncops.diffops.Laplacian(domain.shape)\n",
    "\n",
    "plotter = BeliefPlotter(domain, diffop)"
   ]
  },
  {
   "cell_type": "markdown",
   "id": "582d3242-e441-4704-abef-ddb302b89f6a",
   "metadata": {},
   "source": [
    "# Prior"
   ]
  },
  {
   "cell_type": "code",
   "execution_count": null,
   "id": "e325809a-1f28-4433-b8ea-452abd1de8fb",
   "metadata": {},
   "outputs": [],
   "source": [
    "u_prior = pn.randprocs.GaussianProcess(\n",
    "    mean=linpde_gp.functions.Constant(input_shape=(), value=59.0),\n",
    "    cov=3.0 ** 2 * linpde_gp.randprocs.kernels.Matern(\n",
    "        input_shape=(),\n",
    "        p=3,\n",
    "        lengthscale=8.0,\n",
    "    ),\n",
    ")"
   ]
  },
  {
   "cell_type": "code",
   "execution_count": null,
   "id": "dbbfe427",
   "metadata": {},
   "outputs": [],
   "source": [
    "plotter.plot_belief(\n",
    "    ax=plt.gca(),\n",
    "    u=u_prior,\n",
    ")"
   ]
  },
  {
   "cell_type": "code",
   "execution_count": null,
   "id": "efc625da",
   "metadata": {},
   "outputs": [],
   "source": [
    "plotter.plot_pred_belief(\n",
    "    ax=plt.gca(),\n",
    "    u=u_prior,\n",
    "    f=f,\n",
    ")"
   ]
  },
  {
   "cell_type": "code",
   "execution_count": null,
   "id": "4cd34855-aaa4-4f36-8073-130729f914f4",
   "metadata": {},
   "outputs": [],
   "source": [
    "with plt.rc_context(config.tueplots_bundle(nrows=2, rel_width=0.5)):\n",
    "    with plt.rc_context({\"legend.loc\": \"lower center\"}):\n",
    "        fig, ax = plt.subplots(nrows=2, sharex=True)\n",
    "\n",
    "        plotter.plot_belief(\n",
    "            ax=ax[0],\n",
    "            u=u_prior,\n",
    "            simplified_labels=True,\n",
    "        )\n",
    "\n",
    "        plotter.plot_pred_belief(\n",
    "            ax=ax[1],\n",
    "            u=u_prior,\n",
    "            f=f,\n",
    "            simplified_labels=True,\n",
    "        )\n",
    "\n",
    "experiment_utils.savefig(\"00_prior\")"
   ]
  },
  {
   "cell_type": "markdown",
   "id": "aa15a4a6-7261-4a27-b764-32ce0caecabb",
   "metadata": {
    "tags": []
   },
   "source": [
    "## Posterior"
   ]
  },
  {
   "cell_type": "markdown",
   "id": "96d86eb1-2636-44c3-a3db-34dc5e6f6a4f",
   "metadata": {},
   "source": [
    "### Conditioning on the PDE"
   ]
  },
  {
   "cell_type": "code",
   "execution_count": null,
   "id": "c7d1c847",
   "metadata": {},
   "outputs": [],
   "source": [
    "N_pde = 15\n",
    "\n",
    "X_pde = np.linspace(\n",
    "    domain[0] + 0.03 * l_CPU,\n",
    "    domain[1] - 0.03 * l_CPU,\n",
    "    N_pde,\n",
    ")"
   ]
  },
  {
   "cell_type": "code",
   "execution_count": null,
   "id": "c1bd76db-ddc8-440f-aefc-1506548e7b13",
   "metadata": {},
   "outputs": [],
   "source": [
    "u_cond_pde = u_prior.condition_on_observations(\n",
    "    X=X_pde,\n",
    "    Y=np.zeros_like(X_pde),\n",
    "    L=diffop,\n",
    "    b=-f(X_pde),\n",
    ")"
   ]
  },
  {
   "cell_type": "code",
   "execution_count": null,
   "id": "f798307f-2ad9-4688-a641-e08f33586efd",
   "metadata": {},
   "outputs": [],
   "source": [
    "plotter.plot_belief(\n",
    "    ax=plt.gca(),\n",
    "    u=u_cond_pde,\n",
    "    conditioned_on=[\"pde\"],\n",
    "    X_pde=X_pde,\n",
    ")"
   ]
  },
  {
   "cell_type": "code",
   "execution_count": null,
   "id": "4a04ef71-0a27-4548-b614-236ddd520e86",
   "metadata": {},
   "outputs": [],
   "source": [
    "plotter.plot_pred_belief(\n",
    "    ax=plt.gca(),\n",
    "    u=u_cond_pde,\n",
    "    f=f,\n",
    "    conditioned_on=[\"pde\"],\n",
    "    X_pde=X_pde,\n",
    ")"
   ]
  },
  {
   "cell_type": "code",
   "execution_count": null,
   "id": "96b2c903",
   "metadata": {},
   "outputs": [],
   "source": [
    "with plt.rc_context(config.tueplots_bundle(nrows=2, rel_width=0.5)):\n",
    "    with plt.rc_context({\"legend.loc\": \"lower center\"}):\n",
    "        fig, ax = plt.subplots(nrows=2, sharex=True)\n",
    "\n",
    "        plotter.plot_belief(\n",
    "            ax=ax[0],\n",
    "            u=u_cond_pde,\n",
    "            conditioned_on=[\"pde\"],\n",
    "            X_pde=X_pde,\n",
    "            simplified_labels=True,\n",
    "        )\n",
    "\n",
    "        plotter.plot_pred_belief(\n",
    "            ax=ax[1],\n",
    "            u=u_cond_pde,\n",
    "            f=f,\n",
    "            conditioned_on=[\"pde\"],\n",
    "            X_pde=X_pde,\n",
    "            simplified_labels=True,\n",
    "        )\n",
    "\n",
    "experiment_utils.savefig(\"01_cond_pde\")"
   ]
  },
  {
   "cell_type": "markdown",
   "id": "e7693e01",
   "metadata": {},
   "source": [
    "### Conditioning on the PDE and Exact Dirichlet Boundary Conditions"
   ]
  },
  {
   "cell_type": "code",
   "execution_count": null,
   "id": "accab73a-d079-4634-9665-6c3c8aee1d76",
   "metadata": {},
   "outputs": [],
   "source": [
    "X_dbc = np.asarray(domain.boundary)\n",
    "g_X_dbc = np.array([60.5, 58.5])"
   ]
  },
  {
   "cell_type": "code",
   "execution_count": null,
   "id": "6af95978-0efd-492b-922a-2e76f37badb9",
   "metadata": {},
   "outputs": [],
   "source": [
    "u_cond_pde_bc = u_cond_pde.condition_on_observations(\n",
    "    X=X_dbc,\n",
    "    Y=np.zeros_like(X_dbc),\n",
    "    b=-g_X_dbc,\n",
    ")"
   ]
  },
  {
   "cell_type": "code",
   "execution_count": null,
   "id": "47869cc3-2b2c-4f3a-9092-d48565f5af2e",
   "metadata": {},
   "outputs": [],
   "source": [
    "plotter.plot_belief(\n",
    "    ax=plt.gca(),\n",
    "    u=u_cond_pde_bc,\n",
    "    conditioned_on=[\"pde\", \"dbc\"],\n",
    "    X_pde=X_pde,\n",
    "    g_X_bc=g_X_dbc,\n",
    ")"
   ]
  },
  {
   "cell_type": "code",
   "execution_count": null,
   "id": "2a3f5d99-34bb-43f7-8a3b-6796cfbfd123",
   "metadata": {},
   "outputs": [],
   "source": [
    "plotter.plot_pred_belief(\n",
    "    ax=plt.gca(),\n",
    "    u=u_cond_pde_bc,\n",
    "    f=f,\n",
    "    conditioned_on=[\"pde\", \"dbc\"],\n",
    "    X_pde=X_pde,\n",
    ")"
   ]
  },
  {
   "cell_type": "code",
   "execution_count": null,
   "id": "4f7bb808",
   "metadata": {},
   "outputs": [],
   "source": [
    "with plt.rc_context(config.tueplots_bundle(nrows=2, rel_width=0.5)):\n",
    "    with plt.rc_context({\"legend.loc\": \"lower center\"}):\n",
    "        fig, ax = plt.subplots(nrows=2, sharex=True)\n",
    "\n",
    "        plotter.plot_belief(\n",
    "            ax=ax[0],\n",
    "            u=u_cond_pde_bc,\n",
    "            conditioned_on=[\"pde\", \"dbc\"],\n",
    "            X_pde=X_pde,\n",
    "            g_X_bc=g_X_dbc,\n",
    "            simplified_labels=True,\n",
    "        )\n",
    "\n",
    "        plotter.plot_pred_belief(\n",
    "            ax=ax[1],\n",
    "            u=u_cond_pde_bc,\n",
    "            f=f,\n",
    "            conditioned_on=[\"pde\", \"dbc\"],\n",
    "            X_pde=X_pde,\n",
    "            simplified_labels=True,\n",
    "        )\n",
    "    \n",
    "experiment_utils.savefig(\"02_cond_pde_bc\")"
   ]
  },
  {
   "cell_type": "markdown",
   "id": "fdf125b5",
   "metadata": {},
   "source": [
    "### Conditioning on the PDE and Neumann Boundary Conditions"
   ]
  },
  {
   "cell_type": "markdown",
   "id": "5c8e7e4a",
   "metadata": {},
   "source": [
    "According to Fourier's law, the outward heat flux through the surface of the CPU is\n",
    "given by $q(x) = \\langle n(x), - k \\nabla u(x) \\rangle = - k \\nabla_{n(x)} u(x)$."
   ]
  },
  {
   "cell_type": "code",
   "execution_count": null,
   "id": "58a0f3be",
   "metadata": {},
   "outputs": [],
   "source": [
    "X_nbc = np.asarray(domain.boundary)\n",
    "\n",
    "g_X_nbc = pn.randvars.Normal(\n",
    "    mean=np.full(2, TDP_CPU / A_CPU_TI),\n",
    "    cov=0.2 ** 2 * np.eye(2),\n",
    ")"
   ]
  },
  {
   "cell_type": "code",
   "execution_count": null,
   "id": "85f09683",
   "metadata": {},
   "outputs": [],
   "source": [
    "nbc_linop_left = -k_CPU * linpde_gp.linfuncops.diffops.DirectionalDerivative(-1.0)\n",
    "nbc_linop_right = -k_CPU * linpde_gp.linfuncops.diffops.DirectionalDerivative(1.0)"
   ]
  },
  {
   "cell_type": "code",
   "execution_count": null,
   "id": "0213a0c4",
   "metadata": {},
   "outputs": [],
   "source": [
    "u_cond_pde_nbc_left = u_cond_pde.condition_on_observations(\n",
    "    X=X_nbc[0],\n",
    "    Y=0.0,\n",
    "    L=nbc_linop_left,\n",
    "    b=-g_X_nbc[0],\n",
    ")\n",
    "\n",
    "u_cond_pde_nbc = u_cond_pde_nbc_left.condition_on_observations(\n",
    "    X=X_nbc[1],\n",
    "    Y=0.0,\n",
    "    L=nbc_linop_right,\n",
    "    b=-g_X_nbc[1],\n",
    ")"
   ]
  },
  {
   "cell_type": "code",
   "execution_count": null,
   "id": "7cb38df9",
   "metadata": {},
   "outputs": [],
   "source": [
    "plotter.plot_belief(\n",
    "    ax=plt.gca(),\n",
    "    u=u_cond_pde_nbc,\n",
    "    conditioned_on=[\"pde\", \"nbc\"],\n",
    "    X_pde=X_pde,\n",
    "    g_X_bc=g_X_nbc / -k_CPU,\n",
    ")"
   ]
  },
  {
   "cell_type": "code",
   "execution_count": null,
   "id": "feb5ec33",
   "metadata": {},
   "outputs": [],
   "source": [
    "plotter.plot_pred_belief(\n",
    "    ax=plt.gca(),\n",
    "    u=u_cond_pde_nbc,\n",
    "    f=f,\n",
    "    conditioned_on=[\"pde\", \"nbc\"],\n",
    "    X_pde=X_pde,\n",
    ")"
   ]
  },
  {
   "cell_type": "code",
   "execution_count": null,
   "id": "f99d47aa",
   "metadata": {},
   "outputs": [],
   "source": [
    "with plt.rc_context(config.tueplots_bundle(nrows=2, rel_width=0.5)):\n",
    "    with plt.rc_context({\"legend.loc\": \"lower center\"}):\n",
    "        fig, ax = plt.subplots(nrows=2, sharex=True)\n",
    "\n",
    "        plotter.plot_belief(\n",
    "            ax=ax[0],\n",
    "            u=u_cond_pde_nbc,\n",
    "            conditioned_on=[\"pde\", \"nbc\"],\n",
    "            X_pde=X_pde,\n",
    "            g_X_bc=g_X_nbc / -k_CPU,\n",
    "            simplified_labels=True,\n",
    "        )\n",
    "\n",
    "        plotter.plot_pred_belief(\n",
    "            ax=ax[1],\n",
    "            u=u_cond_pde_nbc,\n",
    "            f=f,\n",
    "            conditioned_on=[\"pde\", \"nbc\"],\n",
    "            X_pde=X_pde,\n",
    "            simplified_labels=True,\n",
    "        )\n",
    "\n",
    "experiment_utils.savefig(\"03_cond_pde_nbc\")"
   ]
  },
  {
   "cell_type": "markdown",
   "id": "5128c366",
   "metadata": {},
   "source": [
    "### Conditioning on the PDE and Interior Measurements"
   ]
  },
  {
   "cell_type": "code",
   "execution_count": null,
   "id": "e30560dc",
   "metadata": {},
   "outputs": [],
   "source": [
    "X_dts = X_core_centers + 0.2\n",
    "u_X_dts = np.array([60.6, 60.8, 60])\n",
    "u_X_dts_noise = pn.randvars.Normal(\n",
    "    mean=np.zeros_like(u_X_dts),\n",
    "    cov=0.3 ** 2 * np.eye(u_X_dts.size),\n",
    ")"
   ]
  },
  {
   "cell_type": "code",
   "execution_count": null,
   "id": "6af95978-0efd-492b-922a-2e76f37badb9",
   "metadata": {},
   "outputs": [],
   "source": [
    "u_cond_pde_dts = u_cond_pde.condition_on_observations(\n",
    "    X=X_dts,\n",
    "    Y=u_X_dts,\n",
    "    b=u_X_dts_noise,\n",
    ")"
   ]
  },
  {
   "cell_type": "code",
   "execution_count": null,
   "id": "47869cc3-2b2c-4f3a-9092-d48565f5af2e",
   "metadata": {},
   "outputs": [],
   "source": [
    "plotter.plot_belief(\n",
    "    ax=plt.gca(),\n",
    "    u=u_cond_pde_dts,\n",
    "    conditioned_on=[\"pde\", \"dts\"],\n",
    "    X_pde=X_pde,\n",
    "    X_dts=X_dts,\n",
    "    u_X_dts=u_X_dts + u_X_dts_noise,\n",
    ")"
   ]
  },
  {
   "cell_type": "code",
   "execution_count": null,
   "id": "2a3f5d99-34bb-43f7-8a3b-6796cfbfd123",
   "metadata": {},
   "outputs": [],
   "source": [
    "plotter.plot_pred_belief(\n",
    "    ax=plt.gca(),\n",
    "    u=u_cond_pde_dts,\n",
    "    f=f,\n",
    "    conditioned_on=[\"pde\", \"dts\"],\n",
    "    X_pde=X_pde,\n",
    ")"
   ]
  },
  {
   "cell_type": "code",
   "execution_count": null,
   "id": "cdfc8203",
   "metadata": {},
   "outputs": [],
   "source": [
    "with plt.rc_context(config.tueplots_bundle(nrows=2, rel_width=0.5)):\n",
    "    with plt.rc_context({\"legend.loc\": \"lower center\"}):\n",
    "        fig, ax = plt.subplots(nrows=2, sharex=True)\n",
    "\n",
    "        plotter.plot_belief(\n",
    "            ax=ax[0],\n",
    "            u=u_cond_pde_dts,\n",
    "            conditioned_on=[\"pde\", \"dts\"],\n",
    "            X_pde=X_pde,\n",
    "            X_dts=X_dts,\n",
    "            u_X_dts=u_X_dts + u_X_dts_noise,\n",
    "            simplified_labels=True,\n",
    "        )\n",
    "\n",
    "        plotter.plot_pred_belief(\n",
    "            ax=ax[1],\n",
    "            u=u_cond_pde_dts,\n",
    "            f=f,\n",
    "            conditioned_on=[\"pde\", \"dts\"],\n",
    "            X_pde=X_pde,\n",
    "            simplified_labels=True,\n",
    "        )\n",
    "\n",
    "experiment_utils.savefig(\"03_cond_pde_dts\")"
   ]
  },
  {
   "cell_type": "markdown",
   "id": "6a751a71-a602-408c-a36b-100b94832f51",
   "metadata": {},
   "source": [
    "### Conditioning on the PDE, Interior Measurements, and Neumann Boundary Conditions"
   ]
  },
  {
   "cell_type": "code",
   "execution_count": null,
   "id": "0213a0c4",
   "metadata": {},
   "outputs": [],
   "source": [
    "u_cond_pde_dts_nbc_left = u_cond_pde_dts.condition_on_observations(\n",
    "    X=X_nbc[0],\n",
    "    Y=0.0,\n",
    "    L=nbc_linop_left,\n",
    "    b=-g_X_nbc[0],\n",
    ")\n",
    "\n",
    "u_cond_pde_dts_nbc = u_cond_pde_dts_nbc_left.condition_on_observations(\n",
    "    X=X_nbc[1],\n",
    "    Y=0.0,\n",
    "    L=nbc_linop_right,\n",
    "    b=-g_X_nbc[1],\n",
    ")"
   ]
  },
  {
   "cell_type": "code",
   "execution_count": null,
   "id": "7cb38df9",
   "metadata": {},
   "outputs": [],
   "source": [
    "plotter.plot_belief(\n",
    "    ax=plt.gca(),\n",
    "    u=u_cond_pde_dts_nbc,\n",
    "    conditioned_on=[\"pde\", \"dts\", \"nbc\"],\n",
    "    X_pde=X_pde,\n",
    "    g_X_bc=g_X_nbc / -k_CPU,\n",
    "    X_dts=X_dts,\n",
    "    u_X_dts=u_X_dts + u_X_dts_noise,\n",
    ")"
   ]
  },
  {
   "cell_type": "code",
   "execution_count": null,
   "id": "feb5ec33",
   "metadata": {},
   "outputs": [],
   "source": [
    "plotter.plot_pred_belief(\n",
    "    ax=plt.gca(),\n",
    "    u=u_cond_pde_dts_nbc,\n",
    "    f=f,\n",
    "    conditioned_on=[\"pde\", \"dts\", \"nbc\"],\n",
    "    X_pde=X_pde,\n",
    ")"
   ]
  },
  {
   "cell_type": "code",
   "execution_count": null,
   "id": "f99d47aa",
   "metadata": {},
   "outputs": [],
   "source": [
    "with plt.rc_context(config.tueplots_bundle(nrows=2, rel_width=0.5)):\n",
    "    with plt.rc_context({\"legend.loc\": \"lower center\"}):\n",
    "        fig, ax = plt.subplots(nrows=2, sharex=True)\n",
    "\n",
    "        plotter.plot_belief(\n",
    "            ax=ax[0],\n",
    "            u=u_cond_pde_dts_nbc,\n",
    "            conditioned_on=[\"pde\", \"dts\", \"nbc\"],\n",
    "            X_pde=X_pde,\n",
    "            g_X_bc=g_X_nbc / -k_CPU,\n",
    "            X_dts=X_dts,\n",
    "            u_X_dts=u_X_dts + u_X_dts_noise,\n",
    "            simplified_labels=True,\n",
    "        )\n",
    "\n",
    "        plotter.plot_pred_belief(\n",
    "            ax=ax[1],\n",
    "            u=u_cond_pde_dts_nbc,\n",
    "            f=f,\n",
    "            conditioned_on=[\"pde\", \"dts\", \"nbc\"],\n",
    "            X_pde=X_pde,\n",
    "            simplified_labels=True,\n",
    "        )\n",
    "\n",
    "experiment_utils.savefig(\"04_cond_pde_dts_nbc\")"
   ]
  },
  {
   "cell_type": "markdown",
   "id": "87887530",
   "metadata": {},
   "source": [
    "## Full Model"
   ]
  },
  {
   "cell_type": "markdown",
   "id": "cc5c802d",
   "metadata": {},
   "source": [
    "\\begin{align*}\n",
    "    u & \\sim \\mathcal{GP}(m_u, k_u) \\\\\n",
    "    \\dot{q}_V & \\sim \\mathcal{GP}(m_f, k_f) \\\\\n",
    "    \\dot{q}_A & \\sim \\mathcal{N}(\\mu_g, \\Sigma_u) \\\\\n",
    "\\end{align*}\n",
    "\n",
    "\\begin{align*}\n",
    "    w_\\text{CPU} \\cdot \\int_D \\dot{q}_V(x) \\mathrm{d}x - w_\\text{CPU} \\cdot \\left( \\dot{q}_{A, 1} + \\dot{q}_{A, 2} \\right) - 2 \\cdot l_\\text{CPU} \\cdot \\dot{q}_{A, 3} & = 0 \\\\\n",
    "    -k \\Delta u(x_{\\text{PDE}, i}) - \\dot{q}_V(x_{\\text{PDE}, i}) & = 0 \\\\\n",
    "    \\frac{\\partial u(x_{\\text{NBC}, i})}{\\partial \\nu(x_{\\text{NBC}, i})} - \\dot{q}_{A, i} & = 0 \\qquad \\qquad \\qquad i \\in \\{ 1, 2 \\} \\\\\n",
    "    u(x_{\\text{DTS}, i}) + \\epsilon_{\\text{DTS}, i} & = \\hat{u}_{\\text{DTS}, i}\n",
    "\\end{align*}"
   ]
  },
  {
   "cell_type": "markdown",
   "id": "3f316840",
   "metadata": {},
   "source": [
    "### Prior"
   ]
  },
  {
   "cell_type": "code",
   "execution_count": null,
   "id": "d1600a85",
   "metadata": {},
   "outputs": [],
   "source": [
    "u_prior = pn.randprocs.GaussianProcess(\n",
    "    mean=linpde_gp.functions.Constant(input_shape=(), value=59.0),\n",
    "    cov=3.0 ** 2 * linpde_gp.randprocs.kernels.Matern(\n",
    "        input_shape=(),\n",
    "        p=3,\n",
    "        lengthscale=8.0,\n",
    "    ),\n",
    ")"
   ]
  },
  {
   "cell_type": "code",
   "execution_count": null,
   "id": "cfa42ce4",
   "metadata": {},
   "outputs": [],
   "source": [
    "f_prior = pn.randprocs.GaussianProcess(\n",
    "    mean=f_CPU - linpde_gp.functions.Constant((), TDP_CPU / A_CPU_TI / d_CPU),\n",
    "    cov=0.9 ** 2 * linpde_gp.randprocs.kernels.Matern(\n",
    "        input_shape=(),\n",
    "        p=3,\n",
    "        lengthscale=8.0,\n",
    "    ),\n",
    ")"
   ]
  },
  {
   "cell_type": "code",
   "execution_count": null,
   "id": "789cdc6c",
   "metadata": {},
   "outputs": [],
   "source": [
    "g_prior = pn.randvars.Normal(\n",
    "    mean=np.full((3,), TDP_CPU / A_CPU_TI),\n",
    "    cov=0.2 ** 2 * np.eye(3),\n",
    ")"
   ]
  },
  {
   "cell_type": "code",
   "execution_count": null,
   "id": "5ccaee04",
   "metadata": {},
   "outputs": [],
   "source": [
    "plotter.plot_belief(\n",
    "    plt.gca(),\n",
    "    u=u_prior,\n",
    ")"
   ]
  },
  {
   "cell_type": "code",
   "execution_count": null,
   "id": "7d1fa608",
   "metadata": {},
   "outputs": [],
   "source": [
    "plotter.plot_pred_belief(\n",
    "    plt.gca(),\n",
    "    u=u_prior,\n",
    "    f=f_prior,\n",
    ")"
   ]
  },
  {
   "cell_type": "markdown",
   "id": "9ba72cc3",
   "metadata": {},
   "source": [
    "### Stationarity Condition"
   ]
  },
  {
   "cell_type": "markdown",
   "id": "7cab615e",
   "metadata": {},
   "source": [
    "\\begin{equation*}\n",
    "    P\\left(\\dot{q}_V, \\dot{q}_A \\mid w_\\text{CPU} \\cdot \\int_D \\dot{q}_V(x) \\mathrm{d}x - w_\\text{CPU} \\cdot \\left( \\dot{q}_{A, 1} + \\dot{q}_{A, 2} \\right) - 2 \\cdot l_\\text{CPU} \\cdot \\dot{q}_{A, 3} = 0\\right)\n",
    "\\end{equation*}"
   ]
  },
  {
   "cell_type": "code",
   "execution_count": null,
   "id": "71e3ef8f",
   "metadata": {},
   "outputs": [],
   "source": [
    "L_stat = w_CPU * linpde_gp.linfunctls.LebesgueIntegral(input_domain=domain)\n",
    "A_stat = -np.array([w_CPU, w_CPU, 2 * l_CPU])\n",
    "\n",
    "f_stat = f_prior.condition_on_observations(\n",
    "    Y=0.0,\n",
    "    L=L_stat,\n",
    "    b=A_stat @ g_prior,\n",
    ")\n",
    "\n",
    "g_stat = g_prior.condition_on_observations(\n",
    "    observations=0.0,\n",
    "    noise=L_stat(f_prior),\n",
    "    transform=A_stat,\n",
    ")\n",
    "\n",
    "class CrossCovariance_f_stat_g_stat(\n",
    "    linpde_gp.randprocs.crosscov.ProcessVectorCrossCovariance\n",
    "):\n",
    "    def __init__(self):\n",
    "        self._kLa = L_stat(f_prior.cov, argnum=1)\n",
    "        self._A_Sigma = A_stat @ g_prior.cov\n",
    "\n",
    "        super().__init__(\n",
    "            randproc_input_shape=f_prior.input_shape,\n",
    "            randproc_output_shape=f_prior.output_shape,\n",
    "            randvar_shape=g_prior.shape,\n",
    "            reverse=False\n",
    "        )\n",
    "    \n",
    "    def _evaluate(self, x: np.ndarray) -> np.ndarray:\n",
    "        return -self._kLa(x)[:, None] * self._A_Sigma[None, :] / f_stat.gram[0, 0]\n",
    "    \n",
    "    def _evaluate_jax(self, x):\n",
    "        pass\n",
    "\n",
    "f_stat_g_stat_crosscov = CrossCovariance_f_stat_g_stat()"
   ]
  },
  {
   "cell_type": "code",
   "execution_count": null,
   "id": "b13960c2",
   "metadata": {},
   "outputs": [],
   "source": [
    "g_stat.cov"
   ]
  },
  {
   "cell_type": "code",
   "execution_count": null,
   "id": "22bca5c4",
   "metadata": {},
   "outputs": [],
   "source": [
    "plotter.plot_pred_belief(\n",
    "    plt.gca(),\n",
    "    u=u_prior,\n",
    "    f=f_stat,\n",
    ")"
   ]
  },
  {
   "cell_type": "markdown",
   "id": "dabc5eaa",
   "metadata": {},
   "source": [
    "### PDE Observations"
   ]
  },
  {
   "cell_type": "code",
   "execution_count": null,
   "id": "c7d1c847",
   "metadata": {},
   "outputs": [],
   "source": [
    "N_pde = 20\n",
    "\n",
    "X_pde = np.linspace(\n",
    "    domain[0] + 0.03 * l_CPU,\n",
    "    domain[1] - 0.03 * l_CPU,\n",
    "    N_pde,\n",
    ")"
   ]
  },
  {
   "cell_type": "code",
   "execution_count": null,
   "id": "52963fc9",
   "metadata": {},
   "outputs": [],
   "source": [
    "u_cond_PDE = u_prior.condition_on_observations(\n",
    "    X=X_pde,\n",
    "    Y=np.zeros_like(X_pde),\n",
    "    L=diffop,\n",
    "    b=-f_stat(X_pde),\n",
    ")"
   ]
  },
  {
   "cell_type": "code",
   "execution_count": null,
   "id": "5ccaee04",
   "metadata": {},
   "outputs": [],
   "source": [
    "plotter.plot_belief(\n",
    "    plt.gca(),\n",
    "    u=u_cond_PDE,\n",
    "    conditioned_on=[\"pde\"],\n",
    "    X_pde=X_pde,\n",
    ")"
   ]
  },
  {
   "cell_type": "code",
   "execution_count": null,
   "id": "7d1fa608",
   "metadata": {},
   "outputs": [],
   "source": [
    "plotter.plot_pred_belief(\n",
    "    plt.gca(),\n",
    "    u=u_cond_PDE,\n",
    "    f=f_stat,\n",
    "    conditioned_on=[\"pde\"],\n",
    "    X_pde=X_pde,\n",
    ")"
   ]
  },
  {
   "cell_type": "markdown",
   "id": "dabc5eaa",
   "metadata": {},
   "source": [
    "### Neumann Boundary Conditions"
   ]
  },
  {
   "cell_type": "code",
   "execution_count": null,
   "id": "8b851c8d",
   "metadata": {},
   "outputs": [],
   "source": [
    "u_cond_PDE_NBC = u_cond_PDE.condition_on_observations(\n",
    "    X=domain[0],\n",
    "    Y=0.0,\n",
    "    L=-k_CPU * linpde_gp.linfuncops.diffops.DirectionalDerivative(-1.0),\n",
    "    b=-g_stat[0],\n",
    ")\n",
    "\n",
    "u_cond_PDE_NBC = u_cond_PDE_NBC.condition_on_observations(\n",
    "    X=domain[1],\n",
    "    Y=0.0,\n",
    "    L=-k_CPU * linpde_gp.linfuncops.diffops.DirectionalDerivative(1.0),\n",
    "    b=-g_stat[1],\n",
    ")"
   ]
  },
  {
   "cell_type": "code",
   "execution_count": null,
   "id": "5ccaee04",
   "metadata": {},
   "outputs": [],
   "source": [
    "plotter.plot_belief(\n",
    "    plt.gca(),\n",
    "    u=u_cond_PDE_NBC,\n",
    "    conditioned_on=[\"pde\", \"nbc\"],\n",
    "    X_pde=X_pde,\n",
    "    g_X_bc=g_stat[0:2] / -k_CPU,\n",
    ")"
   ]
  },
  {
   "cell_type": "code",
   "execution_count": null,
   "id": "7d1fa608",
   "metadata": {},
   "outputs": [],
   "source": [
    "plotter.plot_pred_belief(\n",
    "    plt.gca(),\n",
    "    u=u_cond_PDE_NBC,\n",
    "    f=f_stat,\n",
    "    conditioned_on=[\"pde\", \"nbc\"],\n",
    "    X_pde=X_pde,\n",
    ")"
   ]
  },
  {
   "cell_type": "markdown",
   "id": "99f809db",
   "metadata": {},
   "source": [
    "### Modify Gram matrix to account for correlations"
   ]
  },
  {
   "cell_type": "code",
   "execution_count": null,
   "id": "c18f08e1",
   "metadata": {},
   "outputs": [],
   "source": [
    "gram_blocks = u_cond_PDE_NBC._gram_blocks\n",
    "f_stat_X_pde_f_stat_crosscov = f_stat_g_stat_crosscov(X_pde)"
   ]
  },
  {
   "cell_type": "code",
   "execution_count": null,
   "id": "8ad32c65",
   "metadata": {},
   "outputs": [],
   "source": [
    "gram_blocks_corr = (\n",
    "    (gram_blocks[0][0],),\n",
    "    (gram_blocks[1][0] + f_stat_X_pde_f_stat_crosscov[:, 0].T, gram_blocks[1][1]),\n",
    "    (gram_blocks[2][0] + f_stat_X_pde_f_stat_crosscov[:, 1].T, gram_blocks[2][1] + g_stat.cov[1, 0], gram_blocks[2][2])\n",
    ")"
   ]
  },
  {
   "cell_type": "code",
   "execution_count": null,
   "id": "d02240b8",
   "metadata": {},
   "outputs": [],
   "source": [
    "u_cond_PDE_NBC_corr = linpde_gp.randprocs.ConditionalGaussianProcess(\n",
    "    prior=u_cond_PDE_NBC._prior,\n",
    "    Ys=u_cond_PDE_NBC._Ys,\n",
    "    Ls=u_cond_PDE_NBC._Ls,\n",
    "    bs=u_cond_PDE_NBC._bs,\n",
    "    kLas=u_cond_PDE_NBC._kLas,\n",
    "    gram_blocks=gram_blocks_corr,\n",
    ")"
   ]
  },
  {
   "cell_type": "code",
   "execution_count": null,
   "id": "5ccaee04",
   "metadata": {},
   "outputs": [],
   "source": [
    "plotter.plot_belief(\n",
    "    plt.gca(),\n",
    "    u=u_cond_PDE_NBC_corr,\n",
    "    conditioned_on=[\"pde\", \"nbc\"],\n",
    "    X_pde=X_pde,\n",
    "    g_X_bc=g_stat[0:2] / -k_CPU,\n",
    ")"
   ]
  },
  {
   "cell_type": "code",
   "execution_count": null,
   "id": "7d1fa608",
   "metadata": {},
   "outputs": [],
   "source": [
    "plotter.plot_pred_belief(\n",
    "    plt.gca(),\n",
    "    u=u_cond_PDE_NBC_corr,\n",
    "    f=f_stat,\n",
    "    conditioned_on=[\"pde\", \"nbc\"],\n",
    "    X_pde=X_pde,\n",
    ")"
   ]
  },
  {
   "cell_type": "markdown",
   "id": "2f047e3f",
   "metadata": {},
   "source": [
    "### Measurements"
   ]
  },
  {
   "cell_type": "code",
   "execution_count": null,
   "id": "0175964a",
   "metadata": {},
   "outputs": [],
   "source": [
    "u_cond_PDE_NBC_DTS = u_cond_PDE_NBC.condition_on_observations(\n",
    "    X=X_dts,\n",
    "    Y=u_X_dts,\n",
    "    b=u_X_dts_noise,\n",
    ")"
   ]
  },
  {
   "cell_type": "code",
   "execution_count": null,
   "id": "5ccaee04",
   "metadata": {},
   "outputs": [],
   "source": [
    "plotter.plot_belief(\n",
    "    plt.gca(),\n",
    "    u=u_cond_PDE_NBC_DTS,\n",
    "    conditioned_on=[\"pde\", \"nbc\", \"dts\"],\n",
    "    X_pde=X_pde,\n",
    "    g_X_bc=g_stat[0:2] / -k_CPU,\n",
    "    X_dts=X_dts,\n",
    "    u_X_dts=u_X_dts + u_X_dts_noise,\n",
    ")"
   ]
  },
  {
   "cell_type": "code",
   "execution_count": null,
   "id": "7d1fa608",
   "metadata": {},
   "outputs": [],
   "source": [
    "plotter.plot_pred_belief(\n",
    "    plt.gca(),\n",
    "    u=u_cond_PDE_NBC_DTS,\n",
    "    f=f_stat,\n",
    "    conditioned_on=[\"pde\", \"nbc\", \"dts\"],\n",
    "    X_pde=X_pde,\n",
    ")"
   ]
  },
  {
   "cell_type": "code",
   "execution_count": null,
   "id": "b9c50e03",
   "metadata": {},
   "outputs": [],
   "source": []
  }
 ],
 "metadata": {
  "interpreter": {
   "hash": "77667e9c64d75a2118edecfc83f7d8b4053f7ad6b677992fa7a52ce1c01219a0"
  },
  "kernelspec": {
   "display_name": "Python 3.10.4 ('linpde-gp')",
   "language": "python",
   "name": "python3"
  },
  "language_info": {
   "codemirror_mode": {
    "name": "ipython",
    "version": 3
   },
   "file_extension": ".py",
   "mimetype": "text/x-python",
   "name": "python",
   "nbconvert_exporter": "python",
   "pygments_lexer": "ipython3",
   "version": "3.10.4"
  }
 },
 "nbformat": 4,
 "nbformat_minor": 5
}
