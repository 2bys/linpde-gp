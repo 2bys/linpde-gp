{
 "cells": [
  {
   "cell_type": "code",
   "execution_count": null,
   "id": "41ced55c-95bc-454b-a0dd-6d9249340e03",
   "metadata": {},
   "outputs": [],
   "source": [
    "import experiment_utils\n",
    "from experiment_utils import config\n",
    "\n",
    "config.experiment_name = \"0002_heat_1d\"\n",
    "config.target = \"jmlr\"\n",
    "config.debug_mode = True"
   ]
  },
  {
   "cell_type": "code",
   "execution_count": null,
   "id": "2b8d330c-66f8-4664-9131-1bdc669df437",
   "metadata": {},
   "outputs": [],
   "source": [
    "import matplotlib.pyplot as plt\n",
    "import numpy as np\n",
    "import probnum as pn\n",
    "\n",
    "import linpde_gp"
   ]
  },
  {
   "cell_type": "code",
   "execution_count": null,
   "id": "eb159da6-ec9e-4e3a-be45-aeffd5365900",
   "metadata": {},
   "outputs": [],
   "source": [
    "%matplotlib inline"
   ]
  },
  {
   "cell_type": "code",
   "execution_count": null,
   "id": "58dad844-9649-45ea-892a-2fae03c808a0",
   "metadata": {},
   "outputs": [],
   "source": [
    "plt.rcParams.update(config.tueplots_bundle())"
   ]
  },
  {
   "cell_type": "code",
   "execution_count": null,
   "id": "24c202b8-6760-45a0-b280-5791a6ad5585",
   "metadata": {},
   "outputs": [],
   "source": [
    "rng = np.random.default_rng(24)"
   ]
  },
  {
   "attachments": {},
   "cell_type": "markdown",
   "id": "fc88a9bb-460c-4107-a5c8-8722866d8a3b",
   "metadata": {
    "tags": []
   },
   "source": [
    "## Problem Definition"
   ]
  },
  {
   "cell_type": "code",
   "execution_count": null,
   "id": "bb500fa9-ab5f-481c-a0c2-96192469955a",
   "metadata": {},
   "outputs": [],
   "source": [
    "spatial_domain = linpde_gp.domains.asdomain([-1.0, 1.0])\n",
    "\n",
    "ibvp = linpde_gp.problems.pde.HeatEquationDirichletProblem(\n",
    "    t0=0.0,\n",
    "    T=5.0,\n",
    "    spatial_domain=spatial_domain,\n",
    "    alpha=0.1,\n",
    "    initial_values=linpde_gp.functions.TruncatedSineSeries(\n",
    "        spatial_domain,\n",
    "        coefficients=[1.0],\n",
    "    ),\n",
    ")"
   ]
  },
  {
   "cell_type": "code",
   "execution_count": null,
   "id": "28d21f76-2f62-4b6d-887f-22446015b47f",
   "metadata": {},
   "outputs": [],
   "source": [
    "plt_grid = ibvp.domain.uniform_grid((100, 50))"
   ]
  },
  {
   "attachments": {},
   "cell_type": "markdown",
   "id": "70725b4a-dd66-4635-a012-e5565ac5bdc1",
   "metadata": {
    "tags": []
   },
   "source": [
    "## Prior"
   ]
  },
  {
   "cell_type": "code",
   "execution_count": null,
   "id": "f8068acd-48c1-4008-8a00-34ffc058d9b5",
   "metadata": {},
   "outputs": [],
   "source": [
    "lengthscale_t = 2.5\n",
    "lengthscale_x = 2.0\n",
    "output_scale = 1.0"
   ]
  },
  {
   "cell_type": "code",
   "execution_count": null,
   "id": "e325809a-1f28-4433-b8ea-452abd1de8fb",
   "metadata": {},
   "outputs": [],
   "source": [
    "u_prior = pn.randprocs.GaussianProcess(\n",
    "    mean=linpde_gp.functions.Zero(input_shape=(2,)),\n",
    "    cov=output_scale ** 2 * linpde_gp.randprocs.covfuncs.TensorProduct(\n",
    "        linpde_gp.randprocs.covfuncs.Matern((), nu=1.5, lengthscales=lengthscale_t),\n",
    "        linpde_gp.randprocs.covfuncs.Matern((), nu=2.5, lengthscales=lengthscale_x),\n",
    "    ),\n",
    ")"
   ]
  },
  {
   "cell_type": "code",
   "execution_count": null,
   "id": "8f0d5695-4351-4bac-9367-6d3c98fc106f",
   "metadata": {},
   "outputs": [],
   "source": [
    "fig, ax = plt.subplots(subplot_kw={\"projection\": \"3d\"})\n",
    "\n",
    "ax.plot_surface(plt_grid[..., 0], plt_grid[..., 1], u_prior.mean(plt_grid))"
   ]
  },
  {
   "cell_type": "code",
   "execution_count": null,
   "id": "f311fae8",
   "metadata": {},
   "outputs": [],
   "source": [
    "fig, ax = plt.subplots(subplot_kw={\"projection\": \"3d\"})\n",
    "\n",
    "ax.plot_surface(plt_grid[..., 0], plt_grid[..., 1], ibvp.solution(plt_grid))"
   ]
  },
  {
   "attachments": {},
   "cell_type": "markdown",
   "id": "4d04a5ae-e0be-420e-90cd-6bdd26029a1a",
   "metadata": {},
   "source": [
    "### Dirichlet Problem"
   ]
  },
  {
   "cell_type": "code",
   "execution_count": null,
   "id": "c250816a-90cd-4bec-8300-65109b572952",
   "metadata": {},
   "outputs": [],
   "source": [
    "N_ic = 5\n",
    "N_bc = 50"
   ]
  },
  {
   "attachments": {},
   "cell_type": "markdown",
   "id": "4ae990e3-36dc-41a6-81d7-14a700be38a8",
   "metadata": {},
   "source": [
    "#### Initial conditions"
   ]
  },
  {
   "cell_type": "code",
   "execution_count": null,
   "id": "7da765aa-16ce-4b9b-87d7-6c8cc4a7ae29",
   "metadata": {},
   "outputs": [],
   "source": [
    "X_ic = ibvp.initial_domain.uniform_grid(N_ic, inset=1e-6)\n",
    "Y_ic = ibvp.initial_condition.values(X_ic[..., 1])\n",
    "\n",
    "u_ic = u_prior.condition_on_observations(Y_ic, X=X_ic)"
   ]
  },
  {
   "attachments": {},
   "cell_type": "markdown",
   "id": "941bc073-ae89-4199-949d-93e07a9bfb8b",
   "metadata": {},
   "source": [
    "#### Boundary Conditions"
   ]
  },
  {
   "cell_type": "code",
   "execution_count": null,
   "id": "1bde8a51",
   "metadata": {},
   "outputs": [],
   "source": [
    "u_ic_bc = u_ic\n",
    "\n",
    "for bc in ibvp.boundary_conditions:\n",
    "    X_bc = bc.boundary.uniform_grid(N_bc)\n",
    "    Y_bc = bc.values(X_bc)\n",
    "\n",
    "    u_ic_bc = u_ic_bc.condition_on_observations(Y_bc, X=X_bc)"
   ]
  },
  {
   "attachments": {},
   "cell_type": "markdown",
   "id": "b2df00fd-b391-436f-a424-15b227c3e397",
   "metadata": {},
   "source": [
    "#### Prior with Initial and Boundary Conditions"
   ]
  },
  {
   "cell_type": "code",
   "execution_count": null,
   "id": "8e576995-220f-4961-928f-b75507203ae6",
   "metadata": {},
   "outputs": [],
   "source": [
    "fig, ax = plt.subplots(subplot_kw={\"projection\": \"3d\"})\n",
    "\n",
    "ax.plot_surface(plt_grid[..., 0], plt_grid[..., 1], u_ic_bc.mean(plt_grid))"
   ]
  },
  {
   "attachments": {},
   "cell_type": "markdown",
   "id": "74691cdc-7546-4825-9c93-23699d9a6062",
   "metadata": {},
   "source": [
    "### Conditioning on the PDE"
   ]
  },
  {
   "cell_type": "code",
   "execution_count": null,
   "id": "23799904-ed51-4a84-ab4b-6a89ed4fa732",
   "metadata": {},
   "outputs": [],
   "source": [
    "N_pde = (100, 20)"
   ]
  },
  {
   "cell_type": "code",
   "execution_count": null,
   "id": "0005dbb7-34e6-4c69-afa3-d1553acc511e",
   "metadata": {},
   "outputs": [],
   "source": [
    "# Before\n",
    "fig, ax = plt.subplots(subplot_kw={\"projection\": \"3d\"})\n",
    "\n",
    "ax.plot_surface(plt_grid[..., 0], plt_grid[..., 1], ibvp.pde.diffop(u_ic_bc).mean(plt_grid))"
   ]
  },
  {
   "cell_type": "code",
   "execution_count": null,
   "id": "677823b8-c9a6-4069-af4a-7c2dde1450d8",
   "metadata": {},
   "outputs": [],
   "source": [
    "X_pde = ibvp.domain.uniform_grid(N_pde)\n",
    "Y_pde = ibvp.pde.rhs(X_pde)"
   ]
  },
  {
   "cell_type": "code",
   "execution_count": null,
   "id": "86295713-3432-4e94-a531-91507b59927d",
   "metadata": {},
   "outputs": [],
   "source": [
    "u_ic_bc_pde = u_ic_bc.condition_on_observations(\n",
    "    Y_pde,\n",
    "    X=X_pde,\n",
    "    L=ibvp.pde.diffop,\n",
    ")"
   ]
  },
  {
   "cell_type": "code",
   "execution_count": null,
   "id": "f3cf1712-2acf-469e-b207-8be06eca5a43",
   "metadata": {},
   "outputs": [],
   "source": [
    "fig, ax = plt.subplots(subplot_kw={\"projection\": \"3d\"})\n",
    "\n",
    "ax.plot_surface(plt_grid[..., 0], plt_grid[..., 1], u_ic_bc_pde.mean(plt_grid))\n",
    "ax.set_xlabel(\"Time (s)\")\n",
    "ax.set_ylabel(\"Location (cm)\")\n",
    "ax.set_zlabel(\"Temperature (°C)\")\n",
    "\n",
    "experiment_utils.savefig(\"heat_posterior\")"
   ]
  },
  {
   "cell_type": "code",
   "execution_count": null,
   "id": "790a2068-9e0a-4ae4-a731-639a51244504",
   "metadata": {},
   "outputs": [],
   "source": [
    "fig, ax = plt.subplots(subplot_kw={\"projection\": \"3d\"})\n",
    "\n",
    "ax.plot_surface(plt_grid[..., 0], plt_grid[..., 1], ibvp.pde.diffop(u_ic_bc_pde).mean(plt_grid))"
   ]
  },
  {
   "cell_type": "code",
   "execution_count": null,
   "id": "ca3a2c0d",
   "metadata": {},
   "outputs": [],
   "source": [
    "np.average(np.abs(u_ic_bc_pde.mean(plt_grid) - ibvp.solution(plt_grid)))"
   ]
  },
  {
   "attachments": {},
   "cell_type": "markdown",
   "id": "3263f283-87e4-48b9-9d1a-3b92bdcbdaeb",
   "metadata": {},
   "source": [
    "### Generate Animation"
   ]
  },
  {
   "cell_type": "code",
   "execution_count": null,
   "id": "977e62bd",
   "metadata": {},
   "outputs": [],
   "source": [
    "from matplotlib import animation"
   ]
  },
  {
   "cell_type": "code",
   "execution_count": null,
   "id": "431eaa8c-6786-4970-8e12-ea7b6944ddf3",
   "metadata": {},
   "outputs": [],
   "source": [
    "fig, ax = plt.subplots(dpi=500)\n",
    "\n",
    "def frame_fn(frame_idx):\n",
    "    txs = plt_grid[frame_idx, :, :]\n",
    "\n",
    "    ax.cla()\n",
    "\n",
    "    mean = u_ic_bc_pde.mean(txs)\n",
    "    std = u_ic_bc_pde.std(txs)\n",
    "\n",
    "    ax.plot(txs[:, 1], mean, label=r\"$\\mathrm{u} \\mid \\mathrm{PDE}, \\mathrm{BC}$\")\n",
    "    ax.fill_between(\n",
    "        txs[:, 1],\n",
    "        mean - 1.96 * std,\n",
    "        mean + 1.96 * std,\n",
    "        alpha=.3,\n",
    "    )\n",
    "\n",
    "    ax.plot(txs[:, 1], ibvp.solution(txs), label=r\"$u^\\star$\")\n",
    "\n",
    "    ax.set_ylim(-0.01, 1.2)\n",
    "    ax.set_xlabel(\"Location (cm)\")\n",
    "    ax.set_ylabel(\"Temperature (°C) \")\n",
    "    ax.set_title(f\"t = {plt_grid[frame_idx, 0, 0]:.2f} s\")\n",
    "    ax.legend(loc=\"upper right\")\n",
    "\n",
    "anim = animation.FuncAnimation(\n",
    "    fig,\n",
    "    frame_fn,\n",
    "    frames=plt_grid.shape[0],\n",
    "    interval=10,\n",
    "    repeat_delay=4000,\n",
    "    blit=False,\n",
    ")"
   ]
  },
  {
   "cell_type": "code",
   "execution_count": null,
   "id": "5f89720e",
   "metadata": {},
   "outputs": [],
   "source": [
    "experiment_utils.savefig(\"heat_anim_firstframe\", fig=fig)"
   ]
  },
  {
   "cell_type": "code",
   "execution_count": null,
   "id": "3235e008-2447-4793-bb58-4887498f4225",
   "metadata": {},
   "outputs": [],
   "source": [
    "from IPython.display import HTML\n",
    "\n",
    "HTML(anim.to_jshtml())"
   ]
  },
  {
   "cell_type": "code",
   "execution_count": null,
   "id": "8ec147b5-72ba-4a4d-add7-9175f5f41340",
   "metadata": {},
   "outputs": [],
   "source": [
    "anim_path = experiment_utils.config.experiment_results_path / \"heat_anim\"\n",
    "\n",
    "if anim_path.is_dir():\n",
    "    import shutil\n",
    "\n",
    "    shutil.rmtree(anim_path)\n",
    "\n",
    "anim_path.mkdir(exist_ok=True)\n",
    "\n",
    "anim.save(anim_path / \"{}.pdf\", linpde_gp.utils.plotting.PDFWriter())"
   ]
  },
  {
   "cell_type": "code",
   "execution_count": null,
   "id": "d9c07c3f",
   "metadata": {},
   "outputs": [],
   "source": [
    "try:\n",
    "    anim.save(\n",
    "        experiment_utils.config.experiment_results_path / \"heat_anim.mp4\",\n",
    "        animation.FFMpegWriter(fps=20),\n",
    "    )\n",
    "except FileNotFoundError:\n",
    "    import warnings\n",
    "    warnings.warn(\"FFmpeg not installed\")"
   ]
  },
  {
   "cell_type": "code",
   "execution_count": null,
   "id": "93ee6967-9820-481b-8268-29dfd039c4db",
   "metadata": {},
   "outputs": [],
   "source": []
  }
 ],
 "metadata": {
  "kernelspec": {
   "display_name": "linpde-gp",
   "language": "python",
   "name": "python3"
  },
  "language_info": {
   "codemirror_mode": {
    "name": "ipython",
    "version": 3
   },
   "file_extension": ".py",
   "mimetype": "text/x-python",
   "name": "python",
   "nbconvert_exporter": "python",
   "pygments_lexer": "ipython3",
   "version": "3.11.0"
  },
  "vscode": {
   "interpreter": {
    "hash": "88aade6ae3c887346ad7959dbc8c013e14bde92b1226dcb94dccc773c12fdf89"
   }
  }
 },
 "nbformat": 4,
 "nbformat_minor": 5
}
