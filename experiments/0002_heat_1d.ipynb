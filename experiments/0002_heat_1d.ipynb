{
 "cells": [
  {
   "cell_type": "code",
   "execution_count": null,
   "id": "2b8d330c-66f8-4664-9131-1bdc669df437",
   "metadata": {},
   "outputs": [],
   "source": [
    "import matplotlib.pyplot as plt\n",
    "import numpy as np\n",
    "import probnum as pn\n",
    "\n",
    "import linpde_gp"
   ]
  },
  {
   "cell_type": "code",
   "execution_count": null,
   "id": "41ced55c-95bc-454b-a0dd-6d9249340e03",
   "metadata": {},
   "outputs": [],
   "source": [
    "import experiment_utils\n",
    "from experiment_utils import config\n",
    "\n",
    "config.experiment_name = \"0002_heat_1d\"\n",
    "config.target = \"jmlr\"\n",
    "config.debug_mode = True"
   ]
  },
  {
   "cell_type": "code",
   "execution_count": null,
   "id": "eb159da6-ec9e-4e3a-be45-aeffd5365900",
   "metadata": {},
   "outputs": [],
   "source": [
    "%matplotlib inline"
   ]
  },
  {
   "cell_type": "code",
   "execution_count": null,
   "id": "58dad844-9649-45ea-892a-2fae03c808a0",
   "metadata": {},
   "outputs": [],
   "source": [
    "plt.rcParams.update(config.tueplots_bundle())"
   ]
  },
  {
   "cell_type": "code",
   "execution_count": null,
   "id": "24c202b8-6760-45a0-b280-5791a6ad5585",
   "metadata": {},
   "outputs": [],
   "source": [
    "rng = np.random.default_rng(24)"
   ]
  },
  {
   "cell_type": "markdown",
   "id": "fc88a9bb-460c-4107-a5c8-8722866d8a3b",
   "metadata": {
    "tags": []
   },
   "source": [
    "## Problem Definition"
   ]
  },
  {
   "cell_type": "code",
   "execution_count": null,
   "id": "bb500fa9-ab5f-481c-a0c2-96192469955a",
   "metadata": {},
   "outputs": [],
   "source": [
    "spatial_domain = linpde_gp.domains.asdomain([-1.0, 1.0])\n",
    "\n",
    "ibvp = linpde_gp.problems.pde.HeatEquationDirichletProblem(\n",
    "    t0=0.0,\n",
    "    T=5.0,\n",
    "    spatial_domain=spatial_domain,\n",
    "    alpha=0.1,\n",
    "    initial_values=linpde_gp.functions.TruncatedSineSeries(\n",
    "        spatial_domain,\n",
    "        coefficients=[1.0],\n",
    "    ),\n",
    ")"
   ]
  },
  {
   "cell_type": "code",
   "execution_count": null,
   "id": "28d21f76-2f62-4b6d-887f-22446015b47f",
   "metadata": {},
   "outputs": [],
   "source": [
    "plt_grid = ibvp.domain.uniform_grid((50, 50))"
   ]
  },
  {
   "cell_type": "markdown",
   "id": "70725b4a-dd66-4635-a012-e5565ac5bdc1",
   "metadata": {
    "tags": []
   },
   "source": [
    "## Prior"
   ]
  },
  {
   "cell_type": "code",
   "execution_count": null,
   "id": "f8068acd-48c1-4008-8a00-34ffc058d9b5",
   "metadata": {},
   "outputs": [],
   "source": [
    "lengthscale_t = 2.5\n",
    "lengthscale_x = 2.0\n",
    "output_scale = 1.0"
   ]
  },
  {
   "cell_type": "code",
   "execution_count": null,
   "id": "e325809a-1f28-4433-b8ea-452abd1de8fb",
   "metadata": {},
   "outputs": [],
   "source": [
    "u_prior = pn.randprocs.GaussianProcess(\n",
    "    mean=linpde_gp.functions.Zero(input_shape=(2,)),\n",
    "    cov=output_scale ** 2 * linpde_gp.randprocs.covfuncs.TensorProduct(\n",
    "        linpde_gp.randprocs.covfuncs.Matern((), nu=1.5, lengthscales=lengthscale_t),\n",
    "        linpde_gp.randprocs.covfuncs.Matern((), nu=2.5, lengthscales=lengthscale_x),\n",
    "    ),\n",
    ")"
   ]
  },
  {
   "cell_type": "code",
   "execution_count": null,
   "id": "8f0d5695-4351-4bac-9367-6d3c98fc106f",
   "metadata": {},
   "outputs": [],
   "source": [
    "fig, ax = plt.subplots(subplot_kw={\"projection\": \"3d\"})\n",
    "\n",
    "ax.plot_surface(plt_grid[..., 0], plt_grid[..., 1], u_prior.mean(plt_grid))"
   ]
  },
  {
   "cell_type": "code",
   "execution_count": null,
   "id": "f311fae8",
   "metadata": {},
   "outputs": [],
   "source": [
    "fig, ax = plt.subplots(subplot_kw={\"projection\": \"3d\"})\n",
    "\n",
    "ax.plot_surface(plt_grid[..., 0], plt_grid[..., 1], ibvp.solution(plt_grid))"
   ]
  },
  {
   "cell_type": "markdown",
   "id": "4d04a5ae-e0be-420e-90cd-6bdd26029a1a",
   "metadata": {},
   "source": [
    "### Dirichlet Problem"
   ]
  },
  {
   "cell_type": "code",
   "execution_count": null,
   "id": "c250816a-90cd-4bec-8300-65109b572952",
   "metadata": {},
   "outputs": [],
   "source": [
    "N_ic = 5\n",
    "N_bc = 50"
   ]
  },
  {
   "cell_type": "markdown",
   "id": "4ae990e3-36dc-41a6-81d7-14a700be38a8",
   "metadata": {},
   "source": [
    "#### Initial conditions"
   ]
  },
  {
   "cell_type": "code",
   "execution_count": null,
   "id": "7da765aa-16ce-4b9b-87d7-6c8cc4a7ae29",
   "metadata": {},
   "outputs": [],
   "source": [
    "X_ic = ibvp.initial_domain.uniform_grid(N_ic, inset=1e-6)\n",
    "Y_ic = ibvp.initial_condition.values(X_ic[..., 1])\n",
    "\n",
    "u_ic = u_prior.condition_on_observations(Y_ic, X=X_ic)"
   ]
  },
  {
   "attachments": {},
   "cell_type": "markdown",
   "id": "941bc073-ae89-4199-949d-93e07a9bfb8b",
   "metadata": {},
   "source": [
    "#### Boundary Conditions"
   ]
  },
  {
   "cell_type": "code",
   "execution_count": null,
   "id": "1bde8a51",
   "metadata": {},
   "outputs": [],
   "source": [
    "u_ic_bc = u_ic\n",
    "\n",
    "for bc in ibvp.boundary_conditions:\n",
    "    X_bc = bc.boundary.uniform_grid(N_bc)\n",
    "    Y_bc = bc.values(X_bc)\n",
    "\n",
    "    u_ic_bc = u_ic_bc.condition_on_observations(Y_bc, X=X_bc)"
   ]
  },
  {
   "cell_type": "markdown",
   "id": "b2df00fd-b391-436f-a424-15b227c3e397",
   "metadata": {},
   "source": [
    "#### Prior with Initial and Boundary Conditions"
   ]
  },
  {
   "cell_type": "code",
   "execution_count": null,
   "id": "8e576995-220f-4961-928f-b75507203ae6",
   "metadata": {},
   "outputs": [],
   "source": [
    "fig, ax = plt.subplots(subplot_kw={\"projection\": \"3d\"})\n",
    "\n",
    "ax.plot_surface(plt_grid[..., 0], plt_grid[..., 1], u_ic_bc.mean(plt_grid))"
   ]
  },
  {
   "cell_type": "markdown",
   "id": "8fbe59ce-16a3-409a-ae38-b954d68c65b1",
   "metadata": {},
   "source": [
    "### Cauchy Problem"
   ]
  },
  {
   "cell_type": "code",
   "execution_count": null,
   "id": "1ecc29c6-c2c9-4035-9001-55b7dc6ae5d7",
   "metadata": {},
   "outputs": [],
   "source": [
    "N_ic = 3\n",
    "N_bc = 10"
   ]
  },
  {
   "cell_type": "code",
   "execution_count": null,
   "id": "159e1f0e-38f7-4912-b0a4-c233d33ca507",
   "metadata": {},
   "outputs": [],
   "source": [
    "left_boundary_op = linpde_gp.linfuncops.diffops.DirectionalDerivative(direction=[0., 1.])\n",
    "right_boundary_op = linpde_gp.linfuncops.diffops.DirectionalDerivative(direction=[0., -1.])"
   ]
  },
  {
   "cell_type": "markdown",
   "id": "4dc3e7fd-74fa-40ca-b64d-c1f5d1342a0d",
   "metadata": {},
   "source": [
    "#### Initial Conditions"
   ]
  },
  {
   "cell_type": "code",
   "execution_count": null,
   "id": "ad7b28f0-1f83-4477-a634-b06a072e1040",
   "metadata": {},
   "outputs": [],
   "source": [
    "X_ic = np.stack(\n",
    "    (\n",
    "        np.zeros(N_ic),\n",
    "        np.linspace(*domain[1], N_ic),\n",
    "    ),\n",
    "    axis=-1,\n",
    ")\n",
    "Y_ic = bvp.boundary_conditions[0].values(X_ic[..., 1])\n",
    "\n",
    "u_ic = u_prior.condition_on_observations(Y_ic, X_ic)"
   ]
  },
  {
   "cell_type": "code",
   "execution_count": null,
   "id": "7ea57ce2-57fa-455a-b37b-a8a5dc2e3764",
   "metadata": {},
   "outputs": [],
   "source": [
    "fig, ax = plt.subplots(subplot_kw={\"projection\": \"3d\"})\n",
    "\n",
    "ax.plot_surface(plt_grid_t, plt_grid_x, u_ic.mean(plt_grid))"
   ]
  },
  {
   "cell_type": "code",
   "execution_count": null,
   "id": "a6c3398d-dee7-4e63-a6cf-8e9bf9253b2d",
   "metadata": {},
   "outputs": [],
   "source": [
    "fig, ax = plt.subplots(subplot_kw={\"projection\": \"3d\"})\n",
    "\n",
    "ax.plot_surface(plt_grid_t, plt_grid_x, right_boundary_op(u_ic).mean(plt_grid))"
   ]
  },
  {
   "cell_type": "markdown",
   "id": "ea46b4f5-41fa-4042-bd49-8a8966d5fd90",
   "metadata": {},
   "source": [
    "#### Left Boundary Condition"
   ]
  },
  {
   "cell_type": "code",
   "execution_count": null,
   "id": "ef713022-bd64-4b23-9636-0813ef20f9cd",
   "metadata": {},
   "outputs": [],
   "source": [
    "X_bc_left = np.stack(\n",
    "    (\n",
    "        np.linspace(*domain[0], N_bc + 1)[1:],\n",
    "        np.full(N_bc, domain[1][0]),\n",
    "    ),\n",
    "    axis=-1\n",
    ")\n",
    "Y_bc_left = np.zeros_like(X_bc_left[..., 0])"
   ]
  },
  {
   "cell_type": "code",
   "execution_count": null,
   "id": "9d8f2dee-89ca-448f-ae6c-aa946219ce69",
   "metadata": {},
   "outputs": [],
   "source": [
    "u_ic_bc_left = u_ic.condition_on_observations(\n",
    "    Y_bc_left,\n",
    "    X=X_bc_left,\n",
    "    L=left_boundary_op,\n",
    ")"
   ]
  },
  {
   "cell_type": "markdown",
   "id": "94281022-8bf9-4772-89be-7cbe80ca990b",
   "metadata": {},
   "source": [
    "#### Right Boundary Condition"
   ]
  },
  {
   "cell_type": "code",
   "execution_count": null,
   "id": "94a13d8c-b467-408e-a683-ef23eff82820",
   "metadata": {},
   "outputs": [],
   "source": [
    "X_bc_right = np.stack(\n",
    "    (\n",
    "        np.linspace(*domain[0], N_bc + 1)[1:],\n",
    "        np.full(N_bc, domain[1][1]),\n",
    "    ),\n",
    "    axis=-1,\n",
    ")\n",
    "Y_bc_right = np.zeros_like(X_bc_right[..., 0])"
   ]
  },
  {
   "cell_type": "code",
   "execution_count": null,
   "id": "b5642000-5d42-4393-b104-12de6f4c2aa1",
   "metadata": {},
   "outputs": [],
   "source": [
    "u_ic_bc = u_ic_bc_left.condition_on_observations(\n",
    "    Y_bc_right,\n",
    "    X=X_bc_right,\n",
    "    L=right_boundary_op,\n",
    ")"
   ]
  },
  {
   "cell_type": "markdown",
   "id": "9afee9d4-6d03-481c-a281-8be6e39c0616",
   "metadata": {},
   "source": [
    "#### Plots"
   ]
  },
  {
   "cell_type": "code",
   "execution_count": null,
   "id": "9e96774f-b4ef-48a2-9697-1825a165878a",
   "metadata": {},
   "outputs": [],
   "source": [
    "fig, ax = plt.subplots(subplot_kw={\"projection\": \"3d\"})\n",
    "\n",
    "ax.plot_surface(plt_grid_t, plt_grid_x, u_ic_bc.mean(plt_grid))"
   ]
  },
  {
   "cell_type": "code",
   "execution_count": null,
   "id": "31e483fb-af42-4757-bb60-3697afb6f001",
   "metadata": {},
   "outputs": [],
   "source": [
    "fig, ax = plt.subplots(subplot_kw={\"projection\": \"3d\"})\n",
    "\n",
    "ax.plot_surface(plt_grid_t, plt_grid_x, right_boundary_op(u_ic_bc).mean(plt_grid))"
   ]
  },
  {
   "cell_type": "markdown",
   "id": "74691cdc-7546-4825-9c93-23699d9a6062",
   "metadata": {},
   "source": [
    "### Conditioning on the PDE"
   ]
  },
  {
   "cell_type": "code",
   "execution_count": null,
   "id": "23799904-ed51-4a84-ab4b-6a89ed4fa732",
   "metadata": {},
   "outputs": [],
   "source": [
    "N_pde = (100, 20)"
   ]
  },
  {
   "cell_type": "code",
   "execution_count": null,
   "id": "0005dbb7-34e6-4c69-afa3-d1553acc511e",
   "metadata": {},
   "outputs": [],
   "source": [
    "# Before\n",
    "fig, ax = plt.subplots(subplot_kw={\"projection\": \"3d\"})\n",
    "\n",
    "ax.plot_surface(plt_grid[..., 0], plt_grid[..., 1], ibvp.pde.diffop(u_ic_bc).mean(plt_grid))"
   ]
  },
  {
   "cell_type": "code",
   "execution_count": null,
   "id": "677823b8-c9a6-4069-af4a-7c2dde1450d8",
   "metadata": {},
   "outputs": [],
   "source": [
    "X_pde = ibvp.domain.uniform_grid(N_pde)\n",
    "Y_pde = ibvp.pde.rhs(X_pde)"
   ]
  },
  {
   "cell_type": "code",
   "execution_count": null,
   "id": "86295713-3432-4e94-a531-91507b59927d",
   "metadata": {},
   "outputs": [],
   "source": [
    "u_ic_bc_pde = u_ic_bc.condition_on_observations(\n",
    "    Y_pde,\n",
    "    X=X_pde,\n",
    "    L=ibvp.pde.diffop,\n",
    ")"
   ]
  },
  {
   "cell_type": "code",
   "execution_count": null,
   "id": "f3cf1712-2acf-469e-b207-8be06eca5a43",
   "metadata": {},
   "outputs": [],
   "source": [
    "fig, ax = plt.subplots(subplot_kw={\"projection\": \"3d\"})\n",
    "\n",
    "ax.plot_surface(plt_grid[..., 0], plt_grid[..., 1], u_ic_bc_pde.mean(plt_grid))\n",
    "ax.set_xlabel(\"Time (s)\")\n",
    "ax.set_ylabel(\"Location (cm)\")\n",
    "ax.set_zlabel(\"Temperature (°C)\")\n",
    "\n",
    "experiment_utils.savefig(\"heat_posterior\")"
   ]
  },
  {
   "cell_type": "code",
   "execution_count": null,
   "id": "790a2068-9e0a-4ae4-a731-639a51244504",
   "metadata": {},
   "outputs": [],
   "source": [
    "fig, ax = plt.subplots(subplot_kw={\"projection\": \"3d\"})\n",
    "\n",
    "ax.plot_surface(plt_grid[..., 0], plt_grid[..., 1], ibvp.pde.diffop(u_ic_bc_pde).mean(plt_grid))"
   ]
  },
  {
   "cell_type": "code",
   "execution_count": null,
   "id": "ca3a2c0d",
   "metadata": {},
   "outputs": [],
   "source": [
    "np.average(np.abs(u_ic_bc_pde.mean(plt_grid) - ibvp.solution(plt_grid)))"
   ]
  },
  {
   "cell_type": "markdown",
   "id": "3263f283-87e4-48b9-9d1a-3b92bdcbdaeb",
   "metadata": {},
   "source": [
    "### Generate Animation"
   ]
  },
  {
   "cell_type": "code",
   "execution_count": null,
   "id": "4391ed06-9780-48d1-8077-a02f29f06c01",
   "metadata": {},
   "outputs": [],
   "source": [
    "plt.rcParams[\"font.weight\"] = \"light\"\n",
    "plt.rcParams[\"axes.labelweight\"] = \"light\"\n",
    "plt.rcParams[\"axes.titleweight\"] = \"light\""
   ]
  },
  {
   "cell_type": "code",
   "execution_count": null,
   "id": "431eaa8c-6786-4970-8e12-ea7b6944ddf3",
   "metadata": {},
   "outputs": [],
   "source": [
    "import functools\n",
    "from matplotlib import animation\n",
    "\n",
    "fig, ax = plt.subplots()\n",
    "\n",
    "ax.set_xlabel(\"Location (cm)\")\n",
    "ax.set_ylabel(\"Temperature (°C)\")\n",
    "ax.set_title(\"t = 0.00s\")\n",
    "\n",
    "@functools.partial(\n",
    "    animation.FuncAnimation,\n",
    "    fig,\n",
    "    frames=plt_grid.shape[0],\n",
    "    interval=10,\n",
    "    repeat_delay=4000,\n",
    "    blit=False,\n",
    ")\n",
    "def anim(frame_idx):\n",
    "    txs = plt_grid[frame_idx, :, :]\n",
    "    \n",
    "    ax.cla()\n",
    "    \n",
    "    mean = u_ic_bc_pde.mean(txs)\n",
    "    std = u_ic_bc_pde.std(txs)\n",
    "    \n",
    "    ax.plot(txs[:, 1], mean)\n",
    "    ax.fill_between(\n",
    "        txs[:, 1],\n",
    "        mean - 1.96 * std,\n",
    "        mean + 1.96 * std,\n",
    "        alpha=.3,\n",
    "    )\n",
    "\n",
    "    ax.plot(txs[:, 1], ibvp.solution(txs))\n",
    "\n",
    "    ax.set_ylim(-0.01, 1.2)\n",
    "    ax.set_xlabel(\"Location (cm)\")\n",
    "    ax.set_ylabel(\"Temperature (°C) \")\n",
    "    ax.set_title(f\"t = {plt_grid[frame_idx, 0, 0]:.2f} s\")\n"
   ]
  },
  {
   "cell_type": "code",
   "execution_count": null,
   "id": "3235e008-2447-4793-bb58-4887498f4225",
   "metadata": {},
   "outputs": [],
   "source": [
    "from IPython.display import HTML\n",
    "\n",
    "HTML(anim.to_jshtml())"
   ]
  },
  {
   "cell_type": "code",
   "execution_count": null,
   "id": "8ec147b5-72ba-4a4d-add7-9175f5f41340",
   "metadata": {},
   "outputs": [],
   "source": [
    "anim_path = experiment_utils.config.experiment_results_path / \"heat_anim\"\n",
    "\n",
    "if anim_path.is_dir():\n",
    "    import shutil\n",
    "    \n",
    "    shutil.rmtree(anim_path)\n",
    "\n",
    "anim_path.mkdir(exist_ok=True)\n",
    "\n",
    "anim.save(anim_path / \"{}.pdf\", linpde_gp.utils.plotting.PDFWriter())"
   ]
  },
  {
   "cell_type": "code",
   "execution_count": null,
   "id": "d94509e1-99ce-4783-b546-69c5b6a52130",
   "metadata": {},
   "outputs": [],
   "source": [
    "anim.save(\n",
    "    experiment_utils.config.experiment_results_path / \"heat_anim.gif\",\n",
    "    animation.PillowWriter(fps=5)\n",
    ")"
   ]
  },
  {
   "cell_type": "code",
   "execution_count": null,
   "id": "93ee6967-9820-481b-8268-29dfd039c4db",
   "metadata": {},
   "outputs": [],
   "source": []
  }
 ],
 "metadata": {
  "kernelspec": {
   "display_name": "linpde-gp",
   "language": "python",
   "name": "python3"
  },
  "language_info": {
   "codemirror_mode": {
    "name": "ipython",
    "version": 3
   },
   "file_extension": ".py",
   "mimetype": "text/x-python",
   "name": "python",
   "nbconvert_exporter": "python",
   "pygments_lexer": "ipython3",
   "version": "3.10.4"
  },
  "vscode": {
   "interpreter": {
    "hash": "88aade6ae3c887346ad7959dbc8c013e14bde92b1226dcb94dccc773c12fdf89"
   }
  }
 },
 "nbformat": 4,
 "nbformat_minor": 5
}
