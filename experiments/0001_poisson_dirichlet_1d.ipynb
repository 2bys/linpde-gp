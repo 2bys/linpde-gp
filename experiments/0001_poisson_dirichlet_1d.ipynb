{
 "cells": [
  {
   "cell_type": "code",
   "execution_count": null,
   "id": "dc637170-8b95-4e44-b0eb-3dbc8402c9a4",
   "metadata": {},
   "outputs": [],
   "source": [
    "import matplotlib.pyplot as plt\n",
    "import numpy as np\n",
    "import probnum as pn\n",
    "\n",
    "import linpde_gp"
   ]
  },
  {
   "cell_type": "code",
   "execution_count": null,
   "id": "9009b61f-6bf6-4ea3-af92-586c62b71af6",
   "metadata": {},
   "outputs": [],
   "source": [
    "import experiment_utils\n",
    "from experiment_utils import config\n",
    "\n",
    "config.experiment_name = \"0000_poisson_dirichlet_1d\"\n",
    "config.target = \"jmlr\"\n",
    "config.debug_mode = True"
   ]
  },
  {
   "cell_type": "code",
   "execution_count": null,
   "id": "6e64b8f6-8d25-43d8-adbc-9c521839bd3a",
   "metadata": {},
   "outputs": [],
   "source": [
    "%matplotlib inline"
   ]
  },
  {
   "cell_type": "code",
   "execution_count": null,
   "id": "8825b1ee-ab33-4688-b1a7-1a6597f43504",
   "metadata": {},
   "outputs": [],
   "source": [
    "plt.rcParams.update(config.tueplots_bundle())"
   ]
  },
  {
   "cell_type": "markdown",
   "id": "491df4dc-eee9-406e-aba3-a7ce90ebbfb5",
   "metadata": {
    "tags": []
   },
   "source": [
    "## Problem Definition"
   ]
  },
  {
   "cell_type": "code",
   "execution_count": null,
   "id": "254b8a77-cdfb-4524-be6e-02de61790ed8",
   "metadata": {},
   "outputs": [],
   "source": [
    "domain = linpde_gp.domains.asdomain([-1.0, 1.0])"
   ]
  },
  {
   "cell_type": "code",
   "execution_count": null,
   "id": "9f19b64e-1f95-4b3c-a084-a16d64176122",
   "metadata": {},
   "outputs": [],
   "source": [
    "# Boundary Values\n",
    "g = np.asarray((0.0, 1.0))\n",
    "\n",
    "# PDE RHS\n",
    "f = linpde_gp.functions.Constant(input_shape=(), value=2.0)\n",
    "\n",
    "# True Solution\n",
    "u = linpde_gp.problems.pde.PoissonEquation1DConstRHSDirichletProblemSolution(\n",
    "    domain=domain,\n",
    "    rhs=f.value,\n",
    "    boundary_values=g,\n",
    ")\n",
    "\n",
    "# PDE Measurements\n",
    "X_pde = np.linspace(-0.8, 0.8, 3)"
   ]
  },
  {
   "cell_type": "code",
   "execution_count": null,
   "id": "4ed62911-4379-42cb-adf4-03c266fb8c5c",
   "metadata": {},
   "outputs": [],
   "source": [
    "# Boundary Values\n",
    "g = np.zeros(2)\n",
    "\n",
    "# PDE RHS\n",
    "f = pn.LambdaFunction(lambda x: np.pi ** 2 * np.sin(np.pi * x), input_shape=())\n",
    "\n",
    "# True Solution\n",
    "u = pn.LambdaFunction(lambda x: np.sin(np.pi * x), input_shape=())\n",
    "\n",
    "# PDE Measurements\n",
    "X_pde = np.linspace(-0.8, 0.8, 3)"
   ]
  },
  {
   "cell_type": "code",
   "execution_count": null,
   "id": "99a1f619-15f3-4f74-af2d-55f0242faeed",
   "metadata": {},
   "outputs": [],
   "source": [
    "bvp = linpde_gp.problems.pde.PoissonEquationDirichletProblem(\n",
    "    domain=domain,\n",
    "    rhs=linpde_gp.randprocs.DeterministicProcess(f),\n",
    "    boundary_values=pn.randvars.asrandvar(g),\n",
    "    solution=u,\n",
    ")\n",
    "\n",
    "f_X_pde = bvp.rhs(X_pde)"
   ]
  },
  {
   "cell_type": "code",
   "execution_count": null,
   "id": "8c582cb5-0913-436d-a0b8-9f7cf2dbade0",
   "metadata": {
    "jupyter": {
     "source_hidden": true
    },
    "tags": []
   },
   "outputs": [],
   "source": [
    "class BeliefPlotter:\n",
    "    def __init__(self, bvp: linpde_gp.problems.pde.PoissonEquationDirichletProblem):\n",
    "        self._bvp = bvp\n",
    "        self._plt_grid = np.linspace(*bvp.domain, 100)\n",
    "\n",
    "    def plot_belief(\n",
    "        self,\n",
    "        ax,\n",
    "        u: pn.randprocs.GaussianProcess,\n",
    "        conditioned_on: list[str] = [],\n",
    "        # X_pde: np.ndarray | None = None,\n",
    "        # f_X_pde: pn.randvars.RandomVariable | None = None,\n",
    "        X_pde: np.ndarray = None,\n",
    "        f_X_pde: pn.randvars.RandomVariable = None,\n",
    "    ):\n",
    "        u_conditional_strs = []\n",
    "        \n",
    "        for key in conditioned_on:\n",
    "            if key == \"bc\":\n",
    "                u_conditional_strs.append(r\"u\\vert_{\\partial \\Omega} - g = 0\")\n",
    "            elif key == \"pde\":\n",
    "                u_conditional_strs.append(r\"-\\Delta u(x_i) - f(x_i) = 0\")\n",
    "        \n",
    "        u_label = (\n",
    "            fr\"$u \\mid {', '.join(u_conditional_strs)}$\"\n",
    "            if len(u_conditional_strs) > 0\n",
    "            else \"$u$\"\n",
    "        )\n",
    "        \n",
    "        u.plot(\n",
    "            ax,\n",
    "            self._plt_grid,\n",
    "            num_samples=10,\n",
    "            rng=np.random.default_rng(24),\n",
    "            color=\"C0\",\n",
    "            label=u_label,\n",
    "        )\n",
    "        \n",
    "        ax.plot(\n",
    "            self._plt_grid,\n",
    "            bvp.solution(self._plt_grid),\n",
    "            color=\"C1\",\n",
    "            label=\"$u^*$\",\n",
    "        )\n",
    "        \n",
    "        for key in conditioned_on:\n",
    "            if key == \"bc\":\n",
    "                g = bvp.boundary_conditions[0].values\n",
    "\n",
    "                ax.errorbar(\n",
    "                    bvp.domain.boundary,\n",
    "                    g.mean,\n",
    "                    yerr=1.96 * g.std,\n",
    "                    fmt=\"+\",\n",
    "                    capsize=2,\n",
    "                    color=\"C2\",\n",
    "                    label=r\"$g$\",\n",
    "                )\n",
    "            elif key == \"pde\":\n",
    "                linpde_gp.utils.plotting.plot_local_curvature(\n",
    "                    ax,\n",
    "                    xs=X_pde,\n",
    "                    f_xs=u.mean(X_pde),\n",
    "                    ddf_xs=-f_X_pde,\n",
    "                    df_xs=(\n",
    "                        linpde_gp.linfuncops.diffops.PartialDerivative(\n",
    "                            domain_shape=(),\n",
    "                            domain_index=(),\n",
    "                        )(u)(X_pde).mean\n",
    "                    ),\n",
    "                    color=\"C3\",\n",
    "                    label=f\"$(f(x_1), \\dots, f(x_{X_pde.shape[0]}))$\",\n",
    "                )\n",
    "        \n",
    "        ax.legend()\n",
    "\n",
    "    def plot_pred_belief(\n",
    "        self,\n",
    "        ax,\n",
    "        u: pn.randprocs.GaussianProcess,\n",
    "        conditioned_on: list[str] = [],\n",
    "        # X_pde: np.ndarray | None = None,\n",
    "        # f_X_pde: pn.randvars.RandomVariable | None = None,\n",
    "        X_pde: np.ndarray = None,\n",
    "        f_X_pde: pn.randvars.RandomVariable = None,\n",
    "    ):\n",
    "        u_conditional_strs = []\n",
    "        \n",
    "        for key in conditioned_on:\n",
    "            if key == \"bc\":\n",
    "                u_conditional_strs.append(r\"u\\vert_{\\partial \\Omega} - g = 0\")\n",
    "            elif key == \"pde\":\n",
    "                u_conditional_strs.append(r\"-\\Delta u(x_i) - f(x_i) = 0\")\n",
    "        \n",
    "        u_label = (\n",
    "            fr\"$-\\Delta u \\mid {', '.join(u_conditional_strs)}$\"\n",
    "            if len(u_conditional_strs) > 0\n",
    "            else \"$-\\Delta u$\"\n",
    "        )\n",
    "\n",
    "        bvp.diffop(u).plot(\n",
    "            ax,\n",
    "            self._plt_grid,\n",
    "            num_samples=10,\n",
    "            rng=np.random.default_rng(24),\n",
    "            color=\"C0\",\n",
    "            label=u_label,\n",
    "        )\n",
    "        \n",
    "        self._bvp.rhs.plot(\n",
    "            ax,\n",
    "            self._plt_grid,\n",
    "            color=\"C1\",\n",
    "            label=\"$f$\",\n",
    "        )\n",
    "        \n",
    "        if \"pde\" in conditioned_on:\n",
    "            ax.errorbar(\n",
    "                X_pde,\n",
    "                f_X_pde.mean,\n",
    "                yerr=1.96 * f_X_pde.std,\n",
    "                fmt=\"+\",\n",
    "                capsize=2,\n",
    "                c=\"C3\",\n",
    "                label=f\"$(f(x_1), \\dots, f(x_{X_pde.shape[0]}))$\",\n",
    "            )\n",
    "        \n",
    "        ax.legend()\n",
    "\n",
    "plotter = BeliefPlotter(bvp)"
   ]
  },
  {
   "cell_type": "markdown",
   "id": "e5d2cf03-077b-42f4-8d7e-9625b75d4ba8",
   "metadata": {
    "tags": []
   },
   "source": [
    "## Prior"
   ]
  },
  {
   "cell_type": "code",
   "execution_count": null,
   "id": "e325809a-1f28-4433-b8ea-452abd1de8fb",
   "metadata": {},
   "outputs": [],
   "source": [
    "u_prior = pn.randprocs.GaussianProcess(\n",
    "    mean=linpde_gp.functions.Zero(input_shape=()),\n",
    "    cov=2.0 ** 2 * linpde_gp.randprocs.kernels.ExpQuad(\n",
    "        input_shape=(),\n",
    "        lengthscales=1.0,\n",
    "    ),\n",
    ")"
   ]
  },
  {
   "cell_type": "code",
   "execution_count": null,
   "id": "4561592b-c298-4ee2-970f-72ef724cbe71",
   "metadata": {},
   "outputs": [],
   "source": [
    "plotter.plot_belief(\n",
    "    ax=plt.gca(),\n",
    "    u=u_prior,\n",
    ")\n",
    "\n",
    "experiment_utils.savefig(\"00a_u_prior\")"
   ]
  },
  {
   "cell_type": "code",
   "execution_count": null,
   "id": "e63d38d6-5b81-4ee5-a995-f3f5385c37ef",
   "metadata": {},
   "outputs": [],
   "source": [
    "plotter.plot_pred_belief(\n",
    "    ax=plt.gca(),\n",
    "    u=u_prior,\n",
    ")\n",
    "\n",
    "experiment_utils.savefig(\"00b_Du_prior\")"
   ]
  },
  {
   "cell_type": "markdown",
   "id": "4f834e80-407e-4a86-bdb5-0db26719ed60",
   "metadata": {
    "tags": []
   },
   "source": [
    "## Posterior (PDE First)"
   ]
  },
  {
   "cell_type": "markdown",
   "id": "dcf3657e-1008-4db9-9ef9-c61fa16be296",
   "metadata": {},
   "source": [
    "### Conditioning on the PDE"
   ]
  },
  {
   "cell_type": "code",
   "execution_count": null,
   "id": "c1bd76db-ddc8-440f-aefc-1506548e7b13",
   "metadata": {},
   "outputs": [],
   "source": [
    "u_cond_pde = u_prior.condition_on_observations(\n",
    "    X=X_pde,\n",
    "    Y=np.zeros_like(X_pde),\n",
    "    L=bvp.diffop,\n",
    "    b=-f_X_pde,\n",
    ")"
   ]
  },
  {
   "cell_type": "code",
   "execution_count": null,
   "id": "f798307f-2ad9-4688-a641-e08f33586efd",
   "metadata": {},
   "outputs": [],
   "source": [
    "plotter.plot_belief(\n",
    "    ax=plt.gca(),\n",
    "    u=u_cond_pde,\n",
    "    conditioned_on=[\"pde\"],\n",
    "    X_pde=X_pde,\n",
    "    f_X_pde=f_X_pde,\n",
    ")\n",
    "\n",
    "experiment_utils.savefig(\"pdefirst_01a_u_cond_pde\")"
   ]
  },
  {
   "cell_type": "code",
   "execution_count": null,
   "id": "4a04ef71-0a27-4548-b614-236ddd520e86",
   "metadata": {},
   "outputs": [],
   "source": [
    "plotter.plot_pred_belief(\n",
    "    ax=plt.gca(),\n",
    "    u=u_cond_pde,\n",
    "    conditioned_on=[\"pde\"],\n",
    "    X_pde=X_pde,\n",
    "    f_X_pde=f_X_pde,\n",
    ")\n",
    "\n",
    "experiment_utils.savefig(\"pdefirst_01b_Du_cond_pde\")"
   ]
  },
  {
   "cell_type": "markdown",
   "id": "8ff15519-3302-463c-9a2d-0b448604f96d",
   "metadata": {},
   "source": [
    "### Conditioning on the Boundary Conditions"
   ]
  },
  {
   "cell_type": "code",
   "execution_count": null,
   "id": "6af95978-0efd-492b-922a-2e76f37badb9",
   "metadata": {},
   "outputs": [],
   "source": [
    "u_cond_pde_bc = u_cond_pde.condition_on_observations(\n",
    "    X=bvp.domain.boundary,\n",
    "    Y=np.zeros_like(bvp.domain.boundary),\n",
    "    b=-bvp.boundary_conditions[0].values,\n",
    ")"
   ]
  },
  {
   "cell_type": "code",
   "execution_count": null,
   "id": "47869cc3-2b2c-4f3a-9092-d48565f5af2e",
   "metadata": {},
   "outputs": [],
   "source": [
    "plotter.plot_belief(\n",
    "    ax=plt.gca(),\n",
    "    u=u_cond_pde_bc,\n",
    "    conditioned_on=[\"pde\", \"bc\"],\n",
    "    X_pde=X_pde,\n",
    "    f_X_pde=f_X_pde,\n",
    ")\n",
    "\n",
    "experiment_utils.savefig(\"pdefirst_02a_u_cond_pde_bc\")"
   ]
  },
  {
   "cell_type": "code",
   "execution_count": null,
   "id": "2a3f5d99-34bb-43f7-8a3b-6796cfbfd123",
   "metadata": {},
   "outputs": [],
   "source": [
    "plotter.plot_pred_belief(\n",
    "    ax=plt.gca(),\n",
    "    u=u_cond_pde_bc,\n",
    "    conditioned_on=[\"pde\"],\n",
    "    X_pde=X_pde,\n",
    "    f_X_pde=f_X_pde,\n",
    ")\n",
    "\n",
    "experiment_utils.savefig(\"pdefirst_02b_Du_cond_pde_bc\")"
   ]
  },
  {
   "cell_type": "markdown",
   "id": "60dc4a26-4500-438f-8955-bde13c48156a",
   "metadata": {},
   "source": [
    "### Complete Plot"
   ]
  },
  {
   "cell_type": "code",
   "execution_count": null,
   "id": "5dd82ace-d17f-4fcb-979d-671933224dae",
   "metadata": {
    "jupyter": {
     "source_hidden": true
    },
    "tags": []
   },
   "outputs": [],
   "source": [
    "for include_bc in [False, True]:\n",
    "    nrows = 3 if include_bc else 2\n",
    "    \n",
    "    rc = config.tueplots_bundle(nrows=nrows, ncols=2)\n",
    "    rc.update(\n",
    "        {\n",
    "            \"lines.linewidth\": 1\n",
    "        }\n",
    "    )\n",
    "    \n",
    "    with plt.rc_context(rc):\n",
    "        fig, ax = plt.subplots(nrows=nrows, ncols=2)\n",
    "\n",
    "        ax[0, 0].set_title(\"(a)\")\n",
    "\n",
    "        plotter.plot_belief(\n",
    "            ax=ax[0, 0],\n",
    "            u=u_prior,\n",
    "        )\n",
    "\n",
    "        ax[0, 1].set_title(\"(b)\")\n",
    "\n",
    "        plotter.plot_pred_belief(\n",
    "            ax=ax[0, 1],\n",
    "            u=u_prior,\n",
    "        )\n",
    "\n",
    "        ax[1, 0].set_title(\"(c)\")\n",
    "\n",
    "        plotter.plot_belief(\n",
    "            ax=ax[1, 0],\n",
    "            u=u_cond_pde,\n",
    "            conditioned_on=[\"pde\"],\n",
    "            X_pde=X_pde,\n",
    "            f_X_pde=f_X_pde,\n",
    "        )\n",
    "\n",
    "        ax[1, 1].set_title(\"(d)\")\n",
    "\n",
    "        plotter.plot_pred_belief(\n",
    "            ax=ax[1, 1],\n",
    "            u=u_cond_pde,\n",
    "            conditioned_on=[\"pde\"],\n",
    "            X_pde=X_pde,\n",
    "            f_X_pde=f_X_pde,\n",
    "        )\n",
    "        \n",
    "        if include_bc:\n",
    "            ax[2, 0].set_title(\"(e)\")\n",
    "\n",
    "            plotter.plot_belief(\n",
    "                ax=ax[2, 0],\n",
    "                u=u_cond_pde_bc,\n",
    "                conditioned_on=[\"pde\", \"bc\"],\n",
    "                X_pde=X_pde,\n",
    "                f_X_pde=f_X_pde,\n",
    "            )\n",
    "\n",
    "            ax[2, 1].set_title(\"(f)\")\n",
    "\n",
    "            plotter.plot_pred_belief(\n",
    "                ax=ax[2, 1],\n",
    "                u=u_cond_pde_bc,\n",
    "                conditioned_on=[\"pde\", \"bc\"],\n",
    "                X_pde=X_pde,\n",
    "                f_X_pde=f_X_pde,\n",
    "            )\n",
    "\n",
    "    experiment_utils.savefig(\"pdefirst\" + (\"\" if include_bc else \"_nobc\"))"
   ]
  },
  {
   "cell_type": "markdown",
   "id": "f5c5cee5-3ec1-430d-a68b-e4fb5e9d42a6",
   "metadata": {},
   "source": [
    "## Posterior (Boundary Values First)"
   ]
  },
  {
   "cell_type": "markdown",
   "id": "286ad7c4-0268-4328-a959-abde6f5a0f0c",
   "metadata": {},
   "source": [
    "### Conditioning on Boundary Conditions"
   ]
  },
  {
   "cell_type": "code",
   "execution_count": null,
   "id": "bcd02974-ca82-44ac-be13-79cc7a6b9841",
   "metadata": {},
   "outputs": [],
   "source": [
    "u_cond_bc = u_prior.condition_on_observations(\n",
    "    bvp.domain.boundary,\n",
    "    Y=np.zeros_like(bvp.domain.boundary),\n",
    "    b=-bvp.boundary_conditions[0].values,\n",
    ")"
   ]
  },
  {
   "cell_type": "code",
   "execution_count": null,
   "id": "f6018567-0442-45c9-a16c-88577c696765",
   "metadata": {},
   "outputs": [],
   "source": [
    "plotter.plot_belief(\n",
    "    ax=plt.gca(),\n",
    "    u=u_cond_bc,\n",
    "    conditioned_on=[\"bc\"],\n",
    ")\n",
    "\n",
    "experiment_utils.savefig(\"bcfirst_01a_u_cond_bc\")"
   ]
  },
  {
   "cell_type": "code",
   "execution_count": null,
   "id": "fa904213-6fa4-4441-8042-219c70329d29",
   "metadata": {},
   "outputs": [],
   "source": [
    "plotter.plot_pred_belief(\n",
    "    ax=plt.gca(),\n",
    "    u=u_cond_bc,\n",
    "    conditioned_on=[\"bc\"],\n",
    ")\n",
    "\n",
    "experiment_utils.savefig(\"bcfirst_01b_Du_cond_bc\")"
   ]
  },
  {
   "cell_type": "markdown",
   "id": "548b91c3-2c6a-4c14-b2a7-4be056e58f48",
   "metadata": {},
   "source": [
    "### Conditioning on the PDE"
   ]
  },
  {
   "cell_type": "code",
   "execution_count": null,
   "id": "341de563-134d-4fd5-ae3b-def9999f97a9",
   "metadata": {},
   "outputs": [],
   "source": [
    "u_cond_bc_pde = u_cond_bc.condition_on_observations(\n",
    "    X_pde,\n",
    "    Y=np.zeros_like(X_pde),\n",
    "    L=bvp.diffop,\n",
    "    b=-f_X_pde,\n",
    ")"
   ]
  },
  {
   "cell_type": "code",
   "execution_count": null,
   "id": "c086a9cb-f801-47c9-a02f-b87e34ed2494",
   "metadata": {},
   "outputs": [],
   "source": [
    "plotter.plot_belief(\n",
    "    ax=plt.gca(),\n",
    "    u=u_cond_bc_pde,\n",
    "    conditioned_on=[\"bc\", \"pde\"],\n",
    "    X_pde=X_pde,\n",
    "    f_X_pde=f_X_pde,\n",
    ")\n",
    "\n",
    "experiment_utils.savefig(\"bcfirst_02a_u_cond_bc_pde\")"
   ]
  },
  {
   "cell_type": "code",
   "execution_count": null,
   "id": "c3672b63-f863-470b-9b94-5b02b40dec28",
   "metadata": {},
   "outputs": [],
   "source": [
    "plotter.plot_pred_belief(\n",
    "    ax=plt.gca(),\n",
    "    u=u_cond_bc_pde,\n",
    "    conditioned_on=[\"bc\", \"pde\"],\n",
    "    X_pde=X_pde,\n",
    "    f_X_pde=f_X_pde,\n",
    ")\n",
    "\n",
    "experiment_utils.savefig(\"bcfirst_02b_Du_cond_bc_pde\")"
   ]
  },
  {
   "cell_type": "markdown",
   "id": "97d67ba6-f0da-488f-b575-1a69ce5cd2da",
   "metadata": {},
   "source": [
    "### Complete Plot"
   ]
  },
  {
   "cell_type": "code",
   "execution_count": null,
   "id": "2ba4ec51-95ce-4f60-8740-5f0d61f41daa",
   "metadata": {
    "jupyter": {
     "source_hidden": true
    },
    "tags": []
   },
   "outputs": [],
   "source": [
    "rc = config.tueplots_bundle(nrows=3, ncols=2)\n",
    "rc.update(\n",
    "    {\n",
    "        \"lines.linewidth\": 1\n",
    "    }\n",
    ")\n",
    "\n",
    "with plt.rc_context(rc):\n",
    "    fig, ax = plt.subplots(nrows=3, ncols=2)\n",
    "    \n",
    "    ax[0, 0].set_title(\"(a)\")\n",
    "    \n",
    "    plotter.plot_belief(\n",
    "        ax=ax[0, 0],\n",
    "        u=u_prior,\n",
    "    )\n",
    "    \n",
    "    ax[0, 1].set_title(\"(b)\")\n",
    "    \n",
    "    plotter.plot_pred_belief(\n",
    "        ax=ax[0, 1],\n",
    "        u=u_prior,\n",
    "    )\n",
    "    \n",
    "    ax[1, 0].set_title(\"(c)\")\n",
    "    \n",
    "    plotter.plot_belief(\n",
    "        ax=ax[1, 0],\n",
    "        u=u_cond_bc,\n",
    "        conditioned_on=[\"bc\"],\n",
    "    )\n",
    "    \n",
    "    ax[1, 1].set_title(\"(d)\")\n",
    "    \n",
    "    plotter.plot_pred_belief(\n",
    "        ax=ax[1, 1],\n",
    "        u=u_cond_bc,\n",
    "        conditioned_on=[\"bc\"],\n",
    "    )\n",
    "    \n",
    "    ax[2, 0].set_title(\"(e)\")\n",
    "    \n",
    "    plotter.plot_belief(\n",
    "        ax=ax[2, 0],\n",
    "        u=u_cond_bc_pde,\n",
    "        conditioned_on=[\"bc\", \"pde\"],\n",
    "        X_pde=X_pde,\n",
    "        f_X_pde=f_X_pde,\n",
    "    )\n",
    "    \n",
    "    ax[2, 1].set_title(\"(f)\")\n",
    "    \n",
    "    plotter.plot_pred_belief(\n",
    "        ax=ax[2, 1],\n",
    "        u=u_cond_bc_pde,\n",
    "        conditioned_on=[\"bc\", \"pde\"],\n",
    "        X_pde=X_pde,\n",
    "        f_X_pde=f_X_pde,\n",
    "    )\n",
    "\n",
    "experiment_utils.savefig(\"bcfirst\")"
   ]
  },
  {
   "cell_type": "code",
   "execution_count": null,
   "id": "35faaf61-9d8b-478e-b964-6100acb283e8",
   "metadata": {},
   "outputs": [],
   "source": []
  }
 ],
 "metadata": {
  "kernelspec": {
   "display_name": "Python [conda env:linpde-gp]",
   "language": "python",
   "name": "conda-env-linpde-gp-py"
  },
  "language_info": {
   "codemirror_mode": {
    "name": "ipython",
    "version": 3
   },
   "file_extension": ".py",
   "mimetype": "text/x-python",
   "name": "python",
   "nbconvert_exporter": "python",
   "pygments_lexer": "ipython3",
   "version": "3.9.7"
  }
 },
 "nbformat": 4,
 "nbformat_minor": 5
}
