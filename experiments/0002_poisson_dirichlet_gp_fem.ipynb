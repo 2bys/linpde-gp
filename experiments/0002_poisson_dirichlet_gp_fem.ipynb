{
 "cells": [
  {
   "cell_type": "markdown",
   "metadata": {},
   "source": [
    "# Gaussian Process FEM Method on the 1D Dirichlet Problem"
   ]
  },
  {
   "cell_type": "code",
   "execution_count": null,
   "metadata": {},
   "outputs": [],
   "source": [
    "from matplotlib import pyplot as plt\n",
    "import numpy as np\n",
    "import probnum as pn\n",
    "\n",
    "import linpde_gp"
   ]
  },
  {
   "cell_type": "code",
   "execution_count": null,
   "id": "8234a5d8-aa32-48ee-9c8c-81bc280c5218",
   "metadata": {},
   "outputs": [],
   "source": [
    "import experiment_utils\n",
    "from experiment_utils import config\n",
    "\n",
    "config.experiment_name = \"0002_poisson_dirichlet_gp_fem\"\n",
    "config.target = \"jmlr\"\n",
    "config.debug_mode = True\n",
    "\n",
    "plt.rcParams.update(config.tueplots_bundle())"
   ]
  },
  {
   "cell_type": "markdown",
   "id": "491df4dc-eee9-406e-aba3-a7ce90ebbfb5",
   "metadata": {
    "tags": []
   },
   "source": [
    "## Problem Definition"
   ]
  },
  {
   "cell_type": "code",
   "execution_count": null,
   "id": "9f19b64e-1f95-4b3c-a084-a16d64176122",
   "metadata": {},
   "outputs": [],
   "source": [
    "bvp = linpde_gp.problems.pde.PoissonEquationDirichletProblem(\n",
    "    pde=linpde_gp.problems.pde.PoissonEquation(\n",
    "        domain=linpde_gp.domains.asdomain([-1.0, 1.0]),\n",
    "        rhs=linpde_gp.functions.Constant(input_shape=(), value=2.0),\n",
    "    ),\n",
    "    boundary_values=np.asarray((0.5, 2.0)),\n",
    ")"
   ]
  },
  {
   "cell_type": "markdown",
   "metadata": {},
   "source": [
    "## Test and Trial Bases"
   ]
  },
  {
   "cell_type": "code",
   "execution_count": null,
   "metadata": {},
   "outputs": [],
   "source": [
    "num_finite_elements = 5\n",
    "\n",
    "basis_grid = np.linspace(*bvp.domain, num_finite_elements + 2)\n",
    "\n",
    "trial_basis = linpde_gp.functions.bases.UnivariateLinearInterpolationBasis(\n",
    "    basis_grid,\n",
    "    zero_boundary=False,\n",
    ")\n",
    "\n",
    "test_basis = linpde_gp.functions.bases.UnivariateLinearInterpolationBasis(\n",
    "    basis_grid,\n",
    "    zero_boundary=True,\n",
    ")\n",
    "\n",
    "trial_proj = trial_basis.l2_projection()\n",
    "test_proj = test_basis.l2_projection(normalized=False)"
   ]
  },
  {
   "cell_type": "markdown",
   "metadata": {},
   "source": [
    "## Plotting"
   ]
  },
  {
   "cell_type": "code",
   "execution_count": null,
   "metadata": {},
   "outputs": [],
   "source": [
    "%matplotlib inline\n",
    "\n",
    "import matplotlib.axes\n",
    "\n",
    "from probnum.typing import ArrayLike\n",
    "\n",
    "from linpde_gp.typing import RandomProcessLike, RandomVariableLike\n",
    "\n",
    "\n",
    "plt_grid = bvp.domain.uniform_grid(200)\n",
    "\n",
    "fig_1_plot_rel_width = 0.4\n",
    "fig_1_plot_aspect = 5 / 6\n",
    "\n",
    "\n",
    "def plot_belief(\n",
    "    ax: matplotlib.axes.Axes,\n",
    "    *,\n",
    "    u: pn.randprocs.GaussianProcess,\n",
    "    projection: linpde_gp.linfunctls.projections.l2.L2Projection_UnivariateLinearInterpolationBasis | None = None,\n",
    "    conditioned_on: list[str] = [],\n",
    "    Y_bc: ArrayLike | None = None,\n",
    "    noise_bc: RandomVariableLike | None = None,\n",
    "    X_u_meas: ArrayLike | None = None,\n",
    "    Y_u_meas: ArrayLike | None = None,\n",
    "    noise_u_meas: RandomVariableLike | None = None,\n",
    "    show_projection_basis: linpde_gp.linfunctls.projections.l2.L2Projection_UnivariateLinearInterpolationBasis | None = None,\n",
    "    solution: RandomProcessLike | None = None,\n",
    "):\n",
    "    # Solution Belief\n",
    "    Pu = u\n",
    "    label = \"u\"\n",
    "\n",
    "    if projection is not None:\n",
    "        Pu = linpde_gp.randprocs.ParametricGaussianProcess(\n",
    "            weights=projection(u),\n",
    "            feature_fn=projection.basis,\n",
    "        )\n",
    "        label = r\"\\mathcal{P}[u]\"\n",
    "\n",
    "    cond_events_str = _build_cond_events_str(conditioned_on)\n",
    "\n",
    "    if len(cond_events_str) > 0:\n",
    "        label += fr\" \\mid {cond_events_str}\"\n",
    "\n",
    "    Pu.plot(\n",
    "        ax,\n",
    "        plt_grid,\n",
    "        num_samples=3,\n",
    "        rng=np.random.default_rng(24),\n",
    "        color=config.color[\"u\"],\n",
    "        label=f\"${label}$\",\n",
    "        samples_kwargs={\n",
    "            \"linewidth\": plt.rcParams[\"lines.linewidth\"] * 0.75,\n",
    "        }\n",
    "    )\n",
    "\n",
    "    # True Solution\n",
    "    if solution is not None:\n",
    "        linpde_gp.randprocs.asrandproc(solution).plot(\n",
    "            ax,\n",
    "            plt_grid,\n",
    "            color=config.color[\"sol\"],\n",
    "            label=\"$u^\\star$\",\n",
    "        )\n",
    "\n",
    "    for key in conditioned_on:\n",
    "        match key:\n",
    "            case \"bc\":\n",
    "                X_bc = np.asarray(bvp.domain.boundary)\n",
    "                Y_bc = pn.randvars.asrandvar(Y_bc)\n",
    "                label = r\"u(\\partial D)\"\n",
    "\n",
    "                if noise_bc is not None:\n",
    "                    Y_bc += pn.randvars.asrandvar(noise_bc)\n",
    "\n",
    "                    label += r\" + \\epsilon_{\\partial D}\"\n",
    "\n",
    "                ax.errorbar(\n",
    "                    X_bc,\n",
    "                    Y_bc.mean,\n",
    "                    yerr=1.96 * Y_bc.std,\n",
    "                    fmt=\"+\",\n",
    "                    capsize=2,\n",
    "                    color=config.color[\"bc\"],\n",
    "                    label=f\"${label}$\",\n",
    "                )\n",
    "            case \"u_meas\":\n",
    "                X_u_meas = np.asarray(X_u_meas)\n",
    "                Y_u_meas = np.asarray(Y_u_meas)\n",
    "                noise_u_meas = pn.randvars.asrandvar(noise_u_meas)\n",
    "\n",
    "                ax.errorbar(\n",
    "                    X_u_meas,\n",
    "                    Y_u_meas,\n",
    "                    yerr=1.96 * noise_u_meas.std,\n",
    "                    fmt=\"+\",\n",
    "                    capsize=2,\n",
    "                    color=config.color[\"u_meas\"],\n",
    "                    label=r\"$u(X_{\\mathrm{MEAS}}) + \\epsilon_{\\mathrm{MEAS}}$\",\n",
    "                )\n",
    "\n",
    "    if show_projection_basis is not None:\n",
    "        _plot_projection_basis(\n",
    "            ax,\n",
    "            u=u,\n",
    "            projection=show_projection_basis,\n",
    "            color=config.color[\"pde\"],\n",
    "            alpha=0.1,\n",
    "        )\n",
    "\n",
    "    ax.set_ylim(-0.1, 2.6)\n",
    "    ax.set_xticks([])\n",
    "    ax.set_yticks([])\n",
    "    ax.set_xlabel(\"Domain $D$\")\n",
    "    ax.legend()\n",
    "\n",
    "\n",
    "def _plot_projection_basis(\n",
    "    ax: matplotlib.axes.Axes,\n",
    "    u: pn.randprocs.GaussianProcess,\n",
    "    projection: linpde_gp.linfunctls.projections.l2.L2Projection_UnivariateLinearInterpolationBasis,\n",
    "    **plot_kwargs,\n",
    "):\n",
    "    Pu = projection(u)\n",
    "\n",
    "    basis = projection.basis\n",
    "    coeffs = Pu.mean\n",
    "\n",
    "    assert not projection.basis.zero_boundary\n",
    "\n",
    "    ax.plot(\n",
    "        [basis.x_i[0], basis.x_ip1[0]],\n",
    "        [coeffs[0], 0.0],\n",
    "        **plot_kwargs,\n",
    "    )\n",
    "\n",
    "    for i in range(1, len(basis) - 1):\n",
    "        ax.plot(\n",
    "            [basis.x_im1[i], basis.x_i[i], basis.x_ip1[i]],\n",
    "            [0.0, coeffs[i], 0.0],\n",
    "            **plot_kwargs,\n",
    "        )\n",
    "\n",
    "    ax.plot(\n",
    "        [basis.x_im1[-1], basis.x_i[-1]],\n",
    "        [0.0, coeffs[-1]],\n",
    "        **plot_kwargs,\n",
    "    )\n",
    "\n",
    "\n",
    "def _build_cond_events_str(conditioned_on: list[str]) -> str:\n",
    "    events = []\n",
    "\n",
    "    for key in conditioned_on:\n",
    "        match key:\n",
    "            case \"bc\":\n",
    "                events.append(r\"\\mathrm{BC}\")\n",
    "            case \"pde\":\n",
    "                events.append(r\"\\mathrm{PDE}\")\n",
    "            case \"u_meas\":\n",
    "                events.append(r\"\\mathrm{MEAS}\")\n",
    "            case _:\n",
    "                raise ValueError(f\"Unknown event '{key}'\")\n",
    "    \n",
    "    return \", \".join(events)"
   ]
  },
  {
   "cell_type": "markdown",
   "id": "e5d2cf03-077b-42f4-8d7e-9625b75d4ba8",
   "metadata": {
    "tags": []
   },
   "source": [
    "## Prior"
   ]
  },
  {
   "cell_type": "code",
   "execution_count": null,
   "metadata": {},
   "outputs": [],
   "source": [
    "u_prior = pn.randprocs.GaussianProcess(\n",
    "    mean=linpde_gp.functions.Constant(\n",
    "        input_shape=(),\n",
    "        value=1.3,\n",
    "    ),\n",
    "    cov=0.6 ** 2 * pn.randprocs.kernels.Matern(\n",
    "        input_shape=(),\n",
    "        lengthscale=0.7,\n",
    "        nu=1.5,\n",
    "    ),\n",
    ")"
   ]
  },
  {
   "cell_type": "code",
   "execution_count": null,
   "metadata": {},
   "outputs": [],
   "source": [
    "plot_belief(\n",
    "    plt.gca(),\n",
    "    u=u_prior,\n",
    "    solution=bvp.solution,\n",
    ")"
   ]
  },
  {
   "cell_type": "code",
   "execution_count": null,
   "metadata": {},
   "outputs": [],
   "source": [
    "with plt.rc_context(\n",
    "    config.tueplots_bundle(\n",
    "        rel_width=fig_1_plot_rel_width,\n",
    "        height_to_width_ratio=fig_1_plot_aspect,\n",
    "    )\n",
    "):\n",
    "    plot_belief(\n",
    "        plt.gca(),\n",
    "        u=u_prior,\n",
    "        solution=bvp.solution,\n",
    "    )\n",
    "\n",
    "    experiment_utils.savefig(\"00_u_prior\")"
   ]
  },
  {
   "cell_type": "code",
   "execution_count": null,
   "metadata": {},
   "outputs": [],
   "source": [
    "plot_belief(\n",
    "    plt.gca(),\n",
    "    u=u_prior,\n",
    "    projection=trial_proj,\n",
    "    solution=bvp.solution,\n",
    ")\n",
    "\n",
    "# experiment_utils.savefig(\"00_u_prior_proj\")"
   ]
  },
  {
   "cell_type": "markdown",
   "metadata": {},
   "source": [
    "## Solving the Exact Problem"
   ]
  },
  {
   "cell_type": "markdown",
   "metadata": {},
   "source": [
    "### Conditioning on the Boundary Conditions"
   ]
  },
  {
   "cell_type": "code",
   "execution_count": null,
   "metadata": {},
   "outputs": [],
   "source": [
    "X_bc = np.asarray(bvp.domain.boundary)\n",
    "Y_bc = bvp.boundary_conditions[0].values.support\n",
    "\n",
    "u_cond_bc = u_prior.condition_on_observations(\n",
    "    Y_bc,\n",
    "    X=X_bc,\n",
    ")"
   ]
  },
  {
   "cell_type": "code",
   "execution_count": null,
   "metadata": {},
   "outputs": [],
   "source": [
    "plot_belief(\n",
    "    plt.gca(),\n",
    "    u=u_cond_bc,\n",
    "    conditioned_on=[\"bc\"],\n",
    "    Y_bc=Y_bc,\n",
    "    solution=bvp.solution,\n",
    ")\n",
    "\n",
    "experiment_utils.savefig(\"01_00_u_cond_bc\")"
   ]
  },
  {
   "cell_type": "code",
   "execution_count": null,
   "metadata": {},
   "outputs": [],
   "source": [
    "plot_belief(\n",
    "    plt.gca(),\n",
    "    u=u_cond_bc,\n",
    "    projection=trial_proj,\n",
    "    conditioned_on=[\"bc\"],\n",
    "    Y_bc=Y_bc,\n",
    "    solution=bvp.solution,\n",
    ")\n",
    "\n",
    "experiment_utils.savefig(\"01_00_u_cond_bc_proj\")"
   ]
  },
  {
   "cell_type": "markdown",
   "metadata": {},
   "source": [
    "### Conditioning on the PDE"
   ]
  },
  {
   "cell_type": "code",
   "execution_count": null,
   "metadata": {},
   "outputs": [],
   "source": [
    "diffop_galerkin = bvp.pde.diffop.weak_form(test_basis)(trial_basis)\n",
    "rhs_galerkin = test_proj(bvp.pde.rhs)"
   ]
  },
  {
   "cell_type": "code",
   "execution_count": null,
   "metadata": {},
   "outputs": [],
   "source": [
    "u_cond_bc_pde = u_cond_bc.condition_on_observations(\n",
    "    np.zeros_like(rhs_galerkin.mean),\n",
    "    L=diffop_galerkin @ trial_proj,\n",
    "    b=-rhs_galerkin,\n",
    ")"
   ]
  },
  {
   "cell_type": "code",
   "execution_count": null,
   "metadata": {},
   "outputs": [],
   "source": [
    "plot_belief(\n",
    "    plt.gca(),\n",
    "    u=u_cond_bc_pde,\n",
    "    conditioned_on=[\"bc\", \"pde\"],\n",
    "    Y_bc=Y_bc,\n",
    "    solution=bvp.solution,\n",
    ")\n",
    "\n",
    "experiment_utils.savefig(\"01_01_u_cond_bc_pde\")"
   ]
  },
  {
   "cell_type": "code",
   "execution_count": null,
   "metadata": {},
   "outputs": [],
   "source": [
    "plot_belief(\n",
    "    plt.gca(),\n",
    "    u=u_cond_bc_pde,\n",
    "    projection=trial_proj,\n",
    "    conditioned_on=[\"bc\", \"pde\"],\n",
    "    Y_bc=Y_bc,\n",
    "    solution=bvp.solution,\n",
    ")\n",
    "\n",
    "experiment_utils.savefig(\"01_01_u_cond_bc_pde_proj\")"
   ]
  },
  {
   "cell_type": "markdown",
   "metadata": {},
   "source": [
    "## Solving the Noisy Problem"
   ]
  },
  {
   "cell_type": "markdown",
   "metadata": {},
   "source": [
    "### Synthetic Measurements of the Boundary Values and Initial Conditions"
   ]
  },
  {
   "cell_type": "code",
   "execution_count": null,
   "metadata": {},
   "outputs": [],
   "source": [
    "meas_rng = np.random.default_rng(21489)"
   ]
  },
  {
   "cell_type": "code",
   "execution_count": null,
   "metadata": {},
   "outputs": [],
   "source": [
    "X_bc = np.asarray(bvp.domain.boundary)\n",
    "\n",
    "noise_bc_meas = pn.randvars.Normal(\n",
    "    mean=np.zeros((2,)),\n",
    "    cov=0.1 ** 2 * np.eye(2),\n",
    ")\n",
    "\n",
    "Y_bc_meas = bvp.boundary_conditions[0].values.support + noise_bc_meas.sample(meas_rng)"
   ]
  },
  {
   "cell_type": "code",
   "execution_count": null,
   "metadata": {},
   "outputs": [],
   "source": [
    "num_rhs_meas = 5\n",
    "\n",
    "X_rhs_meas = np.linspace(*bvp.domain, num_rhs_meas + 2)[1:-1]\n",
    "\n",
    "noise_rhs_meas = pn.randvars.Normal(\n",
    "    mean=np.zeros_like(X_rhs_meas),\n",
    "    cov=0.2 ** 2 * np.eye(num_rhs_meas),\n",
    ")\n",
    "\n",
    "Y_rhs_meas = bvp.pde.rhs.as_fn()(X_rhs_meas) + noise_rhs_meas.sample(meas_rng)"
   ]
  },
  {
   "cell_type": "code",
   "execution_count": null,
   "metadata": {},
   "outputs": [],
   "source": [
    "num_u_meas = 3\n",
    "\n",
    "X_u_meas = np.linspace(*bvp.domain, num_u_meas + 2)[1:-1]\n",
    "\n",
    "noise_u_meas = pn.randvars.Normal(\n",
    "    mean=np.zeros_like(X_u_meas),\n",
    "    cov=0.05 ** 2 * np.eye(num_u_meas),\n",
    ")\n",
    "\n",
    "Y_u_meas = bvp.solution.as_fn()(X_u_meas) + noise_u_meas.sample(meas_rng)"
   ]
  },
  {
   "cell_type": "markdown",
   "metadata": {},
   "source": [
    "### RHS Belief"
   ]
  },
  {
   "cell_type": "code",
   "execution_count": null,
   "metadata": {},
   "outputs": [],
   "source": [
    "f_prior = pn.randprocs.GaussianProcess(\n",
    "    mean=linpde_gp.functions.Constant(\n",
    "        input_shape=(),\n",
    "        value=1.5,\n",
    "    ),\n",
    "    cov=pn.randprocs.kernels.Matern(\n",
    "        input_shape=(),\n",
    "        lengthscale=1.0,\n",
    "        nu=0.5,\n",
    "    )\n",
    ")"
   ]
  },
  {
   "cell_type": "code",
   "execution_count": null,
   "metadata": {},
   "outputs": [],
   "source": [
    "f_prior.plot(\n",
    "    plt.gca(),\n",
    "    plt_grid,\n",
    "    label=\"f\",\n",
    ")\n",
    "\n",
    "bvp.pde.rhs.plot(\n",
    "    plt.gca(),\n",
    "    plt_grid,\n",
    "    label=\"$f^\\star$\"\n",
    ")\n",
    "\n",
    "plt.legend()\n",
    "plt.show()"
   ]
  },
  {
   "cell_type": "code",
   "execution_count": null,
   "metadata": {},
   "outputs": [],
   "source": [
    "f_cond_meas = f_prior.condition_on_observations(\n",
    "    Y_rhs_meas,\n",
    "    X=X_rhs_meas,\n",
    "    b=noise_rhs_meas,\n",
    ")"
   ]
  },
  {
   "cell_type": "code",
   "execution_count": null,
   "metadata": {},
   "outputs": [],
   "source": [
    "f_cond_meas.plot(\n",
    "    plt.gca(),\n",
    "    plt_grid,\n",
    "    label=r\"$f \\mid \\text{MEAS}$\",\n",
    ")\n",
    "\n",
    "bvp.pde.rhs.plot(\n",
    "    plt.gca(),\n",
    "    plt_grid,\n",
    "    label=\"$f^\\star$\"\n",
    ")\n",
    "\n",
    "plt.legend()\n",
    "plt.show()"
   ]
  },
  {
   "cell_type": "markdown",
   "metadata": {},
   "source": [
    "### Conditioning on the Measured Boundary Conditions"
   ]
  },
  {
   "cell_type": "code",
   "execution_count": null,
   "metadata": {},
   "outputs": [],
   "source": [
    "u_cond_bc = u_prior.condition_on_observations(\n",
    "    Y_bc_meas,\n",
    "    X=X_bc,\n",
    "    b=noise_bc_meas,\n",
    ")"
   ]
  },
  {
   "cell_type": "code",
   "execution_count": null,
   "metadata": {},
   "outputs": [],
   "source": [
    "plot_belief(\n",
    "    plt.gca(),\n",
    "    u=u_cond_bc,\n",
    "    conditioned_on=[\"bc\"],\n",
    "    Y_bc=Y_bc_meas,\n",
    "    noise_bc=noise_bc_meas,\n",
    "    solution=bvp.solution,\n",
    ")"
   ]
  },
  {
   "cell_type": "code",
   "execution_count": null,
   "metadata": {},
   "outputs": [],
   "source": [
    "with plt.rc_context(\n",
    "    config.tueplots_bundle(\n",
    "        rel_width=fig_1_plot_rel_width,\n",
    "        height_to_width_ratio=fig_1_plot_aspect,\n",
    "    )\n",
    "):\n",
    "    plot_belief(\n",
    "        plt.gca(),\n",
    "        u=u_cond_bc,\n",
    "        conditioned_on=[\"bc\"],\n",
    "        Y_bc=Y_bc_meas,\n",
    "        noise_bc=noise_bc_meas,\n",
    "        solution=bvp.solution,\n",
    "    )\n",
    "\n",
    "    experiment_utils.savefig(\"02_00_u_cond_bc\")"
   ]
  },
  {
   "cell_type": "code",
   "execution_count": null,
   "metadata": {},
   "outputs": [],
   "source": [
    "plot_belief(\n",
    "    plt.gca(),\n",
    "    u=u_cond_bc,\n",
    "    projection=trial_proj,\n",
    "    conditioned_on=[\"bc\"],\n",
    "    Y_bc=Y_bc_meas,\n",
    "    noise_bc=noise_bc_meas,\n",
    "    solution=bvp.solution,\n",
    ")\n",
    "\n",
    "# experiment_utils.savefig(\"02_00_u_cond_bc_proj\")"
   ]
  },
  {
   "cell_type": "markdown",
   "metadata": {},
   "source": [
    "### Conditioning on the PDE with Uncertain RHS"
   ]
  },
  {
   "cell_type": "code",
   "execution_count": null,
   "metadata": {},
   "outputs": [],
   "source": [
    "diffop_galerkin = bvp.pde.diffop.weak_form(test_basis)(trial_basis)\n",
    "rhs_galerkin = test_proj(f_cond_meas)"
   ]
  },
  {
   "cell_type": "code",
   "execution_count": null,
   "metadata": {},
   "outputs": [],
   "source": [
    "u_cond_bc_pde = u_cond_bc.condition_on_observations(\n",
    "    np.zeros_like(rhs_galerkin.mean),\n",
    "    L=diffop_galerkin @ trial_proj,\n",
    "    b=-rhs_galerkin,\n",
    ")"
   ]
  },
  {
   "cell_type": "code",
   "execution_count": null,
   "metadata": {},
   "outputs": [],
   "source": [
    "plot_belief(\n",
    "    plt.gca(),\n",
    "    u=u_cond_bc_pde,\n",
    "    conditioned_on=[\"bc\", \"pde\"],\n",
    "    Y_bc=Y_bc_meas,\n",
    "    noise_bc=noise_bc_meas,\n",
    "    show_projection_basis=trial_proj,\n",
    "    solution=bvp.solution,\n",
    ")"
   ]
  },
  {
   "cell_type": "code",
   "execution_count": null,
   "metadata": {},
   "outputs": [],
   "source": [
    "with plt.rc_context(\n",
    "    config.tueplots_bundle(\n",
    "        rel_width=fig_1_plot_rel_width,\n",
    "        height_to_width_ratio=fig_1_plot_aspect,\n",
    "    )\n",
    "):\n",
    "    plot_belief(\n",
    "        plt.gca(),\n",
    "        u=u_cond_bc_pde,\n",
    "        conditioned_on=[\"bc\", \"pde\"],\n",
    "        Y_bc=Y_bc_meas,\n",
    "        noise_bc=noise_bc_meas,\n",
    "        show_projection_basis=trial_proj,\n",
    "        solution=bvp.solution,\n",
    "    )\n",
    "\n",
    "    experiment_utils.savefig(\"02_01_u_cond_bc_pde\")"
   ]
  },
  {
   "cell_type": "code",
   "execution_count": null,
   "metadata": {},
   "outputs": [],
   "source": [
    "plot_belief(\n",
    "    plt.gca(),\n",
    "    u=u_cond_bc_pde,\n",
    "    projection=trial_proj,\n",
    "    conditioned_on=[\"bc\", \"pde\"],\n",
    "    Y_bc=Y_bc_meas,\n",
    "    noise_bc=noise_bc_meas,\n",
    "    solution=bvp.solution,\n",
    ")\n",
    "\n",
    "# experiment_utils.savefig(\"02_01_u_cond_bc_pde_proj\")"
   ]
  },
  {
   "cell_type": "markdown",
   "metadata": {},
   "source": [
    "### Conditioning on Measurements of the Solution"
   ]
  },
  {
   "cell_type": "code",
   "execution_count": null,
   "metadata": {},
   "outputs": [],
   "source": [
    "u_cond_bc_pde_meas = u_cond_bc_pde.condition_on_observations(\n",
    "    Y_u_meas,\n",
    "    X=X_u_meas,\n",
    "    b=noise_u_meas,\n",
    ")"
   ]
  },
  {
   "cell_type": "code",
   "execution_count": null,
   "metadata": {},
   "outputs": [],
   "source": [
    "plot_belief(\n",
    "    plt.gca(),\n",
    "    u=u_cond_bc_pde_meas,\n",
    "    conditioned_on=[\"bc\", \"pde\", \"u_meas\"],\n",
    "    Y_bc=Y_bc_meas,\n",
    "    noise_bc=noise_bc_meas,\n",
    "    X_u_meas=X_u_meas,\n",
    "    Y_u_meas=Y_u_meas,\n",
    "    noise_u_meas=noise_u_meas,\n",
    "    solution=bvp.solution,\n",
    ")"
   ]
  },
  {
   "cell_type": "code",
   "execution_count": null,
   "metadata": {},
   "outputs": [],
   "source": [
    "with plt.rc_context(\n",
    "    config.tueplots_bundle(\n",
    "        rel_width=fig_1_plot_rel_width,\n",
    "        height_to_width_ratio=fig_1_plot_aspect,\n",
    "    )\n",
    "):\n",
    "    plot_belief(\n",
    "        plt.gca(),\n",
    "        u=u_cond_bc_pde_meas,\n",
    "        conditioned_on=[\"bc\", \"pde\", \"u_meas\"],\n",
    "        Y_bc=Y_bc_meas,\n",
    "        noise_bc=noise_bc_meas,\n",
    "        X_u_meas=X_u_meas,\n",
    "        Y_u_meas=Y_u_meas,\n",
    "        noise_u_meas=noise_u_meas,\n",
    "        solution=bvp.solution,\n",
    "    )\n",
    "\n",
    "    experiment_utils.savefig(\"02_02_u_cond_bc_pde_meas\")"
   ]
  },
  {
   "cell_type": "code",
   "execution_count": null,
   "metadata": {},
   "outputs": [],
   "source": [
    "plot_belief(\n",
    "    plt.gca(),\n",
    "    u=u_cond_bc_pde_meas,\n",
    "    projection=trial_proj,\n",
    "    conditioned_on=[\"bc\", \"pde\", \"u_meas\"],\n",
    "    Y_bc=Y_bc_meas,\n",
    "    noise_bc=noise_bc_meas,\n",
    "    X_u_meas=X_u_meas,\n",
    "    Y_u_meas=Y_u_meas,\n",
    "    noise_u_meas=noise_u_meas,\n",
    "    solution=bvp.solution,\n",
    ")\n",
    "\n",
    "# experiment_utils.savefig(\"02_02_u_cond_bc_pde_meas_proj\")"
   ]
  },
  {
   "cell_type": "markdown",
   "metadata": {},
   "source": [
    "### Stacked Uncertainty Plot"
   ]
  },
  {
   "cell_type": "code",
   "execution_count": null,
   "metadata": {},
   "outputs": [],
   "source": [
    "std_prior = u_prior.std(plt_grid)\n",
    "std_cond_bc = u_cond_bc.std(plt_grid)\n",
    "std_cond_bc_pde = u_cond_bc_pde.std(plt_grid)\n",
    "std_cond_bc_pde_u_meas = u_cond_bc_pde_meas.std(plt_grid)"
   ]
  },
  {
   "cell_type": "code",
   "execution_count": null,
   "metadata": {},
   "outputs": [],
   "source": [
    "# from https://stackoverflow.com/questions/31908982/python-matplotlib-multi-color-legend-entry/67870930#67870930\n",
    "from matplotlib.collections import PatchCollection, PolyCollection\n",
    "\n",
    "class MulticolorPatch:\n",
    "    def __init__(self, fill_polys: list[PolyCollection]):\n",
    "        self.colors = [tuple(fill_poly.get_facecolor()[0]) for fill_poly in fill_polys]\n",
    "        self.alphas = [fill_poly.get_alpha() for fill_poly in fill_polys]\n",
    "\n",
    "class MulticolorPatchHandler:\n",
    "    def legend_artist(self, legend, orig_handle, fontsize, handlebox):\n",
    "        width, height = handlebox.width, handlebox.height\n",
    "        patches = []\n",
    "        for i, (c, a) in enumerate(zip(orig_handle.colors, orig_handle.alphas)):\n",
    "            patches.append(\n",
    "                plt.Rectangle(\n",
    "                    [\n",
    "                        width / len(orig_handle.colors) * i - handlebox.xdescent, \n",
    "                        -handlebox.ydescent,\n",
    "                    ],\n",
    "                    width / len(orig_handle.colors),\n",
    "                    height, \n",
    "                    facecolor=c, \n",
    "                    edgecolor=c,\n",
    "                    alpha=a,\n",
    "                )\n",
    "            )\n",
    "        \n",
    "        patch = PatchCollection(patches,match_original=True)\n",
    "\n",
    "        handlebox.add_artist(patch)\n",
    "        return patch"
   ]
  },
  {
   "cell_type": "code",
   "execution_count": null,
   "metadata": {},
   "outputs": [],
   "source": [
    "with plt.rc_context(\n",
    "    config.tueplots_bundle(\n",
    "        rel_width=0.45,\n",
    "        # height_to_width_ratio=fig_1_plot_aspect,\n",
    "    )\n",
    "):\n",
    "    fill_polys = []\n",
    "\n",
    "    fill_polys.append(\n",
    "        plt.fill_between(\n",
    "            plt_grid,\n",
    "            std_prior,\n",
    "            std_cond_bc,\n",
    "            color=\"black\",\n",
    "            alpha=0.4,\n",
    "            label=\"Prior\",\n",
    "        )\n",
    "    )\n",
    "\n",
    "    fill_polys.append(\n",
    "        plt.fill_between(\n",
    "            plt_grid,\n",
    "            std_cond_bc,\n",
    "            std_cond_bc_pde,\n",
    "            color=config.color[\"bc\"],\n",
    "            alpha=0.85,\n",
    "            label=\"+ BC\",\n",
    "        )\n",
    "    )\n",
    "\n",
    "    fill_polys.append(\n",
    "        plt.fill_between(\n",
    "            plt_grid,\n",
    "            std_cond_bc_pde,\n",
    "            std_cond_bc_pde_u_meas,\n",
    "            color=config.color[\"pde\"],\n",
    "            alpha=0.85,\n",
    "            label=\"+ PDE\",\n",
    "        )\n",
    "    )\n",
    "\n",
    "    fill_polys.append(\n",
    "        plt.fill_between(\n",
    "            plt_grid,\n",
    "            std_cond_bc_pde_u_meas,\n",
    "            color=config.color[\"u_meas\"],\n",
    "            alpha=0.85,\n",
    "            label=\"+ MEAS\",\n",
    "        )\n",
    "    )\n",
    "\n",
    "    plt.autoscale(enable=True, axis=\"both\", tight=True)\n",
    "\n",
    "    plt.gca().set(\n",
    "        xlabel=\"Domain $D$\",\n",
    "        ylabel=\"Marginal Standard Deviation\",\n",
    "        xticks=[],\n",
    "        yticks=[],\n",
    "    )\n",
    "\n",
    "    _, legend_labels = plt.gca().get_legend_handles_labels()\n",
    "\n",
    "    plt.legend(\n",
    "        [MulticolorPatch(fill_polys[idx:]) for idx in range(4)],\n",
    "        legend_labels,\n",
    "        handler_map={MulticolorPatch: MulticolorPatchHandler()},\n",
    "    )\n",
    "\n",
    "    experiment_utils.savefig(\"02_03_stacked_uncertainty\")"
   ]
  },
  {
   "cell_type": "code",
   "execution_count": null,
   "metadata": {},
   "outputs": [],
   "source": []
  }
 ],
 "metadata": {
  "kernelspec": {
   "display_name": "Python 3.10.4 ('linpde-gp')",
   "language": "python",
   "name": "python3"
  },
  "language_info": {
   "codemirror_mode": {
    "name": "ipython",
    "version": 3
   },
   "file_extension": ".py",
   "mimetype": "text/x-python",
   "name": "python",
   "nbconvert_exporter": "python",
   "pygments_lexer": "ipython3",
   "version": "3.10.4"
  },
  "orig_nbformat": 4,
  "vscode": {
   "interpreter": {
    "hash": "88aade6ae3c887346ad7959dbc8c013e14bde92b1226dcb94dccc773c12fdf89"
   }
  }
 },
 "nbformat": 4,
 "nbformat_minor": 2
}
