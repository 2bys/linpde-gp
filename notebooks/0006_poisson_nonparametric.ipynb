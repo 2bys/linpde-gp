{
 "cells": [
  {
   "cell_type": "code",
   "execution_count": null,
   "id": "dc637170-8b95-4e44-b0eb-3dbc8402c9a4",
   "metadata": {},
   "outputs": [],
   "source": [
    "import jax\n",
    "import jax.numpy as jnp\n",
    "import jax.scipy.linalg\n",
    "import matplotlib.pyplot as plt\n",
    "import numpy as np\n",
    "import probnum as pn\n",
    "\n",
    "import linpde_gp"
   ]
  },
  {
   "cell_type": "code",
   "execution_count": null,
   "id": "9009b61f-6bf6-4ea3-af92-586c62b71af6",
   "metadata": {},
   "outputs": [],
   "source": [
    "import notebook_utils\n",
    "\n",
    "notebook_utils.config.notebook_name = \"0006_poisson_nonparametric\"\n",
    "notebook_utils.config.debug_mode = True"
   ]
  },
  {
   "cell_type": "code",
   "execution_count": null,
   "id": "6e64b8f6-8d25-43d8-adbc-9c521839bd3a",
   "metadata": {},
   "outputs": [],
   "source": [
    "%matplotlib inline"
   ]
  },
  {
   "cell_type": "code",
   "execution_count": null,
   "id": "dfc0fd12-7ee1-4a36-a31a-045a0fef7bdd",
   "metadata": {},
   "outputs": [],
   "source": [
    "rng = np.random.default_rng(24)"
   ]
  },
  {
   "cell_type": "markdown",
   "id": "491df4dc-eee9-406e-aba3-a7ce90ebbfb5",
   "metadata": {
    "tags": []
   },
   "source": [
    "## Problem Definition"
   ]
  },
  {
   "cell_type": "code",
   "execution_count": null,
   "id": "c07e9d3f-a7a5-4def-8778-feb30e94977d",
   "metadata": {},
   "outputs": [],
   "source": [
    "from linpde_gp.problems.pde import BoundaryValueProblem, DirichletBoundaryCondition, diffops, domains"
   ]
  },
  {
   "cell_type": "code",
   "execution_count": null,
   "id": "254b8a77-cdfb-4524-be6e-02de61790ed8",
   "metadata": {},
   "outputs": [],
   "source": [
    "domain = domains.Interval(-1.0, 1.0)\n",
    "\n",
    "dirichlet_bc = DirichletBoundaryCondition(\n",
    "    domain.boundary,\n",
    "    values=pn.randvars.Normal(\n",
    "        mean=np.array([0.0, 1.0]),\n",
    "        cov=np.diag(np.full((2,), 0.0 ** 2))\n",
    "    ),\n",
    ")"
   ]
  },
  {
   "cell_type": "code",
   "execution_count": null,
   "id": "9f19b64e-1f95-4b3c-a084-a16d64176122",
   "metadata": {},
   "outputs": [],
   "source": [
    "# PDE RHS\n",
    "f = lambda x: np.full_like(x, -2.0)\n",
    "\n",
    "# True Solution\n",
    "u = lambda x: -x ** 2 + (dirichlet_bc.values.mean[1] - dirichlet_bc.values.mean[0]) / (domain[1] - domain[0]) * (x - domain[0]) + 1.0\n",
    "\n",
    "# PDE Measurements\n",
    "X = np.linspace(-0.8, 0.8, 3)\n",
    "fX_std = np.full_like(X, 0.0 ** 2)"
   ]
  },
  {
   "cell_type": "code",
   "execution_count": null,
   "id": "4ed62911-4379-42cb-adf4-03c266fb8c5c",
   "metadata": {},
   "outputs": [],
   "source": [
    "# PDE RHS\n",
    "f = lambda x: np.pi ** 2 * np.sin(np.pi * x)\n",
    "\n",
    "# True Solution\n",
    "u = lambda x: -jnp.sin(jnp.pi * x)\n",
    "\n",
    "# PDE Measurements\n",
    "X = np.linspace(-0.8, 0.8, 3)\n",
    "fX_std = np.full_like(X, 0.0) ** 2"
   ]
  },
  {
   "cell_type": "code",
   "execution_count": null,
   "id": "99a1f619-15f3-4f74-af2d-55f0242faeed",
   "metadata": {},
   "outputs": [],
   "source": [
    "bvp = BoundaryValueProblem(\n",
    "    diffop=diffops.laplace,\n",
    "    rhs=f,\n",
    "    boundary_conditions=[\n",
    "        DirichletBoundaryCondition(\n",
    "            domain.boundary,\n",
    "            values=pn.randvars.Normal(\n",
    "                mean=np.array([0.0, 1.0]),\n",
    "                cov=np.diag(np.full((2,), 0.0 ** 2))\n",
    "            ),\n",
    "        ),\n",
    "    ]\n",
    ")"
   ]
  },
  {
   "cell_type": "code",
   "execution_count": null,
   "id": "9760515b-73c8-4f4f-8a53-6d89f0b5ca46",
   "metadata": {},
   "outputs": [],
   "source": [
    "N = X.size\n",
    "\n",
    "fX = pn.randvars.Normal(mean=f(X), cov=np.diag(fX_std))"
   ]
  },
  {
   "cell_type": "code",
   "execution_count": null,
   "id": "d26b9757-5130-4234-8ab2-672944d3ae52",
   "metadata": {},
   "outputs": [],
   "source": [
    "plt_grid = np.linspace(*domain, 100)"
   ]
  },
  {
   "cell_type": "markdown",
   "id": "e5d2cf03-077b-42f4-8d7e-9625b75d4ba8",
   "metadata": {
    "tags": []
   },
   "source": [
    "## Prior"
   ]
  },
  {
   "cell_type": "code",
   "execution_count": null,
   "id": "e325809a-1f28-4433-b8ea-452abd1de8fb",
   "metadata": {},
   "outputs": [],
   "source": [
    "lengthscale = 1.0\n",
    "output_scale = 2.0\n",
    "\n",
    "@jax.jit\n",
    "def prior_mean(x):\n",
    "    return jnp.full_like(x[..., 0], 0.0)\n",
    "#     return -0.5 * x[..., 0] ** 2 + 0.5\n",
    "#     return jnp.sin(jnp.pi * x)\n",
    "\n",
    "@jax.jit\n",
    "def prior_cov(x0, x1):\n",
    "    sqnorms = jnp.sum((x0 - x1) ** 2, axis=-1)\n",
    "\n",
    "    return output_scale ** 2 * jnp.exp(-(1.0 / (2.0 * lengthscale ** 2)) * sqnorms)\n",
    "\n",
    "prior_gp = pn.randprocs.GaussianProcess(\n",
    "    mean=linpde_gp.randprocs.mean_fns.JaxMean(prior_mean, vectorize=False),\n",
    "    cov=linpde_gp.randprocs.kernels.JaxKernel(prior_cov, input_dim=1, vectorize=False),\n",
    ")"
   ]
  },
  {
   "cell_type": "code",
   "execution_count": null,
   "id": "4561592b-c298-4ee2-970f-72ef724cbe71",
   "metadata": {},
   "outputs": [],
   "source": [
    "prior_gp.plot(\n",
    "    plt.gca(),\n",
    "    plt_grid,\n",
    "    num_samples=10,\n",
    "    rng=rng,\n",
    "    label=\"$u \\sim \\mathcal{GP}(m, k)$\",\n",
    ")\n",
    "\n",
    "plt.plot(\n",
    "    plt_grid,\n",
    "    u(plt_grid),\n",
    "    label=\"$u^*$\",\n",
    ")\n",
    "\n",
    "plt.legend()\n",
    "\n",
    "notebook_utils.savefig(\"00_prior\")\n",
    "plt.show()"
   ]
  },
  {
   "cell_type": "markdown",
   "id": "f5c5cee5-3ec1-430d-a68b-e4fb5e9d42a6",
   "metadata": {},
   "source": [
    "## Posterior (Boundary Values First)"
   ]
  },
  {
   "cell_type": "markdown",
   "id": "286ad7c4-0268-4328-a959-abde6f5a0f0c",
   "metadata": {},
   "source": [
    "### Conditioning on Boundary Conditions"
   ]
  },
  {
   "cell_type": "code",
   "execution_count": null,
   "id": "bcd02974-ca82-44ac-be13-79cc7a6b9841",
   "metadata": {},
   "outputs": [],
   "source": [
    "u_bc = prior_gp.condition_on_observations_jax(\n",
    "    np.array(list(dirichlet_bc.boundary))[:, None],\n",
    "    dirichlet_bc.values\n",
    ")"
   ]
  },
  {
   "cell_type": "code",
   "execution_count": null,
   "id": "f6018567-0442-45c9-a16c-88577c696765",
   "metadata": {},
   "outputs": [],
   "source": [
    "u_bc.plot(\n",
    "    plt.gca(),\n",
    "    plt_grid,\n",
    "    num_samples=10,\n",
    "    rng=rng,\n",
    "    label=r\"$u \\mid u(\\partial \\Omega) = g(\\partial \\Omega)$\"\n",
    ")\n",
    "\n",
    "plt.plot(\n",
    "    plt_grid,\n",
    "    u(plt_grid),\n",
    "    label=r\"$u^*$\",\n",
    ")\n",
    "\n",
    "plt.errorbar(\n",
    "    dirichlet_bc.boundary,\n",
    "    dirichlet_bc.values.mean,\n",
    "    yerr=dirichlet_bc.values.std,\n",
    "    fmt=\"+\",\n",
    "    capsize=2,\n",
    "    label=r\"$g(\\partial \\Omega)$\"\n",
    ")\n",
    "\n",
    "plt.legend()\n",
    "\n",
    "notebook_utils.savefig(\"01_cond_bc\")\n",
    "plt.show()"
   ]
  },
  {
   "cell_type": "markdown",
   "id": "a42cf182-d90c-4316-ade7-949d6a2b4828",
   "metadata": {},
   "source": [
    "### Predictive Induced by $\\Delta$"
   ]
  },
  {
   "cell_type": "code",
   "execution_count": null,
   "id": "1e09c7f3-0136-4aa7-98d9-dc2d37954a80",
   "metadata": {},
   "outputs": [],
   "source": [
    "laplace_u_bc, laplace_u_bc_crosscov = u_bc.apply_jax_linop(bvp.diffop)"
   ]
  },
  {
   "cell_type": "code",
   "execution_count": null,
   "id": "fa904213-6fa4-4441-8042-219c70329d29",
   "metadata": {},
   "outputs": [],
   "source": [
    "laplace_u_bc.plot(\n",
    "    plt.gca(),\n",
    "    plt_grid,\n",
    "    num_samples=10,\n",
    "    rng=rng,\n",
    "    label=\"$\\Delta u \\mid u(\\partial \\Omega) = g(\\partial \\Omega)$\"\n",
    ")\n",
    "\n",
    "plt.plot(\n",
    "    plt_grid,\n",
    "    f(plt_grid),\n",
    "    label=\"f\",\n",
    ")\n",
    "\n",
    "plt.legend()\n",
    "\n",
    "notebook_utils.savefig(\"02_pred_cond_bc\")\n",
    "plt.show()"
   ]
  },
  {
   "cell_type": "markdown",
   "id": "548b91c3-2c6a-4c14-b2a7-4be056e58f48",
   "metadata": {},
   "source": [
    "### Conditioning on the PDE"
   ]
  },
  {
   "cell_type": "code",
   "execution_count": null,
   "id": "341de563-134d-4fd5-ae3b-def9999f97a9",
   "metadata": {},
   "outputs": [],
   "source": [
    "u_bc_pde = u_bc.condition_on_predictive_gp_observations_jax(laplace_u_bc, laplace_u_bc_crosscov, X[:, None], fX)"
   ]
  },
  {
   "cell_type": "code",
   "execution_count": null,
   "id": "c086a9cb-f801-47c9-a02f-b87e34ed2494",
   "metadata": {},
   "outputs": [],
   "source": [
    "u_bc_pde.plot(\n",
    "    plt.gca(),\n",
    "    plt_grid,\n",
    "    num_samples=10,\n",
    "    rng=rng,\n",
    "    label=\"$u \\mid u(\\partial \\Omega) = g(\\partial \\Omega), \\Delta u(x_i) = f(x_i)$\",\n",
    ")\n",
    "\n",
    "plt.plot(\n",
    "    plt_grid,\n",
    "    u(plt_grid),\n",
    "    color=\"C1\",\n",
    "    label=\"$u^*$\",\n",
    ")\n",
    "\n",
    "plt.errorbar(\n",
    "    dirichlet_bc.boundary,\n",
    "    dirichlet_bc.values.mean,\n",
    "    yerr=dirichlet_bc.values.std,\n",
    "    fmt=\"+\",\n",
    "    capsize=2,\n",
    "    color=\"C2\",\n",
    "    label=r\"$g(\\partial \\Omega)$\"\n",
    ")\n",
    "\n",
    "linpde_gp.plotting.plot_local_curvature(\n",
    "    plt.gca(),\n",
    "    xs=X,\n",
    "    f_xs=u_bc_pde.mean(X[:, None]),\n",
    "    ddf_xs=fX,\n",
    "    df_xs=jnp.vectorize(jax.grad(u_bc_pde._meanfun), signature=\"(d)->(d)\")(X[:, None])[:, 0],\n",
    "    color=\"C3\",\n",
    "    label=f\"$(f(x_1), \\dots, f(x_{N}))$\",\n",
    ")\n",
    "\n",
    "plt.legend()\n",
    "\n",
    "notebook_utils.savefig(\"03_cond_bc_pde\")\n",
    "plt.show()"
   ]
  },
  {
   "cell_type": "markdown",
   "id": "9a673d16-d2c0-4522-bf58-f7e1a7638374",
   "metadata": {},
   "source": [
    "### Posterior Predictive"
   ]
  },
  {
   "cell_type": "code",
   "execution_count": null,
   "id": "d9af8490-db78-45c4-b137-14666e2486cc",
   "metadata": {},
   "outputs": [],
   "source": [
    "lalace_u_bc_pde, _ = u_bc_pde.apply_jax_linop(bvp.diffop)"
   ]
  },
  {
   "cell_type": "code",
   "execution_count": null,
   "id": "c3672b63-f863-470b-9b94-5b02b40dec28",
   "metadata": {},
   "outputs": [],
   "source": [
    "lalace_u_bc_pde.plot(\n",
    "    plt.gca(),\n",
    "    plt_grid,\n",
    "    num_samples=10,\n",
    "    rng=rng,\n",
    "    label=\"$\\Delta u \\mid u(\\partial \\Omega) = g(\\partial \\Omega), \\Delta u(x_i) = f(x_i)$\"\n",
    ")\n",
    "\n",
    "\n",
    "plt.plot(\n",
    "    plt_grid,\n",
    "    f(plt_grid),\n",
    "    label=\"$f$\",\n",
    ")\n",
    "\n",
    "\n",
    "plt.errorbar(\n",
    "    X,\n",
    "    fX.mean,\n",
    "    yerr=fX.std,\n",
    "    fmt=\"+\",\n",
    "    capsize=2,\n",
    "    c=\"C3\",\n",
    "    label=f\"$(f(x_1), \\dots, f(x_{N}))$\",\n",
    ")\n",
    "\n",
    "plt.legend()\n",
    "\n",
    "notebook_utils.savefig(\"04_pred_cond_bc_pde\")\n",
    "plt.show()"
   ]
  },
  {
   "cell_type": "markdown",
   "id": "b691712b-0719-446a-ae5a-d4ecd9fccb1c",
   "metadata": {
    "tags": []
   },
   "source": [
    "## Posterior (PDE First)"
   ]
  },
  {
   "cell_type": "markdown",
   "id": "b1b9ed4d-87f9-4410-802b-b902fbcff861",
   "metadata": {
    "tags": []
   },
   "source": [
    "### Predictive Induced by $\\Delta$"
   ]
  },
  {
   "cell_type": "code",
   "execution_count": null,
   "id": "42bccbe0-5a0c-423f-9ee3-afa2dbc698fc",
   "metadata": {},
   "outputs": [],
   "source": [
    "laplace_u, laplace_u_crosscov = prior_gp.apply_jax_linop(bvp.diffop)"
   ]
  },
  {
   "cell_type": "code",
   "execution_count": null,
   "id": "d5b9e021-a0f9-44da-8f7d-2a82b25c291e",
   "metadata": {},
   "outputs": [],
   "source": [
    "laplace_u.plot(\n",
    "    plt.gca(),\n",
    "    plt_grid,\n",
    "    num_samples=10,\n",
    "    rng=rng,\n",
    "    label=\"$\\Delta u$\"\n",
    ")\n",
    "\n",
    "plt.plot(\n",
    "    plt_grid,\n",
    "    f(plt_grid),\n",
    "    label=\"f\",\n",
    ")\n",
    "\n",
    "plt.legend()\n",
    "\n",
    "notebook_utils.savefig(\"pdefirst_01_prior_pred\")\n",
    "plt.show()"
   ]
  },
  {
   "cell_type": "markdown",
   "id": "a9227985-0323-4a2e-8ada-709ce7bf8766",
   "metadata": {},
   "source": [
    "### Conditioning on the PDE"
   ]
  },
  {
   "cell_type": "code",
   "execution_count": null,
   "id": "df5a6211-7a0a-47ca-9c72-e54fc91da6bc",
   "metadata": {},
   "outputs": [],
   "source": [
    "u_pde = prior_gp.condition_on_predictive_gp_observations_jax(laplace_u, laplace_u_crosscov, X[:, None], fX)"
   ]
  },
  {
   "cell_type": "code",
   "execution_count": null,
   "id": "6ede0412-5a3f-4b8d-a86d-0342ac7c889a",
   "metadata": {},
   "outputs": [],
   "source": [
    "u_pde.plot(\n",
    "    plt.gca(),\n",
    "    plt_grid,\n",
    "    num_samples=10,\n",
    "    rng=rng,\n",
    "    label=\"$u \\mid \\Delta u(x_i) = f(x_i)$\"\n",
    ")\n",
    "\n",
    "plt.plot(\n",
    "    plt_grid,\n",
    "    u(plt_grid),\n",
    "    label=\"$u^*$\",\n",
    ")\n",
    "\n",
    "linpde_gp.plotting.plot_local_curvature(\n",
    "    plt.gca(),\n",
    "    xs=X,\n",
    "    f_xs=u_pde.mean(X[:, None]),\n",
    "    ddf_xs=fX,\n",
    "    df_xs=jnp.vectorize(jax.grad(u_pde._meanfun), signature=\"(d)->(d)\")(X[:, None])[:, 0],\n",
    "    color=\"C3\",\n",
    "    label=f\"$(f(x_1), \\dots, f(x_{N}))$\",\n",
    ")\n",
    "\n",
    "plt.legend()\n",
    "\n",
    "notebook_utils.savefig(\"pdefirst_02_cond_pde\")\n",
    "plt.show()"
   ]
  },
  {
   "cell_type": "markdown",
   "id": "a6fdc8f6-b3d2-4067-bf32-59beb1cf17e4",
   "metadata": {},
   "source": [
    "### Posterior Predictive"
   ]
  },
  {
   "cell_type": "code",
   "execution_count": null,
   "id": "97665088-ae05-4949-9a19-cb1ccd187e92",
   "metadata": {},
   "outputs": [],
   "source": [
    "laplace_u_pde, _ = u_pde.apply_jax_linop(bvp.diffop)"
   ]
  },
  {
   "cell_type": "code",
   "execution_count": null,
   "id": "05842b87-b965-4486-82a9-21d311fdbba3",
   "metadata": {},
   "outputs": [],
   "source": [
    "laplace_u_pde.plot(\n",
    "    plt.gca(),\n",
    "    plt_grid,\n",
    "    num_samples=10,\n",
    "    rng=rng,\n",
    "    label=\"$\\Delta u \\mid \\Delta u(x_i) = f(x_i)$\"\n",
    ")\n",
    "\n",
    "plt.plot(\n",
    "    plt_grid,\n",
    "    f(plt_grid),\n",
    "    label=\"f\",\n",
    ")\n",
    "\n",
    "plt.errorbar(\n",
    "    X,\n",
    "    fX.mean,\n",
    "    yerr=fX.std,\n",
    "    fmt=\"+\",\n",
    "    capsize=2,\n",
    "    c=\"C3\",\n",
    "    label=f\"$(f(x_1), \\dots, f(x_{N}))$\",\n",
    ")\n",
    "\n",
    "plt.legend()\n",
    "\n",
    "notebook_utils.savefig(\"pdefirst_03_pred_cond_pde\")\n",
    "plt.show()"
   ]
  },
  {
   "cell_type": "markdown",
   "id": "e159db50-e641-4ea7-a232-1e6a4ef843d3",
   "metadata": {},
   "source": [
    "### Conditioning on the Boundary Conditions"
   ]
  },
  {
   "cell_type": "code",
   "execution_count": null,
   "id": "3004013b-6583-4980-8af0-2f598ee8a039",
   "metadata": {},
   "outputs": [],
   "source": [
    "u_pde_bc = u_pde.condition_on_observations_jax(np.array(list(dirichlet_bc.boundary))[:, None], dirichlet_bc.values)"
   ]
  },
  {
   "cell_type": "code",
   "execution_count": null,
   "id": "725cddd7-902e-4ccb-b5f1-8985c5f65d92",
   "metadata": {},
   "outputs": [],
   "source": [
    "u_pde_bc.plot(\n",
    "    plt.gca(),\n",
    "    plt_grid,\n",
    "    num_samples=10,\n",
    "    rng=rng,\n",
    "    label=r\"$u \\mid \\Delta u(X) = f(X), u(\\partial \\Omega) = g(\\partial \\Omega)$\"\n",
    ")\n",
    "\n",
    "plt.plot(\n",
    "    plt_grid,\n",
    "    u(plt_grid),\n",
    "    label=\"$u^*$\",\n",
    ")\n",
    "\n",
    "plt.errorbar(\n",
    "    dirichlet_bc.boundary,\n",
    "    dirichlet_bc.values.mean,\n",
    "    yerr=dirichlet_bc.values.std,\n",
    "    fmt=\"+\",\n",
    "    capsize=2,\n",
    "    label=r\"$g(\\partial \\Omega)$\"\n",
    ")\n",
    "\n",
    "linpde_gp.plotting.plot_local_curvature(\n",
    "    plt.gca(),\n",
    "    xs=X,\n",
    "    f_xs=u_pde_bc.mean(X[:, None]),\n",
    "    ddf_xs=fX,\n",
    "    df_xs=jnp.vectorize(jax.grad(u_pde_bc._meanfun), signature=\"(d)->(d)\")(X[:, None])[:, 0],\n",
    "    color=\"C3\",\n",
    "    label=f\"$(f(x_1), \\dots, f(x_{N}))$\",\n",
    ")\n",
    "\n",
    "plt.legend()\n",
    "\n",
    "notebook_utils.savefig(\"pdefirst_04_cond_pde_bc\")\n",
    "plt.show()"
   ]
  },
  {
   "cell_type": "markdown",
   "id": "e056ffb4-277a-469b-8677-f435362c8ab4",
   "metadata": {},
   "source": [
    "### Posterior Predictive with PDE and Boundary Conditions"
   ]
  },
  {
   "cell_type": "code",
   "execution_count": null,
   "id": "f64dc8f6-fef7-4679-9d6a-d8872905ea00",
   "metadata": {},
   "outputs": [],
   "source": [
    "laplace_u_pde_bc, _ = u_pde_bc.apply_jax_linop(bvp.diffop)"
   ]
  },
  {
   "cell_type": "code",
   "execution_count": null,
   "id": "4cd1b134-dcd2-4980-a06c-b1c57ce93128",
   "metadata": {},
   "outputs": [],
   "source": [
    "laplace_u_pde_bc.plot(\n",
    "    plt.gca(),\n",
    "    plt_grid,\n",
    "    num_samples=10,\n",
    "    rng=rng,\n",
    "    label=\"$\\Delta u \\mid \\Delta u(x_i) = f(x_i), u(\\partial \\Omega) = g(\\partial \\Omega)$\"\n",
    ")\n",
    "\n",
    "plt.plot(\n",
    "    plt_grid,\n",
    "    f(plt_grid),\n",
    "    label=\"f\",\n",
    ")\n",
    "\n",
    "plt.errorbar(\n",
    "    X,\n",
    "    fX.mean,\n",
    "    yerr=fX.std,\n",
    "    fmt=\"+\",\n",
    "    capsize=2,\n",
    "    c=\"C3\",\n",
    "    label=f\"$(f(x_1), \\dots, f(x_{N}))$\",\n",
    ")\n",
    "\n",
    "plt.legend()\n",
    "\n",
    "notebook_utils.savefig(\"pdefirst_05_pred_cond_pde_bc\")\n",
    "plt.show()"
   ]
  },
  {
   "cell_type": "code",
   "execution_count": null,
   "id": "675c9447-5ae5-4994-a3c8-7039cc316abd",
   "metadata": {},
   "outputs": [],
   "source": []
  }
 ],
 "metadata": {
  "kernelspec": {
   "display_name": "Python [conda env:linpde-gp]",
   "language": "python",
   "name": "conda-env-linpde-gp-py"
  },
  "language_info": {
   "codemirror_mode": {
    "name": "ipython",
    "version": 3
   },
   "file_extension": ".py",
   "mimetype": "text/x-python",
   "name": "python",
   "nbconvert_exporter": "python",
   "pygments_lexer": "ipython3",
   "version": "3.9.7"
  }
 },
 "nbformat": 4,
 "nbformat_minor": 5
}
