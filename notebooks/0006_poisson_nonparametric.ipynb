{
 "cells": [
  {
   "cell_type": "code",
   "execution_count": null,
   "id": "dc637170-8b95-4e44-b0eb-3dbc8402c9a4",
   "metadata": {},
   "outputs": [],
   "source": [
    "import jax\n",
    "import jax.numpy as jnp\n",
    "import jax.scipy.linalg\n",
    "import matplotlib.pyplot as plt\n",
    "import numpy as np\n",
    "import probnum as pn\n",
    "\n",
    "import probnum_galerkin as pn_gal"
   ]
  },
  {
   "cell_type": "code",
   "execution_count": null,
   "id": "6e64b8f6-8d25-43d8-adbc-9c521839bd3a",
   "metadata": {},
   "outputs": [],
   "source": [
    "%matplotlib inline\n",
    "\n",
    "from IPython.display import set_matplotlib_formats\n",
    "set_matplotlib_formats(\"pdf\", \"svg\")"
   ]
  },
  {
   "cell_type": "code",
   "execution_count": null,
   "id": "0e5d0e92-7865-47ce-8e86-6fa384c05f4a",
   "metadata": {},
   "outputs": [],
   "source": [
    "jax.config.update(\"jax_enable_x64\", True)"
   ]
  },
  {
   "cell_type": "code",
   "execution_count": null,
   "id": "30e06010-5ce8-4bbe-a5ec-8db5ad13ed82",
   "metadata": {},
   "outputs": [],
   "source": [
    "class JaxMean:\n",
    "    def __init__(self, m, vectorize=True):\n",
    "        self._m = jax.numpy.vectorize(m, signature=\"(d)->()\") if vectorize else m\n",
    "    \n",
    "    def __call__(self, x):\n",
    "        return np.asarray(self._m(x))\n",
    "    \n",
    "    def jax(self, x):\n",
    "        return self._m(x)\n",
    "\n",
    "\n",
    "class JaxKernel(pn.kernels.Kernel):\n",
    "    def __init__(self, k, input_dim):\n",
    "        self._k = jax.numpy.vectorize(k, signature=\"(d),(d)->()\")\n",
    "        super().__init__(input_dim)\n",
    "\n",
    "    def _evaluate(self, x0, x1) -> np.ndarray:\n",
    "        if x1 is None:\n",
    "            x1 = x0\n",
    "        \n",
    "        kernmat = self._k(x0, x1)\n",
    "\n",
    "        return np.array(kernmat)\n",
    "    \n",
    "    def jax(self, x0, x1):\n",
    "        return self._k(x0, x1)\n",
    "    \n",
    "def laplace(f, argnum=0):\n",
    "    Hf = jax.hessian(f, argnum)\n",
    "    \n",
    "    @jax.jit\n",
    "    def _hessian_trace(*args):\n",
    "        return jnp.trace(jnp.atleast_2d(Hf(*args)))\n",
    "    \n",
    "    return _hessian_trace"
   ]
  },
  {
   "cell_type": "code",
   "execution_count": null,
   "id": "dfc0fd12-7ee1-4a36-a31a-045a0fef7bdd",
   "metadata": {},
   "outputs": [],
   "source": [
    "rng = np.random.default_rng(24)"
   ]
  },
  {
   "cell_type": "code",
   "execution_count": null,
   "id": "d26b9757-5130-4234-8ab2-672944d3ae52",
   "metadata": {},
   "outputs": [],
   "source": [
    "grid = np.linspace(-1, 1, 100)"
   ]
  },
  {
   "cell_type": "markdown",
   "id": "491df4dc-eee9-406e-aba3-a7ce90ebbfb5",
   "metadata": {},
   "source": [
    "## Problem Definition"
   ]
  },
  {
   "cell_type": "code",
   "execution_count": null,
   "id": "9f19b64e-1f95-4b3c-a084-a16d64176122",
   "metadata": {},
   "outputs": [],
   "source": [
    "f = lambda x: np.full_like(x, -2.0)\n",
    "\n",
    "boundary_points = np.array([-1.0, 1.0])\n",
    "g = np.array([0.0, 1.0])\n",
    "# g_std = np.array([0.2, 0.2])\n",
    "g_std = np.zeros(2)\n",
    "\n",
    "u = lambda x: -x ** 2 + (g[1] - g[0]) / (boundary_points[1] - boundary_points[0]) * (x - boundary_points[0]) + 1.0"
   ]
  },
  {
   "cell_type": "code",
   "execution_count": null,
   "id": "4ed62911-4379-42cb-adf4-03c266fb8c5c",
   "metadata": {},
   "outputs": [],
   "source": [
    "f = lambda x: np.pi ** 2 * np.sin(np.pi * x)\n",
    "\n",
    "boundary_points = np.array([-1.0, 1.0])\n",
    "g = np.array([0.0, 0.0])\n",
    "g_std = np.array([0.1, 0.1])\n",
    "\n",
    "u = lambda x: -jnp.sin(jnp.pi * x)"
   ]
  },
  {
   "cell_type": "markdown",
   "id": "e5d2cf03-077b-42f4-8d7e-9625b75d4ba8",
   "metadata": {},
   "source": [
    "## Prior"
   ]
  },
  {
   "cell_type": "code",
   "execution_count": null,
   "id": "e325809a-1f28-4433-b8ea-452abd1de8fb",
   "metadata": {},
   "outputs": [],
   "source": [
    "lengthscale = 1.0\n",
    "output_scale = 3.0\n",
    "\n",
    "@jax.jit\n",
    "def prior_mean(x):\n",
    "    return jnp.full_like(x[..., 0], 0.0)\n",
    "#     return -0.5 * x[..., 0] ** 2 + 0.5\n",
    "#     return jnp.sin(jnp.pi * x)\n",
    "\n",
    "@jax.jit\n",
    "def prior_cov(x0, x1):\n",
    "    sqnorms = jnp.sum((x0 - x1) ** 2, axis=-1)\n",
    "\n",
    "    return output_scale ** 2 * jnp.exp(-(1.0 / (2.0 * lengthscale ** 2)) * sqnorms)\n",
    "\n",
    "prior_gp = pn.randprocs.GaussianProcess(\n",
    "    mean=JaxMean(prior_mean, vectorize=False),\n",
    "    cov=JaxKernel(\n",
    "        prior_cov,\n",
    "        input_dim=1,\n",
    "    ),\n",
    ")"
   ]
  },
  {
   "cell_type": "code",
   "execution_count": null,
   "id": "4561592b-c298-4ee2-970f-72ef724cbe71",
   "metadata": {},
   "outputs": [],
   "source": [
    "prior_gp.plot(\n",
    "    plt.gca(),\n",
    "    grid,\n",
    "    num_samples=10,\n",
    "    rng=rng,\n",
    "    label=\"$u \\sim \\mathcal{GP}(m, k)$\",\n",
    ")\n",
    "\n",
    "plt.plot(\n",
    "    grid,\n",
    "    u(grid),\n",
    "    label=\"$u^*$\",\n",
    ")\n",
    "\n",
    "plt.legend()\n",
    "plt.title(\"Prior\")\n",
    "plt.savefig(\"../results/0006_01_poisson_rbf_prior.png\", dpi=300)\n",
    "plt.show()"
   ]
  },
  {
   "cell_type": "markdown",
   "id": "f5c5cee5-3ec1-430d-a68b-e4fb5e9d42a6",
   "metadata": {},
   "source": [
    "## Posterior (Boundary Values First)"
   ]
  },
  {
   "cell_type": "markdown",
   "id": "286ad7c4-0268-4328-a959-abde6f5a0f0c",
   "metadata": {},
   "source": [
    "### Conditioning on Boundary Conditions"
   ]
  },
  {
   "cell_type": "code",
   "execution_count": null,
   "id": "a6bc2f6c-235b-4eaf-9c94-a30cbf8a7932",
   "metadata": {},
   "outputs": [],
   "source": [
    "def condition_gp_on_observations(gp, X, Y, Lambda):\n",
    "    mX = gp._meanfun.jax(X)\n",
    "    kXX = gp._covfun.jax(X[:, None, :], X[None, :, :]) + Lambda\n",
    "    L_kXX = jax.scipy.linalg.cho_factor(kXX)\n",
    "    \n",
    "    @jax.jit\n",
    "    def cond_mean(x):\n",
    "        mx = gp._meanfun.jax(x)\n",
    "        kxX = gp._covfun.jax(x, X)\n",
    "        return mx + kxX @ jax.scipy.linalg.cho_solve(L_kXX, (Y - mX))\n",
    "\n",
    "    @jax.jit\n",
    "    def cond_cov(x0, x1):\n",
    "        kxx = gp._covfun.jax(x0, x1)\n",
    "        kxX = gp._covfun.jax(x0, X)\n",
    "        kXx = gp._covfun.jax(X, x1)\n",
    "        return kxx - kxX @ jax.scipy.linalg.cho_solve(L_kXX, kXx)\n",
    "\n",
    "    cond_gp = pn.randprocs.GaussianProcess(\n",
    "        mean=JaxMean(cond_mean),\n",
    "        cov=JaxKernel(\n",
    "            cond_cov,\n",
    "            input_dim=1,\n",
    "        ),\n",
    "    )\n",
    "    \n",
    "    return cond_gp\n",
    "\n",
    "pn.randprocs.GaussianProcess.condition_on_observations = condition_gp_on_observations"
   ]
  },
  {
   "cell_type": "code",
   "execution_count": null,
   "id": "bcd02974-ca82-44ac-be13-79cc7a6b9841",
   "metadata": {},
   "outputs": [],
   "source": [
    "prior_bc = prior_gp.condition_on_observations(\n",
    "    boundary_points[:, None],\n",
    "    g,\n",
    "    jnp.diag(g_std) ** 2,\n",
    ")"
   ]
  },
  {
   "cell_type": "code",
   "execution_count": null,
   "id": "f6018567-0442-45c9-a16c-88577c696765",
   "metadata": {},
   "outputs": [],
   "source": [
    "prior_bc.plot(\n",
    "    plt.gca(),\n",
    "    grid,\n",
    "    num_samples=10,\n",
    "    rng=rng,\n",
    "    label=\"$u \\mid u(\\partial \\Omega) = g(\\partial \\Omega)$\"\n",
    ")\n",
    "\n",
    "plt.plot(\n",
    "    grid,\n",
    "    u(grid),\n",
    "    label=\"$u^*$\",\n",
    ")\n",
    "\n",
    "plt.errorbar(\n",
    "    boundary_points,\n",
    "    g,\n",
    "    yerr=g_std,\n",
    "    fmt=\"+\",\n",
    "    capsize=2,\n",
    ")\n",
    "\n",
    "plt.title(\"Prior Conditioned on Boundary Values\")\n",
    "plt.legend()\n",
    "plt.savefig(\"../results/0006_02_poisson_rbf_prior_bc.png\", dpi=300)\n",
    "plt.show()"
   ]
  },
  {
   "cell_type": "markdown",
   "id": "a42cf182-d90c-4316-ade7-949d6a2b4828",
   "metadata": {},
   "source": [
    "### Predictive Induced by $\\Delta$"
   ]
  },
  {
   "cell_type": "code",
   "execution_count": null,
   "id": "bc04e8d7-0d47-4360-9aab-72308bdf1644",
   "metadata": {},
   "outputs": [],
   "source": [
    "def laplace_gp(gp):\n",
    "    mean = laplace(gp._meanfun.jax)\n",
    "    cov = laplace(laplace(gp._covfun.jax, 1), 0)\n",
    "    crosscov = jnp.vectorize(laplace(gp._covfun.jax, 1), signature=\"(d),(d)->()\")\n",
    "\n",
    "    lapf = pn.randprocs.GaussianProcess(\n",
    "        mean=JaxMean(mean),\n",
    "        cov=JaxKernel(cov, input_dim=1),\n",
    "    )\n",
    "    \n",
    "    return lapf, crosscov\n",
    "\n",
    "pn.randprocs.GaussianProcess.laplace = laplace_gp"
   ]
  },
  {
   "cell_type": "code",
   "execution_count": null,
   "id": "1e09c7f3-0136-4aa7-98d9-dc2d37954a80",
   "metadata": {},
   "outputs": [],
   "source": [
    "pred_bc, pred_bc_crosscov = prior_bc.laplace()"
   ]
  },
  {
   "cell_type": "code",
   "execution_count": null,
   "id": "fa904213-6fa4-4441-8042-219c70329d29",
   "metadata": {},
   "outputs": [],
   "source": [
    "pred_bc.plot(\n",
    "    plt.gca(),\n",
    "    grid,\n",
    "    num_samples=10,\n",
    "    rng=rng,\n",
    "    label=\"$\\Delta u \\mid u(\\partial \\Omega) = g(\\partial \\Omega)$\"\n",
    ")\n",
    "\n",
    "plt.plot(\n",
    "    grid,\n",
    "    f(grid),\n",
    "    label=\"f\",\n",
    ")\n",
    "\n",
    "plt.legend()\n",
    "plt.title(\"Prior Mapped Through Differential Operator\")\n",
    "plt.savefig(\"../results/0006_03_poisson_rbf_prior_predictive.png\", dpi=300)\n",
    "plt.show()"
   ]
  },
  {
   "cell_type": "markdown",
   "id": "548b91c3-2c6a-4c14-b2a7-4be056e58f48",
   "metadata": {},
   "source": [
    "### Conditioning on the PDE"
   ]
  },
  {
   "cell_type": "code",
   "execution_count": null,
   "id": "92dd7b2a-6486-4d52-a81e-ed5f0ff8706d",
   "metadata": {},
   "outputs": [],
   "source": [
    "N = 3\n",
    "\n",
    "X = np.linspace(-0.8, 0.8, N)\n",
    "fX = pn.randvars.Normal(\n",
    "    mean=f(X),\n",
    "    cov=np.diag(\n",
    "        np.full_like(X, 0.0) ** 2\n",
    "    ),\n",
    ")"
   ]
  },
  {
   "cell_type": "code",
   "execution_count": null,
   "id": "a922b577-8683-49d8-82ad-14d8c75eba2c",
   "metadata": {},
   "outputs": [],
   "source": [
    "def condition_gp_on_predictive_gp(f, Lf, jax_crosscov, X, LfX):\n",
    "    LmX = Lf._meanfun.jax(X)\n",
    "    gramXX = Lf._covfun.jax(X[:, None, :], X[None, :, :]) + LfX.cov\n",
    "    gramXX_cho = jax.scipy.linalg.cho_factor(gramXX)\n",
    "    \n",
    "    @jax.jit\n",
    "    def pred_cond_mean(x):\n",
    "        mx = f._meanfun.jax(x)\n",
    "        kLxX = jax_crosscov(x[None], X)\n",
    "        return mx + kLxX @ jax.scipy.linalg.cho_solve(gramXX_cho, (LfX.mean - LmX))\n",
    "\n",
    "    @jax.jit\n",
    "    def pred_cond_cov(x0, x1):\n",
    "        kxx = f._covfun.jax(x0, x1)\n",
    "        kLxX = jax_crosscov(x0, X)\n",
    "        LkXx = jax_crosscov(x1, X).T\n",
    "        return kxx - kLxX @ jax.scipy.linalg.cho_solve(gramXX_cho, LkXx)\n",
    "\n",
    "    cond_gp = pn.randprocs.GaussianProcess(\n",
    "        mean=JaxMean(pred_cond_mean),\n",
    "        cov=JaxKernel(pred_cond_cov, input_dim=f.input_dim),\n",
    "    )\n",
    "    \n",
    "    return cond_gp\n",
    "\n",
    "pn.randprocs.GaussianProcess.condition_on_predictive_gp = condition_gp_on_predictive_gp"
   ]
  },
  {
   "cell_type": "code",
   "execution_count": null,
   "id": "341de563-134d-4fd5-ae3b-def9999f97a9",
   "metadata": {},
   "outputs": [],
   "source": [
    "post_bcfirst = prior_bc.condition_on_predictive_gp(pred_bc, pred_bc_crosscov, X[:, None], fX)"
   ]
  },
  {
   "cell_type": "code",
   "execution_count": null,
   "id": "c086a9cb-f801-47c9-a02f-b87e34ed2494",
   "metadata": {},
   "outputs": [],
   "source": [
    "post_bcfirst.plot(\n",
    "    plt.gca(),\n",
    "    grid,\n",
    "    num_samples=10,\n",
    "    rng=rng,\n",
    "    label=\"$u \\mid \\Delta u(X) = f(X)$\"\n",
    ")\n",
    "\n",
    "plt.scatter(\n",
    "    X,\n",
    "    post_bcfirst.mean(X[:, None]),\n",
    "    marker=\"|\",\n",
    "    s=80,\n",
    "    c=\"C1\",\n",
    "    label=f\"$X = (x_1, \\dots, x_{N})$\",\n",
    ")\n",
    "\n",
    "plt.plot(\n",
    "    grid,\n",
    "    u(grid),\n",
    "    label=\"$u^*$\",\n",
    ")\n",
    "\n",
    "plt.legend()\n",
    "plt.title(\"Posterior\")\n",
    "plt.savefig(\"../results/0006_04_poisson_rbf_posterior.png\", dpi=300)\n",
    "plt.show()"
   ]
  },
  {
   "cell_type": "markdown",
   "id": "9a673d16-d2c0-4522-bf58-f7e1a7638374",
   "metadata": {},
   "source": [
    "### Posterior Predictive"
   ]
  },
  {
   "cell_type": "code",
   "execution_count": null,
   "id": "d9af8490-db78-45c4-b137-14666e2486cc",
   "metadata": {},
   "outputs": [],
   "source": [
    "post_pred_bcfirst, _ = post_bcfirst.laplace()"
   ]
  },
  {
   "cell_type": "code",
   "execution_count": null,
   "id": "c3672b63-f863-470b-9b94-5b02b40dec28",
   "metadata": {},
   "outputs": [],
   "source": [
    "post_pred_bcfirst.plot(\n",
    "    plt.gca(),\n",
    "    grid,\n",
    "    num_samples=10,\n",
    "    rng=rng,\n",
    "    label=\"$\\Delta u \\mid \\Delta u(X) = f(X)$\"\n",
    ")\n",
    "\n",
    "\n",
    "plt.errorbar(\n",
    "    X,\n",
    "    fX.mean,\n",
    "    yerr=fX.std,\n",
    "    fmt=\"+\",\n",
    "    capsize=2,\n",
    "    c=\"C1\",\n",
    "    label=f\"$f(X) = (f(x_1), \\dots, f(x_{N}))$\",\n",
    ")\n",
    "\n",
    "plt.plot(\n",
    "    grid,\n",
    "    f(grid),\n",
    "    c=\"C2\",\n",
    "    label=\"f\",\n",
    ")\n",
    "\n",
    "plt.legend()\n",
    "plt.title(\"Posterior Mapped Through Differential Operator\")\n",
    "plt.savefig(\"../results/0006_05_poisson_rbf_posterior_predictive.png\", dpi=300)\n",
    "plt.show()"
   ]
  },
  {
   "cell_type": "markdown",
   "id": "b691712b-0719-446a-ae5a-d4ecd9fccb1c",
   "metadata": {
    "tags": []
   },
   "source": [
    "## Posterior (PDE First)"
   ]
  },
  {
   "cell_type": "markdown",
   "id": "238c3640-85cc-40fa-aa1d-4a68eba39fb7",
   "metadata": {},
   "source": [
    "### Predictive Induced by $\\Delta$"
   ]
  },
  {
   "cell_type": "code",
   "execution_count": null,
   "id": "714a9836-086d-45fc-a0b5-66e5737e3cee",
   "metadata": {},
   "outputs": [],
   "source": [
    "pred_nobc, pred_crosscov_nobc = prior_gp.laplace()"
   ]
  },
  {
   "cell_type": "code",
   "execution_count": null,
   "id": "ffcea623-aac8-4cc1-b16d-549884186f26",
   "metadata": {},
   "outputs": [],
   "source": [
    "pred_nobc.plot(\n",
    "    plt.gca(),\n",
    "    grid,\n",
    "    num_samples=10,\n",
    "    rng=rng,\n",
    "    label=\"$\\Delta u \\mid u(\\partial \\Omega) = g(\\partial \\Omega)$\"\n",
    ")\n",
    "\n",
    "plt.plot(\n",
    "    grid,\n",
    "    f(grid),\n",
    "    label=\"f\",\n",
    ")\n",
    "\n",
    "plt.legend()\n",
    "plt.title(\"Prior Mapped Through Differential Operator\")\n",
    "plt.savefig(\"../results/0006_03_poisson_rbf_prior_predictive.png\", dpi=300)\n",
    "plt.show()"
   ]
  },
  {
   "cell_type": "markdown",
   "id": "a9227985-0323-4a2e-8ada-709ce7bf8766",
   "metadata": {},
   "source": [
    "### Conditioning on the PDE"
   ]
  },
  {
   "cell_type": "code",
   "execution_count": null,
   "id": "7ffc789e-7ed1-47a1-8cf5-a665ebacbb9d",
   "metadata": {},
   "outputs": [],
   "source": [
    "N = 3\n",
    "\n",
    "X = np.linspace(-0.8, 0.8, N)\n",
    "fX = pn.randvars.Normal(\n",
    "    mean=f(X),\n",
    "    cov=np.diag(\n",
    "        np.full_like(X, 0.0) ** 2\n",
    "    ),\n",
    ")"
   ]
  },
  {
   "cell_type": "code",
   "execution_count": null,
   "id": "df5a6211-7a0a-47ca-9c72-e54fc91da6bc",
   "metadata": {},
   "outputs": [],
   "source": [
    "post_nobc = prior_gp.condition_on_predictive_gp(pred_nobc, pred_crosscov_nobc, X[:, None], fX)"
   ]
  },
  {
   "cell_type": "code",
   "execution_count": null,
   "id": "6ede0412-5a3f-4b8d-a86d-0342ac7c889a",
   "metadata": {},
   "outputs": [],
   "source": [
    "post_nobc.plot(\n",
    "    plt.gca(),\n",
    "    grid,\n",
    "    num_samples=10,\n",
    "    rng=rng,\n",
    "    label=\"$u \\mid \\Delta u(X) = f(X)$\"\n",
    ")\n",
    "\n",
    "plt.scatter(\n",
    "    X,\n",
    "    post_nobc.mean(X[:, None]),\n",
    "    marker=\"|\",\n",
    "    s=80,\n",
    "    c=\"C1\",\n",
    "    label=f\"$X = (x_1, \\dots, x_{N})$\",\n",
    ")\n",
    "\n",
    "plt.plot(\n",
    "    grid,\n",
    "    u(grid),\n",
    "    label=\"$u^*$\",\n",
    ")\n",
    "\n",
    "plt.legend()\n",
    "plt.title(\"Posterior\")\n",
    "#plt.savefig(\"../results/0006_04_poisson_rbf_posterior.png\", dpi=300)\n",
    "plt.show()"
   ]
  },
  {
   "cell_type": "markdown",
   "id": "e159db50-e641-4ea7-a232-1e6a4ef843d3",
   "metadata": {},
   "source": [
    "### Conditioning on the Boundary Conditions"
   ]
  },
  {
   "cell_type": "code",
   "execution_count": null,
   "id": "3004013b-6583-4980-8af0-2f598ee8a039",
   "metadata": {},
   "outputs": [],
   "source": [
    "post_pdefirst = post_nobc.condition_on_observations(\n",
    "    boundary_points[:, None],\n",
    "    g,\n",
    "    jnp.diag(g_std),\n",
    ")"
   ]
  },
  {
   "cell_type": "code",
   "execution_count": null,
   "id": "725cddd7-902e-4ccb-b5f1-8985c5f65d92",
   "metadata": {},
   "outputs": [],
   "source": [
    "post_pdefirst.plot(\n",
    "    plt.gca(),\n",
    "    grid,\n",
    "    num_samples=10,\n",
    "    rng=rng,\n",
    "    label=\"$u \\mid \\Delta u(X) = f(X)$\"\n",
    ")\n",
    "\n",
    "plt.scatter(\n",
    "    X,\n",
    "    post_pdefirst.mean(X[:, None]),\n",
    "    marker=\"|\",\n",
    "    s=80,\n",
    "    c=\"C1\",\n",
    "    label=f\"$X = (x_1, \\dots, x_{N})$\",\n",
    ")\n",
    "\n",
    "plt.plot(\n",
    "    grid,\n",
    "    u(grid),\n",
    "    label=\"$u^*$\",\n",
    ")\n",
    "\n",
    "plt.legend()\n",
    "plt.title(\"Posterior\")\n",
    "plt.savefig(\"../results/0006_04_poisson_rbf_posterior1.png\", dpi=300)\n",
    "plt.show()"
   ]
  },
  {
   "cell_type": "code",
   "execution_count": null,
   "id": "e52609e9-73cc-4bfb-bbd5-2609968ce8d2",
   "metadata": {},
   "outputs": [],
   "source": []
  }
 ],
 "metadata": {
  "kernelspec": {
   "display_name": "Python [conda env:probnum]",
   "language": "python",
   "name": "conda-env-probnum-py"
  },
  "language_info": {
   "codemirror_mode": {
    "name": "ipython",
    "version": 3
   },
   "file_extension": ".py",
   "mimetype": "text/x-python",
   "name": "python",
   "nbconvert_exporter": "python",
   "pygments_lexer": "ipython3",
   "version": "3.8.5"
  }
 },
 "nbformat": 4,
 "nbformat_minor": 5
}
