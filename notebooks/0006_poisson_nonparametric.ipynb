{
 "cells": [
  {
   "cell_type": "code",
   "execution_count": null,
   "id": "dc637170-8b95-4e44-b0eb-3dbc8402c9a4",
   "metadata": {},
   "outputs": [],
   "source": [
    "import jax\n",
    "import jax.numpy as jnp\n",
    "import jax.scipy.linalg\n",
    "import matplotlib.pyplot as plt\n",
    "import numpy as np\n",
    "import probnum as pn\n",
    "\n",
    "import probnum_galerkin as pngal"
   ]
  },
  {
   "cell_type": "code",
   "execution_count": null,
   "id": "6e64b8f6-8d25-43d8-adbc-9c521839bd3a",
   "metadata": {},
   "outputs": [],
   "source": [
    "%matplotlib inline\n",
    "\n",
    "from matplotlib_inline.backend_inline import set_matplotlib_formats\n",
    "set_matplotlib_formats(\"pdf\", \"svg\")"
   ]
  },
  {
   "cell_type": "code",
   "execution_count": null,
   "id": "0e5d0e92-7865-47ce-8e86-6fa384c05f4a",
   "metadata": {},
   "outputs": [],
   "source": [
    "jax.config.update(\"jax_enable_x64\", True)"
   ]
  },
  {
   "cell_type": "code",
   "execution_count": null,
   "id": "b091795d-d66a-4696-95f1-65a9e33f175b",
   "metadata": {},
   "outputs": [],
   "source": [
    "import enum\n",
    "from typing import Any, Callable, Optional\n",
    "\n",
    "\n",
    "class Backend(enum.Enum):\n",
    "    NUMPY = \"numpy\"\n",
    "    JAX = \"jax\"\n",
    "\n",
    "\n",
    "BACKEND = Backend.JAX\n",
    "    \n",
    "\n",
    "class BackendDispatcher:\n",
    "    def __init__(\n",
    "        self,\n",
    "        numpy_impl: Optional[Callable[..., Any]],\n",
    "        jax_impl: Optional[Callable[..., Any]]=None,\n",
    "    ):\n",
    "        self._impl = {}\n",
    "        \n",
    "        if numpy_impl is not None:\n",
    "            self._impl[Backend.NUMPY] = numpy_impl\n",
    "        \n",
    "        if jax_impl is not None:\n",
    "            self._impl[Backend.JAX] = jax_impl\n",
    "        \n",
    "    def __call__(self, *args, **kwargs) -> Any:\n",
    "        return self._impl[BACKEND](*args, **kwargs)"
   ]
  },
  {
   "cell_type": "code",
   "execution_count": null,
   "id": "30e06010-5ce8-4bbe-a5ec-8db5ad13ed82",
   "metadata": {},
   "outputs": [],
   "source": [
    "class JaxMean:\n",
    "    def __init__(self, m, vectorize=True):\n",
    "        if vectorize:\n",
    "            m = jax.numpy.vectorize(m, signature=\"(d)->()\")\n",
    "        \n",
    "        self._dispatcher = BackendDispatcher(\n",
    "            numpy_impl=lambda x: np.asarray(m(x)),\n",
    "            jax_impl=m,\n",
    "        )\n",
    "    \n",
    "    def __call__(self, x):\n",
    "        return self._dispatcher(x)\n",
    "\n",
    "\n",
    "class JaxKernel(pn.kernels.Kernel):\n",
    "    def __init__(self, k, input_dim):\n",
    "        self._k = jax.numpy.vectorize(k, signature=\"(d),(d)->()\")\n",
    "        super().__init__(input_dim)\n",
    "\n",
    "    def _evaluate(self, x0, x1) -> np.ndarray:\n",
    "        if x1 is None:\n",
    "            x1 = x0\n",
    "        \n",
    "        kernmat = self._k(x0, x1)\n",
    "\n",
    "        return np.array(kernmat)\n",
    "    \n",
    "    def jax(self, x0, x1):\n",
    "        return self._k(x0, x1)\n",
    "    \n",
    "def laplace(f, argnum=0):\n",
    "    Hf = jax.hessian(f, argnum)\n",
    "    \n",
    "    @jax.jit\n",
    "    def _hessian_trace(*args):\n",
    "        return jnp.trace(jnp.atleast_2d(Hf(*args)))\n",
    "    \n",
    "    return _hessian_trace"
   ]
  },
  {
   "cell_type": "code",
   "execution_count": null,
   "id": "dfc0fd12-7ee1-4a36-a31a-045a0fef7bdd",
   "metadata": {},
   "outputs": [],
   "source": [
    "rng = np.random.default_rng(24)"
   ]
  },
  {
   "cell_type": "code",
   "execution_count": null,
   "id": "d26b9757-5130-4234-8ab2-672944d3ae52",
   "metadata": {},
   "outputs": [],
   "source": [
    "grid = np.linspace(-1, 1, 100)"
   ]
  },
  {
   "cell_type": "markdown",
   "id": "491df4dc-eee9-406e-aba3-a7ce90ebbfb5",
   "metadata": {},
   "source": [
    "## Problem Definition"
   ]
  },
  {
   "cell_type": "code",
   "execution_count": null,
   "id": "9f19b64e-1f95-4b3c-a084-a16d64176122",
   "metadata": {},
   "outputs": [],
   "source": [
    "# PDE RHS\n",
    "f = lambda x: np.full_like(x, -2.0)\n",
    "\n",
    "# Probabilistic Boundary Conditions\n",
    "boundary = np.array([-1.0, 1.0])\n",
    "g = pn.randvars.Normal(\n",
    "    mean=np.array([0.0, 1.0]),\n",
    "    cov=np.diag(np.full_like(boundary, 0.0 ** 2))\n",
    ")\n",
    "\n",
    "# True Solution\n",
    "u = lambda x: -x ** 2 + (g.mean[1] - g.mean[0]) / (boundary[1] - boundary[0]) * (x - boundary[0]) + 1.0\n",
    "\n",
    "# PDE Measurements\n",
    "X = np.linspace(-0.8, 0.8, 3)\n",
    "fX_std = np.full_like(X, 0.0 ** 2)"
   ]
  },
  {
   "cell_type": "code",
   "execution_count": null,
   "id": "4ed62911-4379-42cb-adf4-03c266fb8c5c",
   "metadata": {},
   "outputs": [],
   "source": [
    "# PDE RHS\n",
    "f = lambda x: np.pi ** 2 * np.sin(np.pi * x)\n",
    "\n",
    "# Probabilistic Boundary Conditions\n",
    "boundary = np.array([-1.0, 1.0])\n",
    "g = pn.randvars.Normal(\n",
    "    mean=np.array([0.0, 0.0]),\n",
    "    cov=np.diag(np.full_like(boundary, 0.0 ** 2))\n",
    ")\n",
    "\n",
    "# True Solution\n",
    "u = lambda x: -jnp.sin(jnp.pi * x)\n",
    "\n",
    "# PDE Measurements\n",
    "X = np.linspace(-0.8, 0.8, 3)\n",
    "fX_std = np.full_like(X, 0.0) ** 2"
   ]
  },
  {
   "cell_type": "code",
   "execution_count": null,
   "id": "9760515b-73c8-4f4f-8a53-6d89f0b5ca46",
   "metadata": {},
   "outputs": [],
   "source": [
    "N = X.size\n",
    "\n",
    "fX = pn.randvars.Normal(mean=f(X), cov=np.diag(fX_std))"
   ]
  },
  {
   "cell_type": "markdown",
   "id": "e5d2cf03-077b-42f4-8d7e-9625b75d4ba8",
   "metadata": {},
   "source": [
    "## Prior"
   ]
  },
  {
   "cell_type": "code",
   "execution_count": null,
   "id": "e325809a-1f28-4433-b8ea-452abd1de8fb",
   "metadata": {},
   "outputs": [],
   "source": [
    "lengthscale = 1.0\n",
    "output_scale = 2.0\n",
    "\n",
    "@jax.jit\n",
    "def prior_mean(x):\n",
    "    return jnp.full_like(x[..., 0], 0.0)\n",
    "#     return -0.5 * x[..., 0] ** 2 + 0.5\n",
    "#     return jnp.sin(jnp.pi * x)\n",
    "\n",
    "@jax.jit\n",
    "def prior_cov(x0, x1):\n",
    "    sqnorms = jnp.sum((x0 - x1) ** 2, axis=-1)\n",
    "\n",
    "    return output_scale ** 2 * jnp.exp(-(1.0 / (2.0 * lengthscale ** 2)) * sqnorms)\n",
    "\n",
    "prior_gp = pn.randprocs.GaussianProcess(\n",
    "    mean=JaxMean(prior_mean, vectorize=False),\n",
    "    cov=JaxKernel(\n",
    "        prior_cov,\n",
    "        input_dim=1,\n",
    "    ),\n",
    ")"
   ]
  },
  {
   "cell_type": "code",
   "execution_count": null,
   "id": "4561592b-c298-4ee2-970f-72ef724cbe71",
   "metadata": {},
   "outputs": [],
   "source": [
    "prior_gp.plot(\n",
    "    plt.gca(),\n",
    "    grid,\n",
    "    num_samples=10,\n",
    "    rng=rng,\n",
    "    label=\"$u \\sim \\mathcal{GP}(m, k)$\",\n",
    ")\n",
    "\n",
    "plt.plot(\n",
    "    grid,\n",
    "    u(grid),\n",
    "    label=\"$u^*$\",\n",
    ")\n",
    "\n",
    "plt.legend()\n",
    "plt.savefig(\"../results/0006_poisson_rbf_00_prior.pdf\", dpi=300)\n",
    "plt.show()"
   ]
  },
  {
   "cell_type": "markdown",
   "id": "f5c5cee5-3ec1-430d-a68b-e4fb5e9d42a6",
   "metadata": {},
   "source": [
    "## Posterior (Boundary Values First)"
   ]
  },
  {
   "cell_type": "markdown",
   "id": "286ad7c4-0268-4328-a959-abde6f5a0f0c",
   "metadata": {},
   "source": [
    "### Conditioning on Boundary Conditions"
   ]
  },
  {
   "cell_type": "code",
   "execution_count": null,
   "id": "a6bc2f6c-235b-4eaf-9c94-a30cbf8a7932",
   "metadata": {},
   "outputs": [],
   "source": [
    "def condition_gp_on_observations(gp: pn.randprocs.GaussianProcess, X: np.ndarray, fX: pn.randvars.Normal):\n",
    "    mX = gp._meanfun(X)\n",
    "    kXX = gp._covfun.jax(X[:, None, :], X[None, :, :]) + fX.cov\n",
    "    L_kXX = jax.scipy.linalg.cho_factor(kXX)\n",
    "    \n",
    "    @jax.jit\n",
    "    def cond_mean(x):\n",
    "        mx = gp._meanfun(x)\n",
    "        kxX = gp._covfun.jax(x, X)\n",
    "        return mx + kxX @ jax.scipy.linalg.cho_solve(L_kXX, (fX.mean - mX))\n",
    "\n",
    "    @jax.jit\n",
    "    def cond_cov(x0, x1):\n",
    "        kxx = gp._covfun.jax(x0, x1)\n",
    "        kxX = gp._covfun.jax(x0, X)\n",
    "        kXx = gp._covfun.jax(X, x1)\n",
    "        return kxx - kxX @ jax.scipy.linalg.cho_solve(L_kXX, kXx)\n",
    "\n",
    "    cond_gp = pn.randprocs.GaussianProcess(\n",
    "        mean=JaxMean(cond_mean),\n",
    "        cov=JaxKernel(\n",
    "            cond_cov,\n",
    "            input_dim=1,\n",
    "        ),\n",
    "    )\n",
    "    \n",
    "    return cond_gp\n",
    "\n",
    "pn.randprocs.GaussianProcess.condition_on_observations = condition_gp_on_observations"
   ]
  },
  {
   "cell_type": "code",
   "execution_count": null,
   "id": "bcd02974-ca82-44ac-be13-79cc7a6b9841",
   "metadata": {},
   "outputs": [],
   "source": [
    "u_bc = prior_gp.condition_on_observations(boundary[:, None], g)"
   ]
  },
  {
   "cell_type": "code",
   "execution_count": null,
   "id": "f6018567-0442-45c9-a16c-88577c696765",
   "metadata": {},
   "outputs": [],
   "source": [
    "u_bc.plot(\n",
    "    plt.gca(),\n",
    "    grid,\n",
    "    num_samples=10,\n",
    "    rng=rng,\n",
    "    label=r\"$u \\mid u(\\partial \\Omega) = g(\\partial \\Omega)$\"\n",
    ")\n",
    "\n",
    "plt.plot(\n",
    "    grid,\n",
    "    u(grid),\n",
    "    label=r\"$u^*$\",\n",
    ")\n",
    "\n",
    "plt.errorbar(\n",
    "    boundary,\n",
    "    g.mean,\n",
    "    yerr=g.std,\n",
    "    fmt=\"+\",\n",
    "    capsize=2,\n",
    "    color=\"C2\",\n",
    "    label=r\"$g(\\partial \\Omega)$\"\n",
    ")\n",
    "\n",
    "plt.legend()\n",
    "plt.savefig(\"../results/0006_poisson_rbf_bcfirst_01_cond_bc.pdf\", dpi=300)\n",
    "plt.show()"
   ]
  },
  {
   "cell_type": "markdown",
   "id": "a42cf182-d90c-4316-ade7-949d6a2b4828",
   "metadata": {},
   "source": [
    "### Predictive Induced by $\\Delta$"
   ]
  },
  {
   "cell_type": "code",
   "execution_count": null,
   "id": "bc04e8d7-0d47-4360-9aab-72308bdf1644",
   "metadata": {},
   "outputs": [],
   "source": [
    "def laplace_gp(gp: pn.randprocs.GaussianProcess):\n",
    "    mean = laplace(gp._meanfun)\n",
    "    cov = laplace(laplace(gp._covfun.jax, 1), 0)\n",
    "    crosscov = jnp.vectorize(laplace(gp._covfun.jax, 1), signature=\"(d),(d)->()\")\n",
    "\n",
    "    lapf = pn.randprocs.GaussianProcess(\n",
    "        mean=JaxMean(mean),\n",
    "        cov=JaxKernel(cov, input_dim=1),\n",
    "    )\n",
    "    \n",
    "    return lapf, crosscov\n",
    "\n",
    "pn.randprocs.GaussianProcess.laplace = laplace_gp"
   ]
  },
  {
   "cell_type": "code",
   "execution_count": null,
   "id": "1e09c7f3-0136-4aa7-98d9-dc2d37954a80",
   "metadata": {},
   "outputs": [],
   "source": [
    "laplace_u_bc, laplace_u_bc_crosscov = u_bc.laplace()"
   ]
  },
  {
   "cell_type": "code",
   "execution_count": null,
   "id": "fa904213-6fa4-4441-8042-219c70329d29",
   "metadata": {},
   "outputs": [],
   "source": [
    "laplace_u_bc.plot(\n",
    "    plt.gca(),\n",
    "    grid,\n",
    "    num_samples=10,\n",
    "    rng=rng,\n",
    "    label=\"$\\Delta u \\mid u(\\partial \\Omega) = g(\\partial \\Omega)$\"\n",
    ")\n",
    "\n",
    "plt.plot(\n",
    "    grid,\n",
    "    f(grid),\n",
    "    color=\"C3\",\n",
    "    label=\"f\",\n",
    ")\n",
    "\n",
    "plt.legend()\n",
    "plt.savefig(\"../results/0006_poisson_rbf_bcfirst_02_cond_bc_laplace.pdf\", dpi=300)\n",
    "plt.show()"
   ]
  },
  {
   "cell_type": "markdown",
   "id": "548b91c3-2c6a-4c14-b2a7-4be056e58f48",
   "metadata": {},
   "source": [
    "### Conditioning on the PDE"
   ]
  },
  {
   "cell_type": "code",
   "execution_count": null,
   "id": "a922b577-8683-49d8-82ad-14d8c75eba2c",
   "metadata": {},
   "outputs": [],
   "source": [
    "def condition_gp_on_predictive_gp(f: pn.randprocs.GaussianProcess, Lf: pn.randprocs.GaussianProcess, jax_crosscov, X: np.ndarray, LfX: pn.randvars.Normal):\n",
    "    LmX = Lf._meanfun(X)\n",
    "    gramXX = Lf._covfun.jax(X[:, None, :], X[None, :, :]) + LfX.cov\n",
    "    gramXX_cho = jax.scipy.linalg.cho_factor(gramXX)\n",
    "    \n",
    "    @jax.jit\n",
    "    def pred_cond_mean(x):\n",
    "        mx = f._meanfun(x)\n",
    "        kLxX = jax_crosscov(x[None], X)\n",
    "        return mx + kLxX @ jax.scipy.linalg.cho_solve(gramXX_cho, (LfX.mean - LmX))\n",
    "\n",
    "    @jax.jit\n",
    "    def pred_cond_cov(x0, x1):\n",
    "        kxx = f._covfun.jax(x0, x1)\n",
    "        kLxX = jax_crosscov(x0, X)\n",
    "        LkXx = jax_crosscov(x1, X).T\n",
    "        return kxx - kLxX @ jax.scipy.linalg.cho_solve(gramXX_cho, LkXx)\n",
    "\n",
    "    cond_gp = pn.randprocs.GaussianProcess(\n",
    "        mean=JaxMean(pred_cond_mean),\n",
    "        cov=JaxKernel(pred_cond_cov, input_dim=f.input_dim),\n",
    "    )\n",
    "    \n",
    "    return cond_gp\n",
    "\n",
    "pn.randprocs.GaussianProcess.condition_on_predictive_gp = condition_gp_on_predictive_gp"
   ]
  },
  {
   "cell_type": "code",
   "execution_count": null,
   "id": "341de563-134d-4fd5-ae3b-def9999f97a9",
   "metadata": {},
   "outputs": [],
   "source": [
    "u_bc_pde = u_bc.condition_on_predictive_gp(laplace_u_bc, laplace_u_bc_crosscov, X[:, None], fX)"
   ]
  },
  {
   "cell_type": "code",
   "execution_count": null,
   "id": "c086a9cb-f801-47c9-a02f-b87e34ed2494",
   "metadata": {},
   "outputs": [],
   "source": [
    "u_bc_pde.plot(\n",
    "    plt.gca(),\n",
    "    grid,\n",
    "    num_samples=10,\n",
    "    rng=rng,\n",
    "    label=\"$u \\mid u(\\partial \\Omega) = g(\\partial \\Omega), \\Delta u(x_i) = f(x_i)$\",\n",
    ")\n",
    "\n",
    "plt.plot(\n",
    "    grid,\n",
    "    u(grid),\n",
    "    color=\"C1\",\n",
    "    label=\"$u^*$\",\n",
    ")\n",
    "\n",
    "plt.errorbar(\n",
    "    boundary,\n",
    "    g.mean,\n",
    "    yerr=g.std,\n",
    "    fmt=\"+\",\n",
    "    capsize=2,\n",
    "    color=\"C2\",\n",
    "    label=r\"$g(\\partial \\Omega)$\"\n",
    ")\n",
    "\n",
    "pngal.plotting.plot_local_curvature(\n",
    "    plt.gca(),\n",
    "    xs=X,\n",
    "    f_xs=u_bc_pde.mean(X[:, None]),\n",
    "    ddf_xs=fX,\n",
    "    df_xs=jnp.vectorize(jax.grad(u_bc_pde._meanfun), signature=\"(d)->(d)\")(X[:, None])[:, 0],\n",
    "    color=\"C3\",\n",
    "    label=f\"$(f(x_1), \\dots, f(x_{N}))$\",\n",
    ")\n",
    "\n",
    "plt.legend()\n",
    "plt.savefig(\"../results/0006_poisson_rbf_bcfirst_03_00_cond_bc_pde.pdf\", dpi=300)\n",
    "plt.show()"
   ]
  },
  {
   "cell_type": "markdown",
   "id": "9a673d16-d2c0-4522-bf58-f7e1a7638374",
   "metadata": {},
   "source": [
    "### Posterior Predictive"
   ]
  },
  {
   "cell_type": "code",
   "execution_count": null,
   "id": "d9af8490-db78-45c4-b137-14666e2486cc",
   "metadata": {},
   "outputs": [],
   "source": [
    "lalace_u_bc_pde, _ = u_bc_pde.laplace()"
   ]
  },
  {
   "cell_type": "code",
   "execution_count": null,
   "id": "c3672b63-f863-470b-9b94-5b02b40dec28",
   "metadata": {},
   "outputs": [],
   "source": [
    "lalace_u_bc_pde.plot(\n",
    "    plt.gca(),\n",
    "    grid,\n",
    "    num_samples=10,\n",
    "    rng=rng,\n",
    "    label=\"$\\Delta u \\mid u(\\partial \\Omega) = g(\\partial \\Omega), \\Delta u(x_i) = f(x_i)$\"\n",
    ")\n",
    "\n",
    "\n",
    "plt.errorbar(\n",
    "    X,\n",
    "    fX.mean,\n",
    "    yerr=fX.std,\n",
    "    fmt=\"+\",\n",
    "    capsize=2,\n",
    "    c=\"C3\",\n",
    "    label=f\"$(f(x_1), \\dots, f(x_{N}))$\",\n",
    ")\n",
    "\n",
    "plt.plot(\n",
    "    grid,\n",
    "    f(grid),\n",
    "    c=\"C3\",\n",
    "    label=\"f\",\n",
    ")\n",
    "\n",
    "plt.legend()\n",
    "plt.savefig(\"../results/0006_poisson_rbf_bcfirst_03_01_cond_bc_pde_laplace.pdf\", dpi=300)\n",
    "plt.show()"
   ]
  },
  {
   "cell_type": "markdown",
   "id": "b691712b-0719-446a-ae5a-d4ecd9fccb1c",
   "metadata": {
    "tags": []
   },
   "source": [
    "## Posterior (PDE First)"
   ]
  },
  {
   "cell_type": "markdown",
   "id": "b1b9ed4d-87f9-4410-802b-b902fbcff861",
   "metadata": {
    "tags": []
   },
   "source": [
    "### Predictive Induced by $\\Delta$"
   ]
  },
  {
   "cell_type": "code",
   "execution_count": null,
   "id": "42bccbe0-5a0c-423f-9ee3-afa2dbc698fc",
   "metadata": {},
   "outputs": [],
   "source": [
    "laplace_u, laplace_u_crosscov = prior_gp.laplace()"
   ]
  },
  {
   "cell_type": "code",
   "execution_count": null,
   "id": "d5b9e021-a0f9-44da-8f7d-2a82b25c291e",
   "metadata": {},
   "outputs": [],
   "source": [
    "laplace_u.plot(\n",
    "    plt.gca(),\n",
    "    grid,\n",
    "    num_samples=10,\n",
    "    rng=rng,\n",
    "    label=\"$\\Delta u \\mid u(\\partial \\Omega) = g(\\partial \\Omega)$\"\n",
    ")\n",
    "\n",
    "plt.plot(\n",
    "    grid,\n",
    "    f(grid),\n",
    "    color=\"C3\",\n",
    "    label=\"f\",\n",
    ")\n",
    "\n",
    "plt.legend()\n",
    "plt.savefig(\"../results/0006_poisson_rbf_pdefirst_01_prior_laplace.pdf\", dpi=300)\n",
    "plt.show()"
   ]
  },
  {
   "cell_type": "markdown",
   "id": "a9227985-0323-4a2e-8ada-709ce7bf8766",
   "metadata": {},
   "source": [
    "### Conditioning on the PDE"
   ]
  },
  {
   "cell_type": "code",
   "execution_count": null,
   "id": "df5a6211-7a0a-47ca-9c72-e54fc91da6bc",
   "metadata": {},
   "outputs": [],
   "source": [
    "u_pde = prior_gp.condition_on_predictive_gp(laplace_u, laplace_u_crosscov, X[:, None], fX)"
   ]
  },
  {
   "cell_type": "code",
   "execution_count": null,
   "id": "6ede0412-5a3f-4b8d-a86d-0342ac7c889a",
   "metadata": {},
   "outputs": [],
   "source": [
    "u_pde.plot(\n",
    "    plt.gca(),\n",
    "    grid,\n",
    "    num_samples=10,\n",
    "    rng=rng,\n",
    "    label=\"$u \\mid \\Delta u(x_i) = f(x_i)$\"\n",
    ")\n",
    "\n",
    "plt.plot(\n",
    "    grid,\n",
    "    u(grid),\n",
    "    color=\"C1\",\n",
    "    label=\"$u^*$\",\n",
    ")\n",
    "\n",
    "pngal.plotting.plot_local_curvature(\n",
    "    plt.gca(),\n",
    "    xs=X,\n",
    "    f_xs=u_pde.mean(X[:, None]),\n",
    "    ddf_xs=fX,\n",
    "    df_xs=jnp.vectorize(jax.grad(u_pde._meanfun), signature=\"(d)->(d)\")(X[:, None])[:, 0],\n",
    "    color=\"C3\",\n",
    "    label=f\"$(f(x_1), \\dots, f(x_{N}))$\",\n",
    ")\n",
    "\n",
    "plt.legend()\n",
    "plt.savefig(\"../results/0006_poisson_rbf_pdefirst_02_00_cond_pde.pdf\", dpi=300)\n",
    "plt.show()"
   ]
  },
  {
   "cell_type": "markdown",
   "id": "a6fdc8f6-b3d2-4067-bf32-59beb1cf17e4",
   "metadata": {},
   "source": [
    "### Posterior Predictive"
   ]
  },
  {
   "cell_type": "code",
   "execution_count": null,
   "id": "97665088-ae05-4949-9a19-cb1ccd187e92",
   "metadata": {},
   "outputs": [],
   "source": [
    "laplace_u_pde, _ = u_pde.laplace()"
   ]
  },
  {
   "cell_type": "code",
   "execution_count": null,
   "id": "05842b87-b965-4486-82a9-21d311fdbba3",
   "metadata": {},
   "outputs": [],
   "source": [
    "laplace_u_pde.plot(\n",
    "    plt.gca(),\n",
    "    grid,\n",
    "    num_samples=10,\n",
    "    rng=rng,\n",
    "    label=\"$\\Delta u \\mid \\Delta u(x_i) = f(x_i)$\"\n",
    ")\n",
    "\n",
    "\n",
    "plt.errorbar(\n",
    "    X,\n",
    "    fX.mean,\n",
    "    yerr=fX.std,\n",
    "    fmt=\"+\",\n",
    "    capsize=2,\n",
    "    c=\"C3\",\n",
    "    label=f\"$(f(x_1), \\dots, f(x_{N}))$\",\n",
    ")\n",
    "\n",
    "plt.plot(\n",
    "    grid,\n",
    "    f(grid),\n",
    "    c=\"C3\",\n",
    "    label=\"f\",\n",
    ")\n",
    "\n",
    "plt.legend()\n",
    "plt.savefig(\"../results/0006_poisson_rbf_pdefirst_02_01_cond_pde_laplace.pdf\", dpi=300)\n",
    "plt.show()"
   ]
  },
  {
   "cell_type": "markdown",
   "id": "e159db50-e641-4ea7-a232-1e6a4ef843d3",
   "metadata": {},
   "source": [
    "### Conditioning on the Boundary Conditions"
   ]
  },
  {
   "cell_type": "code",
   "execution_count": null,
   "id": "3004013b-6583-4980-8af0-2f598ee8a039",
   "metadata": {},
   "outputs": [],
   "source": [
    "u_pde_bc = u_pde.condition_on_observations(boundary[:, None], g)"
   ]
  },
  {
   "cell_type": "code",
   "execution_count": null,
   "id": "725cddd7-902e-4ccb-b5f1-8985c5f65d92",
   "metadata": {},
   "outputs": [],
   "source": [
    "u_pde_bc.plot(\n",
    "    plt.gca(),\n",
    "    grid,\n",
    "    num_samples=10,\n",
    "    rng=rng,\n",
    "    label=r\"$u \\mid \\Delta u(X) = f(X), u(\\partial \\Omega) = g(\\partial \\Omega)$\"\n",
    ")\n",
    "\n",
    "plt.plot(\n",
    "    grid,\n",
    "    u(grid),\n",
    "    color=\"C1\",\n",
    "    label=\"$u^*$\",\n",
    ")\n",
    "\n",
    "plt.errorbar(\n",
    "    boundary,\n",
    "    g.mean,\n",
    "    yerr=g.std,\n",
    "    fmt=\"+\",\n",
    "    capsize=2,\n",
    "    color=\"C2\",\n",
    "    label=r\"$g(\\partial \\Omega)$\"\n",
    ")\n",
    "\n",
    "pngal.plotting.plot_local_curvature(\n",
    "    plt.gca(),\n",
    "    xs=X,\n",
    "    f_xs=u_pde_bc.mean(X[:, None]),\n",
    "    ddf_xs=fX,\n",
    "    df_xs=jnp.vectorize(jax.grad(u_pde_bc._meanfun), signature=\"(d)->(d)\")(X[:, None])[:, 0],\n",
    "    color=\"C3\",\n",
    "    label=f\"$(f(x_1), \\dots, f(x_{N}))$\",\n",
    ")\n",
    "\n",
    "plt.legend()\n",
    "plt.savefig(\"../results/0006_poisson_rbf_pdefirst_03_00_cond_pde_bc.pdf\", dpi=300)\n",
    "plt.show()"
   ]
  },
  {
   "cell_type": "markdown",
   "id": "e056ffb4-277a-469b-8677-f435362c8ab4",
   "metadata": {},
   "source": [
    "### Posterior Predictive with PDE and Boundary Conditions"
   ]
  },
  {
   "cell_type": "code",
   "execution_count": null,
   "id": "f64dc8f6-fef7-4679-9d6a-d8872905ea00",
   "metadata": {},
   "outputs": [],
   "source": [
    "laplace_u_pde_bc, _ = u_pde_bc.laplace()"
   ]
  },
  {
   "cell_type": "code",
   "execution_count": null,
   "id": "4cd1b134-dcd2-4980-a06c-b1c57ce93128",
   "metadata": {},
   "outputs": [],
   "source": [
    "laplace_u_pde.plot(\n",
    "    plt.gca(),\n",
    "    grid,\n",
    "    num_samples=10,\n",
    "    rng=rng,\n",
    "    label=\"$\\Delta u \\mid \\Delta u(x_i) = f(x_i), u(\\partial \\Omega) = g(\\partial \\Omega)$\"\n",
    ")\n",
    "\n",
    "plt.errorbar(\n",
    "    X,\n",
    "    fX.mean,\n",
    "    yerr=fX.std,\n",
    "    fmt=\"+\",\n",
    "    capsize=2,\n",
    "    c=\"C3\",\n",
    "    label=f\"$(f(x_1), \\dots, f(x_{N}))$\",\n",
    ")\n",
    "\n",
    "plt.plot(\n",
    "    grid,\n",
    "    f(grid),\n",
    "    c=\"C3\",\n",
    "    label=\"f\",\n",
    ")\n",
    "\n",
    "plt.legend()\n",
    "plt.savefig(\"../results/0006_poisson_rbf_pdefirst_03_01_cond_pde_bc_laplace.pdf\", dpi=300)\n",
    "plt.show()"
   ]
  },
  {
   "cell_type": "code",
   "execution_count": null,
   "id": "675c9447-5ae5-4994-a3c8-7039cc316abd",
   "metadata": {},
   "outputs": [],
   "source": []
  }
 ],
 "metadata": {
  "kernelspec": {
   "display_name": "Python [conda env:probnum]",
   "language": "python",
   "name": "conda-env-probnum-py"
  },
  "language_info": {
   "codemirror_mode": {
    "name": "ipython",
    "version": 3
   },
   "file_extension": ".py",
   "mimetype": "text/x-python",
   "name": "python",
   "nbconvert_exporter": "python",
   "pygments_lexer": "ipython3",
   "version": "3.8.5"
  }
 },
 "nbformat": 4,
 "nbformat_minor": 5
}
