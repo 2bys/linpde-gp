{
 "cells": [
  {
   "cell_type": "markdown",
   "id": "121fae4b-da30-48c1-a1f8-58505d5eda1d",
   "metadata": {},
   "source": [
    "# Conditioning the Linear System Prior on Observations of the PDE Solution"
   ]
  },
  {
   "cell_type": "code",
   "execution_count": null,
   "id": "f33f1bbd-770f-49b3-84a6-a1961aaa53af",
   "metadata": {},
   "outputs": [],
   "source": [
    "import matplotlib.pyplot as plt\n",
    "import numpy as np\n",
    "import probnum as pn\n",
    "import scipy.sparse\n",
    "\n",
    "import probnum_galerkin"
   ]
  },
  {
   "cell_type": "code",
   "execution_count": null,
   "id": "52757089-6adb-442f-9bf0-bb05a856f9b3",
   "metadata": {},
   "outputs": [],
   "source": [
    "%matplotlib inline\n",
    "\n",
    "from IPython.display import set_matplotlib_formats\n",
    "set_matplotlib_formats(\"pdf\", \"svg\")"
   ]
  },
  {
   "cell_type": "markdown",
   "id": "0a8b2745-ed7f-4348-9148-b8ea77066bbb",
   "metadata": {},
   "source": [
    "In the following, we will again look at the Poisson equation on a 1D domain with Dirichlet boundary conditions."
   ]
  },
  {
   "cell_type": "code",
   "execution_count": null,
   "id": "896cbf5a-7999-41de-8e29-1704ffeb2426",
   "metadata": {},
   "outputs": [],
   "source": [
    "domain = (-1.0, 1.0)\n",
    "\n",
    "bvp = probnum_galerkin.problems.PoissonEquation(\n",
    "    domain=domain,\n",
    "    rhs=2.0,\n",
    "    boundary_condition=probnum_galerkin.problems.DirichletBoundaryCondition(\n",
    "        domain,\n",
    "        (0.0, 0.0),\n",
    "    ),\n",
    ")"
   ]
  },
  {
   "cell_type": "code",
   "execution_count": null,
   "id": "51049762-ecf2-4588-84c2-de87e8a19e20",
   "metadata": {},
   "outputs": [],
   "source": [
    "basis = probnum_galerkin.bases.ZeroBoundaryFiniteElementBasis(domain, num_elements=103)\n",
    "linsys = bvp.discretize(basis)"
   ]
  },
  {
   "cell_type": "markdown",
   "id": "400d0533-e3d3-4378-8fcc-1b5e7b215f83",
   "metadata": {},
   "source": [
    "If we have (noisy) measurements of the solution of the PDE, we can use the information to speed up inference.\n",
    "\n",
    "Let $(v_i)_{i = 1}^n$ be the chosen basis.\n",
    "In our formulation, we posit a multivariate Gaussian prior over the coefficients $\\vec{a} \\in \\mathbb{R}^n$ of the discretized solution $\\hat{u} = \\sum_{i = 1}^n a_i v_i$ to the PDE, i.e. $\\vec{a} \\sim \\mathcal{N}(\\mu_0, \\Sigma_0)$.\n",
    "We can relate the discretized solution $\\hat{u}$ to the coefficients by a linear operator $$(\\mathcal{L}_u \\vec{a})(x) = \\sum_{i = 1}^n a_i v_i(x).$$\n",
    "Moreover, the solution can be evaluated at several locations $x_1, \\dotsc, x_m \\in \\Omega$ by another linear operator $$(\\mathcal{L}_\\delta u)_j = \\int_\\Omega \\delta(\\chi - x_j) u(\\chi) d \\chi = u(x_j).$$\n",
    "All in all, we obtain the following linear operator which maps $\\vec{a}$ to a vector of measurements at $x_1, \\dotsc, x_m \\in \\Omega$: $$(L_y \\vec{a})_j = (\\mathcal{L}_\\delta \\mathcal{L}_u \\vec{a})_j = \\int_\\Omega \\delta(\\chi - x_j) (\\mathcal{L}_u \\vec{a})(\\chi) d \\chi = \\sum_{i = 1}^n a_i \\int_\\Omega \\delta(\\chi - x_j) v_i(\\chi) d\\chi = \\sum_{i = 1}^n a_i v_i(x_j)$$\n",
    "If we now assume additive Gaussian measurement noise on independent observations $y_1, \\dotsc, y_m$ of the solution at locations $x_1, \\dotsc, x_m \\in \\Omega$, we obtain the following measurement likelihood:\n",
    "$$p(y_1, \\dots, y_m \\mid u(x_1), \\dotsc, u(x_m)) = \\mathcal{N}(\\vec{y} \\mid \\begin{pmatrix} u(x_1), \\dotsc, u(x_m) \\end{pmatrix}^T, \\Lambda),$$\n",
    "or, equivalently,\n",
    "$$p(y_1, \\dots, y_m \\mid \\vec{a}) = \\mathcal{N}(\\vec{y} \\mid L_\\vec{y} \\vec{a}, \\Lambda).$$\n",
    "Since the model is linear-Gaussian, we can compute the posterior in closed form.\n",
    "Note that this is exactly the supervised regression setting."
   ]
  },
  {
   "cell_type": "code",
   "execution_count": null,
   "id": "4456661f-385d-4565-ae12-2b059f13012b",
   "metadata": {},
   "outputs": [],
   "source": [
    "num_measurements = 3"
   ]
  },
  {
   "cell_type": "code",
   "execution_count": null,
   "id": "2e34e940-4980-4d40-9743-7e2657466700",
   "metadata": {},
   "outputs": [],
   "source": [
    "# Measure the solution at equidistant interior points\n",
    "meas_xs = np.linspace(*domain, num_measurements + 2)[1:-1]\n",
    "true_ys = bvp.solution(meas_xs)\n",
    "\n",
    "# Add measurement noise\n",
    "measurement_noise = pn.randvars.Normal(\n",
    "    mean=np.zeros(num_measurements, dtype=np.double),\n",
    "    cov=pn.linops.Scaling((1e-2) ** 2, shape=num_measurements, dtype=np.double),\n",
    ")\n",
    "\n",
    "meas_ys = true_ys + measurement_noise.sample()"
   ]
  },
  {
   "cell_type": "code",
   "execution_count": null,
   "id": "3174d829-7234-4258-8b0b-a3e761925f99",
   "metadata": {},
   "outputs": [],
   "source": [
    "meas_ys - true_ys"
   ]
  },
  {
   "cell_type": "code",
   "execution_count": null,
   "id": "227c6148-1d0b-4bc8-b4a6-be98622de218",
   "metadata": {},
   "outputs": [],
   "source": [
    "# Build the prior\n",
    "prior = pn.randvars.Normal(\n",
    "    mean=np.zeros(len(basis), dtype=np.double),\n",
    "    cov=pn.linops.aslinop(linsys.A.A.tocsc()).inv(),\n",
    ")\n",
    "\n",
    "np.linalg.cond(prior.dense_cov)"
   ]
  },
  {
   "cell_type": "code",
   "execution_count": null,
   "id": "1dd09736-66b6-42db-96e4-aee1546da776",
   "metadata": {},
   "outputs": [],
   "source": [
    "# Build the observation operator\n",
    "L_yu = basis.observation_operator(meas_xs)"
   ]
  },
  {
   "cell_type": "code",
   "execution_count": null,
   "id": "761d3d6c-ebfd-432e-a77f-e08b4a64224b",
   "metadata": {},
   "outputs": [],
   "source": [
    "# Build the noise model\n",
    "noise_model = pn.randvars.Normal(\n",
    "    mean=np.zeros(num_measurements, dtype=np.double),\n",
    "    cov=measurement_noise.cov,\n",
    "    # cov=1e2 * measurement_noise.cov,\n",
    ")"
   ]
  },
  {
   "cell_type": "code",
   "execution_count": null,
   "id": "b9f9c599-2082-4ce6-9bd9-d879d38ee69a",
   "metadata": {},
   "outputs": [],
   "source": [
    "# Condition the prior on the measurements\n",
    "prior_cond_meas = probnum_galerkin.inference.linear_gaussian_model(\n",
    "    prior=prior,\n",
    "    A=L_yu,\n",
    "    measurement_noise=noise_model,\n",
    "    measurements=meas_ys,\n",
    ")\n",
    "\n",
    "np.linalg.cond(prior_cond_meas.dense_cov)"
   ]
  },
  {
   "cell_type": "code",
   "execution_count": null,
   "id": "f216abc4-9852-49c7-961b-e177dfd91c2e",
   "metadata": {},
   "outputs": [],
   "source": [
    "xs_plot = np.linspace(*domain, 200)\n",
    "\n",
    "u_prior_cond_meas = basis.coords2fn(prior_cond_meas)\n",
    "\n",
    "u_prior_cond_meas.plot(plt.gca(), xs_plot)\n",
    "plt.scatter(meas_xs, meas_ys, marker=\"+\")\n",
    "plt.show()"
   ]
  },
  {
   "cell_type": "code",
   "execution_count": null,
   "id": "6b5abe70-ce85-413d-aec2-e5229de8c854",
   "metadata": {
    "jupyter": {
     "source_hidden": true
    },
    "tags": []
   },
   "outputs": [],
   "source": [
    "from matplotlib import animation\n",
    "\n",
    "def animate_probsolve_poisson_1d(\n",
    "    basis,\n",
    "    linsys=None,\n",
    "    solver=probnum_galerkin.solvers.bayescg,\n",
    "    **solver_kwargs\n",
    "):\n",
    "    n = len(basis)\n",
    "    \n",
    "    if linsys is None:\n",
    "        linsys = bvp.discretize(basis)\n",
    "    \n",
    "    # Run the algorithm and log step statistics\n",
    "    step_xs = []\n",
    "    step_residual_norms = []\n",
    "    step_residual_A_norms = []\n",
    "\n",
    "    def _callback(x: pn.randvars.Normal, residual: np.ndarray, **kwargs):\n",
    "        step_xs.append(x)\n",
    "        step_residual_norms.append(np.linalg.norm(residual, ord=2))\n",
    "        step_residual_A_norms.append(np.sqrt(np.inner(residual, linsys.A @ residual)))\n",
    "\n",
    "    solver(\n",
    "        linsys.A,\n",
    "        linsys.b,\n",
    "        callback=_callback,\n",
    "        **solver_kwargs,\n",
    "    )\n",
    "\n",
    "    fig, ax = plt.subplots(ncols=3, figsize=(22, 6))\n",
    "    plt.close()\n",
    "    \n",
    "    xs_plot = np.linspace(*domain, 200)\n",
    "    \n",
    "    if isinstance(basis, probnum_galerkin.bases.ZeroBoundaryFiniteElementBasis):\n",
    "        basis_str = \"Zero Boundary FEM\"\n",
    "    elif isinstance(basis, probnum_galerkin.bases.FiniteElementBasis):\n",
    "        basis_str = \"FEM\"\n",
    "    else:\n",
    "        basis_str = \"Unknown Basis\"\n",
    "    \n",
    "    if solver is probnum_galerkin.solvers.bayescg:\n",
    "        solver_str = \"BayesCG\"\n",
    "    elif solver is probnum_galerkin.solvers.problinsolve:\n",
    "        solver_str = \"problinsolve\"\n",
    "    else:\n",
    "        solver_str = \"Unknown Solver\"\n",
    "    \n",
    "    def animate(step_idx):\n",
    "        ax[0].cla()\n",
    "        ax[1].cla()\n",
    "        ax[2].cla()\n",
    "\n",
    "        u = basis.coords2fn(coords=step_xs[step_idx])\n",
    "\n",
    "        fig.suptitle(f\"1D Poisson - {basis_str} (N = {n}) - {solver_str} - Iteration {step_idx:03d}\")\n",
    "\n",
    "        ax[0].set_title(\"Solution\")\n",
    "        ax[0].plot(xs_plot, bvp.solution(xs_plot), label=\"Exact Solution\")\n",
    "        u.plot(ax[0], xs_plot, color=\"C1\", label=\"FEM Solution\")\n",
    "        ax[0].legend()\n",
    "\n",
    "        ax[1].set_title(\"Residual Norm\")\n",
    "        ax[1].plot(step_residual_norms[:step_idx + 1], \"C0\")\n",
    "        ax[1].set_xlabel(\"Iterations\")\n",
    "        \n",
    "        ax[2].set_title(\"Residual A-norm\")\n",
    "        ax[2].plot(step_residual_A_norms[:step_idx + 1], \"C0\")\n",
    "        ax[2].set_xlabel(\"Iterations\")\n",
    "\n",
    "    return animation.FuncAnimation(\n",
    "        fig,\n",
    "        func=animate,\n",
    "        frames=len(step_xs),\n",
    "        interval=200,\n",
    "        repeat_delay=4000,\n",
    "        blit=False,\n",
    "    )"
   ]
  },
  {
   "cell_type": "code",
   "execution_count": null,
   "id": "b67fc418-0cdc-4f9e-bd47-b2a40e23e306",
   "metadata": {},
   "outputs": [],
   "source": [
    "from IPython.display import HTML\n",
    "\n",
    "anim = animate_probsolve_poisson_1d(\n",
    "    basis,\n",
    "    linsys=linsys,\n",
    "    solver=probnum_galerkin.solvers.bayescg,\n",
    "#     solver=probnum_galerkin.solvers.problinsolve,\n",
    "    x0=prior_cond_meas,\n",
    "#     x0=pn.randvars.Normal(\n",
    "#         mean=prior_cond_meas.mean,\n",
    "#         cov=prior.cov,\n",
    "#     ),\n",
    "    maxiter=len(basis),\n",
    "#     reorthogonalize=True,\n",
    ")\n",
    "\n",
    "HTML(anim.to_jshtml())"
   ]
  },
  {
   "cell_type": "code",
   "execution_count": null,
   "id": "87bbe0ff-8213-4f37-ad39-d078ca6f5f78",
   "metadata": {},
   "outputs": [],
   "source": [
    "anim.save(\"../results/fem_probsolve_data.gif\", animation.PillowWriter(fps=5))"
   ]
  },
  {
   "cell_type": "code",
   "execution_count": null,
   "id": "114f7f89-b0df-4f33-96b8-fc261119e434",
   "metadata": {},
   "outputs": [],
   "source": [
    "eigvals, eigvecs = np.linalg.eigh((linsys.A @ prior_cond_meas.cov @ linsys.A.T).todense())"
   ]
  },
  {
   "cell_type": "code",
   "execution_count": null,
   "id": "f0440f53-8494-4a60-8dbc-97e2d99bf33e",
   "metadata": {},
   "outputs": [],
   "source": [
    "eigvals"
   ]
  },
  {
   "cell_type": "code",
   "execution_count": null,
   "id": "c800a4a9-b9d3-4c26-8825-187e110e5e8f",
   "metadata": {},
   "outputs": [],
   "source": [
    "plt.semilogy(np.sort(linsys.A.eigvals()))\n",
    "plt.semilogy(np.sort((linsys.A @ prior_cond_meas.cov @ linsys.A).eigvals()))"
   ]
  },
  {
   "cell_type": "code",
   "execution_count": null,
   "id": "8461d4a7-3fa8-4acd-bdd4-e519e9e5ea05",
   "metadata": {},
   "outputs": [],
   "source": [
    "spec = np.sort((linsys.A @ prior_cond_meas.cov @ linsys.A).eigvals())\n",
    "spec.min(), spec.max(), spec.max() / spec.min()"
   ]
  },
  {
   "cell_type": "code",
   "execution_count": null,
   "id": "6e9ff5fb-78cf-4400-8373-05e0a04ecf37",
   "metadata": {},
   "outputs": [],
   "source": [
    "spec = np.sort(linsys.A.eigvals())\n",
    "spec.min(), spec.max()"
   ]
  },
  {
   "cell_type": "code",
   "execution_count": null,
   "id": "8624f216-2788-4407-a632-7ff3a43d7159",
   "metadata": {},
   "outputs": [],
   "source": []
  }
 ],
 "metadata": {
  "kernelspec": {
   "display_name": "Python [conda env:probnum]",
   "language": "python",
   "name": "conda-env-probnum-py"
  },
  "language_info": {
   "codemirror_mode": {
    "name": "ipython",
    "version": 3
   },
   "file_extension": ".py",
   "mimetype": "text/x-python",
   "name": "python",
   "nbconvert_exporter": "python",
   "pygments_lexer": "ipython3",
   "version": "3.8.5"
  }
 },
 "nbformat": 4,
 "nbformat_minor": 5
}
