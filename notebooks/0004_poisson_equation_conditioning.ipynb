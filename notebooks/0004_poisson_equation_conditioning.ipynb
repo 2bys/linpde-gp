{
 "cells": [
  {
   "cell_type": "markdown",
   "id": "121fae4b-da30-48c1-a1f8-58505d5eda1d",
   "metadata": {
    "tags": []
   },
   "source": [
    "# Conditioning the Linear System Prior on Observations of the PDE Solution"
   ]
  },
  {
   "cell_type": "code",
   "execution_count": null,
   "id": "f33f1bbd-770f-49b3-84a6-a1961aaa53af",
   "metadata": {},
   "outputs": [],
   "source": [
    "import matplotlib.pyplot as plt\n",
    "import numpy as np\n",
    "import probnum as pn\n",
    "import scipy.sparse\n",
    "\n",
    "import linpde_gp"
   ]
  },
  {
   "cell_type": "code",
   "execution_count": null,
   "id": "52757089-6adb-442f-9bf0-bb05a856f9b3",
   "metadata": {},
   "outputs": [],
   "source": [
    "%matplotlib inline\n",
    "\n",
    "from matplotlib_inline.backend_inline import set_matplotlib_formats\n",
    "set_matplotlib_formats(\"pdf\", \"svg\")"
   ]
  },
  {
   "cell_type": "markdown",
   "id": "0a8b2745-ed7f-4348-9148-b8ea77066bbb",
   "metadata": {},
   "source": [
    "In the following, we will again look at the Poisson equation on a 1D domain with Dirichlet boundary conditions."
   ]
  },
  {
   "cell_type": "code",
   "execution_count": null,
   "id": "896cbf5a-7999-41de-8e29-1704ffeb2426",
   "metadata": {},
   "outputs": [],
   "source": [
    "domain = (-1.0, 1.0)\n",
    "\n",
    "bvp = linpde_gp.problems.pde.poisson_1d_bvp(\n",
    "    domain=domain,\n",
    "    rhs=2.0,\n",
    "    boundary_values=(0.0, 0.0),\n",
    ")"
   ]
  },
  {
   "cell_type": "code",
   "execution_count": null,
   "id": "51049762-ecf2-4588-84c2-de87e8a19e20",
   "metadata": {},
   "outputs": [],
   "source": [
    "basis = linpde_gp.galerkin.bases.ZeroBoundaryFiniteElementBasis(domain, num_elements=103)\n",
    "linsys = linpde_gp.galerkin.discretize(bvp, basis)"
   ]
  },
  {
   "cell_type": "code",
   "execution_count": null,
   "id": "01ef86c9-8c24-4ebd-830a-d1e2c0556c5d",
   "metadata": {},
   "outputs": [],
   "source": [
    "L_inc = linpde_gp.linalg.pivoted_cholesky(linsys.A.todense(), 20)\n",
    "\n",
    "P = linpde_gp.linops.LowRankMatrix(L_inc)\n",
    "\n",
    "plt.imshow(P.pinv.todense(), cmap=\"bwr\")"
   ]
  },
  {
   "cell_type": "code",
   "execution_count": null,
   "id": "5551382b-f836-412a-ac1b-0316c74bff53",
   "metadata": {},
   "outputs": [],
   "source": [
    "L_inc = linpde_gp.linalg.pivoted_cholesky(linsys.A.todense(), 20)\n",
    "\n",
    "scipy.linalg.qr(L_inc, mode=\"economic\")\n",
    "\n",
    "P = linpde_gp.linops.LowRankUpdate(\n",
    "    1.0 * pn.linops.Identity(linsys.A.shape[0]),\n",
    "    L_inc\n",
    ")\n",
    "\n",
    "plt.imshow(P.inv().todense(), cmap=\"bwr\", vmin=-1, vmax=1)"
   ]
  },
  {
   "cell_type": "markdown",
   "id": "400d0533-e3d3-4378-8fcc-1b5e7b215f83",
   "metadata": {},
   "source": [
    "If we have (noisy) measurements of the solution of the PDE, we can use the information to speed up inference.\n",
    "\n",
    "Let $(v_i)_{i = 1}^n$ be the chosen basis.\n",
    "In our formulation, we posit a multivariate Gaussian prior over the coefficients $\\vec{a} \\in \\mathbb{R}^n$ of the discretized solution $\\hat{u} = \\sum_{i = 1}^n a_i v_i$ to the PDE, i.e. $\\vec{a} \\sim \\mathcal{N}(\\mu_0, \\Sigma_0)$.\n",
    "We can relate the discretized solution $\\hat{u}$ to the coefficients by a linear operator $$(\\mathcal{L}_u \\vec{a})(x) = \\sum_{i = 1}^n a_i v_i(x).$$\n",
    "Moreover, the solution can be evaluated at several locations $x_1, \\dotsc, x_m \\in \\Omega$ by another linear operator $$(\\mathcal{L}_\\delta u)_j = \\int_\\Omega \\delta(\\chi - x_j) u(\\chi) d \\chi = u(x_j).$$\n",
    "All in all, we obtain the following linear operator which maps $\\vec{a}$ to a vector of measurements at $x_1, \\dotsc, x_m \\in \\Omega$: $$(L_y \\vec{a})_j = (\\mathcal{L}_\\delta \\mathcal{L}_u \\vec{a})_j = \\int_\\Omega \\delta(\\chi - x_j) (\\mathcal{L}_u \\vec{a})(\\chi) d \\chi = \\sum_{i = 1}^n a_i \\int_\\Omega \\delta(\\chi - x_j) v_i(\\chi) d\\chi = \\sum_{i = 1}^n a_i v_i(x_j)$$\n",
    "If we now assume additive Gaussian measurement noise on independent observations $y_1, \\dotsc, y_m$ of the solution at locations $x_1, \\dotsc, x_m \\in \\Omega$, we obtain the following measurement likelihood:\n",
    "$$p(y_1, \\dots, y_m \\mid u(x_1), \\dotsc, u(x_m)) = \\mathcal{N}(\\vec{y} \\mid \\begin{pmatrix} u(x_1), \\dotsc, u(x_m) \\end{pmatrix}^T, \\Lambda),$$\n",
    "or, equivalently,\n",
    "$$p(y_1, \\dots, y_m \\mid \\vec{a}) = \\mathcal{N}(\\vec{y} \\mid L_\\vec{y} \\vec{a}, \\Lambda).$$\n",
    "Since the model is linear-Gaussian, we can compute the posterior in closed form.\n",
    "Note that this is exactly the supervised regression setting."
   ]
  },
  {
   "cell_type": "code",
   "execution_count": null,
   "id": "1f2df009-d8f3-495a-9484-bc72e885b117",
   "metadata": {},
   "outputs": [],
   "source": [
    "rng = np.random.default_rng(42)"
   ]
  },
  {
   "cell_type": "code",
   "execution_count": null,
   "id": "4456661f-385d-4565-ae12-2b059f13012b",
   "metadata": {},
   "outputs": [],
   "source": [
    "num_measurements = 3"
   ]
  },
  {
   "cell_type": "code",
   "execution_count": null,
   "id": "2e34e940-4980-4d40-9743-7e2657466700",
   "metadata": {},
   "outputs": [],
   "source": [
    "# Measure the solution at equidistant interior points\n",
    "meas_xs = np.linspace(*domain, num_measurements + 2)[1:-1]\n",
    "true_ys = bvp.solution(meas_xs)\n",
    "\n",
    "# Add measurement noise\n",
    "measurement_noise = pn.randvars.Normal(\n",
    "    mean=np.zeros(num_measurements, dtype=np.double),\n",
    "    cov=pn.linops.Scaling((1e-2) ** 2, shape=num_measurements, dtype=np.double),\n",
    ")\n",
    "\n",
    "meas_ys = true_ys + measurement_noise.sample(rng)"
   ]
  },
  {
   "cell_type": "code",
   "execution_count": null,
   "id": "3174d829-7234-4258-8b0b-a3e761925f99",
   "metadata": {},
   "outputs": [],
   "source": [
    "meas_ys - true_ys"
   ]
  },
  {
   "cell_type": "code",
   "execution_count": null,
   "id": "227c6148-1d0b-4bc8-b4a6-be98622de218",
   "metadata": {},
   "outputs": [],
   "source": [
    "# Build the prior\n",
    "prior = pn.randvars.Normal(\n",
    "    mean=np.zeros(len(basis), dtype=np.double),\n",
    "    cov=pn.linops.aslinop(linsys.A.A.tocsc()).inv(),\n",
    "#     cov=(P @ P.T).inv(),\n",
    "#     cov=pn.linops.aslinop(linsys.A.A.tocsc()).inv() - P.pinv,\n",
    ")"
   ]
  },
  {
   "cell_type": "code",
   "execution_count": null,
   "id": "1dd09736-66b6-42db-96e4-aee1546da776",
   "metadata": {},
   "outputs": [],
   "source": [
    "# Build the observation operator\n",
    "L_yu = basis.observation_operator(meas_xs)"
   ]
  },
  {
   "cell_type": "code",
   "execution_count": null,
   "id": "761d3d6c-ebfd-432e-a77f-e08b4a64224b",
   "metadata": {},
   "outputs": [],
   "source": [
    "# Build the noise model\n",
    "noise_model = pn.randvars.Normal(\n",
    "    mean=np.zeros(num_measurements, dtype=np.double),\n",
    "    cov=measurement_noise.cov,\n",
    "    # cov=1e2 * measurement_noise.cov,\n",
    ")"
   ]
  },
  {
   "cell_type": "code",
   "execution_count": null,
   "id": "b9f9c599-2082-4ce6-9bd9-d879d38ee69a",
   "metadata": {},
   "outputs": [],
   "source": [
    "# Condition the prior on the measurements\n",
    "prior_cond_meas = prior.condition_on_observations(\n",
    "    observations=meas_ys,\n",
    "    noise=noise_model,\n",
    "    transform=L_yu,\n",
    ")"
   ]
  },
  {
   "cell_type": "code",
   "execution_count": null,
   "id": "f216abc4-9852-49c7-961b-e177dfd91c2e",
   "metadata": {},
   "outputs": [],
   "source": [
    "xs_plot = np.linspace(*domain, 200)\n",
    "\n",
    "u_prior_cond_meas = basis.coords2fn(prior_cond_meas)\n",
    "\n",
    "u_prior_cond_meas.plot(plt.gca(), xs_plot)\n",
    "plt.scatter(meas_xs, meas_ys, marker=\"+\", label=\"Measurements\")\n",
    "plt.legend()\n",
    "plt.show()"
   ]
  },
  {
   "cell_type": "markdown",
   "id": "68aeedc6-983a-4f8b-813d-b36b59ad90b0",
   "metadata": {},
   "source": [
    "## Feed conditioned prior into probabilistic solver"
   ]
  },
  {
   "cell_type": "code",
   "execution_count": null,
   "id": "6b5abe70-ce85-413d-aec2-e5229de8c854",
   "metadata": {
    "tags": []
   },
   "outputs": [],
   "source": [
    "from matplotlib import animation\n",
    "\n",
    "def animate_probsolve_poisson_1d(\n",
    "    basis,\n",
    "    linsys,\n",
    "    x0,\n",
    "    solver=linpde_gp.linalg.solvers.bayescg,\n",
    "    **solver_kwargs\n",
    "):\n",
    "    n = len(basis)\n",
    "    \n",
    "    # Run the algorithm and log step statistics\n",
    "    step_xs = []\n",
    "    step_residuals = []\n",
    "    step_actions = []\n",
    "\n",
    "    def _callback(x: pn.randvars.Normal, residual: np.ndarray, action: np.ndarray, **kwargs):\n",
    "        step_xs.append(x)\n",
    "        step_residuals.append(residual.copy())\n",
    "        \n",
    "        if action is not None:\n",
    "            step_actions.append(action.copy())\n",
    "\n",
    "    solver(\n",
    "        linsys.A,\n",
    "        linsys.b,\n",
    "        x0=x0,\n",
    "        callback=_callback,\n",
    "        **solver_kwargs,\n",
    "    )\n",
    "    \n",
    "    ASigmaA = linsys.A @ x0.cov @ linsys.A.T\n",
    "    \n",
    "    residuals = np.vstack(step_residuals).T\n",
    "    residual_2_norms = np.linalg.norm(residuals, ord=2, axis=0)\n",
    "    residual_A_norms = np.sqrt(np.sum(residuals * (linsys.A @ residuals), axis=0))\n",
    "    residual_ASigmaA_norms = np.sqrt(np.sum(residuals * (ASigmaA @ residuals), axis=0))\n",
    "    \n",
    "    action_A_inprods = linpde_gp.linalg.pairwise_inprods(\n",
    "        step_actions,\n",
    "        inprod=linsys.A,\n",
    "        normalize=True,\n",
    "    )\n",
    "    \n",
    "    action_ASigmaA_inprods = linpde_gp.linalg.pairwise_inprods(\n",
    "        step_actions,\n",
    "        inprod=ASigmaA,\n",
    "        normalize=True,\n",
    "    )\n",
    "\n",
    "    fig, ax = plt.subplots(\n",
    "        nrows=2,\n",
    "        ncols=3,\n",
    "        figsize=(22, 12),\n",
    "        #dpi=100,\n",
    "    )\n",
    "\n",
    "    plt.close()\n",
    "    \n",
    "    xs_plot = np.linspace(*domain, 200)\n",
    "    \n",
    "    if isinstance(basis, linpde_gp.galerkin.bases.ZeroBoundaryFiniteElementBasis):\n",
    "        basis_str = \"Zero Boundary FEM\"\n",
    "    elif isinstance(basis, linpde_gp.galerkin.bases.FiniteElementBasis):\n",
    "        basis_str = \"FEM\"\n",
    "    else:\n",
    "        basis_str = \"Unknown Basis\"\n",
    "    \n",
    "    if solver is linpde_gp.linalg.solvers.bayescg:\n",
    "        solver_str = \"BayesCG\"\n",
    "    elif solver is linpde_gp.linalg.solvers.problinsolve:\n",
    "        solver_str = \"problinsolve\"\n",
    "    else:\n",
    "        solver_str = \"Unknown Solver\"\n",
    "    \n",
    "    def animate(step_idx):\n",
    "        for i in range(ax.shape[0]):\n",
    "            for j in range(ax.shape[1]):\n",
    "                ax[i, j].cla()\n",
    "\n",
    "        u = basis.coords2fn(coords=step_xs[step_idx])\n",
    "\n",
    "        fig.suptitle(f\"1D Poisson - {basis_str} (N = {n}) - {solver_str} - Iteration {step_idx:03d}\")\n",
    "\n",
    "        ax[0, 0].set_title(\"Solution\")\n",
    "        ax[0, 0].plot(xs_plot, bvp.solution(xs_plot), label=\"Exact Solution\")\n",
    "        u.plot(ax[0, 0], xs_plot, color=\"C1\", label=\"FEM Solution\")\n",
    "        ax[0, 0].legend()\n",
    "\n",
    "        ax[0, 1].set_title(\"Residual 2-norm\")\n",
    "        ax[0, 1].semilogy(residual_2_norms[:step_idx + 1], \"C0\")\n",
    "        \n",
    "        ax[0, 2].set_title(\"Residual $A$-norm\")\n",
    "        ax[0, 2].semilogy(residual_A_norms[:step_idx + 1], \"C0\")\n",
    "        \n",
    "        ax[1, 0].set_title(\"Residual $A \\Sigma_0 A^T$-norm\")\n",
    "        ax[1, 0].semilogy(residual_ASigmaA_norms[:step_idx + 1], \"C0\")\n",
    "\n",
    "        ax[1, 1].set_title(\"Normalized $A$-inner products between the actions\")\n",
    "\n",
    "        if step_idx > 0:\n",
    "            ax[1, 1].matshow(\n",
    "                action_A_inprods[:step_idx, :step_idx],\n",
    "                cmap=\"bwr\",\n",
    "                vmin=-1.0,\n",
    "                vmax=1.0,\n",
    "            )\n",
    "            \n",
    "        ax[1, 2].set_title(\"Normalized $A \\Sigma_0 A^T$-inner products between the actions\")\n",
    "\n",
    "        if step_idx > 0:\n",
    "            ax[1, 2].matshow(\n",
    "                action_ASigmaA_inprods[:step_idx, :step_idx],\n",
    "                cmap=\"bwr\",\n",
    "                vmin=-1.0,\n",
    "                vmax=1.0,\n",
    "            )\n",
    "        \n",
    "        fig.tight_layout(rect=[0, 0.03, 1, 0.95])\n",
    "\n",
    "    return animation.FuncAnimation(\n",
    "        fig,\n",
    "        func=animate,\n",
    "        frames=len(step_xs),\n",
    "        interval=200,\n",
    "        repeat_delay=4000,\n",
    "        blit=False,\n",
    "    )"
   ]
  },
  {
   "cell_type": "code",
   "execution_count": null,
   "id": "b67fc418-0cdc-4f9e-bd47-b2a40e23e306",
   "metadata": {},
   "outputs": [],
   "source": [
    "from IPython.display import HTML\n",
    "\n",
    "anim = animate_probsolve_poisson_1d(\n",
    "    basis,\n",
    "    linsys,\n",
    "    x0=prior_cond_meas,\n",
    "#     x0=pn.randvars.Normal(\n",
    "#         mean=prior_cond_meas.mean,\n",
    "#         cov=prior.cov,\n",
    "#     ),\n",
    "    solver=linpde_gp.linalg.solvers.bayescg,\n",
    "#     solver=linpde_gp.linalg.solvers.problinsolve,\n",
    "    maxiter=len(basis),\n",
    "    reorthogonalize=True,\n",
    "#     noise_var=1e-6,\n",
    "#     rng=np.random.default_rng(50),\n",
    ")\n",
    "\n",
    "HTML(anim.to_jshtml())"
   ]
  },
  {
   "cell_type": "code",
   "execution_count": null,
   "id": "87bbe0ff-8213-4f37-ad39-d078ca6f5f78",
   "metadata": {},
   "outputs": [],
   "source": [
    "anim.save(\"../results/fem_probsolve_data.gif\", animation.PillowWriter(fps=5))"
   ]
  },
  {
   "cell_type": "markdown",
   "id": "5ca83d57-3997-4df5-8c65-4e1ac41d21e1",
   "metadata": {},
   "source": [
    "**Observations:**\n",
    "- instabilities\n",
    "- no monotonic descent\n",
    "- actions lose $A$-conjugacy for some clusters of steps\n",
    "\n",
    "Nevertheless, the solver seems to converge to the correct solution.\n",
    "\n",
    "**Hypotheses:**\n",
    "- $A \\Sigma_0 A^T$ is ill-conditioned or even numerically singular\n",
    "- as a result, the Gram matrix in the belief update is very small, which leads to instable updates"
   ]
  },
  {
   "cell_type": "markdown",
   "id": "6027868b-bc6a-40a9-8319-83181a585735",
   "metadata": {
    "tags": []
   },
   "source": [
    "## Properties of $\\Sigma_0$ and $A \\Sigma_0 A^T$"
   ]
  },
  {
   "cell_type": "markdown",
   "id": "ecdb8077-8531-464b-9223-d44c6a6c6506",
   "metadata": {},
   "source": [
    "### Spectra"
   ]
  },
  {
   "cell_type": "code",
   "execution_count": null,
   "id": "c572efd4-c538-49eb-92a8-32cf26abf544",
   "metadata": {},
   "outputs": [],
   "source": [
    "Sigma_eigvals, Sigma_eigvecs = np.linalg.eigh(prior.cov.todense())\n",
    "Sigma_meas_eigvals, Sigma_meas_eigvecs = np.linalg.eigh(prior_cond_meas.cov.todense())"
   ]
  },
  {
   "cell_type": "code",
   "execution_count": null,
   "id": "690d98fe-05d3-4814-a307-e7e38f4a37c3",
   "metadata": {},
   "outputs": [],
   "source": [
    "Sigma_meas_eigvals"
   ]
  },
  {
   "cell_type": "code",
   "execution_count": null,
   "id": "60d3b013-1d82-41c9-8256-bc0e4be43a1b",
   "metadata": {},
   "outputs": [],
   "source": [
    "plt.semilogy(Sigma_eigvals, label=\"without measurements\")\n",
    "plt.semilogy(Sigma_meas_eigvals, label=\"with measurements\")\n",
    "plt.xlabel(\"$i$\")\n",
    "plt.ylabel(\"$\\lambda_{i + 1}(\\Sigma_0)$\")\n",
    "plt.title(\"Spectrum of $\\Sigma_0$\")\n",
    "plt.legend()\n",
    "plt.show()"
   ]
  },
  {
   "cell_type": "code",
   "execution_count": null,
   "id": "114f7f89-b0df-4f33-96b8-fc261119e434",
   "metadata": {},
   "outputs": [],
   "source": [
    "A_eigvals, A_eigvecs = np.linalg.eigh(linsys.A.todense())\n",
    "ASigmaA_eigvals, ASigmaA_eigvecs = np.linalg.eigh((linsys.A @ prior.cov @ linsys.A.T).todense())\n",
    "ASigmaA_meas_eigvals, ASigmaA_meas_eigvecs = np.linalg.eigh((linsys.A @ prior_cond_meas.cov @ linsys.A.T).todense())"
   ]
  },
  {
   "cell_type": "code",
   "execution_count": null,
   "id": "1f0eee33-e33b-45c7-be68-1aef938fbd20",
   "metadata": {},
   "outputs": [],
   "source": [
    "plt.semilogy(A_eigvals, label=\"$A$\")\n",
    "plt.semilogy(ASigmaA_eigvals, label=\"$A \\Sigma_0 A^T$, without measurements\")\n",
    "plt.semilogy(ASigmaA_meas_eigvals, marker=\"o\", markersize=\"2\", label=\"$A \\Sigma_0 A^T$, with measurements\")\n",
    "plt.xlabel(\"$i$\")\n",
    "plt.ylabel(\"$\\lambda_{i + 1}(\\cdot)$\")\n",
    "plt.title(\"Spectra of $A$ and $A \\Sigma_0 A^T$\")\n",
    "plt.legend()\n",
    "plt.show()"
   ]
  },
  {
   "cell_type": "markdown",
   "id": "92191d73-32a3-4adb-85dc-f1d015a60bd6",
   "metadata": {},
   "source": [
    "### $\\lVert \\cdot \\rVert_2$-condition numbers"
   ]
  },
  {
   "cell_type": "code",
   "execution_count": null,
   "id": "8cc49daa-52b6-43f4-8c5f-f261a54c7fdf",
   "metadata": {},
   "outputs": [],
   "source": [
    "A_eigvals[-1] / A_eigvals[0]"
   ]
  },
  {
   "cell_type": "code",
   "execution_count": null,
   "id": "8a8bed39-e0a9-4174-9623-2ce16ac0b8e4",
   "metadata": {},
   "outputs": [],
   "source": [
    "ASigmaA_eigvals[-1] / ASigmaA_eigvals[0]"
   ]
  },
  {
   "cell_type": "code",
   "execution_count": null,
   "id": "bc2ad4d0-eadb-48f4-bd4d-6215b859fdb8",
   "metadata": {},
   "outputs": [],
   "source": [
    "ASigmaA_meas_eigvals[-1] / ASigmaA_meas_eigvals[0]"
   ]
  },
  {
   "cell_type": "markdown",
   "id": "0d435ac8-8dea-45fb-8de7-652328c01c4e",
   "metadata": {},
   "source": [
    "## Analysis of Instabilities"
   ]
  },
  {
   "cell_type": "code",
   "execution_count": null,
   "id": "773b205f-7c11-4f7b-823f-59c4a67949f7",
   "metadata": {},
   "outputs": [],
   "source": [
    "actions = []\n",
    "\n",
    "def _callback(action: np.ndarray, **kwargs):\n",
    "    if action is not None:\n",
    "        actions.append(action.copy())\n",
    "\n",
    "\n",
    "_ = linpde_gp.linalg.solvers.bayescg(\n",
    "    linsys.A,\n",
    "    linsys.b,\n",
    "    x0=prior_cond_meas,curl -X POST https://content.dropboxapi.com/2/files/upload \\\n",
    "    --header \"Authorization: Bearer token\" \\\n",
    "    --header \"Dropbox-API-Arg: {\\\"path\\\": \\\"/Github Actions/linpde-gp/jmlr/linpde-gp.pdf\\\",\\\"mode\\\": \\\"add\\\",\\\"autorename\\\": true,\\\"mute\\\": true,\\\"strict_conflict\\\": false}\" \\\n",
    "    --header \"Content-Type: application/octet-stream\" \\\n",
    "    --data-binary @linpde_gp.pdf\n",
    "    maxiter=len(basis),\n",
    "    # reorthogonalize=True,\n",
    "    callback=_callback,\n",
    ")"
   ]
  },
  {
   "cell_type": "code",
   "execution_count": null,
   "id": "6731b978-afd4-4faf-9d7e-a80c61fcfd3c",
   "metadata": {},
   "outputs": [],
   "source": [
    "action_A_inprods = linpde_gp.linalg.pairwise_inprods(\n",
    "    actions,\n",
    "    inprod=linsys.A,\n",
    "    normalize=True,\n",
    ")"
   ]
  },
  {
   "cell_type": "code",
   "execution_count": null,
   "id": "10c0b6a1-bb0c-4a45-97f2-711bbecf471c",
   "metadata": {},
   "outputs": [],
   "source": [
    "measurement_step_basis = [a.squeeze(1) for a in np.hsplit(ASigmaA_meas_eigvecs[:, :3], 3)]"
   ]
  },
  {
   "cell_type": "code",
   "execution_count": null,
   "id": "14247410-5a24-429c-9407-2f8057fa14e1",
   "metadata": {},
   "outputs": [],
   "source": [
    "measurement_A_inprods = linpde_gp.linalg.pairwise_inprods(\n",
    "    measurement_step_basis,\n",
    "    inprod=linsys.A,\n",
    "    normalize=True,\n",
    ")\n",
    "\n",
    "measurement_action_A_inprods = linpde_gp.linalg.pairwise_inprods(\n",
    "    measurement_step_basis,\n",
    "    actions,\n",
    "    inprod=linsys.A,\n",
    "    normalize=True,\n",
    ")"
   ]
  },
  {
   "cell_type": "code",
   "execution_count": null,
   "id": "4041b488-9aa3-4038-bb5f-a79cb59d1a46",
   "metadata": {},
   "outputs": [],
   "source": [
    "fig, ax = plt.subplots(\n",
    "    nrows=2,\n",
    "    ncols=2,\n",
    "    figsize=(6.5, 6),\n",
    "    gridspec_kw={\n",
    "        \"width_ratios\": [1, 3],\n",
    "        \"height_ratios\": [1, 3],\n",
    "    },\n",
    ")\n",
    "\n",
    "imshow_kwargs = {\n",
    "    \"cmap\": \"bwr\",\n",
    "    \"vmin\": -1.0,\n",
    "    \"vmax\": 1.0,\n",
    "    \"aspect\": \"auto\",\n",
    "    \"interpolation\": \"nearest\",\n",
    "}\n",
    "\n",
    "# Measurement-measurement\n",
    "ax[0, 0].imshow(measurement_A_inprods, **imshow_kwargs)\n",
    "ax[0, 0].xaxis.tick_top()\n",
    "\n",
    "# Measurement-action\n",
    "ax[0, 1].imshow(\n",
    "    measurement_action_A_inprods,\n",
    "    **imshow_kwargs,\n",
    ")\n",
    "ax[0, 1].xaxis.tick_top()\n",
    "ax[0, 1].yaxis.set_ticks([])\n",
    "\n",
    "# Action-measurement\n",
    "ax[1, 0].imshow(\n",
    "    measurement_action_A_inprods.T,\n",
    "    **imshow_kwargs,\n",
    ")\n",
    "ax[1, 0].xaxis.set_ticks([])\n",
    "\n",
    "# Action-action\n",
    "ax[1, 1].imshow(\n",
    "    action_A_inprods,\n",
    "    **imshow_kwargs,\n",
    ")\n",
    "ax[1, 1].xaxis.set_ticks([])\n",
    "ax[1, 1].yaxis.set_ticks([])\n",
    "\n",
    "fig.tight_layout()\n",
    "\n",
    "plt.show()"
   ]
  },
  {
   "cell_type": "code",
   "execution_count": null,
   "id": "d8503762-6bc9-4048-9840-54fbc16fb132",
   "metadata": {},
   "outputs": [],
   "source": []
  }
 ],
 "metadata": {
  "kernelspec": {
   "display_name": "Python [conda env:linpde-gp]",
   "language": "python",
   "name": "conda-env-linpde-gp-py"
  },
  "language_info": {
   "codemirror_mode": {
    "name": "ipython",
    "version": 3
   },
   "file_extension": ".py",
   "mimetype": "text/x-python",
   "name": "python",
   "nbconvert_exporter": "python",
   "pygments_lexer": "ipython3",
   "version": "3.9.7"
  }
 },
 "nbformat": 4,
 "nbformat_minor": 5
}
