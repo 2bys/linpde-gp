{
 "cells": [
  {
   "cell_type": "code",
   "execution_count": null,
   "id": "496a1f74-0726-4ec9-8fdb-96fd2ee6da7c",
   "metadata": {},
   "outputs": [],
   "source": [
    "import jax\n",
    "import jax.numpy as jnp\n",
    "import jax.scipy.linalg\n",
    "import matplotlib.pyplot as plt\n",
    "import numpy as np\n",
    "import probnum as pn\n",
    "\n",
    "import linpde_gp"
   ]
  },
  {
   "cell_type": "code",
   "execution_count": null,
   "id": "7d38414a-b40d-4f26-a29d-5d117dde5d05",
   "metadata": {},
   "outputs": [],
   "source": [
    "import notebook_utils\n",
    "from notebook_utils import config\n",
    "\n",
    "config.notebook_name = \"0010_poisson_1d_inverse_rhs\"\n",
    "config.target = \"jmlr\"\n",
    "config.debug_mode = True"
   ]
  },
  {
   "cell_type": "code",
   "execution_count": null,
   "id": "f9830a15-206b-4ba5-a285-056579752f85",
   "metadata": {},
   "outputs": [],
   "source": [
    "%matplotlib inline"
   ]
  },
  {
   "cell_type": "code",
   "execution_count": null,
   "id": "98749ea8-935c-492a-93ea-8b1e78b9b6f0",
   "metadata": {},
   "outputs": [],
   "source": [
    "plt.rcParams.update(config.tueplot_bundle())\n",
    "plt.rcParams[\"text.latex.preamble\"] += \"\\n\\\\usepackage{amsfonts}\""
   ]
  },
  {
   "cell_type": "markdown",
   "id": "3a9c30ca-ddff-4fc2-9841-f73927c54c78",
   "metadata": {
    "tags": []
   },
   "source": [
    "## Problem Definition"
   ]
  },
  {
   "cell_type": "code",
   "execution_count": null,
   "id": "30fdfce5-ddd8-4f86-8322-25409fdf9ae7",
   "metadata": {},
   "outputs": [],
   "source": [
    "from linpde_gp.problems.pde import domains, poisson_1d_bvp"
   ]
  },
  {
   "cell_type": "code",
   "execution_count": null,
   "id": "0a4918e4-908e-4f8c-891a-31b2baa1f494",
   "metadata": {},
   "outputs": [],
   "source": [
    "domain = domains.asdomain((-1.0, 1.0))\n",
    "\n",
    "mu, sigma = 0.4, 0.3\n",
    "u_true = lambda x: np.exp(-0.5 / sigma ** 2 * (x[..., 0] - mu) ** 2)\n",
    "f_true = lambda x: (1.0 - ((x[..., 0] - mu) / sigma) ** 2) / sigma ** 2 * u_true(x)\n",
    "boundary_values = (u_true(domain[0][None]), u_true(domain[1][None]))\n",
    "\n",
    "bvp = poisson_1d_bvp(\n",
    "    domain=domain,\n",
    "    rhs=f_true,\n",
    "    boundary_values=boundary_values,\n",
    "    solution=u_true,\n",
    ")"
   ]
  },
  {
   "cell_type": "code",
   "execution_count": null,
   "id": "d5cfd960-6705-4df5-be67-24a8765563de",
   "metadata": {
    "jupyter": {
     "source_hidden": true
    },
    "tags": []
   },
   "outputs": [],
   "source": [
    "# Plotting\n",
    "\n",
    "plt_grid = np.linspace(*domain, 100)\n",
    "\n",
    "def plot_belief(\n",
    "    u: pn.randprocs.GaussianProcess,\n",
    "    f: pn.randprocs.GaussianProcess,\n",
    "    bc: bool = False,\n",
    "    u_meas: tuple[np.ndarray, np.ndarray, pn.randvars.Normal] = None,\n",
    "    pde_meas: tuple[np.ndarray, pn.randvars.Normal] = None,\n",
    "):\n",
    "    with plt.rc_context(config.tueplot_bundle(ncols=2)):\n",
    "        fig, ax = plt.subplots(ncols=2)\n",
    "        \n",
    "        u.plot(\n",
    "            ax[0],\n",
    "            plt_grid,\n",
    "            num_samples=10,\n",
    "            rng=np.random.default_rng(24),\n",
    "            label=\"$u$\"\n",
    "        )\n",
    "        \n",
    "        ax[0].plot(\n",
    "            plt_grid,\n",
    "            bvp.solution(plt_grid[:, None]),\n",
    "            label=\"$u^*$\",\n",
    "        )\n",
    "        \n",
    "        if bc:\n",
    "            ax[0].errorbar(\n",
    "                list(domain),\n",
    "                boundary_values,\n",
    "                yerr=0,\n",
    "                fmt=\"+\",\n",
    "                capsize=2,\n",
    "                label=r\"$u \\vert_{\\partial \\Omega}$\"\n",
    "            )\n",
    "            \n",
    "        if u_meas is not None:\n",
    "            X_meas, Y_meas, yerr_meas = u_meas\n",
    "            \n",
    "            ax[0].errorbar(\n",
    "                X_meas,\n",
    "                Y_meas,\n",
    "                yerr=1.96 * yerr_meas.std,\n",
    "                fmt=\"+\",\n",
    "                capsize=2,\n",
    "                label=r\"$u(X_\\mathrm{meas})$\"\n",
    "            )\n",
    "        \n",
    "        ax[0].legend()\n",
    "        \n",
    "        f.plot(\n",
    "            ax[1],\n",
    "            plt_grid,\n",
    "            num_samples=10,\n",
    "            rng=np.random.default_rng(24),\n",
    "            label=\"$f$\"\n",
    "        )\n",
    "        \n",
    "        ax[1].plot(\n",
    "            plt_grid,\n",
    "            bvp.rhs(plt_grid[:, None]),\n",
    "            label=\"$f^*$\"\n",
    "        )\n",
    "        \n",
    "        # ax[1].plot(\n",
    "        #     plt_grid,\n",
    "        #     bvp.diffop(u).mean(plt_grid[:, None]),\n",
    "        #     label=r\"$\\mathbb{E}[-\\Delta u]$\"\n",
    "        # )\n",
    "        \n",
    "        if pde_meas:\n",
    "            X_pde, Lu_X_pde = pde_meas\n",
    "            \n",
    "            ax[1].errorbar(\n",
    "                X_pde,\n",
    "                Lu_X_pde.mean,\n",
    "                yerr=1.96 * Lu_X_pde.std,\n",
    "                fmt=\"+\",\n",
    "                capsize=2,\n",
    "                label=r\"$-\\Delta u(X_\\mathrm{PDE})$\"\n",
    "            )\n",
    "        \n",
    "        ax[1].legend()"
   ]
  },
  {
   "cell_type": "markdown",
   "id": "5e216885-6be3-47d8-a32f-cd9db5728c3d",
   "metadata": {},
   "source": [
    "# Priors"
   ]
  },
  {
   "cell_type": "code",
   "execution_count": null,
   "id": "28cdf232-aa85-4b4c-8ba1-9a446b4d402e",
   "metadata": {},
   "outputs": [],
   "source": [
    "u_prior = pn.randprocs.GaussianProcess(\n",
    "    mean=linpde_gp.randprocs.mean_fns.Zero(),\n",
    "    cov=linpde_gp.randprocs.kernels.ExpQuad(\n",
    "        input_dim=1,\n",
    "        lengthscales=0.5,\n",
    "        output_scale=1.0,\n",
    "    ),\n",
    ")\n",
    "\n",
    "f_prior = pn.randprocs.GaussianProcess(\n",
    "    mean=linpde_gp.randprocs.mean_fns.Zero(),\n",
    "    cov=linpde_gp.randprocs.kernels.ExpQuad(\n",
    "        input_dim=1,\n",
    "        lengthscales=0.25,\n",
    "        output_scale=10.0,\n",
    "    ),\n",
    ")"
   ]
  },
  {
   "cell_type": "code",
   "execution_count": null,
   "id": "51262c95-fef5-4897-aa1e-7376eb19feb3",
   "metadata": {},
   "outputs": [],
   "source": [
    "plot_belief(\n",
    "    u=u_prior,\n",
    "    f=f_prior,\n",
    ")"
   ]
  },
  {
   "cell_type": "markdown",
   "id": "55065d7c-fa97-4ce3-9ad3-dd90b9dd50ed",
   "metadata": {},
   "source": [
    "# Observations"
   ]
  },
  {
   "cell_type": "markdown",
   "id": "d671633d-d2a7-45e6-ac3a-5e9f99ea1578",
   "metadata": {},
   "source": [
    "## Boundary Conditions "
   ]
  },
  {
   "cell_type": "code",
   "execution_count": null,
   "id": "9cc84751-3ef5-4ca2-b84b-f96e6634c226",
   "metadata": {},
   "outputs": [],
   "source": [
    "u_bc = u_prior.condition_on_observations(\n",
    "    X=np.hstack(bvp.domain.boundary)[:, None],\n",
    "    fX=np.stack([boundary_condition.values.mean for boundary_condition in bvp.boundary_conditions])\n",
    ")"
   ]
  },
  {
   "cell_type": "code",
   "execution_count": null,
   "id": "c888e3a5-5dce-47c4-9222-8680f8a77696",
   "metadata": {},
   "outputs": [],
   "source": [
    "plot_belief(\n",
    "    u=u_bc,\n",
    "    f=f_prior,\n",
    "    bc=True,\n",
    ")"
   ]
  },
  {
   "cell_type": "markdown",
   "id": "de9c8d83-c32b-4c3d-8640-a199953fbcb1",
   "metadata": {},
   "source": [
    "## Empirical Measurements"
   ]
  },
  {
   "cell_type": "code",
   "execution_count": null,
   "id": "bd8ec829-a07e-47f2-8300-b84bb0c98c07",
   "metadata": {},
   "outputs": [],
   "source": [
    "X_meas = np.linspace(*bvp.domain, 10 + 2)[1:-1, None]\n",
    "Y_meas = bvp.solution(X_meas)\n",
    "err_meas = pn.randvars.Normal(\n",
    "    mean=np.zeros_like(X_meas[..., 0]),\n",
    "    cov=np.diag(np.full_like(X_meas[..., 0], 0.1 ** 2)),\n",
    ")\n",
    "\n",
    "u_bc_meas = u_bc.condition_on_observations(\n",
    "    X=X_meas,\n",
    "    fX=Y_meas,\n",
    "    noise_model=err_meas\n",
    ")"
   ]
  },
  {
   "cell_type": "code",
   "execution_count": null,
   "id": "576b319e-a433-493f-8318-3d59394186f6",
   "metadata": {},
   "outputs": [],
   "source": [
    "plot_belief(\n",
    "    u=u_bc_meas,\n",
    "    f=f_prior,\n",
    "    bc=True,\n",
    "    u_meas=(X_meas, Y_meas, err_meas),\n",
    ")"
   ]
  },
  {
   "cell_type": "markdown",
   "id": "79690dea-8dfd-47b4-9e25-3422f5eb01c5",
   "metadata": {},
   "source": [
    "# PDE"
   ]
  },
  {
   "cell_type": "code",
   "execution_count": null,
   "id": "5d212eca-f47d-4132-b0a5-2b7c867c92ea",
   "metadata": {},
   "outputs": [],
   "source": [
    "X_pde = np.linspace(*bvp.domain, 10 + 2)[1:-1, None]\n",
    "Lu_X_pde = bvp.diffop(u_bc_meas)(X_pde)\n",
    "\n",
    "u_post = u_bc_meas.condition_on_linop_observations(\n",
    "    L=bvp.diffop,\n",
    "    X=X_meas,\n",
    "    LfX=np.zeros_like(X_meas[..., 0]),\n",
    "    noise_model=-f_prior(X_meas),\n",
    ")\n",
    "\n",
    "f_post = f_prior.condition_on_observations(\n",
    "    X=X_pde,\n",
    "    fX=np.zeros_like(X_pde[..., 0]),\n",
    "    noise_model=-Lu_X_pde,\n",
    ")"
   ]
  },
  {
   "cell_type": "code",
   "execution_count": null,
   "id": "a94d4bfb-8452-4390-96aa-b16ecba633b6",
   "metadata": {},
   "outputs": [],
   "source": [
    "plot_belief(\n",
    "    u=u_post,\n",
    "    f=f_post,\n",
    "    bc=True,\n",
    "    u_meas=(X_meas, Y_meas, err_meas),\n",
    "    pde_meas=(X_pde, Lu_X_pde),\n",
    ")\n",
    "\n",
    "notebook_utils.savefig(\"u_f_posterior\")"
   ]
  },
  {
   "cell_type": "code",
   "execution_count": null,
   "id": "e49d0f3e-edcb-4d9f-937d-62669baf40b7",
   "metadata": {},
   "outputs": [],
   "source": []
  }
 ],
 "metadata": {
  "kernelspec": {
   "display_name": "Python [conda env:linpde-gp]",
   "language": "python",
   "name": "conda-env-linpde-gp-py"
  },
  "language_info": {
   "codemirror_mode": {
    "name": "ipython",
    "version": 3
   },
   "file_extension": ".py",
   "mimetype": "text/x-python",
   "name": "python",
   "nbconvert_exporter": "python",
   "pygments_lexer": "ipython3",
   "version": "3.9.7"
  }
 },
 "nbformat": 4,
 "nbformat_minor": 5
}
