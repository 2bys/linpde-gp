{
 "cells": [
  {
   "cell_type": "code",
   "execution_count": null,
   "id": "f742fa15-49cb-4186-a761-3dc0e7dfe736",
   "metadata": {},
   "outputs": [],
   "source": [
    "import matplotlib.pyplot as plt\n",
    "import numpy as np\n",
    "import probnum as pn\n",
    "from probnum.problems.zoo.linalg import random_spd_matrix\n",
    "import scipy.sparse\n",
    "\n",
    "import probnum_galerkin"
   ]
  },
  {
   "cell_type": "code",
   "execution_count": null,
   "id": "d832e234-33c6-4fc9-aec0-b30a90835c9f",
   "metadata": {},
   "outputs": [],
   "source": [
    "%matplotlib inline\n",
    "\n",
    "from IPython.display import set_matplotlib_formats\n",
    "set_matplotlib_formats(\"pdf\", \"svg\")"
   ]
  },
  {
   "cell_type": "code",
   "execution_count": null,
   "id": "5810a32c-2b83-474f-b66a-ee7d09bbafdb",
   "metadata": {},
   "outputs": [],
   "source": [
    "rng = np.random.default_rng(1)"
   ]
  },
  {
   "cell_type": "code",
   "execution_count": null,
   "id": "3b3a2989-39aa-4bb1-8750-9152dc83676d",
   "metadata": {},
   "outputs": [],
   "source": [
    "A = random_spd_matrix(rng, dim=2, spectrum=[1.0, 0.1])\n",
    "x = np.array([1.0, 1.0])\n",
    "b = A @ x"
   ]
  },
  {
   "cell_type": "code",
   "execution_count": null,
   "id": "f111c69e-6da4-4f19-b0ef-8661476486c2",
   "metadata": {},
   "outputs": [],
   "source": [
    "linsys = pn.problems.LinearSystem(A, b, x)"
   ]
  },
  {
   "cell_type": "code",
   "execution_count": null,
   "id": "086eb954-2cea-44a8-8e54-3921fc7351c4",
   "metadata": {},
   "outputs": [],
   "source": [
    "linsys.solution"
   ]
  },
  {
   "cell_type": "code",
   "execution_count": null,
   "id": "25a6d8c6-fec7-48ed-a809-160131e5cbe3",
   "metadata": {},
   "outputs": [],
   "source": [
    "obj_fn = lambda x: 0.5 * probnum_galerkin.linalg.euclidean_inprod(x, x, A) - probnum_galerkin.linalg.euclidean_inprod(b, x)"
   ]
  },
  {
   "cell_type": "code",
   "execution_count": null,
   "id": "9b291f87-514b-4842-9704-dccff06d4ea2",
   "metadata": {},
   "outputs": [],
   "source": [
    "xs_plot, ys_plot = np.meshgrid(\n",
    "    np.linspace(-0.25, 1.2),\n",
    "    np.linspace(-0.25, 1.2),\n",
    ")\n",
    "\n",
    "plt.contour(\n",
    "    xs_plot, ys_plot,\n",
    "    obj_fn(np.stack((xs_plot, ys_plot), axis=-1))\n",
    ")\n",
    "plt.scatter(\n",
    "    x[0], x[1],\n",
    "    marker=\"*\",\n",
    "    s=100,\n",
    ")"
   ]
  },
  {
   "cell_type": "code",
   "execution_count": null,
   "id": "8f3ce993-3d09-428c-8951-73df866a01bc",
   "metadata": {},
   "outputs": [],
   "source": [
    "solver = probnum_galerkin.linalg.solvers.ProbabilisticLinearSolver(\n",
    "    probnum_galerkin.linalg.solvers.beliefs.GaussianSolutionBelief.from_linear_system(linsys),\n",
    "    policy=probnum_galerkin.linalg.solvers.policies.CovariancePolicy(),\n",
    "    observation_op=probnum_galerkin.linalg.solvers.observation_ops.ResidualMatVec(),\n",
    "    belief_update=probnum_galerkin.linalg.solvers.belief_updates.GaussianInferenceBeliefUpdate(noise_var=0.1),\n",
    "    stopping_criteria=(\n",
    "        probnum_galerkin.linalg.solvers.stopping_criteria.MaxIterations(10),\n",
    "        probnum_galerkin.linalg.solvers.stopping_criteria.ResidualNorm(),\n",
    "    ),\n",
    ")\n",
    "\n",
    "means = []\n",
    "\n",
    "for belief, state, done in solver.solve_iter(linsys):\n",
    "    means.append(belief.x.mean.copy())"
   ]
  },
  {
   "cell_type": "code",
   "execution_count": null,
   "id": "c333c988-9f3b-42ad-8410-807b41859787",
   "metadata": {},
   "outputs": [],
   "source": [
    "belief.x.mean, belief.x.var"
   ]
  },
  {
   "cell_type": "code",
   "execution_count": null,
   "id": "2d932059-77a6-49fa-af83-07cce7eb0601",
   "metadata": {},
   "outputs": [],
   "source": [
    "means"
   ]
  },
  {
   "cell_type": "code",
   "execution_count": null,
   "id": "5e63c281-a71f-4270-b654-162906e0eedf",
   "metadata": {},
   "outputs": [],
   "source": [
    "xs_plot, ys_plot = np.meshgrid(\n",
    "    np.linspace(-0.25, 1.2),\n",
    "    np.linspace(-0.25, 1.2),\n",
    ")\n",
    "\n",
    "plt.contour(\n",
    "    xs_plot, ys_plot,\n",
    "    obj_fn(np.stack((xs_plot, ys_plot), axis=-1))\n",
    ")\n",
    "plt.scatter(\n",
    "    x[0], x[1],\n",
    "    marker=\"*\",\n",
    "    s=100,\n",
    ")\n",
    "plt.plot(\n",
    "    tuple(mean[0] for mean in means),\n",
    "    tuple(mean[1] for mean in means),\n",
    ")"
   ]
  },
  {
   "cell_type": "code",
   "execution_count": null,
   "id": "7797c7e6-ba7d-483b-be1c-5806415b609b",
   "metadata": {},
   "outputs": [],
   "source": []
  }
 ],
 "metadata": {
  "kernelspec": {
   "display_name": "Python [conda env:probnum]",
   "language": "python",
   "name": "conda-env-probnum-py"
  },
  "language_info": {
   "codemirror_mode": {
    "name": "ipython",
    "version": 3
   },
   "file_extension": ".py",
   "mimetype": "text/x-python",
   "name": "python",
   "nbconvert_exporter": "python",
   "pygments_lexer": "ipython3",
   "version": "3.8.5"
  }
 },
 "nbformat": 4,
 "nbformat_minor": 5
}
