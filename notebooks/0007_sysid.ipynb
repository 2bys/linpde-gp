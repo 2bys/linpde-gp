{
 "cells": [
  {
   "cell_type": "code",
   "execution_count": null,
   "id": "d7250daf-1965-4efc-8818-f3270d9e33b3",
   "metadata": {},
   "outputs": [],
   "source": [
    "import jax\n",
    "import jax.numpy as jnp\n",
    "import jax.scipy.linalg\n",
    "import matplotlib.pyplot as plt\n",
    "import numpy as np\n",
    "import probnum as pn\n",
    "\n",
    "import probnum_galerkin as pngal"
   ]
  },
  {
   "cell_type": "code",
   "execution_count": null,
   "id": "92c4a341-b1ba-405e-87e6-59f053a41bc0",
   "metadata": {},
   "outputs": [],
   "source": [
    "%matplotlib inline\n",
    "\n",
    "from matplotlib_inline.backend_inline import set_matplotlib_formats\n",
    "set_matplotlib_formats(\"pdf\", \"svg\")"
   ]
  },
  {
   "cell_type": "code",
   "execution_count": null,
   "id": "069ac2a8-d77c-4ab8-99ab-020c7052d4fa",
   "metadata": {},
   "outputs": [],
   "source": [
    "jax.config.update(\"jax_enable_x64\", True)"
   ]
  },
  {
   "cell_type": "code",
   "execution_count": null,
   "id": "aebfd3be-64dc-4719-b306-4e47d0c4dc43",
   "metadata": {},
   "outputs": [],
   "source": [
    "rng = np.random.default_rng(24)"
   ]
  },
  {
   "cell_type": "markdown",
   "id": "260ca210-42a1-4340-9885-8aa67afe6b30",
   "metadata": {
    "tags": []
   },
   "source": [
    "## Problem Definition"
   ]
  },
  {
   "cell_type": "code",
   "execution_count": null,
   "id": "70797981-d79e-445d-b46e-62ceea1bafed",
   "metadata": {},
   "outputs": [],
   "source": [
    "# Domain\n",
    "boundary = np.array([-1.0, 1.0])\n",
    "\n",
    "plt_grid = np.linspace(*boundary, 100)\n",
    "\n",
    "# Differential Operator\n",
    "def diffop(f, a, argnum: int = 0):\n",
    "    laplace_f = pngal.diffops.laplace(f, argnum=argnum)\n",
    "    \n",
    "    @jax.jit\n",
    "    def _scaled_laplace(*args, **kwargs):\n",
    "        return a * laplace_f(*args, **kwargs)\n",
    "    \n",
    "    return _scaled_laplace"
   ]
  },
  {
   "cell_type": "code",
   "execution_count": null,
   "id": "ed06aa06-3db8-463a-b51c-55749d075888",
   "metadata": {},
   "outputs": [],
   "source": [
    "# PDE Diffop Parameter\n",
    "a = 2.0\n",
    "\n",
    "# PDE RHS\n",
    "_f_const = -2.0\n",
    "f = lambda x: np.full_like(x, _f_const)\n",
    "\n",
    "# Boundary Conditions\n",
    "g = pn.randvars.Normal(\n",
    "    mean=np.array([-0.1, 0.9]),\n",
    "    cov=np.diag(np.full_like(boundary, 0.0 ** 2))\n",
    ")\n",
    "\n",
    "# True Solution\n",
    "_aff_slope = (g.mean[1] - g.mean[0]) / (boundary[1] - boundary[0])\n",
    "\n",
    "u = lambda x: g.mean[0] + (_aff_slope + 0.5 * (_f_const / a) * (x - boundary[1])) * (x - boundary[0])\n",
    "\n",
    "# Priors\n",
    "lengthscale = 1.0\n",
    "output_scale = 1.0\n",
    "\n",
    "@jax.jit\n",
    "def prior_u_mean(x):\n",
    "    return jnp.full_like(x[..., 0], 0.0)\n",
    "#     return u(x[..., 0])\n",
    "\n",
    "@jax.jit\n",
    "def prior_u_cov(x0, x1):\n",
    "    sqnorms = jnp.sum((x0 - x1) ** 2, axis=-1)\n",
    "\n",
    "    return output_scale ** 2 * jnp.exp(-(1.0 / (2.0 * lengthscale ** 2)) * sqnorms)\n",
    "\n",
    "prior_a = pn.randvars.Normal(\n",
    "    mean=1.8,\n",
    "    cov=1.0 ** 2,\n",
    ")\n",
    "\n",
    "# PDE Measurements\n",
    "X = np.linspace(-0.8, 0.8, 11)\n",
    "fX = pn.randvars.Normal(\n",
    "    mean=f(X),\n",
    "    cov=np.diag(np.full_like(X, 0.0 ** 2)),\n",
    ")"
   ]
  },
  {
   "cell_type": "code",
   "execution_count": null,
   "id": "f4dbbb5f-1298-40c6-9742-0c93c7da0855",
   "metadata": {},
   "outputs": [],
   "source": [
    "N = X.size"
   ]
  },
  {
   "cell_type": "markdown",
   "id": "7e967a2e-abad-4020-9d94-12eeafc3adef",
   "metadata": {
    "tags": []
   },
   "source": [
    "## Prior"
   ]
  },
  {
   "cell_type": "code",
   "execution_count": null,
   "id": "05a38853-a07e-4207-af8e-98a7acf0bc19",
   "metadata": {},
   "outputs": [],
   "source": [
    "prior_u = pn.randprocs.GaussianProcess(\n",
    "    mean=pngal.randprocs.mean_fns.JaxMean(prior_u_mean, vectorize=False),\n",
    "    cov=pngal.randprocs.kernels.JaxKernel(prior_u_cov, input_dim=1, vectorize=False),\n",
    ")"
   ]
  },
  {
   "cell_type": "code",
   "execution_count": null,
   "id": "7bc2e342-b777-4492-99ef-82f889d68626",
   "metadata": {},
   "outputs": [],
   "source": [
    "prior_u.plot(\n",
    "    plt.gca(),\n",
    "    plt_grid,\n",
    "    num_samples=10,\n",
    "    rng=rng,\n",
    "    label=\"$u \\sim \\mathcal{GP}(m, k)$\",\n",
    ")\n",
    "\n",
    "plt.plot(\n",
    "    plt_grid,\n",
    "    u(plt_grid),\n",
    "    label=\"$u^*$\",\n",
    ")\n",
    "\n",
    "plt.legend()\n",
    "plt.savefig(\"../results/0007_poisson_rbf_00_prior.pdf\", dpi=300)\n",
    "plt.show()"
   ]
  },
  {
   "cell_type": "code",
   "execution_count": null,
   "id": "cae4a337-c6b9-40ca-96e8-90c113818fca",
   "metadata": {},
   "outputs": [],
   "source": [
    "prior_a.plot(\n",
    "    plt.gca()\n",
    ")\n",
    "\n",
    "plt.axvline(a, c=\"C1\")"
   ]
  },
  {
   "cell_type": "markdown",
   "id": "f1868cdd-51f1-4b8c-bf5f-5f902143216d",
   "metadata": {},
   "source": [
    "## Conditioning on Boundary Values"
   ]
  },
  {
   "cell_type": "code",
   "execution_count": null,
   "id": "af52beca-e4c8-4533-a6d1-6f96eac75c4b",
   "metadata": {},
   "outputs": [],
   "source": [
    "u_bc = prior_u.condition_on_observations_jax(boundary[:, None], g)"
   ]
  },
  {
   "cell_type": "code",
   "execution_count": null,
   "id": "da63584a-a288-46e5-b9b7-c4aaabdeb615",
   "metadata": {},
   "outputs": [],
   "source": [
    "u_bc.plot(\n",
    "    plt.gca(),\n",
    "    plt_grid,\n",
    "    num_samples=10,\n",
    "    rng=rng,\n",
    "    label=r\"$u \\mid u(\\partial \\Omega) = g(\\partial \\Omega)$\"\n",
    ")\n",
    "\n",
    "plt.plot(\n",
    "    plt_grid,\n",
    "    u(plt_grid),\n",
    "    label=r\"$u^*$\",\n",
    ")\n",
    "\n",
    "plt.errorbar(\n",
    "    boundary,\n",
    "    g.mean,\n",
    "    yerr=g.std,\n",
    "    fmt=\"+\",\n",
    "    capsize=2,\n",
    "    color=\"C2\",\n",
    "    label=r\"$g(\\partial \\Omega)$\"\n",
    ")\n",
    "\n",
    "plt.legend()\n",
    "plt.savefig(\"../results/0007_poisson_rbf_bcfirst_01_cond_bc.pdf\", dpi=300)\n",
    "plt.show()"
   ]
  },
  {
   "cell_type": "markdown",
   "id": "9364a042-2431-48da-92d9-fde66b96c15a",
   "metadata": {},
   "source": [
    "## Linearized Predictive"
   ]
  },
  {
   "cell_type": "code",
   "execution_count": null,
   "id": "227e5dd2-11b7-4c4a-a2f2-0864288dd4c2",
   "metadata": {},
   "outputs": [],
   "source": [
    "laplace_u_bc, laplace_u_bc_crosscov = u_bc.apply_jax_linop(diffop, a=prior_a.mean)"
   ]
  },
  {
   "cell_type": "code",
   "execution_count": null,
   "id": "e260cb50-5958-4544-9b35-891a4396ce4f",
   "metadata": {},
   "outputs": [],
   "source": [
    "laplace_u_bc.plot(\n",
    "    plt.gca(),\n",
    "    plt_grid,\n",
    "    num_samples=10,\n",
    "    rng=rng,\n",
    "    label=\"$\\Delta u \\mid u(\\partial \\Omega) = g(\\partial \\Omega)$\"\n",
    ")\n",
    "\n",
    "plt.plot(\n",
    "    plt_grid,\n",
    "    f(plt_grid),\n",
    "    color=\"C3\",\n",
    "    label=\"f\",\n",
    ")\n",
    "\n",
    "plt.legend()\n",
    "plt.savefig(\"../results/0007_poisson_rbf_bcfirst_02_cond_bc_laplace.pdf\", dpi=300)\n",
    "plt.show()"
   ]
  },
  {
   "cell_type": "code",
   "execution_count": null,
   "id": "d91cacd8-cad7-4ab3-8eca-5587f152ffcb",
   "metadata": {},
   "outputs": [],
   "source": [
    "Lu_grad_a = lambda x: jax.grad(lambda x, a: diffop(u_bc._meanfun, a)(x), argnums=1)(x, prior_a.mean)\n",
    "\n",
    "@jax.jit\n",
    "def lin_pred_cov(x0, x1):\n",
    "    return laplace_u_bc._covfun.jax(x0, x1) + prior_a.cov.item() * Lu_grad_a(x0) * Lu_grad_a(x1)\n",
    "\n",
    "u_pred = pn.randprocs.GaussianProcess(\n",
    "    mean=laplace_u_bc._meanfun,\n",
    "    cov=pngal.randprocs.kernels.JaxKernel(lin_pred_cov, input_dim=1, vectorize=True),\n",
    ")"
   ]
  },
  {
   "cell_type": "code",
   "execution_count": null,
   "id": "8ad63072-a2c4-4d31-87af-2ddcb1caa312",
   "metadata": {},
   "outputs": [],
   "source": [
    "u_pred.plot(\n",
    "    plt.gca(),\n",
    "    plt_grid,\n",
    "    num_samples=10,\n",
    "    rng=rng,\n",
    "    label=\"$\\Delta u \\mid u(\\partial \\Omega) = g(\\partial \\Omega)$\"\n",
    ")\n",
    "\n",
    "plt.plot(\n",
    "    plt_grid,\n",
    "    f(plt_grid),\n",
    "    color=\"C3\",\n",
    "    label=\"f\",\n",
    ")\n",
    "\n",
    "plt.legend()\n",
    "plt.savefig(\"../results/0007_poisson_rbf_bcfirst_02_cond_bc_laplace.pdf\", dpi=300)\n",
    "plt.show()"
   ]
  },
  {
   "cell_type": "markdown",
   "id": "9cb6df96-6399-4852-9365-fa03b6738207",
   "metadata": {},
   "source": [
    "## Posterior Process"
   ]
  },
  {
   "cell_type": "code",
   "execution_count": null,
   "id": "b3dc26e2-6e91-458e-acb6-e12377742da3",
   "metadata": {},
   "outputs": [],
   "source": [
    "u_bc_pde = u_bc.condition_on_predictive_gp_observations_jax(u_pred, laplace_u_bc_crosscov, X[:, None], fX)"
   ]
  },
  {
   "cell_type": "code",
   "execution_count": null,
   "id": "7514e680-d33e-4d24-a909-aaf81543de38",
   "metadata": {},
   "outputs": [],
   "source": [
    "u_bc_pde.plot(\n",
    "    plt.gca(),\n",
    "    plt_grid,\n",
    "    num_samples=10,\n",
    "    rng=rng,\n",
    "    label=\"$u \\mid u(\\partial \\Omega) = g(\\partial \\Omega), \\Delta u(x_i) = f(x_i)$\",\n",
    ")\n",
    "\n",
    "plt.plot(\n",
    "    plt_grid,\n",
    "    u(plt_grid),\n",
    "    color=\"C1\",\n",
    "    label=\"$u^*$\",\n",
    ")\n",
    "\n",
    "plt.errorbar(\n",
    "    boundary,\n",
    "    g.mean,\n",
    "    yerr=g.std,\n",
    "    fmt=\"+\",\n",
    "    capsize=2,\n",
    "    color=\"C2\",\n",
    "    label=r\"$g(\\partial \\Omega)$\"\n",
    ")\n",
    "\n",
    "plt.legend()\n",
    "plt.show()"
   ]
  },
  {
   "cell_type": "code",
   "execution_count": null,
   "id": "c6906146-e2fc-4aba-9944-c48f2b5d4134",
   "metadata": {},
   "outputs": [],
   "source": []
  }
 ],
 "metadata": {
  "kernelspec": {
   "display_name": "Python [conda env:probnum]",
   "language": "python",
   "name": "conda-env-probnum-py"
  },
  "language_info": {
   "codemirror_mode": {
    "name": "ipython",
    "version": 3
   },
   "file_extension": ".py",
   "mimetype": "text/x-python",
   "name": "python",
   "nbconvert_exporter": "python",
   "pygments_lexer": "ipython3",
   "version": "3.9.6"
  }
 },
 "nbformat": 4,
 "nbformat_minor": 5
}
