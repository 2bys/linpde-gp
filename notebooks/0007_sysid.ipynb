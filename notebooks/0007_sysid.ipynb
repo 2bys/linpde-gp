{
 "cells": [
  {
   "cell_type": "code",
   "execution_count": null,
   "id": "d7250daf-1965-4efc-8818-f3270d9e33b3",
   "metadata": {},
   "outputs": [],
   "source": [
    "import functools\n",
    "\n",
    "import jax\n",
    "import jax.numpy as jnp\n",
    "import jax.scipy.linalg\n",
    "import matplotlib.pyplot as plt\n",
    "import numpy as np\n",
    "import probnum as pn\n",
    "import scipy.linalg\n",
    "\n",
    "import linpde_gp as linpde_gp\n",
    "\n",
    "from typing import Optional, Tuple"
   ]
  },
  {
   "cell_type": "code",
   "execution_count": null,
   "id": "92c4a341-b1ba-405e-87e6-59f053a41bc0",
   "metadata": {},
   "outputs": [],
   "source": [
    "%matplotlib inline\n",
    "\n",
    "from matplotlib_inline.backend_inline import set_matplotlib_formats\n",
    "set_matplotlib_formats(\"pdf\", \"svg\")"
   ]
  },
  {
   "cell_type": "code",
   "execution_count": null,
   "id": "069ac2a8-d77c-4ab8-99ab-020c7052d4fa",
   "metadata": {},
   "outputs": [],
   "source": [
    "jax.config.update(\"jax_enable_x64\", True)"
   ]
  },
  {
   "cell_type": "code",
   "execution_count": null,
   "id": "aebfd3be-64dc-4719-b306-4e47d0c4dc43",
   "metadata": {},
   "outputs": [],
   "source": [
    "rng = np.random.default_rng(24)"
   ]
  },
  {
   "cell_type": "markdown",
   "id": "260ca210-42a1-4340-9885-8aa67afe6b30",
   "metadata": {
    "tags": []
   },
   "source": [
    "## Problem Definition"
   ]
  },
  {
   "cell_type": "code",
   "execution_count": null,
   "id": "70797981-d79e-445d-b46e-62ceea1bafed",
   "metadata": {},
   "outputs": [],
   "source": [
    "# Domain\n",
    "boundary = np.array([-1.0, 1.0])\n",
    "\n",
    "plt_grid = np.linspace(*boundary, 100)\n",
    "\n",
    "# Differential Operator\n",
    "def diffop(f, a, argnum: int = 0):\n",
    "    laplace_f = linpde_gp.problems.pde.diffops.laplace(f, argnum=argnum)\n",
    "    \n",
    "    @jax.jit\n",
    "    def _scaled_laplace(*args, **kwargs):\n",
    "        return a * laplace_f(*args, **kwargs)\n",
    "    \n",
    "    return _scaled_laplace"
   ]
  },
  {
   "cell_type": "code",
   "execution_count": null,
   "id": "ed06aa06-3db8-463a-b51c-55749d075888",
   "metadata": {},
   "outputs": [],
   "source": [
    "# PDE Diffop Parameter\n",
    "a_true = 2.0\n",
    "\n",
    "# PDE RHS\n",
    "_f_const = -2.0\n",
    "f = lambda x: np.full_like(x, _f_const)\n",
    "\n",
    "# Boundary Conditions\n",
    "g = pn.randvars.Normal(\n",
    "    mean=np.array([-0.1, 0.9]),\n",
    "    cov=0.0 ** 2 * np.eye(boundary.size),\n",
    ")\n",
    "\n",
    "# True Solution\n",
    "_u_sol_coeffs = [\n",
    "    g.mean[0],\n",
    "    (g.mean[1] - g.mean[0]) / (boundary[1] - boundary[0]),\n",
    "    0.5 * (_f_const / a_true),\n",
    "]\n",
    "u_sol = lambda x: _u_sol_coeffs[0] + (_u_sol_coeffs[1] + _u_sol_coeffs[2] * (x - boundary[1])) * (x - boundary[0])\n",
    "\n",
    "# Priors\n",
    "lengthscale = 1.0\n",
    "output_scale = 1.0\n",
    "\n",
    "@jax.jit\n",
    "def u_prior_mean(x):\n",
    "    return jnp.full_like(x[..., 0], 0.0)\n",
    "\n",
    "@jax.jit\n",
    "def u_prior_cov(x0, x1):\n",
    "    sqnorms = jnp.sum((x0 - x1) ** 2, axis=-1)\n",
    "\n",
    "    return output_scale ** 2 * jnp.exp(-(1.0 / (2.0 * lengthscale ** 2)) * sqnorms)\n",
    "\n",
    "a_prior = pn.randvars.Normal(\n",
    "    mean=1.8,\n",
    "    cov=1.0 ** 2,\n",
    ")\n",
    "\n",
    "def a_u_crosscov_prior(x):\n",
    "    return jnp.zeros_like(x[..., 0])\n",
    "\n",
    "# Locations of Measurements of the Solution u^*\n",
    "u_sol_meas_xs = np.array([0.5])\n",
    "u_sol_meas_std = np.array([0.1])\n",
    "\n",
    "# PDE Measurements\n",
    "collocation_points = np.array([-0.5, 0.0, 0.6, 0.7, -0.5])\n",
    "collocation_std = np.array([4.0, 4.0, 4.0, 4.0, 4.0])"
   ]
  },
  {
   "cell_type": "code",
   "execution_count": null,
   "id": "23f5be13-305c-4ee8-b7a9-effa594c1339",
   "metadata": {
    "tags": []
   },
   "outputs": [],
   "source": [
    "# Plotting\n",
    "def plot_belief(\n",
    "    u: pn.randprocs.GaussianProcess,\n",
    "    a: pn.randvars.Normal,\n",
    "    boundary_values: Optional[pn.randvars.Normal] = None,\n",
    "    u_measurements: Optional[Tuple[np.ndarray, pn.randvars.Normal]] = None,\n",
    "    collocation_points: Optional[np.ndarray] = None,\n",
    "    a_prior: Optional[pn.randvars.Normal] = None,\n",
    "):\n",
    "    fig, ax = plt.subplots(ncols=2, figsize=(12, 4))\n",
    "    \n",
    "    # Belief over u\n",
    "    ax[0].plot(\n",
    "        plt_grid,\n",
    "        u_sol(plt_grid),\n",
    "        c=\"C1\",\n",
    "        label=\"$u^*$\",\n",
    "    )\n",
    "\n",
    "    u_conditional_strs = []\n",
    "    \n",
    "    if boundary_values is not None:\n",
    "        u_conditional_strs.append(r\"u(\\partial \\Omega) = g(\\partial \\Omega)\")\n",
    "        \n",
    "    if u_measurements is not None:\n",
    "        u_conditional_strs.append(r\"u(X_u) = Y_u\")\n",
    "        \n",
    "    if collocation_points is not None:\n",
    "        u_conditional_strs.append(r\"\\mathcal{L}_a u(X_c) = f(X_c)\")\n",
    "    \n",
    "    u.plot(\n",
    "        ax[0],\n",
    "        plt_grid,\n",
    "        num_samples=10,\n",
    "        rng=rng,\n",
    "        color=\"C0\",\n",
    "        label=fr\"$u \\mid {', '.join(u_conditional_strs)}$\" if u_conditional_strs else r\"$u$\",\n",
    "    )\n",
    "    \n",
    "    if boundary_values is not None:\n",
    "        ax[0].errorbar(\n",
    "            boundary,\n",
    "            boundary_values.mean,\n",
    "            yerr=boundary_values.std,\n",
    "            fmt=\"+\",\n",
    "            capsize=2,\n",
    "            color=\"C2\",\n",
    "            label=r\"$g(\\partial \\Omega)$\"\n",
    "        )\n",
    "        \n",
    "    if u_measurements is not None:\n",
    "        u_measurements_xs, u_measurements_ys = u_measurements\n",
    "\n",
    "        ax[0].errorbar(\n",
    "            u_measurements_xs,\n",
    "            u_measurements_ys.mean,\n",
    "            yerr=u_measurements_ys.std,\n",
    "            fmt=\"+\",\n",
    "            capsize=2,\n",
    "            color=\"C3\",\n",
    "            label=r\"$Y_u$\"\n",
    "        )\n",
    "        \n",
    "    if collocation_points is not None:\n",
    "        for cpoint in collocation_points:\n",
    "            ax[0].axvline(\n",
    "                cpoint,\n",
    "                color=\"C4\",\n",
    "                alpha=0.6,\n",
    "                label=r\"X_c\",\n",
    "            )\n",
    "    \n",
    "    ax[0].legend()\n",
    "    \n",
    "    # Belief over a\n",
    "    ax[1].axvline(a_true, c=\"C1\", label=r\"$a^*$\")\n",
    "\n",
    "    if a_prior is not None:\n",
    "        assert collocation_points is not None\n",
    "        \n",
    "        a_prior.plot(\n",
    "            ax[1],\n",
    "            label=r\"p(a)\",\n",
    "            c=\"C0\",\n",
    "        )\n",
    "        \n",
    "        a.plot(\n",
    "            ax[1],\n",
    "            label=fr\"$p(a \\mid {', '.join(u_conditional_strs)})$\",\n",
    "            c=\"C2\",\n",
    "        )\n",
    "    else:\n",
    "        a.plot(\n",
    "            ax[1],\n",
    "            label=r\"$p(a)$\",\n",
    "            c=\"C0\",\n",
    "        )\n",
    "    \n",
    "    ax[1].legend()\n",
    "    \n",
    "    return fig, ax"
   ]
  },
  {
   "cell_type": "markdown",
   "id": "7e967a2e-abad-4020-9d94-12eeafc3adef",
   "metadata": {
    "tags": []
   },
   "source": [
    "## Prior"
   ]
  },
  {
   "cell_type": "code",
   "execution_count": null,
   "id": "05a38853-a07e-4207-af8e-98a7acf0bc19",
   "metadata": {},
   "outputs": [],
   "source": [
    "u_prior = pn.randprocs.GaussianProcess(\n",
    "    mean=linpde_gp.randprocs.mean_fns.JaxMean(u_prior_mean, vectorize=False),\n",
    "    cov=linpde_gp.randprocs.kernels.JaxKernel(u_prior_cov, input_dim=1, vectorize=False),\n",
    ")"
   ]
  },
  {
   "cell_type": "code",
   "execution_count": null,
   "id": "7bc2e342-b777-4492-99ef-82f889d68626",
   "metadata": {},
   "outputs": [],
   "source": [
    "plot_belief(\n",
    "    u=u_prior,\n",
    "    a=a_prior,\n",
    ")\n",
    "plt.savefig(\"../results/0007_poisson_rbf_00_prior.pdf\", dpi=300)\n",
    "plt.show()"
   ]
  },
  {
   "cell_type": "markdown",
   "id": "f1868cdd-51f1-4b8c-bf5f-5f902143216d",
   "metadata": {},
   "source": [
    "## Conditioning on Boundary Values"
   ]
  },
  {
   "cell_type": "code",
   "execution_count": null,
   "id": "af52beca-e4c8-4533-a6d1-6f96eac75c4b",
   "metadata": {},
   "outputs": [],
   "source": [
    "u_bc = u_prior.condition_on_observations_jax(boundary[:, None], g)"
   ]
  },
  {
   "cell_type": "code",
   "execution_count": null,
   "id": "790ebdea-cd2b-4f24-8503-b53e93b93ad8",
   "metadata": {},
   "outputs": [],
   "source": [
    "plot_belief(\n",
    "    u=u_bc,\n",
    "    a=a_prior,\n",
    "    boundary_values=g,\n",
    ")\n",
    "\n",
    "plt.savefig(\"../results/0007_poisson_rbf_bcfirst_01_cond_bc.pdf\", dpi=300)\n",
    "plt.show()"
   ]
  },
  {
   "cell_type": "markdown",
   "id": "04b22eaf-c5de-46ae-bae8-b58b8ae84696",
   "metadata": {},
   "source": [
    "## Condition on Measurements of the Solution"
   ]
  },
  {
   "cell_type": "code",
   "execution_count": null,
   "id": "bf94fd48-7b92-4be6-8f40-c4838c022fa4",
   "metadata": {},
   "outputs": [],
   "source": [
    "# Measure the Solution\n",
    "u_sol_meas_ys = u_sol(u_sol_meas_xs)\n",
    "u_sol_meas_ys += u_sol_meas_std * np.random.randn(*u_sol_meas_ys.shape)\n",
    "\n",
    "u_sol_meas_ys = pn.randvars.Normal(\n",
    "    mean=u_sol_meas_ys,\n",
    "    cov=np.diag(u_sol_meas_std ** 2),\n",
    ")"
   ]
  },
  {
   "cell_type": "code",
   "execution_count": null,
   "id": "28570f04-267b-4f99-9595-de219459b1cc",
   "metadata": {},
   "outputs": [],
   "source": [
    "u_bc_obs = u_bc.condition_on_observations_jax(u_sol_meas_xs[:, None], u_sol_meas_ys)"
   ]
  },
  {
   "cell_type": "code",
   "execution_count": null,
   "id": "a7b277e6-354b-4660-ab41-aa4ad9cc0603",
   "metadata": {},
   "outputs": [],
   "source": [
    "plot_belief(\n",
    "    u=u_bc_obs,\n",
    "    a=a_prior,\n",
    "    boundary_values=g,\n",
    "    u_measurements=(u_sol_meas_xs, u_sol_meas_ys),\n",
    ")\n",
    "\n",
    "plt.savefig(\"../results/0007_poisson_rbf_bcfirst_01_cond_bc.pdf\", dpi=300)\n",
    "plt.show()"
   ]
  },
  {
   "cell_type": "markdown",
   "id": "9364a042-2431-48da-92d9-fde66b96c15a",
   "metadata": {},
   "source": [
    "## Condition on the PDE iteratively"
   ]
  },
  {
   "cell_type": "code",
   "execution_count": null,
   "id": "062593c2-d39f-4b79-b14a-2aaa207561a7",
   "metadata": {},
   "outputs": [],
   "source": [
    "# Initialize loop variables\n",
    "cpoint_idx = 0\n",
    "\n",
    "u_post = u_bc_obs\n",
    "a_post = a_prior\n",
    "a_u_crosscov_post = a_u_crosscov_prior"
   ]
  },
  {
   "cell_type": "markdown",
   "id": "5b33f096-a78e-4965-91bc-ec5077904fca",
   "metadata": {},
   "source": [
    "### Linearize the Likelihood"
   ]
  },
  {
   "cell_type": "code",
   "execution_count": null,
   "id": "9b1c9a5d-0a5c-4347-85c5-26f8c71ab4d0",
   "metadata": {},
   "outputs": [],
   "source": [
    "# Define linearization points\n",
    "u_hat = u_post._meanfun\n",
    "a_hat = a_post.mean"
   ]
  },
  {
   "cell_type": "code",
   "execution_count": null,
   "id": "5faaf805-d095-4bf4-9095-d9976e7e8c63",
   "metadata": {},
   "outputs": [],
   "source": [
    "_M_a = jax.grad(lambda a, x: diffop(u_hat, a)(x), argnums=0)\n",
    "\n",
    "@functools.partial(jnp.vectorize, signature=\"(d)->()\")\n",
    "def M_a(x):\n",
    "    return _M_a(a_hat, x)"
   ]
  },
  {
   "cell_type": "code",
   "execution_count": null,
   "id": "227e5dd2-11b7-4c4a-a2f2-0864288dd4c2",
   "metadata": {},
   "outputs": [],
   "source": [
    "Lu_post, u_Lu_post_crosscov = u_post.apply_jax_linop(diffop, a=a_hat)"
   ]
  },
  {
   "cell_type": "code",
   "execution_count": null,
   "id": "e260cb50-5958-4544-9b35-891a4396ce4f",
   "metadata": {
    "jupyter": {
     "source_hidden": true
    },
    "tags": []
   },
   "outputs": [],
   "source": [
    "Lu_post.plot(\n",
    "    plt.gca(),\n",
    "    plt_grid,\n",
    "    num_samples=10,\n",
    "    rng=rng,\n",
    "    label=\"$\\mathcal{L}_{\\hat{a}} u \\mid u(\\partial \\Omega) = g(\\partial \\Omega), u(X_u) = Y_u$\"\n",
    ")\n",
    "\n",
    "plt.plot(\n",
    "    plt_grid,\n",
    "    f(plt_grid),\n",
    "    color=\"C3\",\n",
    "    label=\"f\",\n",
    ")\n",
    "\n",
    "plt.legend()\n",
    "plt.grid()\n",
    "plt.show()"
   ]
  },
  {
   "cell_type": "code",
   "execution_count": null,
   "id": "f407db49-4e6e-4b08-9c69-8faf4d0a58de",
   "metadata": {},
   "outputs": [],
   "source": [
    "a_u_crosscov_L_adj = jnp.vectorize(jax.jit(jax.grad(a_u_crosscov_post, argnums=0)), signature=\"(d)->(d)\")"
   ]
  },
  {
   "cell_type": "markdown",
   "id": "1f832351-bc34-41d6-b7b2-2bbbb6b30a3c",
   "metadata": {},
   "source": [
    "### Compute the Predictive"
   ]
  },
  {
   "cell_type": "code",
   "execution_count": null,
   "id": "5e405a42-a4df-4b55-81a1-e3cc52d46aec",
   "metadata": {},
   "outputs": [],
   "source": [
    "def u_lin_pred_cov(x0, x1):\n",
    "    M_a_x0 = M_a(x0)\n",
    "    M_a_x1 = M_a(x1)\n",
    "    \n",
    "    return (\n",
    "        M_a_x0 * a_post.cov * M_a_x1\n",
    "        + a_u_crosscov_L_adj(x0).T[0] * M_a_x1\n",
    "        + M_a_x0.T * a_u_crosscov_L_adj(x1)[0]\n",
    "        + Lu_post._covfun.jax(x0, x1)\n",
    "    )\n",
    "\n",
    "u_lin_pred = pn.randprocs.GaussianProcess(\n",
    "    mean=Lu_post._meanfun,\n",
    "    cov=linpde_gp.randprocs.kernels.JaxKernel(\n",
    "        u_lin_pred_cov,\n",
    "        input_dim=1,\n",
    "        vectorize=True\n",
    "    ),\n",
    ")"
   ]
  },
  {
   "cell_type": "code",
   "execution_count": null,
   "id": "8ad63072-a2c4-4d31-87af-2ddcb1caa312",
   "metadata": {
    "jupyter": {
     "source_hidden": true
    },
    "tags": []
   },
   "outputs": [],
   "source": [
    "u_lin_pred.plot(\n",
    "    plt.gca(),\n",
    "    plt_grid,\n",
    "    num_samples=10,\n",
    "    rng=rng,\n",
    "    label=\"$\\hat{\\mathcal{L}}_{a} u \\mid u(\\partial \\Omega) = g(\\partial \\Omega), u(X_u) = Y_u$\"\n",
    ")\n",
    "\n",
    "plt.plot(\n",
    "    plt_grid,\n",
    "    f(plt_grid),\n",
    "    color=\"C3\",\n",
    "    label=\"f\",\n",
    ")\n",
    "\n",
    "plt.legend()\n",
    "plt.grid()\n",
    "plt.show()"
   ]
  },
  {
   "cell_type": "markdown",
   "id": "9cb6df96-6399-4852-9365-fa03b6738207",
   "metadata": {},
   "source": [
    "### Compute Posterior Corresponding to Linearized Likelihood"
   ]
  },
  {
   "cell_type": "code",
   "execution_count": null,
   "id": "aedd0b7d-9b54-4337-88cc-251ae9f246bd",
   "metadata": {},
   "outputs": [],
   "source": [
    "# Measure the PDE RHS\n",
    "cpoint = collocation_points[[cpoint_idx]]\n",
    "cpoint_std = collocation_std[[cpoint_idx]]\n",
    "\n",
    "f_cpoint = f(cpoint)\n",
    "fX = pn.randvars.Normal(\n",
    "    mean=f_cpoint,\n",
    "    cov=np.diag(cpoint_std),\n",
    ")"
   ]
  },
  {
   "cell_type": "code",
   "execution_count": null,
   "id": "ae7e861b-2b65-441e-95d6-506e78221aa1",
   "metadata": {},
   "outputs": [],
   "source": [
    "gram = u_lin_pred.covmatrix(cpoint[:, None], cpoint[:, None]) + fX.cov\n",
    "gram_cho = scipy.linalg.cho_factor(gram)\n",
    "\n",
    "# Infer the parameter\n",
    "a_pred_u_crosscov = a_post.cov * M_a(cpoint[:, None]) + a_u_crosscov_L_adj(cpoint[:, None])[0]\n",
    "a_gain = scipy.linalg.cho_solve(gram_cho, a_pred_u_crosscov)\n",
    "\n",
    "a_post_pde = pn.randvars.Normal(\n",
    "    mean=np.asarray(a_post.mean + a_gain @ (fX.mean - u_lin_pred.mean(cpoint[:, None]))),\n",
    "    cov=np.asarray(a_post.cov - a_gain @ a_pred_u_crosscov.T)\n",
    ")\n",
    "\n",
    "# Infer the solution\n",
    "def _u_pred_u_crosscov(x1, x2):\n",
    "    res = a_u_crosscov_L_adj(x1) @ M_a(x2)[..., None] + u_Lu_post_crosscov.jax(x1, x2)\n",
    "    return res\n",
    "\n",
    "u_pred_u_crosscov = linpde_gp.randprocs.kernels.JaxKernel(_u_pred_u_crosscov, input_dim=1, vectorize=True)\n",
    "\n",
    "u_post_pde = u_post.condition_on_predictive_gp_observations_jax(\n",
    "    u_lin_pred,\n",
    "    u_pred_u_crosscov,\n",
    "    cpoint[:, None],\n",
    "    fX,\n",
    ")\n",
    "\n",
    "# Posterior cross covariance\n",
    "def a_u_crosscov_post_pde(x):\n",
    "    return a_u_crosscov_post(x) - a_gain @ u_pred_u_crosscov.jax(x, cpoint[:, None])"
   ]
  },
  {
   "cell_type": "code",
   "execution_count": null,
   "id": "e117b0b3-8224-47cd-aa6b-586365600e66",
   "metadata": {},
   "outputs": [],
   "source": [
    "plot_belief(\n",
    "    u=u_post_pde,\n",
    "    a=a_post_pde,\n",
    "    boundary_values=g,\n",
    "    u_measurements=(u_sol_meas_xs, u_sol_meas_ys),\n",
    "    collocation_points=collocation_points[:1],\n",
    "    a_prior=a_prior,\n",
    ")\n",
    "\n",
    "plt.show()"
   ]
  },
  {
   "cell_type": "markdown",
   "id": "ab9bff9b-0277-4d0f-b907-ce7565f1b731",
   "metadata": {},
   "source": [
    "### Iterated Inference"
   ]
  },
  {
   "cell_type": "code",
   "execution_count": null,
   "id": "830b2a48-ff72-4b43-961c-7404edc3ab74",
   "metadata": {
    "tags": []
   },
   "outputs": [],
   "source": [
    "def infer(\n",
    "    u,\n",
    "    a,\n",
    "    a_u_crosscov,\n",
    "    cpoints,\n",
    "    cpoints_std,\n",
    "):\n",
    "    # Linearize the likelihood\n",
    "    u_hat = u._meanfun\n",
    "    a_hat = a.mean\n",
    "    \n",
    "    _M_a = jax.grad(lambda a, x: diffop(u_hat, a)(x), argnums=0)\n",
    "\n",
    "    @functools.partial(jnp.vectorize, signature=\"(d)->()\")\n",
    "    @jax.jit\n",
    "    def M_a(x):\n",
    "        return _M_a(a_hat, x)\n",
    "    \n",
    "    Lu, u_Lu_crosscov = u.apply_jax_linop(diffop, a=a_hat)\n",
    "    \n",
    "    a_u_crosscov_L_adj = jax.jit(jnp.vectorize(jax.jit(jax.grad(a_u_crosscov, argnums=0)), signature=\"(d)->(d)\"))\n",
    "    \n",
    "    # Compute the predictive\n",
    "    @jax.jit\n",
    "    def u_lin_pred_cov(x0, x1):\n",
    "        M_a_x0 = M_a(x0)\n",
    "        M_a_x1 = M_a(x1)\n",
    "\n",
    "        return (\n",
    "            M_a_x0 * a.cov * M_a_x1\n",
    "            + a_u_crosscov_L_adj(x0).T[0] * M_a_x1\n",
    "            + M_a_x0.T * a_u_crosscov_L_adj(x1)[0]\n",
    "            + Lu._covfun.jax(x0, x1)\n",
    "        )\n",
    "\n",
    "    u_lin_pred = pn.randprocs.GaussianProcess(\n",
    "        mean=Lu._meanfun,\n",
    "        cov=linpde_gp.randprocs.kernels.JaxKernel(\n",
    "            u_lin_pred_cov,\n",
    "            input_dim=1,\n",
    "            vectorize=True\n",
    "        ),\n",
    "    )\n",
    "    \n",
    "    # Measure the PDE RHS\n",
    "    f_cpoints = f(cpoints)\n",
    "\n",
    "    fX = pn.randvars.Normal(\n",
    "        mean=f_cpoints,\n",
    "        cov=np.diag(cpoints_std),\n",
    "    )\n",
    "    \n",
    "    # Joint inference\n",
    "    gram = u_lin_pred.covmatrix(cpoints[:, None], cpoints[:, None]) + fX.cov\n",
    "    gram_cho = scipy.linalg.cho_factor(gram)\n",
    "    \n",
    "    print(fX.cov, gram)\n",
    "\n",
    "    # Infer the parameter\n",
    "    a_pred_u_crosscov = a.cov * M_a(cpoints[:, None]) + a_u_crosscov_L_adj(cpoints[:, None])[0]\n",
    "    a_gain = scipy.linalg.cho_solve(gram_cho, a_pred_u_crosscov)\n",
    "\n",
    "    a_post = pn.randvars.Normal(\n",
    "        mean=np.asarray(a.mean + a_gain @ (fX.mean - u_lin_pred.mean(cpoints[:, None]))),\n",
    "        cov=np.asarray(a.cov - a_gain @ a_pred_u_crosscov.T)\n",
    "    )\n",
    "\n",
    "    # Infer the solution\n",
    "    @jax.jit\n",
    "    def _u_pred_u_crosscov(x1, x2):\n",
    "        return a_u_crosscov_L_adj(x1) @ M_a(x2)[..., None] + u_Lu_crosscov.jax(x1, x2)\n",
    "\n",
    "    u_pred_u_crosscov = linpde_gp.randprocs.kernels.JaxKernel(_u_pred_u_crosscov, input_dim=1, vectorize=True)\n",
    "\n",
    "    u_post = u.condition_on_predictive_gp_observations_jax(\n",
    "        u_lin_pred,\n",
    "        u_pred_u_crosscov,\n",
    "        cpoints[:, None],\n",
    "        fX,\n",
    "    )\n",
    "\n",
    "    # Posterior cross covariance\n",
    "    def a_u_crosscov_post(x):\n",
    "        return a_u_crosscov(x) - a_gain @ u_pred_u_crosscov.jax(x, cpoints[:, None])\n",
    "    \n",
    "    return u_post, a_post, a_u_crosscov_post"
   ]
  },
  {
   "cell_type": "code",
   "execution_count": null,
   "id": "150f03a0-7f00-4489-8ae7-9c86f49d0cb0",
   "metadata": {},
   "outputs": [],
   "source": [
    "posterior_0 = infer(u_bc_obs, a_prior, a_u_crosscov_prior, collocation_points[[0]], collocation_std[[0]])"
   ]
  },
  {
   "cell_type": "code",
   "execution_count": null,
   "id": "27df449c-6d0b-459b-a73b-1a017368f214",
   "metadata": {},
   "outputs": [],
   "source": [
    "plot_belief(\n",
    "    *posterior_0[:2],\n",
    "    boundary_values=g,\n",
    "    u_measurements=(u_sol_meas_xs, u_sol_meas_ys),\n",
    "    collocation_points=collocation_points[:1],\n",
    "    a_prior=a_prior,\n",
    ")\n",
    "\n",
    "plt.show()"
   ]
  },
  {
   "cell_type": "code",
   "execution_count": null,
   "id": "77d060f0-583d-4c1e-9002-0acd28be5ad1",
   "metadata": {},
   "outputs": [],
   "source": [
    "posterior_1 = infer(*posterior_0, collocation_points[[1]], collocation_std[[1]])"
   ]
  },
  {
   "cell_type": "code",
   "execution_count": null,
   "id": "074b3a4d-1d4d-45fd-bca4-e6f22235cd45",
   "metadata": {},
   "outputs": [],
   "source": [
    "plot_belief(\n",
    "    *posterior_1[:2],\n",
    "    boundary_values=g,\n",
    "    u_measurements=(u_sol_meas_xs, u_sol_meas_ys),\n",
    "    collocation_points=collocation_points[:2],\n",
    "    a_prior=a_prior,\n",
    ")"
   ]
  },
  {
   "cell_type": "code",
   "execution_count": null,
   "id": "28832fde-7a22-434d-bac2-b378cb9e066c",
   "metadata": {},
   "outputs": [],
   "source": [
    "posterior_2 = infer(*posterior_1, collocation_points[[2]], collocation_std[[2]])"
   ]
  },
  {
   "cell_type": "code",
   "execution_count": null,
   "id": "63640c6a-03b1-4dce-bd63-09a3ec2b8aa3",
   "metadata": {},
   "outputs": [],
   "source": [
    "plot_belief(\n",
    "    *posterior_2[:2],\n",
    "    boundary_values=g,\n",
    "    u_measurements=(u_sol_meas_xs, u_sol_meas_ys),\n",
    "    collocation_points=collocation_points[:3],\n",
    "    a_prior=a_prior,\n",
    ")"
   ]
  },
  {
   "cell_type": "code",
   "execution_count": null,
   "id": "13bc1750-7016-4a82-b6d7-8db79cbf6533",
   "metadata": {},
   "outputs": [],
   "source": [
    "posterior_2[0].var(plt_grid[:, None])"
   ]
  },
  {
   "cell_type": "code",
   "execution_count": null,
   "id": "baf592fc-157f-4f6d-afab-93158e440730",
   "metadata": {},
   "outputs": [],
   "source": []
  }
 ],
 "metadata": {
  "kernelspec": {
   "display_name": "Python [conda env:linpde-gp]",
   "language": "python",
   "name": "conda-env-linpde-gp-py"
  },
  "language_info": {
   "codemirror_mode": {
    "name": "ipython",
    "version": 3
   },
   "file_extension": ".py",
   "mimetype": "text/x-python",
   "name": "python",
   "nbconvert_exporter": "python",
   "pygments_lexer": "ipython3",
   "version": "3.9.7"
  }
 },
 "nbformat": 4,
 "nbformat_minor": 5
}
