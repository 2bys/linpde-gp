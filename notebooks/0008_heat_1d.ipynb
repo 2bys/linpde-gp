{
 "cells": [
  {
   "cell_type": "code",
   "execution_count": null,
   "id": "2b8d330c-66f8-4664-9131-1bdc669df437",
   "metadata": {},
   "outputs": [],
   "source": [
    "import jax\n",
    "import jax.numpy as jnp\n",
    "import jax.scipy.linalg\n",
    "import matplotlib.pyplot as plt\n",
    "import numpy as np\n",
    "import probnum as pn\n",
    "\n",
    "import linpde_gp"
   ]
  },
  {
   "cell_type": "code",
   "execution_count": null,
   "id": "41ced55c-95bc-454b-a0dd-6d9249340e03",
   "metadata": {},
   "outputs": [],
   "source": [
    "import notebook_utils\n",
    "\n",
    "notebook_utils.config.notebook_name = \"0008_heat_1d\"\n",
    "notebook_utils.config.debug_mode = True"
   ]
  },
  {
   "cell_type": "code",
   "execution_count": null,
   "id": "eb159da6-ec9e-4e3a-be45-aeffd5365900",
   "metadata": {},
   "outputs": [],
   "source": [
    "%matplotlib inline"
   ]
  },
  {
   "cell_type": "code",
   "execution_count": null,
   "id": "24c202b8-6760-45a0-b280-5791a6ad5585",
   "metadata": {},
   "outputs": [],
   "source": [
    "rng = np.random.default_rng(24)"
   ]
  },
  {
   "cell_type": "markdown",
   "id": "fc88a9bb-460c-4107-a5c8-8722866d8a3b",
   "metadata": {
    "tags": []
   },
   "source": [
    "## Problem Definition"
   ]
  },
  {
   "cell_type": "code",
   "execution_count": null,
   "id": "c07e9d3f-a7a5-4def-8778-feb30e94977d",
   "metadata": {},
   "outputs": [],
   "source": [
    "from linpde_gp.problems.pde import domains, heat_1d_bvp"
   ]
  },
  {
   "cell_type": "code",
   "execution_count": null,
   "id": "919b0c35-fcf6-4711-a9a0-e217c125f8b8",
   "metadata": {},
   "outputs": [],
   "source": [
    "domain = domains.Box([[0.0, 1.0], [-1.0, 1.0]])"
   ]
  },
  {
   "cell_type": "code",
   "execution_count": null,
   "id": "bb500fa9-ab5f-481c-a0c2-96192469955a",
   "metadata": {},
   "outputs": [],
   "source": [
    "initial = lambda x: 1.0 - x ** 2"
   ]
  },
  {
   "cell_type": "code",
   "execution_count": null,
   "id": "790e744f-5196-4691-b44e-5ee68bcf0e1d",
   "metadata": {},
   "outputs": [],
   "source": [
    "bvp = heat_1d_bvp(\n",
    "    domain,\n",
    "    initial,\n",
    ")"
   ]
  },
  {
   "cell_type": "code",
   "execution_count": null,
   "id": "28d21f76-2f62-4b6d-887f-22446015b47f",
   "metadata": {},
   "outputs": [],
   "source": [
    "plt_grid_t, plt_grid_x = np.meshgrid(\n",
    "    np.linspace(*domain[0], 50),\n",
    "    np.linspace(*domain[1], 50),\n",
    "    indexing=\"ij\",\n",
    ")\n",
    "\n",
    "plt_grid = np.stack((plt_grid_t, plt_grid_x), axis=-1)"
   ]
  },
  {
   "cell_type": "markdown",
   "id": "70725b4a-dd66-4635-a012-e5565ac5bdc1",
   "metadata": {
    "tags": []
   },
   "source": [
    "## Prior"
   ]
  },
  {
   "cell_type": "code",
   "execution_count": null,
   "id": "3902cc09-a00e-4d3d-97aa-33be1d631b8f",
   "metadata": {},
   "outputs": [],
   "source": [
    "@jax.jit\n",
    "def matern_32(x0, x1, lengthscale=1.0):\n",
    "    dx_norm = jnp.abs((x0 - x1) / lengthscale)\n",
    "    \n",
    "    return (1 + jnp.sqrt(3) * dx_norm) * jnp.exp(-jnp.sqrt(3) * dx_norm)\n",
    "\n",
    "@jax.jit\n",
    "def matern_52(x0, x1, lengthscale=1.0):\n",
    "    dx_norm = jnp.abs((x0 - x1) / lengthscale)\n",
    "    \n",
    "    return (1 + jnp.sqrt(5) * dx_norm + (5. / 3.) * dx_norm ** 2) * jnp.exp(-jnp.sqrt(5) * dx_norm)"
   ]
  },
  {
   "cell_type": "code",
   "execution_count": null,
   "id": "e325809a-1f28-4433-b8ea-452abd1de8fb",
   "metadata": {},
   "outputs": [],
   "source": [
    "lengthscale_t = 0.5\n",
    "lengthscale_x = 1.0\n",
    "output_scale = 1.0\n",
    "\n",
    "@jax.jit\n",
    "def prior_mean(x):\n",
    "    return jnp.full_like(x[..., 0], 0.0)\n",
    "#     return -0.5 * x[..., 0] ** 2 + 0.5\n",
    "#     return jnp.sin(jnp.pi * x)\n",
    "\n",
    "@jax.jit\n",
    "def prior_cov(tx0, tx1):\n",
    "    dtx = tx0 - tx1\n",
    "    dt, dx = dtx[..., 0], dtx[..., 1:]\n",
    "    \n",
    "    dt_sqnorm = (dt / lengthscale_t) ** 2\n",
    "    dx_sqnorm = jnp.sum((dx / lengthscale_x) ** 2, axis=-1)\n",
    "\n",
    "    return output_scale ** 2 * jnp.exp(-0.5 * (dt_sqnorm + dx_sqnorm))\n",
    "\n",
    "#     t0, t1 = tx0[..., 0], tx1[..., 0]\n",
    "#     x0, x1 = tx0[..., 1], tx1[..., 1]\n",
    "    \n",
    "#     return output_scale ** 2 * matern_32(t0, t1, lengthscale=lengthscale_t) * matern_52(x0, x1, lengthscale=lengthscale_x)\n",
    "\n",
    "prior_gp = pn.randprocs.GaussianProcess(\n",
    "    mean=linpde_gp.randprocs.mean_fns.JaxMean(prior_mean, vectorize=False),\n",
    "    cov=linpde_gp.randprocs.kernels.JaxKernel(prior_cov, input_dim=2, vectorize=True),\n",
    ")"
   ]
  },
  {
   "cell_type": "code",
   "execution_count": null,
   "id": "8f0d5695-4351-4bac-9367-6d3c98fc106f",
   "metadata": {},
   "outputs": [],
   "source": [
    "fig, ax = plt.subplots(subplot_kw={\"projection\": \"3d\"})\n",
    "\n",
    "ax.plot_surface(plt_grid_t, plt_grid_x, prior_mean(plt_grid))"
   ]
  },
  {
   "cell_type": "markdown",
   "id": "4d04a5ae-e0be-420e-90cd-6bdd26029a1a",
   "metadata": {},
   "source": [
    "### Dirichlet Problem"
   ]
  },
  {
   "cell_type": "code",
   "execution_count": null,
   "id": "5136bc68-0cff-4864-870e-7aef73ba6663",
   "metadata": {},
   "outputs": [],
   "source": [
    "ic_obs_locs = np.stack(\n",
    "    (\n",
    "        np.zeros(3),\n",
    "        np.linspace(*domain[1], 3),\n",
    "    ),\n",
    "    axis=-1,\n",
    ")\n",
    "ic_obs = bvp.boundary_conditions[0].values(ic_obs_locs[..., 1])\n",
    "\n",
    "left_bc_obs_locs = np.stack(\n",
    "    (\n",
    "        np.linspace(*domain[0], 11)[1:],\n",
    "        np.full(10, domain[1][0]),\n",
    "    ),\n",
    "    axis=-1\n",
    ")\n",
    "left_bc_obs = np.zeros_like(left_bc_obs_locs[..., 0])\n",
    "\n",
    "right_bc_obs_locs = np.stack(\n",
    "    (\n",
    "        np.linspace(*domain[0], 11)[1:],\n",
    "        np.full(10, domain[1][1]),\n",
    "    ),\n",
    "    axis=-1,\n",
    ")\n",
    "right_bc_obs = np.zeros_like(right_bc_obs_locs[..., 0])"
   ]
  },
  {
   "cell_type": "code",
   "execution_count": null,
   "id": "aed5ea73-172f-4fdc-bc31-9de9cfa3ff28",
   "metadata": {},
   "outputs": [],
   "source": [
    "bc_obs_locs = np.concatenate((ic_obs_locs, left_bc_obs_locs, right_bc_obs_locs), axis=0)\n",
    "bc_obs = np.concatenate((ic_obs, left_bc_obs, right_bc_obs))\n",
    "\n",
    "u_bc = prior_gp.condition_on_observations_jax(\n",
    "    bc_obs_locs,\n",
    "    pn.randvars.Normal(\n",
    "        mean=bc_obs,\n",
    "        cov=np.diag(np.zeros_like(bc_obs)),\n",
    "    ),\n",
    ")"
   ]
  },
  {
   "cell_type": "code",
   "execution_count": null,
   "id": "7da765aa-16ce-4b9b-87d7-6c8cc4a7ae29",
   "metadata": {},
   "outputs": [],
   "source": [
    "# u_bc = linpde_gp.randprocs.PosteriorGaussianProcess.from_measurements(prior_gp, ic_obs_locs, ic_obs)"
   ]
  },
  {
   "cell_type": "code",
   "execution_count": null,
   "id": "cf7237e3-c8f3-4dc5-b9c9-b15355b27013",
   "metadata": {},
   "outputs": [],
   "source": [
    "# u_bc = u_bc.condition_on_observations(left_bc_obs_locs, left_bc_obs)"
   ]
  },
  {
   "cell_type": "code",
   "execution_count": null,
   "id": "c0b8fc46-3016-4d23-ac64-ab20e7840e5a",
   "metadata": {},
   "outputs": [],
   "source": [
    "# u_bc = u_bc.condition_on_observations(right_bc_obs_locs, right_bc_obs)"
   ]
  },
  {
   "cell_type": "code",
   "execution_count": null,
   "id": "8e576995-220f-4961-928f-b75507203ae6",
   "metadata": {},
   "outputs": [],
   "source": [
    "fig, ax = plt.subplots(subplot_kw={\"projection\": \"3d\"})\n",
    "\n",
    "ax.plot_surface(plt_grid_t, plt_grid_x, u_bc.mean(plt_grid))"
   ]
  },
  {
   "cell_type": "markdown",
   "id": "8fbe59ce-16a3-409a-ae38-b954d68c65b1",
   "metadata": {},
   "source": [
    "### Cauchy Problem"
   ]
  },
  {
   "cell_type": "markdown",
   "id": "4dc3e7fd-74fa-40ca-b64d-c1f5d1342a0d",
   "metadata": {},
   "source": [
    "#### Conditioning on Initial Conditions"
   ]
  },
  {
   "cell_type": "code",
   "execution_count": null,
   "id": "ad7b28f0-1f83-4477-a634-b06a072e1040",
   "metadata": {},
   "outputs": [],
   "source": [
    "ic_obs_locs = np.stack(\n",
    "    (\n",
    "        np.zeros(3),\n",
    "        np.linspace(*domain[1], 3),\n",
    "    ),\n",
    "    axis=-1,\n",
    ")\n",
    "ic_obs = bvp.boundary_conditions[0].values(ic_obs_locs[..., 1])"
   ]
  },
  {
   "cell_type": "code",
   "execution_count": null,
   "id": "c8a03de7-6ebc-4683-821a-b90dbc4f0fdb",
   "metadata": {},
   "outputs": [],
   "source": [
    "u_ic = prior_gp.condition_on_observations_jax(\n",
    "    ic_obs_locs,\n",
    "    pn.randvars.Normal(\n",
    "        mean=ic_obs,\n",
    "        cov=np.diag(np.zeros_like(ic_obs)),\n",
    "    ),\n",
    ")"
   ]
  },
  {
   "cell_type": "code",
   "execution_count": null,
   "id": "d7845241-d687-4b3f-aa0a-5ab85ab1182f",
   "metadata": {},
   "outputs": [],
   "source": [
    "# u_ic = linpde_gp.randprocs.PosteriorGaussianProcess.from_measurements(prior_gp, ic_obs_locs, ic_obs)"
   ]
  },
  {
   "cell_type": "code",
   "execution_count": null,
   "id": "7ea57ce2-57fa-455a-b37b-a8a5dc2e3764",
   "metadata": {},
   "outputs": [],
   "source": [
    "fig, ax = plt.subplots(subplot_kw={\"projection\": \"3d\"})\n",
    "\n",
    "ax.plot_surface(plt_grid_t, plt_grid_x, u_ic.mean(plt_grid))"
   ]
  },
  {
   "cell_type": "markdown",
   "id": "ea46b4f5-41fa-4042-bd49-8a8966d5fd90",
   "metadata": {},
   "source": [
    "#### Conditioning on Spatial Boundary Conditions"
   ]
  },
  {
   "cell_type": "code",
   "execution_count": null,
   "id": "78d19890-5bdb-4116-93d4-3c8a760def4e",
   "metadata": {},
   "outputs": [],
   "source": [
    "du_ic, du_ic_crosscov = u_ic.apply_jax_linop(linpde_gp.problems.pde.diffops.DirectionalDerivative(1.))"
   ]
  },
  {
   "cell_type": "code",
   "execution_count": null,
   "id": "cda96bef-6626-45dd-bcb1-3638ae54a6d8",
   "metadata": {},
   "outputs": [],
   "source": [
    "fig, ax = plt.subplots(subplot_kw={\"projection\": \"3d\"})\n",
    "\n",
    "ax.plot_surface(plt_grid_t, plt_grid_x, du_ic.mean(plt_grid))"
   ]
  },
  {
   "cell_type": "code",
   "execution_count": null,
   "id": "ef713022-bd64-4b23-9636-0813ef20f9cd",
   "metadata": {},
   "outputs": [],
   "source": [
    "n_bc_locs = 5\n",
    "\n",
    "left_bc_obs_locs = np.stack(\n",
    "    (\n",
    "        np.linspace(*domain[0], n_bc_locs + 1)[1:],\n",
    "        np.full(n_bc_locs, domain[1][0]),\n",
    "    ),\n",
    "    axis=-1\n",
    ")\n",
    "left_bc_obs = np.zeros_like(left_bc_obs_locs[..., 0])\n",
    "\n",
    "right_bc_obs_locs = np.stack(\n",
    "    (\n",
    "        np.linspace(*domain[0], n_bc_locs + 1)[1:],\n",
    "        np.full(n_bc_locs, domain[1][1]),\n",
    "    ),\n",
    "    axis=-1,\n",
    ")\n",
    "right_bc_obs = np.zeros_like(right_bc_obs_locs[..., 0])\n",
    "\n",
    "bc_obs_locs = np.concatenate((left_bc_obs_locs, right_bc_obs_locs), axis=0)\n",
    "bc_obs = np.concatenate((left_bc_obs, right_bc_obs), axis=0)\n",
    "\n",
    "u_bc = u_ic.condition_on_predictive_gp_observations_jax(\n",
    "    du_ic,\n",
    "    du_ic_crosscov,\n",
    "    bc_obs_locs,\n",
    "    pn.asrandvar(bc_obs),\n",
    ")"
   ]
  },
  {
   "cell_type": "code",
   "execution_count": null,
   "id": "d11ffd12-565e-49ad-8ad7-a370d2531e66",
   "metadata": {},
   "outputs": [],
   "source": [
    "fig, ax = plt.subplots(subplot_kw={\"projection\": \"3d\"})\n",
    "\n",
    "ax.plot_surface(plt_grid_t, plt_grid_x, u_bc.mean(plt_grid))"
   ]
  },
  {
   "cell_type": "code",
   "execution_count": null,
   "id": "f13ec3a7-7e05-4ec5-b241-842780895e89",
   "metadata": {},
   "outputs": [],
   "source": [
    "du_bc, _ = u_bc.apply_jax_linop(linpde_gp.problems.pde.diffops.DirectionalDerivative(1.))"
   ]
  },
  {
   "cell_type": "code",
   "execution_count": null,
   "id": "a6c3398d-dee7-4e63-a6cf-8e9bf9253b2d",
   "metadata": {},
   "outputs": [],
   "source": [
    "fig, ax = plt.subplots(subplot_kw={\"projection\": \"3d\"})\n",
    "\n",
    "ax.plot_surface(plt_grid_t, plt_grid_x, du_bc.mean(plt_grid))"
   ]
  },
  {
   "cell_type": "markdown",
   "id": "0ebbbe2d-8853-408f-81eb-074533be5502",
   "metadata": {},
   "source": [
    "### Predictive Induced by $\\mathcal{L}$"
   ]
  },
  {
   "cell_type": "code",
   "execution_count": null,
   "id": "5b65942c-c5ea-4922-84df-145d555cc971",
   "metadata": {},
   "outputs": [],
   "source": [
    "Lu_bc, Lu_bc_crosscov = u_bc.apply_jax_linop(bvp.diffop)"
   ]
  },
  {
   "cell_type": "code",
   "execution_count": null,
   "id": "df19e640-d51d-4400-abd9-2a1a5fe66a23",
   "metadata": {},
   "outputs": [],
   "source": [
    "fig, ax = plt.subplots(subplot_kw={\"projection\": \"3d\"})\n",
    "\n",
    "ax.plot_surface(plt_grid_t, plt_grid_x, Lu_bc.mean(plt_grid))"
   ]
  },
  {
   "cell_type": "markdown",
   "id": "74691cdc-7546-4825-9c93-23699d9a6062",
   "metadata": {},
   "source": [
    "### Conditioning on the PDE"
   ]
  },
  {
   "cell_type": "code",
   "execution_count": null,
   "id": "677823b8-c9a6-4069-af4a-7c2dde1450d8",
   "metadata": {},
   "outputs": [],
   "source": [
    "pde_loc = np.stack(\n",
    "    np.meshgrid(\n",
    "        np.linspace(*domain[0], 5) + 0.01,\n",
    "        np.linspace(*domain[1], 5 + 2)[1:-1],\n",
    "    ),\n",
    "    axis=-1,\n",
    ").reshape(-1, 2)\n",
    "\n",
    "u_bc_pde = u_bc.condition_on_predictive_gp_observations_jax(\n",
    "    Lu_bc,\n",
    "    Lu_bc_crosscov,\n",
    "    pde_loc,\n",
    "    pn.asrandvar(np.zeros_like(pde_loc[:, 1])),\n",
    ")"
   ]
  },
  {
   "cell_type": "code",
   "execution_count": null,
   "id": "f3cf1712-2acf-469e-b207-8be06eca5a43",
   "metadata": {},
   "outputs": [],
   "source": [
    "fig, ax = plt.subplots(subplot_kw={\"projection\": \"3d\"})\n",
    "\n",
    "ax.plot_surface(plt_grid_t, plt_grid_x, u_bc_pde.mean(plt_grid))\n",
    "ax.set_xlabel(\"Time (s)\")\n",
    "ax.set_ylabel(\"Location (cm)\")\n",
    "ax.set_zlabel(\"Temperature (°C)\")\n",
    "\n",
    "notebook_utils.savefig(\"heat_posterior\")"
   ]
  },
  {
   "cell_type": "code",
   "execution_count": null,
   "id": "1d523650-09ba-48f8-8862-48cd14cc3387",
   "metadata": {},
   "outputs": [],
   "source": [
    "Lu_bc_pde, _ = u_bc_pde.apply_jax_linop(bvp.diffop)"
   ]
  },
  {
   "cell_type": "code",
   "execution_count": null,
   "id": "790a2068-9e0a-4ae4-a731-639a51244504",
   "metadata": {},
   "outputs": [],
   "source": [
    "fig, ax = plt.subplots(subplot_kw={\"projection\": \"3d\"})\n",
    "\n",
    "ax.plot_surface(plt_grid_t, plt_grid_x, Lu_bc_pde.mean(plt_grid))"
   ]
  },
  {
   "cell_type": "markdown",
   "id": "3263f283-87e4-48b9-9d1a-3b92bdcbdaeb",
   "metadata": {},
   "source": [
    "### Generate Animation"
   ]
  },
  {
   "cell_type": "code",
   "execution_count": null,
   "id": "431eaa8c-6786-4970-8e12-ea7b6944ddf3",
   "metadata": {},
   "outputs": [],
   "source": [
    "import functools\n",
    "from matplotlib import animation\n",
    "\n",
    "fig, ax = plt.subplots()\n",
    "\n",
    "@functools.partial(\n",
    "    animation.FuncAnimation,\n",
    "    fig,\n",
    "    frames=len(plt_grid_t),\n",
    "    interval=200,\n",
    "    repeat_delay=4000,\n",
    "    blit=False,\n",
    ")\n",
    "def anim(frame_idx):\n",
    "    txs = plt_grid[frame_idx, :, :]\n",
    "    \n",
    "    ax.cla()\n",
    "    \n",
    "    mean = u_bc_pde.mean(txs)\n",
    "    std = u_bc_pde.std(txs)\n",
    "    \n",
    "    ax.plot(txs[:, 1], mean)\n",
    "    ax.fill_between(\n",
    "        txs[:, 1],\n",
    "        mean - 1.96 * std,\n",
    "        mean + 1.96 * std,\n",
    "        alpha=.3,\n",
    "    )\n",
    "    ax.set_ylim(-0.01, 1.2)\n",
    "    ax.set_xlabel(\"Location (cm)\")\n",
    "    ax.set_ylabel(\"Temperature (°C)\")\n",
    "    ax.set_title(f\"$t = {plt_grid[frame_idx, 0, 0]:.2f} s$\")\n"
   ]
  },
  {
   "cell_type": "code",
   "execution_count": null,
   "id": "3235e008-2447-4793-bb58-4887498f4225",
   "metadata": {},
   "outputs": [],
   "source": [
    "from IPython.display import HTML\n",
    "\n",
    "HTML(anim.to_jshtml())"
   ]
  },
  {
   "cell_type": "code",
   "execution_count": null,
   "id": "8ec147b5-72ba-4a4d-add7-9175f5f41340",
   "metadata": {},
   "outputs": [],
   "source": [
    "anim_path = notebook_utils.config.notebook_results_path / \"heat_anim\"\n",
    "\n",
    "if anim_path.is_dir():\n",
    "    import shutil\n",
    "    \n",
    "    shutil.rmtree(anim_path)\n",
    "\n",
    "anim_path.mkdir(exist_ok=True)\n",
    "\n",
    "anim.save(anim_path / \"{}.pdf\", linpde_gp.plotting.PDFWriter())"
   ]
  },
  {
   "cell_type": "code",
   "execution_count": null,
   "id": "d94509e1-99ce-4783-b546-69c5b6a52130",
   "metadata": {},
   "outputs": [],
   "source": [
    "# anim.save(notebook_utils.config.notebook_results_path / \"heat_anim.gif\", animation.PillowWriter(fps=5))"
   ]
  },
  {
   "cell_type": "code",
   "execution_count": null,
   "id": "93ee6967-9820-481b-8268-29dfd039c4db",
   "metadata": {},
   "outputs": [],
   "source": []
  }
 ],
 "metadata": {
  "kernelspec": {
   "display_name": "Python [conda env:linpde-gp]",
   "language": "python",
   "name": "conda-env-linpde-gp-py"
  },
  "language_info": {
   "codemirror_mode": {
    "name": "ipython",
    "version": 3
   },
   "file_extension": ".py",
   "mimetype": "text/x-python",
   "name": "python",
   "nbconvert_exporter": "python",
   "pygments_lexer": "ipython3",
   "version": "3.9.7"
  }
 },
 "nbformat": 4,
 "nbformat_minor": 5
}
