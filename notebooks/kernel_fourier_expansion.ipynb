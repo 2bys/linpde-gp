{
 "cells": [
  {
   "cell_type": "code",
   "execution_count": null,
   "metadata": {},
   "outputs": [],
   "source": [
    "import matplotlib.pyplot as plt\n",
    "import numpy as np\n",
    "import probnum as pn"
   ]
  },
  {
   "cell_type": "code",
   "execution_count": null,
   "metadata": {},
   "outputs": [],
   "source": [
    "domain = (-1, 1)\n",
    "N = 100\n",
    "step = (domain[1] - domain[0]) / N\n",
    "\n",
    "ls = np.linspace(domain[0], domain[1], N)\n",
    "\n",
    "k = pn.kernels.Matern(input_dim=1, nu=1.5)\n",
    "kxx = k(ls[:, None])"
   ]
  },
  {
   "cell_type": "code",
   "execution_count": null,
   "metadata": {},
   "outputs": [],
   "source": [
    "vals, vecs = np.linalg.eigh(kxx)"
   ]
  },
  {
   "cell_type": "code",
   "execution_count": null,
   "metadata": {},
   "outputs": [],
   "source": [
    "j = 12"
   ]
  },
  {
   "cell_type": "code",
   "execution_count": null,
   "metadata": {},
   "outputs": [],
   "source": [
    "plt.plot(ls, vecs[:, -j])"
   ]
  },
  {
   "cell_type": "code",
   "execution_count": null,
   "metadata": {},
   "outputs": [],
   "source": [
    "freqs = np.fft.rfftfreq(N, d=step)\n",
    "amps = np.fft.rfft(vecs[:, -j], norm=\"backward\")\n",
    "\n",
    "plt.plot(freqs, np.abs(amps))\n",
    "\n",
    "argmax_idx = np.abs(amps[1:]).argmax() + 1\n",
    "\n",
    "max_amp = amps[argmax_idx]\n",
    "max_freq = freqs[argmax_idx]\n",
    "    \n",
    "offs = amps[0].real\n",
    "\n",
    "print(max_amp, max_freq, offs)"
   ]
  },
  {
   "cell_type": "code",
   "execution_count": null,
   "metadata": {},
   "outputs": [],
   "source": [
    "plt.plot(ls, vecs[:, -j], label=\"Eigenvector\")\n",
    "plt.plot(\n",
    "    ls,\n",
    "    ((max_amp * np.exp(2 * np.pi * max_freq * 1j * (ls - domain[0]))).real + offs) * step,\n",
    "    label=\"Max Frequency Component\"\n",
    ")\n",
    "plt.legend()\n",
    "plt.show()"
   ]
  },
  {
   "cell_type": "code",
   "execution_count": null,
   "metadata": {},
   "outputs": [],
   "source": []
  }
 ],
 "metadata": {
  "kernelspec": {
   "display_name": "Python [conda env:probnum]",
   "language": "python",
   "name": "conda-env-probnum-py"
  },
  "language_info": {
   "codemirror_mode": {
    "name": "ipython",
    "version": 3
   },
   "file_extension": ".py",
   "mimetype": "text/x-python",
   "name": "python",
   "nbconvert_exporter": "python",
   "pygments_lexer": "ipython3",
   "version": "3.8.5"
  }
 },
 "nbformat": 4,
 "nbformat_minor": 4
}
